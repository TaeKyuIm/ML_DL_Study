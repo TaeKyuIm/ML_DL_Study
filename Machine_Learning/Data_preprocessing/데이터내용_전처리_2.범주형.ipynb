{
 "cells": [
  {
   "cell_type": "markdown",
   "id": "725ddefb",
   "metadata": {},
   "source": [
    "## 9장 범주형\n",
    "데이터 분석에서 수치형 다음으로 많이 다루는 것이 범주형 입니다.\n",
    "범주형은 가질 수 있는 값의 종류가 정해진 값을 의미합니다.\n",
    "예를들어, 우리나라의 행정구역이 있고, 회원, 비회원 구분도 있습니다."
   ]
  },
  {
   "cell_type": "markdown",
   "id": "74110f5d",
   "metadata": {},
   "source": [
    "# 범주형으로 변환\n",
    "범주형은 데이터의 크기를 줄이는 데 유용합니다. 범줏값의 마스터 데이터와 각 데이터의 범줏값 인덱스 데이터로 나누어 데이터를 보존합니다."
   ]
  },
  {
   "cell_type": "code",
   "execution_count": 5,
   "id": "826e7ea8",
   "metadata": {
    "scrolled": true
   },
   "outputs": [
    {
     "data": {
      "text/html": [
       "<div>\n",
       "<style scoped>\n",
       "    .dataframe tbody tr th:only-of-type {\n",
       "        vertical-align: middle;\n",
       "    }\n",
       "\n",
       "    .dataframe tbody tr th {\n",
       "        vertical-align: top;\n",
       "    }\n",
       "\n",
       "    .dataframe thead th {\n",
       "        text-align: right;\n",
       "    }\n",
       "</style>\n",
       "<table border=\"1\" class=\"dataframe\">\n",
       "  <thead>\n",
       "    <tr style=\"text-align: right;\">\n",
       "      <th></th>\n",
       "      <th>customer_id</th>\n",
       "      <th>age</th>\n",
       "      <th>sex</th>\n",
       "      <th>home_latitude</th>\n",
       "      <th>home_longitude</th>\n",
       "    </tr>\n",
       "  </thead>\n",
       "  <tbody>\n",
       "    <tr>\n",
       "      <th>0</th>\n",
       "      <td>c_1</td>\n",
       "      <td>41</td>\n",
       "      <td>man</td>\n",
       "      <td>35.092193</td>\n",
       "      <td>136.512347</td>\n",
       "    </tr>\n",
       "    <tr>\n",
       "      <th>1</th>\n",
       "      <td>c_2</td>\n",
       "      <td>38</td>\n",
       "      <td>man</td>\n",
       "      <td>35.325076</td>\n",
       "      <td>139.410551</td>\n",
       "    </tr>\n",
       "    <tr>\n",
       "      <th>2</th>\n",
       "      <td>c_3</td>\n",
       "      <td>49</td>\n",
       "      <td>woman</td>\n",
       "      <td>35.120543</td>\n",
       "      <td>136.511179</td>\n",
       "    </tr>\n",
       "    <tr>\n",
       "      <th>3</th>\n",
       "      <td>c_4</td>\n",
       "      <td>43</td>\n",
       "      <td>man</td>\n",
       "      <td>43.034868</td>\n",
       "      <td>141.240314</td>\n",
       "    </tr>\n",
       "    <tr>\n",
       "      <th>4</th>\n",
       "      <td>c_5</td>\n",
       "      <td>31</td>\n",
       "      <td>man</td>\n",
       "      <td>35.102661</td>\n",
       "      <td>136.523797</td>\n",
       "    </tr>\n",
       "    <tr>\n",
       "      <th>...</th>\n",
       "      <td>...</td>\n",
       "      <td>...</td>\n",
       "      <td>...</td>\n",
       "      <td>...</td>\n",
       "      <td>...</td>\n",
       "    </tr>\n",
       "    <tr>\n",
       "      <th>995</th>\n",
       "      <td>c_996</td>\n",
       "      <td>44</td>\n",
       "      <td>man</td>\n",
       "      <td>34.465648</td>\n",
       "      <td>135.373787</td>\n",
       "    </tr>\n",
       "    <tr>\n",
       "      <th>996</th>\n",
       "      <td>c_997</td>\n",
       "      <td>35</td>\n",
       "      <td>man</td>\n",
       "      <td>35.345372</td>\n",
       "      <td>139.413754</td>\n",
       "    </tr>\n",
       "    <tr>\n",
       "      <th>997</th>\n",
       "      <td>c_998</td>\n",
       "      <td>32</td>\n",
       "      <td>woman</td>\n",
       "      <td>43.062267</td>\n",
       "      <td>141.272126</td>\n",
       "    </tr>\n",
       "    <tr>\n",
       "      <th>998</th>\n",
       "      <td>c_999</td>\n",
       "      <td>48</td>\n",
       "      <td>woman</td>\n",
       "      <td>38.172800</td>\n",
       "      <td>140.464198</td>\n",
       "    </tr>\n",
       "    <tr>\n",
       "      <th>999</th>\n",
       "      <td>c_1000</td>\n",
       "      <td>39</td>\n",
       "      <td>man</td>\n",
       "      <td>35.452412</td>\n",
       "      <td>139.411310</td>\n",
       "    </tr>\n",
       "  </tbody>\n",
       "</table>\n",
       "<p>1000 rows × 5 columns</p>\n",
       "</div>"
      ],
      "text/plain": [
       "    customer_id  age    sex  home_latitude  home_longitude\n",
       "0           c_1   41    man      35.092193      136.512347\n",
       "1           c_2   38    man      35.325076      139.410551\n",
       "2           c_3   49  woman      35.120543      136.511179\n",
       "3           c_4   43    man      43.034868      141.240314\n",
       "4           c_5   31    man      35.102661      136.523797\n",
       "..          ...  ...    ...            ...             ...\n",
       "995       c_996   44    man      34.465648      135.373787\n",
       "996       c_997   35    man      35.345372      139.413754\n",
       "997       c_998   32  woman      43.062267      141.272126\n",
       "998       c_999   48  woman      38.172800      140.464198\n",
       "999      c_1000   39    man      35.452412      139.411310\n",
       "\n",
       "[1000 rows x 5 columns]"
      ]
     },
     "execution_count": 5,
     "metadata": {},
     "output_type": "execute_result"
    }
   ],
   "source": [
    "import pandas as pd\n",
    "customer_tb = pd.read_csv('c://Users/User/daejeon/customer.csv')\n",
    "customer_tb"
   ]
  },
  {
   "cell_type": "code",
   "execution_count": 6,
   "id": "f869d127",
   "metadata": {},
   "outputs": [
    {
     "data": {
      "text/plain": [
       "0       True\n",
       "1       True\n",
       "2      False\n",
       "3       True\n",
       "4       True\n",
       "       ...  \n",
       "995     True\n",
       "996     True\n",
       "997    False\n",
       "998    False\n",
       "999     True\n",
       "Name: sex_is_man, Length: 1000, dtype: bool"
      ]
     },
     "execution_count": 6,
     "metadata": {},
     "output_type": "execute_result"
    }
   ],
   "source": [
    "customer_tb[['sex_is_man']] = (customer_tb[['sex']] == 'man').astype(bool)\n",
    "customer_tb['sex_is_man']"
   ]
  },
  {
   "cell_type": "code",
   "execution_count": 7,
   "id": "9b75cbb9",
   "metadata": {
    "scrolled": true
   },
   "outputs": [
    {
     "data": {
      "text/plain": [
       "0        man\n",
       "1        man\n",
       "2      woman\n",
       "3        man\n",
       "4        man\n",
       "       ...  \n",
       "995      man\n",
       "996      man\n",
       "997    woman\n",
       "998    woman\n",
       "999      man\n",
       "Name: sex_c, Length: 1000, dtype: category\n",
       "Categories (2, object): ['man', 'woman']"
      ]
     },
     "execution_count": 7,
     "metadata": {},
     "output_type": "execute_result"
    }
   ],
   "source": [
    "customer_tb['sex_c'] = pd.Categorical(customer_tb['sex'], categories=['man', 'woman'])\n",
    "customer_tb['sex_c']"
   ]
  },
  {
   "cell_type": "markdown",
   "id": "0ff0308e",
   "metadata": {},
   "source": [
    "pandas의 Categorical 함수를 이용한 범주화 입니다.\n",
    "\n",
    "다른 방법으론 astype 함수를 이용가능합니다.\n",
    "\n",
    "그러나 astype 함수를 이용시에는 마스터 데이터를 지정할 수 없습니다."
   ]
  },
  {
   "cell_type": "code",
   "execution_count": 8,
   "id": "ab146ba4",
   "metadata": {},
   "outputs": [
    {
     "data": {
      "text/plain": [
       "0        man\n",
       "1        man\n",
       "2      woman\n",
       "3        man\n",
       "4        man\n",
       "       ...  \n",
       "995      man\n",
       "996      man\n",
       "997    woman\n",
       "998    woman\n",
       "999      man\n",
       "Name: sex_c, Length: 1000, dtype: category\n",
       "Categories (2, object): ['man', 'woman']"
      ]
     },
     "execution_count": 8,
     "metadata": {},
     "output_type": "execute_result"
    }
   ],
   "source": [
    "customer_tb['sex_c'] = customer_tb['sex_c'].astype('category')\n",
    "customer_tb['sex_c']"
   ]
  },
  {
   "cell_type": "code",
   "execution_count": 9,
   "id": "1aabe255",
   "metadata": {},
   "outputs": [
    {
     "data": {
      "text/plain": [
       "0      0\n",
       "1      0\n",
       "2      1\n",
       "3      0\n",
       "4      0\n",
       "      ..\n",
       "995    0\n",
       "996    0\n",
       "997    1\n",
       "998    1\n",
       "999    0\n",
       "Length: 1000, dtype: int8"
      ]
     },
     "execution_count": 9,
     "metadata": {},
     "output_type": "execute_result"
    }
   ],
   "source": [
    "customer_tb['sex_c'].cat.codes"
   ]
  },
  {
   "cell_type": "markdown",
   "id": "d0b26515",
   "metadata": {},
   "source": [
    "cat함수 이용시 범주화 시킬 데이터가 들어있습니다.\n",
    "\n",
    "여기에 codes 함수를 이용시 각 범주의 인덱스로 구성된 Series를 반환합니다.\n",
    "\n",
    "예를들어 이번의 경우 남자는 0, 여자는 1로 해서 각 인덱스마다 코드를 반환받습니다."
   ]
  },
  {
   "cell_type": "markdown",
   "id": "210c880a",
   "metadata": {},
   "source": [
    "# 더미 변수화\n",
    "더미변수화 라는 것은 범주형 변수를 연속형 변수로 바꾸는 것입니다.\n",
    "\n",
    "이러한 처리를 통해 연속형 변수로만 가능한 분석기법을 범주형 변수에 사용가능하게 해줍니다.\n",
    "\n",
    "즉 예를 들어 남녀 성을 더미 변수화 하는 경우, 남성이 아니면, 무조건 여성입니다.\n",
    "\n",
    "그러나 더미 변수화를 통해 남성의 경우 0, 여성의 경우 1을 가지는 더미 변수화를 하여 수치화를 진행하는 경우\n",
    "\n",
    "이를 선형회귀에 이용가능합니다.\n",
    "\n",
    "선형회귀에는 남성, 여성 대입을 하는 것은 안되지만, 0, 1을 넣는 것은 가능하기때문입니다."
   ]
  },
  {
   "cell_type": "code",
   "execution_count": 10,
   "id": "11fb398e",
   "metadata": {},
   "outputs": [
    {
     "data": {
      "text/html": [
       "<div>\n",
       "<style scoped>\n",
       "    .dataframe tbody tr th:only-of-type {\n",
       "        vertical-align: middle;\n",
       "    }\n",
       "\n",
       "    .dataframe tbody tr th {\n",
       "        vertical-align: top;\n",
       "    }\n",
       "\n",
       "    .dataframe thead th {\n",
       "        text-align: right;\n",
       "    }\n",
       "</style>\n",
       "<table border=\"1\" class=\"dataframe\">\n",
       "  <thead>\n",
       "    <tr style=\"text-align: right;\">\n",
       "      <th></th>\n",
       "      <th>man</th>\n",
       "      <th>woman</th>\n",
       "    </tr>\n",
       "  </thead>\n",
       "  <tbody>\n",
       "    <tr>\n",
       "      <th>0</th>\n",
       "      <td>1</td>\n",
       "      <td>0</td>\n",
       "    </tr>\n",
       "    <tr>\n",
       "      <th>1</th>\n",
       "      <td>1</td>\n",
       "      <td>0</td>\n",
       "    </tr>\n",
       "    <tr>\n",
       "      <th>2</th>\n",
       "      <td>0</td>\n",
       "      <td>1</td>\n",
       "    </tr>\n",
       "    <tr>\n",
       "      <th>3</th>\n",
       "      <td>1</td>\n",
       "      <td>0</td>\n",
       "    </tr>\n",
       "    <tr>\n",
       "      <th>4</th>\n",
       "      <td>1</td>\n",
       "      <td>0</td>\n",
       "    </tr>\n",
       "    <tr>\n",
       "      <th>...</th>\n",
       "      <td>...</td>\n",
       "      <td>...</td>\n",
       "    </tr>\n",
       "    <tr>\n",
       "      <th>995</th>\n",
       "      <td>1</td>\n",
       "      <td>0</td>\n",
       "    </tr>\n",
       "    <tr>\n",
       "      <th>996</th>\n",
       "      <td>1</td>\n",
       "      <td>0</td>\n",
       "    </tr>\n",
       "    <tr>\n",
       "      <th>997</th>\n",
       "      <td>0</td>\n",
       "      <td>1</td>\n",
       "    </tr>\n",
       "    <tr>\n",
       "      <th>998</th>\n",
       "      <td>0</td>\n",
       "      <td>1</td>\n",
       "    </tr>\n",
       "    <tr>\n",
       "      <th>999</th>\n",
       "      <td>1</td>\n",
       "      <td>0</td>\n",
       "    </tr>\n",
       "  </tbody>\n",
       "</table>\n",
       "<p>1000 rows × 2 columns</p>\n",
       "</div>"
      ],
      "text/plain": [
       "     man  woman\n",
       "0      1      0\n",
       "1      1      0\n",
       "2      0      1\n",
       "3      1      0\n",
       "4      1      0\n",
       "..   ...    ...\n",
       "995    1      0\n",
       "996    1      0\n",
       "997    0      1\n",
       "998    0      1\n",
       "999    1      0\n",
       "\n",
       "[1000 rows x 2 columns]"
      ]
     },
     "execution_count": 10,
     "metadata": {},
     "output_type": "execute_result"
    }
   ],
   "source": [
    "customer_tb['sex'] = pd.Categorical(customer_tb['sex'])\n",
    "\n",
    "dummy_vars = pd.get_dummies(customer_tb['sex'], drop_first=False)\n",
    "dummy_vars"
   ]
  },
  {
   "cell_type": "markdown",
   "id": "3ce0a3e8",
   "metadata": {},
   "source": [
    "여기서 drop_first = True 의 의미를 대략설명하자면,\n",
    "\n",
    "중학교 범주화에서 1 : 저학년 2 : 중간학년, 3 : 고학년 이렇게 구분가능한거를\n",
    "\n",
    "1,2 ,'둘다 아닌 거' 이렇게 세개로 구분합니다.\n",
    "\n",
    "중학교의 경우 1학년, 2학년 아니면 자동으로 3학년을 결정되기 때문입니다."
   ]
  },
  {
   "cell_type": "markdown",
   "id": "bd9fa96d",
   "metadata": {},
   "source": [
    "# 범줏값의 집약\n",
    "범주형을 통해 더미 데이터화를 할 경우 일반적인 경우보다 적은 특성을 학습하므로, 과적합 발생확률이 높습니다.\n",
    "\n",
    "따라서 데이터 개수를 늘려주기 위해 비슷한 범주값들 끼리 묶어 데이터 개수를 늘리는 방법이 있습니다."
   ]
  },
  {
   "cell_type": "code",
   "execution_count": 11,
   "id": "3b629ec8",
   "metadata": {},
   "outputs": [],
   "source": [
    "import numpy as np"
   ]
  },
  {
   "cell_type": "code",
   "execution_count": 12,
   "id": "1a2ed59b",
   "metadata": {},
   "outputs": [
    {
     "name": "stderr",
     "output_type": "stream",
     "text": [
      "C:\\Users\\User\\anaconda3\\lib\\site-packages\\pandas\\io\\formats\\format.py:1405: FutureWarning: Index.ravel returning ndarray is deprecated; in a future version this will return a view on self.\n",
      "  for val, m in zip(values.ravel(), mask.ravel())\n"
     ]
    },
    {
     "data": {
      "text/plain": [
       "0      40.0\n",
       "1      30.0\n",
       "2      40.0\n",
       "3      40.0\n",
       "4      30.0\n",
       "       ... \n",
       "995    40.0\n",
       "996    30.0\n",
       "997    30.0\n",
       "998    40.0\n",
       "999    30.0\n",
       "Name: age_rank, Length: 1000, dtype: category\n",
       "Categories (7, float64): [20.0, 30.0, 40.0, 50.0, 60.0, 70.0, 80.0]"
      ]
     },
     "execution_count": 12,
     "metadata": {},
     "output_type": "execute_result"
    }
   ],
   "source": [
    "customer_tb['age_rank'] = pd.Categorical(np.floor(customer_tb['age']/10)*10)\n",
    "customer_tb['age_rank']"
   ]
  },
  {
   "cell_type": "markdown",
   "id": "80739416",
   "metadata": {},
   "source": [
    "카테고리화 하여서 값의 경우가 20대부터 80대가 있습니다.\n",
    "\n",
    "우리의 목표는 60, 70, 80을 60대 이상으로 묶는 것입니다."
   ]
  },
  {
   "cell_type": "code",
   "execution_count": 13,
   "id": "5910d8ba",
   "metadata": {},
   "outputs": [
    {
     "data": {
      "text/plain": [
       "0      40.0\n",
       "1      30.0\n",
       "2      40.0\n",
       "3      40.0\n",
       "4      30.0\n",
       "       ... \n",
       "995    40.0\n",
       "996    30.0\n",
       "997    30.0\n",
       "998    40.0\n",
       "999    30.0\n",
       "Name: age_rank, Length: 1000, dtype: category\n",
       "Categories (8, object): [20.0, 30.0, 40.0, 50.0, 60.0, 70.0, 80.0, '60 이상']"
      ]
     },
     "execution_count": 13,
     "metadata": {},
     "output_type": "execute_result"
    }
   ],
   "source": [
    "customer_tb['age_rank'].cat.add_categories(['60 이상'], inplace = True)\n",
    "customer_tb['age_rank']"
   ]
  },
  {
   "cell_type": "markdown",
   "id": "aca4ec0d",
   "metadata": {},
   "source": [
    "add_categories는 범주형 마스터 데이터를 추가하는 함수입니다."
   ]
  },
  {
   "cell_type": "code",
   "execution_count": 14,
   "id": "9c7382b0",
   "metadata": {},
   "outputs": [
    {
     "data": {
      "text/plain": [
       "0      40.0\n",
       "1      30.0\n",
       "2      40.0\n",
       "3      40.0\n",
       "4      30.0\n",
       "       ... \n",
       "995    40.0\n",
       "996    30.0\n",
       "997    30.0\n",
       "998    40.0\n",
       "999    30.0\n",
       "Name: age_rank, Length: 1000, dtype: category\n",
       "Categories (8, object): [20.0, 30.0, 40.0, 50.0, 60.0, 70.0, 80.0, '60 이상']"
      ]
     },
     "execution_count": 14,
     "metadata": {},
     "output_type": "execute_result"
    }
   ],
   "source": [
    "customer_tb.loc[customer_tb['age_rank'].isin([60.0, 70.0, 80.0]), 'age_rank'] = '60 이상'\n",
    "customer_tb['age_rank']"
   ]
  },
  {
   "cell_type": "markdown",
   "id": "b830282c",
   "metadata": {},
   "source": [
    "isin()함수를 이용할 경우 60대 이상인 범주값들에 대해 있는 경우 true가 반환됩니다.\n",
    "\n",
    "그리고 loc[]은 안에 boolean 타입의 Series를 대입시켜 True 인 것들의 row를 반환해줍니다."
   ]
  },
  {
   "cell_type": "code",
   "execution_count": 15,
   "id": "9ec49a26",
   "metadata": {},
   "outputs": [
    {
     "name": "stderr",
     "output_type": "stream",
     "text": [
      "C:\\Users\\User\\anaconda3\\lib\\site-packages\\pandas\\core\\arrays\\categorical.py:2492: FutureWarning: The `inplace` parameter in pandas.Categorical.remove_unused_categories is deprecated and will be removed in a future version.\n",
      "  res = method(*args, **kwargs)\n"
     ]
    },
    {
     "data": {
      "text/plain": [
       "0      40.0\n",
       "1      30.0\n",
       "2      40.0\n",
       "3      40.0\n",
       "4      30.0\n",
       "       ... \n",
       "995    40.0\n",
       "996    30.0\n",
       "997    30.0\n",
       "998    40.0\n",
       "999    30.0\n",
       "Name: age_rank, Length: 1000, dtype: category\n",
       "Categories (5, object): [20.0, 30.0, 40.0, 50.0, '60 이상']"
      ]
     },
     "execution_count": 15,
     "metadata": {},
     "output_type": "execute_result"
    }
   ],
   "source": [
    "customer_tb['age_rank'].cat.remove_unused_categories(inplace = True)\n",
    "customer_tb['age_rank']"
   ]
  },
  {
   "cell_type": "markdown",
   "id": "4728b803",
   "metadata": {},
   "source": [
    "remove_unused_categories()함수를 통해 쓰지않는 범주형 마스터 데이터를 제거합니다."
   ]
  },
  {
   "cell_type": "markdown",
   "id": "cbcb46ac",
   "metadata": {},
   "source": [
    "# 범주값의 조합\n",
    "범주값을 줄이는 방법도 있지만, 조합하여 새로운 범주값을 추가하는 방법도 있습니다.\n",
    "\n",
    "예를들어 20대와 남성을 합치면 20대 남성 이라는 새로운 범주값을 추가할 수 있습니다.\n",
    "\n",
    "그러나 조합을 이용할 경우 더미 데이터의 경우의 수도 늘어나 처리할 데이터의 종류도 늘어납니다."
   ]
  },
  {
   "cell_type": "code",
   "execution_count": 16,
   "id": "5c98ff19",
   "metadata": {},
   "outputs": [
    {
     "data": {
      "text/plain": [
       "0        man_40.0\n",
       "1        man_30.0\n",
       "2      woman_40.0\n",
       "3        man_40.0\n",
       "4        man_30.0\n",
       "          ...    \n",
       "995      man_40.0\n",
       "996      man_30.0\n",
       "997    woman_30.0\n",
       "998    woman_40.0\n",
       "999      man_30.0\n",
       "Name: sex and age, Length: 1000, dtype: category\n",
       "Categories (14, object): ['man_20.0', 'man_30.0', 'man_40.0', 'man_50.0', ..., 'woman_50.0', 'woman_60.0', 'woman_70.0', 'woman_80.0']"
      ]
     },
     "execution_count": 16,
     "metadata": {},
     "output_type": "execute_result"
    }
   ],
   "source": [
    "customer_tb['sex and age'] = pd.Categorical(customer_tb[['sex', 'age']]\n",
    "                                           .apply(lambda x: '{}_{}'.format(x[0], np.floor(x[1]/10) * 10),\n",
    "                                                 axis = 1))\n",
    "customer_tb['sex and age']"
   ]
  },
  {
   "cell_type": "markdown",
   "id": "a16fba0f",
   "metadata": {},
   "source": [
    "# 범주형의 수치화\n",
    "예를들어 특정 물건에 대한 불량률을 계산하고 싶은경우, 전체 물건 종류에 대한 개수를 구하고,\n",
    "\n",
    "그 다음 불량인 물건의 개수에 대해 구한다음, 두번째 값에 대해 첫 번째 값을 나눠주면 불량율이 나옵니다.\n",
    "\n",
    "즉 범주형 데이터로 다른 수치형 데이터를 뽑아낸 것 입니다."
   ]
  },
  {
   "cell_type": "code",
   "execution_count": 17,
   "id": "27d9dd5d",
   "metadata": {},
   "outputs": [
    {
     "data": {
      "text/html": [
       "<div>\n",
       "<style scoped>\n",
       "    .dataframe tbody tr th:only-of-type {\n",
       "        vertical-align: middle;\n",
       "    }\n",
       "\n",
       "    .dataframe tbody tr th {\n",
       "        vertical-align: top;\n",
       "    }\n",
       "\n",
       "    .dataframe thead th {\n",
       "        text-align: right;\n",
       "    }\n",
       "</style>\n",
       "<table border=\"1\" class=\"dataframe\">\n",
       "  <thead>\n",
       "    <tr style=\"text-align: right;\">\n",
       "      <th></th>\n",
       "      <th>type</th>\n",
       "      <th>length</th>\n",
       "      <th>thickness</th>\n",
       "      <th>fault_flg</th>\n",
       "    </tr>\n",
       "  </thead>\n",
       "  <tbody>\n",
       "    <tr>\n",
       "      <th>0</th>\n",
       "      <td>E</td>\n",
       "      <td>274.027383</td>\n",
       "      <td>40.241131</td>\n",
       "      <td>False</td>\n",
       "    </tr>\n",
       "    <tr>\n",
       "      <th>1</th>\n",
       "      <td>D</td>\n",
       "      <td>86.319269</td>\n",
       "      <td>16.906715</td>\n",
       "      <td>False</td>\n",
       "    </tr>\n",
       "    <tr>\n",
       "      <th>2</th>\n",
       "      <td>E</td>\n",
       "      <td>123.940388</td>\n",
       "      <td>1.018462</td>\n",
       "      <td>False</td>\n",
       "    </tr>\n",
       "    <tr>\n",
       "      <th>3</th>\n",
       "      <td>B</td>\n",
       "      <td>175.554886</td>\n",
       "      <td>16.414924</td>\n",
       "      <td>False</td>\n",
       "    </tr>\n",
       "    <tr>\n",
       "      <th>4</th>\n",
       "      <td>B</td>\n",
       "      <td>244.934740</td>\n",
       "      <td>29.061081</td>\n",
       "      <td>False</td>\n",
       "    </tr>\n",
       "    <tr>\n",
       "      <th>...</th>\n",
       "      <td>...</td>\n",
       "      <td>...</td>\n",
       "      <td>...</td>\n",
       "      <td>...</td>\n",
       "    </tr>\n",
       "    <tr>\n",
       "      <th>995</th>\n",
       "      <td>C</td>\n",
       "      <td>363.214163</td>\n",
       "      <td>48.369483</td>\n",
       "      <td>False</td>\n",
       "    </tr>\n",
       "    <tr>\n",
       "      <th>996</th>\n",
       "      <td>D</td>\n",
       "      <td>134.773797</td>\n",
       "      <td>26.861665</td>\n",
       "      <td>False</td>\n",
       "    </tr>\n",
       "    <tr>\n",
       "      <th>997</th>\n",
       "      <td>B</td>\n",
       "      <td>231.174985</td>\n",
       "      <td>7.087471</td>\n",
       "      <td>False</td>\n",
       "    </tr>\n",
       "    <tr>\n",
       "      <th>998</th>\n",
       "      <td>D</td>\n",
       "      <td>81.613510</td>\n",
       "      <td>5.716271</td>\n",
       "      <td>False</td>\n",
       "    </tr>\n",
       "    <tr>\n",
       "      <th>999</th>\n",
       "      <td>C</td>\n",
       "      <td>202.010973</td>\n",
       "      <td>35.211647</td>\n",
       "      <td>True</td>\n",
       "    </tr>\n",
       "  </tbody>\n",
       "</table>\n",
       "<p>1000 rows × 4 columns</p>\n",
       "</div>"
      ],
      "text/plain": [
       "    type      length  thickness  fault_flg\n",
       "0      E  274.027383  40.241131      False\n",
       "1      D   86.319269  16.906715      False\n",
       "2      E  123.940388   1.018462      False\n",
       "3      B  175.554886  16.414924      False\n",
       "4      B  244.934740  29.061081      False\n",
       "..   ...         ...        ...        ...\n",
       "995    C  363.214163  48.369483      False\n",
       "996    D  134.773797  26.861665      False\n",
       "997    B  231.174985   7.087471      False\n",
       "998    D   81.613510   5.716271      False\n",
       "999    C  202.010973  35.211647       True\n",
       "\n",
       "[1000 rows x 4 columns]"
      ]
     },
     "execution_count": 17,
     "metadata": {},
     "output_type": "execute_result"
    }
   ],
   "source": [
    "production = pd.read_csv('c:/Users/User/daejeon/production.csv')\n",
    "production"
   ]
  },
  {
   "cell_type": "code",
   "execution_count": 18,
   "id": "04133ed2",
   "metadata": {},
   "outputs": [
    {
     "data": {
      "text/plain": [
       "type\n",
       "A    11\n",
       "B     6\n",
       "C    16\n",
       "D     7\n",
       "E    12\n",
       "Name: fault_flg, dtype: int64"
      ]
     },
     "execution_count": 18,
     "metadata": {},
     "output_type": "execute_result"
    }
   ],
   "source": [
    "fault_cnt_per_type = production.query('fault_flg').groupby('type')['fault_flg'].count()\n",
    "(fault_cnt_per_type)"
   ]
  },
  {
   "cell_type": "markdown",
   "id": "66fd3aa5",
   "metadata": {},
   "source": [
    "query 함수를 통해 fault_flg가 true 인거를 추출했습니다.\n",
    "\n",
    "즉 결함이 있는 것만 뽑았습니다.\n",
    "\n",
    "그다음 type 별로 묶어준다음 true인 개수를 세었습니다."
   ]
  },
  {
   "cell_type": "code",
   "execution_count": 19,
   "id": "59d0aab9",
   "metadata": {},
   "outputs": [
    {
     "data": {
      "text/plain": [
       "type\n",
       "A    202\n",
       "B    175\n",
       "C    211\n",
       "D    215\n",
       "E    197\n",
       "Name: fault_flg, dtype: int64"
      ]
     },
     "execution_count": 19,
     "metadata": {},
     "output_type": "execute_result"
    }
   ],
   "source": [
    "type_cnt = production.groupby('type')['fault_flg'].count()\n",
    "type_cnt"
   ]
  },
  {
   "cell_type": "markdown",
   "id": "64f5fb49",
   "metadata": {},
   "source": [
    "전체의 개수 입니다.\n",
    "\n",
    "즉 여기서 먼저 구한 거에 나중에 구한 거를 나눠주면 type별 불량품의 개수가 나오게 됩니다."
   ]
  },
  {
   "cell_type": "code",
   "execution_count": 20,
   "id": "a038d323",
   "metadata": {},
   "outputs": [
    {
     "data": {
      "text/plain": [
       "0      0.061224\n",
       "1      0.032710\n",
       "2      0.061224\n",
       "3      0.034483\n",
       "4      0.034483\n",
       "         ...   \n",
       "995    0.076190\n",
       "996    0.032710\n",
       "997    0.034483\n",
       "998    0.032710\n",
       "999    0.071429\n",
       "Name: type_fault_rate, Length: 1000, dtype: float64"
      ]
     },
     "execution_count": 20,
     "metadata": {},
     "output_type": "execute_result"
    }
   ],
   "source": [
    "production['type_fault_rate'] = production[['type', 'fault_flg']].apply(lambda x:\n",
    "                                                                       (fault_cnt_per_type[x[0]] - int(x[1]))/\n",
    "                                                                       (type_cnt[x[0]] - 1), axis = 1)\n",
    "\n",
    "production['type_fault_rate']"
   ]
  },
  {
   "cell_type": "markdown",
   "id": "18e2fedc",
   "metadata": {},
   "source": [
    "# 범주형의 보완\n",
    "범주형의 경우 일정한 수치값을 가지고 있는 것이 아니기 때문에 결손값의 보완도 군집으로 접근하여야 합니다.\n",
    "\n",
    "이중 많이 사용되는 방법이 KNN 기법이고, sklearn을 이용하여 처리합니다."
   ]
  },
  {
   "cell_type": "code",
   "execution_count": 27,
   "id": "0536d750",
   "metadata": {},
   "outputs": [
    {
     "name": "stdout",
     "output_type": "stream",
     "text": [
      "<class 'pandas.core.frame.DataFrame'>\n",
      "RangeIndex: 1000 entries, 0 to 999\n",
      "Data columns (total 4 columns):\n",
      " #   Column     Non-Null Count  Dtype  \n",
      "---  ------     --------------  -----  \n",
      " 0   type       900 non-null    object \n",
      " 1   length     1000 non-null   float64\n",
      " 2   thickness  1000 non-null   float64\n",
      " 3   fault_flg  1000 non-null   bool   \n",
      "dtypes: bool(1), float64(2), object(1)\n",
      "memory usage: 24.5+ KB\n"
     ]
    }
   ],
   "source": [
    "from sklearn.neighbors import KNeighborsClassifier\n",
    "production_missc_tb = pd.read_csv('c:/Users/User/daejeon/production_missing_category.csv')\n",
    "production_missc_tb.info()"
   ]
  },
  {
   "cell_type": "code",
   "execution_count": 23,
   "id": "50306300",
   "metadata": {},
   "outputs": [],
   "source": [
    "production_missc_tb.replace('None', np.nan, inplace=True)"
   ]
  },
  {
   "cell_type": "markdown",
   "id": "89a1f687",
   "metadata": {},
   "source": [
    "결측치를 처리하기 위해선 컴퓨터에 결측치 라는 것을 가르쳐주기 위해 넘파이에서 nan함수를 이용하여\n",
    "\n",
    "비어있는 곳에 'None'이라고 값을 넣어준다."
   ]
  },
  {
   "cell_type": "code",
   "execution_count": 26,
   "id": "9987a8d0",
   "metadata": {},
   "outputs": [
    {
     "name": "stdout",
     "output_type": "stream",
     "text": [
      "<class 'pandas.core.frame.DataFrame'>\n",
      "Int64Index: 900 entries, 0 to 999\n",
      "Data columns (total 4 columns):\n",
      " #   Column     Non-Null Count  Dtype  \n",
      "---  ------     --------------  -----  \n",
      " 0   type       900 non-null    object \n",
      " 1   length     900 non-null    float64\n",
      " 2   thickness  900 non-null    float64\n",
      " 3   fault_flg  900 non-null    bool   \n",
      "dtypes: bool(1), float64(2), object(1)\n",
      "memory usage: 29.0+ KB\n"
     ]
    }
   ],
   "source": [
    "train = production_missc_tb.dropna(subset=['type'], inplace=False)\n",
    "train.info()"
   ]
  },
  {
   "cell_type": "markdown",
   "id": "6aa4427f",
   "metadata": {},
   "source": [
    "결손이 없는 데이터을 뽑기 위해 dropna 함수를 통해 없는 값들을 전부 버려주었습니다.\n",
    "\n",
    "subset = [column]을 해줄경우 열에 대해 값이 없는 경우만 삭제합니다."
   ]
  },
  {
   "cell_type": "code",
   "execution_count": 28,
   "id": "0a9fa2aa",
   "metadata": {
    "scrolled": true
   },
   "outputs": [
    {
     "data": {
      "text/html": [
       "<div>\n",
       "<style scoped>\n",
       "    .dataframe tbody tr th:only-of-type {\n",
       "        vertical-align: middle;\n",
       "    }\n",
       "\n",
       "    .dataframe tbody tr th {\n",
       "        vertical-align: top;\n",
       "    }\n",
       "\n",
       "    .dataframe thead th {\n",
       "        text-align: right;\n",
       "    }\n",
       "</style>\n",
       "<table border=\"1\" class=\"dataframe\">\n",
       "  <thead>\n",
       "    <tr style=\"text-align: right;\">\n",
       "      <th></th>\n",
       "      <th>type</th>\n",
       "      <th>length</th>\n",
       "      <th>thickness</th>\n",
       "      <th>fault_flg</th>\n",
       "    </tr>\n",
       "  </thead>\n",
       "  <tbody>\n",
       "    <tr>\n",
       "      <th>8</th>\n",
       "      <td>NaN</td>\n",
       "      <td>276.386631</td>\n",
       "      <td>29.899611</td>\n",
       "      <td>False</td>\n",
       "    </tr>\n",
       "    <tr>\n",
       "      <th>26</th>\n",
       "      <td>NaN</td>\n",
       "      <td>263.844324</td>\n",
       "      <td>34.664251</td>\n",
       "      <td>False</td>\n",
       "    </tr>\n",
       "    <tr>\n",
       "      <th>30</th>\n",
       "      <td>NaN</td>\n",
       "      <td>129.364736</td>\n",
       "      <td>21.346752</td>\n",
       "      <td>False</td>\n",
       "    </tr>\n",
       "    <tr>\n",
       "      <th>36</th>\n",
       "      <td>NaN</td>\n",
       "      <td>203.378972</td>\n",
       "      <td>30.286454</td>\n",
       "      <td>False</td>\n",
       "    </tr>\n",
       "    <tr>\n",
       "      <th>41</th>\n",
       "      <td>NaN</td>\n",
       "      <td>157.463166</td>\n",
       "      <td>11.166165</td>\n",
       "      <td>False</td>\n",
       "    </tr>\n",
       "    <tr>\n",
       "      <th>...</th>\n",
       "      <td>...</td>\n",
       "      <td>...</td>\n",
       "      <td>...</td>\n",
       "      <td>...</td>\n",
       "    </tr>\n",
       "    <tr>\n",
       "      <th>971</th>\n",
       "      <td>NaN</td>\n",
       "      <td>130.088061</td>\n",
       "      <td>0.207250</td>\n",
       "      <td>False</td>\n",
       "    </tr>\n",
       "    <tr>\n",
       "      <th>980</th>\n",
       "      <td>NaN</td>\n",
       "      <td>284.562824</td>\n",
       "      <td>49.211790</td>\n",
       "      <td>False</td>\n",
       "    </tr>\n",
       "    <tr>\n",
       "      <th>983</th>\n",
       "      <td>NaN</td>\n",
       "      <td>264.130761</td>\n",
       "      <td>4.560416</td>\n",
       "      <td>False</td>\n",
       "    </tr>\n",
       "    <tr>\n",
       "      <th>992</th>\n",
       "      <td>NaN</td>\n",
       "      <td>182.252364</td>\n",
       "      <td>33.314305</td>\n",
       "      <td>False</td>\n",
       "    </tr>\n",
       "    <tr>\n",
       "      <th>996</th>\n",
       "      <td>NaN</td>\n",
       "      <td>134.773797</td>\n",
       "      <td>26.861665</td>\n",
       "      <td>False</td>\n",
       "    </tr>\n",
       "  </tbody>\n",
       "</table>\n",
       "<p>100 rows × 4 columns</p>\n",
       "</div>"
      ],
      "text/plain": [
       "    type      length  thickness  fault_flg\n",
       "8    NaN  276.386631  29.899611      False\n",
       "26   NaN  263.844324  34.664251      False\n",
       "30   NaN  129.364736  21.346752      False\n",
       "36   NaN  203.378972  30.286454      False\n",
       "41   NaN  157.463166  11.166165      False\n",
       "..   ...         ...        ...        ...\n",
       "971  NaN  130.088061   0.207250      False\n",
       "980  NaN  284.562824  49.211790      False\n",
       "983  NaN  264.130761   4.560416      False\n",
       "992  NaN  182.252364  33.314305      False\n",
       "996  NaN  134.773797  26.861665      False\n",
       "\n",
       "[100 rows x 4 columns]"
      ]
     },
     "execution_count": 28,
     "metadata": {},
     "output_type": "execute_result"
    }
   ],
   "source": [
    "test = production_missc_tb.loc[production_missc_tb.index.difference(train.index),:]\n",
    "test"
   ]
  },
  {
   "cell_type": "code",
   "execution_count": 29,
   "id": "2ab20876",
   "metadata": {},
   "outputs": [
    {
     "data": {
      "text/plain": [
       "KNeighborsClassifier(n_neighbors=3)"
      ]
     },
     "execution_count": 29,
     "metadata": {},
     "output_type": "execute_result"
    }
   ],
   "source": [
    "kn = KNeighborsClassifier(n_neighbors=3)\n",
    "\n",
    "kn.fit(train[['length', 'thickness']], train['type'])"
   ]
  },
  {
   "cell_type": "markdown",
   "id": "d034f9d2",
   "metadata": {},
   "source": [
    "KNN방식은 길이를 측정하는 방식으로 군집도를 결정하는 방식으로 무엇의 길이를 잴지 정해주어야 합니다."
   ]
  },
  {
   "cell_type": "code",
   "execution_count": 31,
   "id": "d26484df",
   "metadata": {},
   "outputs": [],
   "source": [
    "test['type'] = kn.predict(test[['length', 'thickness']])"
   ]
  },
  {
   "cell_type": "code",
   "execution_count": 32,
   "id": "02b40fcc",
   "metadata": {},
   "outputs": [
    {
     "data": {
      "text/html": [
       "<div>\n",
       "<style scoped>\n",
       "    .dataframe tbody tr th:only-of-type {\n",
       "        vertical-align: middle;\n",
       "    }\n",
       "\n",
       "    .dataframe tbody tr th {\n",
       "        vertical-align: top;\n",
       "    }\n",
       "\n",
       "    .dataframe thead th {\n",
       "        text-align: right;\n",
       "    }\n",
       "</style>\n",
       "<table border=\"1\" class=\"dataframe\">\n",
       "  <thead>\n",
       "    <tr style=\"text-align: right;\">\n",
       "      <th></th>\n",
       "      <th>type</th>\n",
       "      <th>length</th>\n",
       "      <th>thickness</th>\n",
       "      <th>fault_flg</th>\n",
       "    </tr>\n",
       "  </thead>\n",
       "  <tbody>\n",
       "    <tr>\n",
       "      <th>8</th>\n",
       "      <td>E</td>\n",
       "      <td>276.386631</td>\n",
       "      <td>29.899611</td>\n",
       "      <td>False</td>\n",
       "    </tr>\n",
       "    <tr>\n",
       "      <th>26</th>\n",
       "      <td>E</td>\n",
       "      <td>263.844324</td>\n",
       "      <td>34.664251</td>\n",
       "      <td>False</td>\n",
       "    </tr>\n",
       "    <tr>\n",
       "      <th>30</th>\n",
       "      <td>E</td>\n",
       "      <td>129.364736</td>\n",
       "      <td>21.346752</td>\n",
       "      <td>False</td>\n",
       "    </tr>\n",
       "    <tr>\n",
       "      <th>36</th>\n",
       "      <td>A</td>\n",
       "      <td>203.378972</td>\n",
       "      <td>30.286454</td>\n",
       "      <td>False</td>\n",
       "    </tr>\n",
       "    <tr>\n",
       "      <th>41</th>\n",
       "      <td>E</td>\n",
       "      <td>157.463166</td>\n",
       "      <td>11.166165</td>\n",
       "      <td>False</td>\n",
       "    </tr>\n",
       "    <tr>\n",
       "      <th>...</th>\n",
       "      <td>...</td>\n",
       "      <td>...</td>\n",
       "      <td>...</td>\n",
       "      <td>...</td>\n",
       "    </tr>\n",
       "    <tr>\n",
       "      <th>971</th>\n",
       "      <td>A</td>\n",
       "      <td>130.088061</td>\n",
       "      <td>0.207250</td>\n",
       "      <td>False</td>\n",
       "    </tr>\n",
       "    <tr>\n",
       "      <th>980</th>\n",
       "      <td>E</td>\n",
       "      <td>284.562824</td>\n",
       "      <td>49.211790</td>\n",
       "      <td>False</td>\n",
       "    </tr>\n",
       "    <tr>\n",
       "      <th>983</th>\n",
       "      <td>B</td>\n",
       "      <td>264.130761</td>\n",
       "      <td>4.560416</td>\n",
       "      <td>False</td>\n",
       "    </tr>\n",
       "    <tr>\n",
       "      <th>992</th>\n",
       "      <td>A</td>\n",
       "      <td>182.252364</td>\n",
       "      <td>33.314305</td>\n",
       "      <td>False</td>\n",
       "    </tr>\n",
       "    <tr>\n",
       "      <th>996</th>\n",
       "      <td>A</td>\n",
       "      <td>134.773797</td>\n",
       "      <td>26.861665</td>\n",
       "      <td>False</td>\n",
       "    </tr>\n",
       "  </tbody>\n",
       "</table>\n",
       "<p>100 rows × 4 columns</p>\n",
       "</div>"
      ],
      "text/plain": [
       "    type      length  thickness  fault_flg\n",
       "8      E  276.386631  29.899611      False\n",
       "26     E  263.844324  34.664251      False\n",
       "30     E  129.364736  21.346752      False\n",
       "36     A  203.378972  30.286454      False\n",
       "41     E  157.463166  11.166165      False\n",
       "..   ...         ...        ...        ...\n",
       "971    A  130.088061   0.207250      False\n",
       "980    E  284.562824  49.211790      False\n",
       "983    B  264.130761   4.560416      False\n",
       "992    A  182.252364  33.314305      False\n",
       "996    A  134.773797  26.861665      False\n",
       "\n",
       "[100 rows x 4 columns]"
      ]
     },
     "execution_count": 32,
     "metadata": {},
     "output_type": "execute_result"
    }
   ],
   "source": [
    "test"
   ]
  }
 ],
 "metadata": {
  "kernelspec": {
   "display_name": "Python 3",
   "language": "python",
   "name": "python3"
  },
  "language_info": {
   "codemirror_mode": {
    "name": "ipython",
    "version": 3
   },
   "file_extension": ".py",
   "mimetype": "text/x-python",
   "name": "python",
   "nbconvert_exporter": "python",
   "pygments_lexer": "ipython3",
   "version": "3.8.10"
  }
 },
 "nbformat": 4,
 "nbformat_minor": 5
}
