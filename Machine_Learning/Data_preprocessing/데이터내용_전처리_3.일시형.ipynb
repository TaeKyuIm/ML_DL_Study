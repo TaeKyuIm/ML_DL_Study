{
 "cells": [
  {
   "cell_type": "markdown",
   "id": "9c08bd8d",
   "metadata": {},
   "source": [
    "## 10장 일시형\n",
    "수치와 범주 다음으로 자주 다루는 데이터는 일시형 입니다."
   ]
  },
  {
   "cell_type": "markdown",
   "id": "6f0e73d4",
   "metadata": {},
   "source": [
    "# 일시형과 날짜형으로 변환\n",
    "일시형은 Timestamp와 DateTime 같은 자료형이 있습니다. 일시형이라면 문제없지만, 문자열이나 unixtime 같은 수치는 일시형으로 변환해야 합니다. 일시형 외 시간을 나타내는 대표적인 자료형은 날짜형 입니다."
   ]
  },
  {
   "cell_type": "code",
   "execution_count": 46,
   "id": "784027c1",
   "metadata": {
    "scrolled": true
   },
   "outputs": [
    {
     "data": {
      "text/html": [
       "<div>\n",
       "<style scoped>\n",
       "    .dataframe tbody tr th:only-of-type {\n",
       "        vertical-align: middle;\n",
       "    }\n",
       "\n",
       "    .dataframe tbody tr th {\n",
       "        vertical-align: top;\n",
       "    }\n",
       "\n",
       "    .dataframe thead th {\n",
       "        text-align: right;\n",
       "    }\n",
       "</style>\n",
       "<table border=\"1\" class=\"dataframe\">\n",
       "  <thead>\n",
       "    <tr style=\"text-align: right;\">\n",
       "      <th></th>\n",
       "      <th>reserve_id</th>\n",
       "      <th>hotel_id</th>\n",
       "      <th>customer_id</th>\n",
       "      <th>reserve_datetime</th>\n",
       "      <th>checkin_date</th>\n",
       "      <th>checkin_time</th>\n",
       "      <th>checkout_date</th>\n",
       "      <th>people_num</th>\n",
       "      <th>total_price</th>\n",
       "    </tr>\n",
       "  </thead>\n",
       "  <tbody>\n",
       "    <tr>\n",
       "      <th>0</th>\n",
       "      <td>r1</td>\n",
       "      <td>h_75</td>\n",
       "      <td>c_1</td>\n",
       "      <td>2016-03-06 13:09:42</td>\n",
       "      <td>2016-03-26</td>\n",
       "      <td>10:00:00</td>\n",
       "      <td>2016-03-29</td>\n",
       "      <td>4</td>\n",
       "      <td>97200</td>\n",
       "    </tr>\n",
       "    <tr>\n",
       "      <th>1</th>\n",
       "      <td>r2</td>\n",
       "      <td>h_219</td>\n",
       "      <td>c_1</td>\n",
       "      <td>2016-07-16 23:39:55</td>\n",
       "      <td>2016-07-20</td>\n",
       "      <td>11:30:00</td>\n",
       "      <td>2016-07-21</td>\n",
       "      <td>2</td>\n",
       "      <td>20600</td>\n",
       "    </tr>\n",
       "    <tr>\n",
       "      <th>2</th>\n",
       "      <td>r3</td>\n",
       "      <td>h_179</td>\n",
       "      <td>c_1</td>\n",
       "      <td>2016-09-24 10:03:17</td>\n",
       "      <td>2016-10-19</td>\n",
       "      <td>09:00:00</td>\n",
       "      <td>2016-10-22</td>\n",
       "      <td>2</td>\n",
       "      <td>33600</td>\n",
       "    </tr>\n",
       "    <tr>\n",
       "      <th>3</th>\n",
       "      <td>r4</td>\n",
       "      <td>h_214</td>\n",
       "      <td>c_1</td>\n",
       "      <td>2017-03-08 03:20:10</td>\n",
       "      <td>2017-03-29</td>\n",
       "      <td>11:00:00</td>\n",
       "      <td>2017-03-30</td>\n",
       "      <td>4</td>\n",
       "      <td>194400</td>\n",
       "    </tr>\n",
       "    <tr>\n",
       "      <th>4</th>\n",
       "      <td>r5</td>\n",
       "      <td>h_16</td>\n",
       "      <td>c_1</td>\n",
       "      <td>2017-09-05 19:50:37</td>\n",
       "      <td>2017-09-22</td>\n",
       "      <td>10:30:00</td>\n",
       "      <td>2017-09-23</td>\n",
       "      <td>3</td>\n",
       "      <td>68100</td>\n",
       "    </tr>\n",
       "    <tr>\n",
       "      <th>...</th>\n",
       "      <td>...</td>\n",
       "      <td>...</td>\n",
       "      <td>...</td>\n",
       "      <td>...</td>\n",
       "      <td>...</td>\n",
       "      <td>...</td>\n",
       "      <td>...</td>\n",
       "      <td>...</td>\n",
       "      <td>...</td>\n",
       "    </tr>\n",
       "    <tr>\n",
       "      <th>4025</th>\n",
       "      <td>r4026</td>\n",
       "      <td>h_129</td>\n",
       "      <td>c_999</td>\n",
       "      <td>2017-06-27 23:00:02</td>\n",
       "      <td>2017-07-10</td>\n",
       "      <td>09:30:00</td>\n",
       "      <td>2017-07-11</td>\n",
       "      <td>2</td>\n",
       "      <td>16000</td>\n",
       "    </tr>\n",
       "    <tr>\n",
       "      <th>4026</th>\n",
       "      <td>r4027</td>\n",
       "      <td>h_97</td>\n",
       "      <td>c_999</td>\n",
       "      <td>2017-09-29 05:24:57</td>\n",
       "      <td>2017-10-09</td>\n",
       "      <td>10:30:00</td>\n",
       "      <td>2017-10-10</td>\n",
       "      <td>2</td>\n",
       "      <td>41800</td>\n",
       "    </tr>\n",
       "    <tr>\n",
       "      <th>4027</th>\n",
       "      <td>r4028</td>\n",
       "      <td>h_27</td>\n",
       "      <td>c_999</td>\n",
       "      <td>2018-03-14 05:01:45</td>\n",
       "      <td>2018-04-02</td>\n",
       "      <td>11:30:00</td>\n",
       "      <td>2018-04-04</td>\n",
       "      <td>2</td>\n",
       "      <td>74800</td>\n",
       "    </tr>\n",
       "    <tr>\n",
       "      <th>4028</th>\n",
       "      <td>r4029</td>\n",
       "      <td>h_48</td>\n",
       "      <td>c_1000</td>\n",
       "      <td>2016-04-16 15:20:17</td>\n",
       "      <td>2016-05-10</td>\n",
       "      <td>09:30:00</td>\n",
       "      <td>2016-05-13</td>\n",
       "      <td>4</td>\n",
       "      <td>540000</td>\n",
       "    </tr>\n",
       "    <tr>\n",
       "      <th>4029</th>\n",
       "      <td>r4030</td>\n",
       "      <td>h_117</td>\n",
       "      <td>c_1000</td>\n",
       "      <td>2016-06-06 08:16:51</td>\n",
       "      <td>2016-07-06</td>\n",
       "      <td>09:00:00</td>\n",
       "      <td>2016-07-09</td>\n",
       "      <td>1</td>\n",
       "      <td>44100</td>\n",
       "    </tr>\n",
       "  </tbody>\n",
       "</table>\n",
       "<p>4030 rows × 9 columns</p>\n",
       "</div>"
      ],
      "text/plain": [
       "     reserve_id hotel_id customer_id     reserve_datetime checkin_date  \\\n",
       "0            r1     h_75         c_1  2016-03-06 13:09:42   2016-03-26   \n",
       "1            r2    h_219         c_1  2016-07-16 23:39:55   2016-07-20   \n",
       "2            r3    h_179         c_1  2016-09-24 10:03:17   2016-10-19   \n",
       "3            r4    h_214         c_1  2017-03-08 03:20:10   2017-03-29   \n",
       "4            r5     h_16         c_1  2017-09-05 19:50:37   2017-09-22   \n",
       "...         ...      ...         ...                  ...          ...   \n",
       "4025      r4026    h_129       c_999  2017-06-27 23:00:02   2017-07-10   \n",
       "4026      r4027     h_97       c_999  2017-09-29 05:24:57   2017-10-09   \n",
       "4027      r4028     h_27       c_999  2018-03-14 05:01:45   2018-04-02   \n",
       "4028      r4029     h_48      c_1000  2016-04-16 15:20:17   2016-05-10   \n",
       "4029      r4030    h_117      c_1000  2016-06-06 08:16:51   2016-07-06   \n",
       "\n",
       "     checkin_time checkout_date  people_num  total_price  \n",
       "0        10:00:00    2016-03-29           4        97200  \n",
       "1        11:30:00    2016-07-21           2        20600  \n",
       "2        09:00:00    2016-10-22           2        33600  \n",
       "3        11:00:00    2017-03-30           4       194400  \n",
       "4        10:30:00    2017-09-23           3        68100  \n",
       "...           ...           ...         ...          ...  \n",
       "4025     09:30:00    2017-07-11           2        16000  \n",
       "4026     10:30:00    2017-10-10           2        41800  \n",
       "4027     11:30:00    2018-04-04           2        74800  \n",
       "4028     09:30:00    2016-05-13           4       540000  \n",
       "4029     09:00:00    2016-07-09           1        44100  \n",
       "\n",
       "[4030 rows x 9 columns]"
      ]
     },
     "execution_count": 46,
     "metadata": {},
     "output_type": "execute_result"
    }
   ],
   "source": [
    "import pandas as pd\n",
    "import datetime as dt\n",
    "import time\n",
    "reserve_tb = pd.read_csv('reserve.csv')\n",
    "reserve_tb"
   ]
  },
  {
   "cell_type": "code",
   "execution_count": 47,
   "id": "f881bdc8",
   "metadata": {
    "scrolled": true
   },
   "outputs": [
    {
     "data": {
      "text/plain": [
       "0      2016-03-26 10:00:00\n",
       "1      2016-07-20 11:30:00\n",
       "2      2016-10-19 09:00:00\n",
       "3      2017-03-29 11:00:00\n",
       "4      2017-09-22 10:30:00\n",
       "               ...        \n",
       "4025   2017-07-10 09:30:00\n",
       "4026   2017-10-09 10:30:00\n",
       "4027   2018-04-02 11:30:00\n",
       "4028   2016-05-10 09:30:00\n",
       "4029   2016-07-06 09:00:00\n",
       "Length: 4030, dtype: datetime64[ns]"
      ]
     },
     "execution_count": 47,
     "metadata": {},
     "output_type": "execute_result"
    }
   ],
   "source": [
    "pd.to_datetime(reserve_tb['reserve_datetime'], format='%Y-%m-%d %H:%M:%S')\n",
    "pd.to_datetime(reserve_tb['checkin_date'] + reserve_tb['checkin_time'], format='%Y-%m-%d%H:%M:%S')"
   ]
  },
  {
   "cell_type": "markdown",
   "id": "4deba1d0",
   "metadata": {},
   "source": [
    "pandas의 to_datetime 함수를 통해 문자열로 되어있는 날짜를 datetime 형태의 자료형으로 바꾸어줍니다.\n",
    "\n",
    "그 다음 문자열끼리의 연산을 진행한 뒤, to_datetime 함수를 통해 datetime 형태의 자료로 바꾸어줍니다."
   ]
  },
  {
   "cell_type": "code",
   "execution_count": 48,
   "id": "636165e5",
   "metadata": {},
   "outputs": [
    {
     "data": {
      "text/plain": [
       "0       2016-03-26\n",
       "1       2016-07-20\n",
       "2       2016-10-19\n",
       "3       2017-03-29\n",
       "4       2017-09-22\n",
       "           ...    \n",
       "4025    2017-07-10\n",
       "4026    2017-10-09\n",
       "4027    2018-04-02\n",
       "4028    2016-05-10\n",
       "4029    2016-07-06\n",
       "Name: checkin_date, Length: 4030, dtype: object"
      ]
     },
     "execution_count": 48,
     "metadata": {},
     "output_type": "execute_result"
    }
   ],
   "source": [
    "import datetime as dt\n",
    "pd.to_datetime(reserve_tb['reserve_datetime'], format='%Y-%m-%d %H:%M:%S').dt.date\n",
    "pd.to_datetime(reserve_tb['checkin_date'], format='%Y-%m-%d').dt.date"
   ]
  },
  {
   "cell_type": "markdown",
   "id": "f6134fa0",
   "metadata": {},
   "source": [
    "datetime.date 함수를 통해 일시 정보에서 날짜 정보를 얻어낼 수 있습니다."
   ]
  },
  {
   "cell_type": "markdown",
   "id": "dfa124df",
   "metadata": {},
   "source": [
    "# 연, 월, 일, 시각, 분, 초, 요일로 변환"
   ]
  },
  {
   "cell_type": "code",
   "execution_count": 49,
   "id": "5b7bb48b",
   "metadata": {},
   "outputs": [
    {
     "data": {
      "text/plain": [
       "0      2016-03-06 13:09:42\n",
       "1      2016-07-16 23:39:55\n",
       "2      2016-09-24 10:03:17\n",
       "3      2017-03-08 03:20:10\n",
       "4      2017-09-05 19:50:37\n",
       "               ...        \n",
       "4025   2017-06-27 23:00:02\n",
       "4026   2017-09-29 05:24:57\n",
       "4027   2018-03-14 05:01:45\n",
       "4028   2016-04-16 15:20:17\n",
       "4029   2016-06-06 08:16:51\n",
       "Name: reserve_datetime, Length: 4030, dtype: datetime64[ns]"
      ]
     },
     "execution_count": 49,
     "metadata": {},
     "output_type": "execute_result"
    }
   ],
   "source": [
    "reserve_tb['reserve_datetime'] = pd.to_datetime(reserve_tb['reserve_datetime'], format='%Y-%m-%d %H:%M:%S')\n",
    "reserve_tb['reserve_datetime']"
   ]
  },
  {
   "cell_type": "code",
   "execution_count": 50,
   "id": "9127db54",
   "metadata": {},
   "outputs": [
    {
     "data": {
      "text/plain": [
       "0       2016\n",
       "1       2016\n",
       "2       2016\n",
       "3       2017\n",
       "4       2017\n",
       "        ... \n",
       "4025    2017\n",
       "4026    2017\n",
       "4027    2018\n",
       "4028    2016\n",
       "4029    2016\n",
       "Name: reserve_datetime, Length: 4030, dtype: int64"
      ]
     },
     "execution_count": 50,
     "metadata": {},
     "output_type": "execute_result"
    }
   ],
   "source": [
    "reserve_tb['reserve_datetime'].dt.year\n",
    "# 연도에 관한 정보"
   ]
  },
  {
   "cell_type": "code",
   "execution_count": 51,
   "id": "292fce43",
   "metadata": {},
   "outputs": [
    {
     "data": {
      "text/plain": [
       "0       3\n",
       "1       7\n",
       "2       9\n",
       "3       3\n",
       "4       9\n",
       "       ..\n",
       "4025    6\n",
       "4026    9\n",
       "4027    3\n",
       "4028    4\n",
       "4029    6\n",
       "Name: reserve_datetime, Length: 4030, dtype: int64"
      ]
     },
     "execution_count": 51,
     "metadata": {},
     "output_type": "execute_result"
    }
   ],
   "source": [
    "reserve_tb['reserve_datetime'].dt.month\n",
    "# 월에 관한 정보"
   ]
  },
  {
   "cell_type": "code",
   "execution_count": 52,
   "id": "67e07d2f",
   "metadata": {},
   "outputs": [
    {
     "data": {
      "text/plain": [
       "0        6\n",
       "1       16\n",
       "2       24\n",
       "3        8\n",
       "4        5\n",
       "        ..\n",
       "4025    27\n",
       "4026    29\n",
       "4027    14\n",
       "4028    16\n",
       "4029     6\n",
       "Name: reserve_datetime, Length: 4030, dtype: int64"
      ]
     },
     "execution_count": 52,
     "metadata": {},
     "output_type": "execute_result"
    }
   ],
   "source": [
    "reserve_tb['reserve_datetime'].dt.day\n",
    "# 일에 관한 정보"
   ]
  },
  {
   "cell_type": "code",
   "execution_count": 53,
   "id": "d8ff5265",
   "metadata": {},
   "outputs": [
    {
     "data": {
      "text/plain": [
       "0       6\n",
       "1       5\n",
       "2       5\n",
       "3       2\n",
       "4       1\n",
       "       ..\n",
       "4025    1\n",
       "4026    4\n",
       "4027    2\n",
       "4028    5\n",
       "4029    0\n",
       "Name: reserve_datetime, Length: 4030, dtype: int64"
      ]
     },
     "execution_count": 53,
     "metadata": {},
     "output_type": "execute_result"
    }
   ],
   "source": [
    "reserve_tb['reserve_datetime'].dt.dayofweek\n",
    "# 요일에 대한 정보를 수치로 얻기. 0 = 일요일, 1 = 월요일,..."
   ]
  },
  {
   "cell_type": "code",
   "execution_count": 54,
   "id": "4ec8f955",
   "metadata": {},
   "outputs": [
    {
     "data": {
      "text/plain": [
       "0       13\n",
       "1       23\n",
       "2       10\n",
       "3        3\n",
       "4       19\n",
       "        ..\n",
       "4025    23\n",
       "4026     5\n",
       "4027     5\n",
       "4028    15\n",
       "4029     8\n",
       "Name: reserve_datetime, Length: 4030, dtype: int64"
      ]
     },
     "execution_count": 54,
     "metadata": {},
     "output_type": "execute_result"
    }
   ],
   "source": [
    "reserve_tb['reserve_datetime'].dt.hour\n",
    "# 시간에 대한 정보 얻기(7시, 8시, ...)"
   ]
  },
  {
   "cell_type": "code",
   "execution_count": 55,
   "id": "fcb992fc",
   "metadata": {},
   "outputs": [
    {
     "data": {
      "text/plain": [
       "0        9\n",
       "1       39\n",
       "2        3\n",
       "3       20\n",
       "4       50\n",
       "        ..\n",
       "4025     0\n",
       "4026    24\n",
       "4027     1\n",
       "4028    20\n",
       "4029    16\n",
       "Name: reserve_datetime, Length: 4030, dtype: int64"
      ]
     },
     "execution_count": 55,
     "metadata": {},
     "output_type": "execute_result"
    }
   ],
   "source": [
    "reserve_tb['reserve_datetime'].dt.minute\n",
    "# 분에 대한 정보 얻기"
   ]
  },
  {
   "cell_type": "code",
   "execution_count": 56,
   "id": "dae4b455",
   "metadata": {},
   "outputs": [
    {
     "data": {
      "text/plain": [
       "0       42\n",
       "1       55\n",
       "2       17\n",
       "3       10\n",
       "4       37\n",
       "        ..\n",
       "4025     2\n",
       "4026    57\n",
       "4027    45\n",
       "4028    17\n",
       "4029    51\n",
       "Name: reserve_datetime, Length: 4030, dtype: int64"
      ]
     },
     "execution_count": 56,
     "metadata": {},
     "output_type": "execute_result"
    }
   ],
   "source": [
    "reserve_tb['reserve_datetime'].dt.second\n",
    "# 초에 대한 정보 얻기"
   ]
  },
  {
   "cell_type": "code",
   "execution_count": 57,
   "id": "136f9f79",
   "metadata": {},
   "outputs": [
    {
     "data": {
      "text/plain": [
       "0       2016-03-06 13:09:42\n",
       "1       2016-07-16 23:39:55\n",
       "2       2016-09-24 10:03:17\n",
       "3       2017-03-08 03:20:10\n",
       "4       2017-09-05 19:50:37\n",
       "               ...         \n",
       "4025    2017-06-27 23:00:02\n",
       "4026    2017-09-29 05:24:57\n",
       "4027    2018-03-14 05:01:45\n",
       "4028    2016-04-16 15:20:17\n",
       "4029    2016-06-06 08:16:51\n",
       "Name: reserve_datetime, Length: 4030, dtype: object"
      ]
     },
     "execution_count": 57,
     "metadata": {},
     "output_type": "execute_result"
    }
   ],
   "source": [
    "reserve_tb['reserve_datetime'].dt.strftime('%Y-%m-%d %H:%M:%S')"
   ]
  },
  {
   "cell_type": "markdown",
   "id": "9787464b",
   "metadata": {},
   "source": [
    "정리를 하자면, 그냥 to_datetime()만 써서 일자에 대한 정보로 바꾼 뒤, 다시 문자열로 전환할때는\n",
    "\n",
    "strftime('형식')으로 문자열로 바꾸어 주면 됩니다."
   ]
  },
  {
   "cell_type": "markdown",
   "id": "a252c4dc",
   "metadata": {},
   "source": [
    "# 일시의 차이로 변환\n",
    "일시의 차이를 구해야 하는 경우는 많습니다.\n",
    "\n",
    "그러나 차이의 정의를 분명하게 해야 합니다.\n",
    "\n",
    "예를들어 12:45:59 와 12:46:00 차이를 분 단위로 생각할때,\n",
    "\n",
    "초단위를 버리고 1분으로 할지, 초단위를 고려하여 소수점 단위의 분으로 만들지에 따라 다릅니다."
   ]
  },
  {
   "cell_type": "code",
   "execution_count": 58,
   "id": "23fd6f6b",
   "metadata": {},
   "outputs": [],
   "source": [
    "reserve_tb['reserve_datetime'] = pd.to_datetime(reserve_tb['reserve_datetime'], format='%Y-%m-%d %H:%M:%S')"
   ]
  },
  {
   "cell_type": "code",
   "execution_count": 59,
   "id": "48337262",
   "metadata": {},
   "outputs": [
    {
     "data": {
      "text/plain": [
       "0       2016-03-26\n",
       "1       2016-07-20\n",
       "2       2016-10-19\n",
       "3       2017-03-29\n",
       "4       2017-09-22\n",
       "           ...    \n",
       "4025    2017-07-10\n",
       "4026    2017-10-09\n",
       "4027    2018-04-02\n",
       "4028    2016-05-10\n",
       "4029    2016-07-06\n",
       "Name: checkin_date, Length: 4030, dtype: object"
      ]
     },
     "execution_count": 59,
     "metadata": {},
     "output_type": "execute_result"
    }
   ],
   "source": [
    "reserve_tb['checkin_datetime'] = pd.to_datetime(reserve_tb['checkin_date'] + reserve_tb['checkin_time'],\n",
    "                                           format='%Y-%m-%d%H:%M:%S')\n",
    "reserve_tb['checkin_date']"
   ]
  },
  {
   "cell_type": "markdown",
   "id": "fa51d367",
   "metadata": {},
   "source": [
    "문자열끼리 더해서 날짜를 변환할때는 format을 지정할때 %d와 %H가 붙여있는 상태여야 합니다.\n",
    "\n",
    "바로 위에 코드랑 비교하면 될 듯합니다."
   ]
  },
  {
   "cell_type": "code",
   "execution_count": 60,
   "id": "bd0288d5",
   "metadata": {},
   "outputs": [
    {
     "data": {
      "text/plain": [
       "0       0\n",
       "1       0\n",
       "2       0\n",
       "3       0\n",
       "4       0\n",
       "       ..\n",
       "4025    0\n",
       "4026    0\n",
       "4027    0\n",
       "4028    0\n",
       "4029    0\n",
       "Length: 4030, dtype: int64"
      ]
     },
     "execution_count": 60,
     "metadata": {},
     "output_type": "execute_result"
    }
   ],
   "source": [
    "reserve_tb['reserve_datetime'].dt.year - reserve_tb['checkin_datetime'].dt.year"
   ]
  },
  {
   "cell_type": "markdown",
   "id": "96126f85",
   "metadata": {},
   "source": [
    "날짜별 계산을 할때, datetime 형태의 자료형으로 변환뒤, 정보를 뽑아내어 연산을 합니다."
   ]
  },
  {
   "cell_type": "code",
   "execution_count": 61,
   "id": "d29a05d1",
   "metadata": {},
   "outputs": [
    {
     "data": {
      "text/plain": [
       "0       0\n",
       "1       0\n",
       "2       0\n",
       "3       0\n",
       "4       0\n",
       "       ..\n",
       "4025    0\n",
       "4026    0\n",
       "4027    0\n",
       "4028    0\n",
       "4029    0\n",
       "Length: 4030, dtype: int64"
      ]
     },
     "execution_count": 61,
     "metadata": {},
     "output_type": "execute_result"
    }
   ],
   "source": [
    "(reserve_tb['reserve_datetime'].dt.year * 12 + reserve_tb['reserve_datetime'].dt.month) -\\\n",
    "(reserve_tb['checkin_datetime'].dt.year * 12 + reserve_tb['reserve_datetime'].dt.month)"
   ]
  },
  {
   "cell_type": "code",
   "execution_count": 62,
   "id": "49005be0",
   "metadata": {},
   "outputs": [
    {
     "data": {
      "text/plain": [
       "0      -20 days +03:09:42\n",
       "1       -4 days +12:09:55\n",
       "2      -25 days +01:03:17\n",
       "3      -22 days +16:20:10\n",
       "4      -17 days +09:20:37\n",
       "              ...        \n",
       "4025   -13 days +13:30:02\n",
       "4026   -11 days +18:54:57\n",
       "4027   -20 days +17:31:45\n",
       "4028   -24 days +05:50:17\n",
       "4029   -31 days +23:16:51\n",
       "Length: 4030, dtype: timedelta64[ns]"
      ]
     },
     "execution_count": 62,
     "metadata": {},
     "output_type": "execute_result"
    }
   ],
   "source": [
    "(reserve_tb['reserve_datetime'] - reserve_tb['checkin_datetime'])"
   ]
  },
  {
   "cell_type": "code",
   "execution_count": 64,
   "id": "c5f30723",
   "metadata": {},
   "outputs": [
    {
     "data": {
      "text/plain": [
       "0      -20.0\n",
       "1       -4.0\n",
       "2      -25.0\n",
       "3      -22.0\n",
       "4      -17.0\n",
       "        ... \n",
       "4025   -13.0\n",
       "4026   -11.0\n",
       "4027   -20.0\n",
       "4028   -24.0\n",
       "4029   -31.0\n",
       "Length: 4030, dtype: float64"
      ]
     },
     "execution_count": 64,
     "metadata": {},
     "output_type": "execute_result"
    }
   ],
   "source": [
    "(reserve_tb['reserve_datetime'] - reserve_tb['checkin_datetime']).astype('timedelta64[D]')"
   ]
  },
  {
   "cell_type": "code",
   "execution_count": 65,
   "id": "8a964403",
   "metadata": {},
   "outputs": [
    {
     "data": {
      "text/plain": [
       "0      -477.0\n",
       "1       -84.0\n",
       "2      -599.0\n",
       "3      -512.0\n",
       "4      -399.0\n",
       "        ...  \n",
       "4025   -299.0\n",
       "4026   -246.0\n",
       "4027   -463.0\n",
       "4028   -571.0\n",
       "4029   -721.0\n",
       "Length: 4030, dtype: float64"
      ]
     },
     "execution_count": 65,
     "metadata": {},
     "output_type": "execute_result"
    }
   ],
   "source": [
    "(reserve_tb['reserve_datetime'] - reserve_tb['checkin_datetime']).astype('timedelta64[h]')"
   ]
  },
  {
   "cell_type": "code",
   "execution_count": 66,
   "id": "c46a8ac1",
   "metadata": {},
   "outputs": [
    {
     "data": {
      "text/plain": [
       "0      -28611.0\n",
       "1       -5031.0\n",
       "2      -35937.0\n",
       "3      -30700.0\n",
       "4      -23920.0\n",
       "         ...   \n",
       "4025   -17910.0\n",
       "4026   -14706.0\n",
       "4027   -27749.0\n",
       "4028   -34210.0\n",
       "4029   -43244.0\n",
       "Length: 4030, dtype: float64"
      ]
     },
     "execution_count": 66,
     "metadata": {},
     "output_type": "execute_result"
    }
   ],
   "source": [
    "(reserve_tb['reserve_datetime'] - reserve_tb['checkin_datetime']).astype('timedelta64[m]')"
   ]
  },
  {
   "cell_type": "code",
   "execution_count": 67,
   "id": "e43e6e59",
   "metadata": {},
   "outputs": [
    {
     "data": {
      "text/plain": [
       "0      -1716618.0\n",
       "1       -301805.0\n",
       "2      -2156203.0\n",
       "3      -1841990.0\n",
       "4      -1435163.0\n",
       "          ...    \n",
       "4025   -1074598.0\n",
       "4026    -882303.0\n",
       "4027   -1664895.0\n",
       "4028   -2052583.0\n",
       "4029   -2594589.0\n",
       "Length: 4030, dtype: float64"
      ]
     },
     "execution_count": 67,
     "metadata": {},
     "output_type": "execute_result"
    }
   ],
   "source": [
    "(reserve_tb['reserve_datetime'] - reserve_tb['checkin_datetime']).astype('timedelta64[s]')"
   ]
  },
  {
   "cell_type": "markdown",
   "id": "34fb0293",
   "metadata": {},
   "source": [
    "시간의 차이를 각각 일수, 시간, 분, 초 단위로 계산합니다.\n",
    "\n",
    "datetime으로 바꾸어졌으므로, 시간 단위의 연산이 가능합니다."
   ]
  },
  {
   "cell_type": "markdown",
   "id": "b3b76fb7",
   "metadata": {},
   "source": [
    "# 일시형의 증감\n",
    "데이터를 분석할때 특정 날짜를 계산해야하는 경우가 생깁니다.\n",
    "\n",
    "예를들어 2021.07.09로 부터 30일 전까지 날짜를 계산하는 경우입니다.\n",
    "\n",
    "연, 월을 사용할경우 조건에 따라 코드 길이가 달라지므로, 일을 선택하는 것이 좋습니다."
   ]
  },
  {
   "cell_type": "code",
   "execution_count": 69,
   "id": "2f80f6e7",
   "metadata": {},
   "outputs": [
    {
     "data": {
      "text/plain": [
       "0      2016-03-06 13:09:42\n",
       "1      2016-07-16 23:39:55\n",
       "2      2016-09-24 10:03:17\n",
       "3      2017-03-08 03:20:10\n",
       "4      2017-09-05 19:50:37\n",
       "               ...        \n",
       "4025   2017-06-27 23:00:02\n",
       "4026   2017-09-29 05:24:57\n",
       "4027   2018-03-14 05:01:45\n",
       "4028   2016-04-16 15:20:17\n",
       "4029   2016-06-06 08:16:51\n",
       "Name: reserve_datetime, Length: 4030, dtype: datetime64[ns]"
      ]
     },
     "execution_count": 69,
     "metadata": {},
     "output_type": "execute_result"
    }
   ],
   "source": [
    "reserve_tb['reserve_datetime'] = pd.to_datetime(reserve_tb['reserve_datetime'], format='%Y-%m-%d %H:%M:%S')\n",
    "reserve_tb['reserve_datetime']"
   ]
  },
  {
   "cell_type": "code",
   "execution_count": 70,
   "id": "74b23d0e",
   "metadata": {},
   "outputs": [
    {
     "data": {
      "text/plain": [
       "0       2016-03-06\n",
       "1       2016-07-16\n",
       "2       2016-09-24\n",
       "3       2017-03-08\n",
       "4       2017-09-05\n",
       "           ...    \n",
       "4025    2017-06-27\n",
       "4026    2017-09-29\n",
       "4027    2018-03-14\n",
       "4028    2016-04-16\n",
       "4029    2016-06-06\n",
       "Name: reserve_date, Length: 4030, dtype: object"
      ]
     },
     "execution_count": 70,
     "metadata": {},
     "output_type": "execute_result"
    }
   ],
   "source": [
    "reserve_tb['reserve_date'] = reserve_tb['reserve_datetime'].dt.date\n",
    "reserve_tb['reserve_date']"
   ]
  },
  {
   "cell_type": "code",
   "execution_count": 71,
   "id": "ee9c5f23",
   "metadata": {},
   "outputs": [
    {
     "data": {
      "text/plain": [
       "0      2016-03-07 13:09:42\n",
       "1      2016-07-17 23:39:55\n",
       "2      2016-09-25 10:03:17\n",
       "3      2017-03-09 03:20:10\n",
       "4      2017-09-06 19:50:37\n",
       "               ...        \n",
       "4025   2017-06-28 23:00:02\n",
       "4026   2017-09-30 05:24:57\n",
       "4027   2018-03-15 05:01:45\n",
       "4028   2016-04-17 15:20:17\n",
       "4029   2016-06-07 08:16:51\n",
       "Name: reserve_datetime, Length: 4030, dtype: datetime64[ns]"
      ]
     },
     "execution_count": 71,
     "metadata": {},
     "output_type": "execute_result"
    }
   ],
   "source": [
    "reserve_tb['reserve_datetime'] + dt.timedelta(days = 1)"
   ]
  },
  {
   "cell_type": "code",
   "execution_count": 72,
   "id": "a5a9a583",
   "metadata": {},
   "outputs": [
    {
     "data": {
      "text/plain": [
       "0       2016-03-07\n",
       "1       2016-07-17\n",
       "2       2016-09-25\n",
       "3       2017-03-09\n",
       "4       2017-09-06\n",
       "           ...    \n",
       "4025    2017-06-28\n",
       "4026    2017-09-30\n",
       "4027    2018-03-15\n",
       "4028    2016-04-17\n",
       "4029    2016-06-07\n",
       "Name: reserve_date, Length: 4030, dtype: object"
      ]
     },
     "execution_count": 72,
     "metadata": {},
     "output_type": "execute_result"
    }
   ],
   "source": [
    "reserve_tb['reserve_date'] + dt.timedelta(days = 1)"
   ]
  },
  {
   "cell_type": "code",
   "execution_count": 73,
   "id": "b351d69f",
   "metadata": {},
   "outputs": [
    {
     "data": {
      "text/plain": [
       "0      2016-03-06 14:09:42\n",
       "1      2016-07-17 00:39:55\n",
       "2      2016-09-24 11:03:17\n",
       "3      2017-03-08 04:20:10\n",
       "4      2017-09-05 20:50:37\n",
       "               ...        \n",
       "4025   2017-06-28 00:00:02\n",
       "4026   2017-09-29 06:24:57\n",
       "4027   2018-03-14 06:01:45\n",
       "4028   2016-04-16 16:20:17\n",
       "4029   2016-06-06 09:16:51\n",
       "Name: reserve_datetime, Length: 4030, dtype: datetime64[ns]"
      ]
     },
     "execution_count": 73,
     "metadata": {},
     "output_type": "execute_result"
    }
   ],
   "source": [
    "reserve_tb['reserve_datetime'] + dt.timedelta(hours = 1)"
   ]
  },
  {
   "cell_type": "code",
   "execution_count": 74,
   "id": "4a0bee55",
   "metadata": {},
   "outputs": [
    {
     "data": {
      "text/plain": [
       "0       2016-03-06\n",
       "1       2016-07-16\n",
       "2       2016-09-24\n",
       "3       2017-03-08\n",
       "4       2017-09-05\n",
       "           ...    \n",
       "4025    2017-06-27\n",
       "4026    2017-09-29\n",
       "4027    2018-03-14\n",
       "4028    2016-04-16\n",
       "4029    2016-06-06\n",
       "Name: reserve_date, Length: 4030, dtype: object"
      ]
     },
     "execution_count": 74,
     "metadata": {},
     "output_type": "execute_result"
    }
   ],
   "source": [
    "reserve_tb['reserve_date'] + dt.timedelta(hours = 1)"
   ]
  },
  {
   "cell_type": "code",
   "execution_count": 75,
   "id": "8f7015ae",
   "metadata": {},
   "outputs": [
    {
     "data": {
      "text/plain": [
       "0      2016-03-06 13:10:42\n",
       "1      2016-07-16 23:40:55\n",
       "2      2016-09-24 10:04:17\n",
       "3      2017-03-08 03:21:10\n",
       "4      2017-09-05 19:51:37\n",
       "               ...        \n",
       "4025   2017-06-27 23:01:02\n",
       "4026   2017-09-29 05:25:57\n",
       "4027   2018-03-14 05:02:45\n",
       "4028   2016-04-16 15:21:17\n",
       "4029   2016-06-06 08:17:51\n",
       "Name: reserve_datetime, Length: 4030, dtype: datetime64[ns]"
      ]
     },
     "execution_count": 75,
     "metadata": {},
     "output_type": "execute_result"
    }
   ],
   "source": [
    "reserve_tb['reserve_datetime'] + dt.timedelta(minutes = 1)"
   ]
  },
  {
   "cell_type": "code",
   "execution_count": 76,
   "id": "2f697c8c",
   "metadata": {},
   "outputs": [
    {
     "data": {
      "text/plain": [
       "0      2016-03-06 13:09:43\n",
       "1      2016-07-16 23:39:56\n",
       "2      2016-09-24 10:03:18\n",
       "3      2017-03-08 03:20:11\n",
       "4      2017-09-05 19:50:38\n",
       "               ...        \n",
       "4025   2017-06-27 23:00:03\n",
       "4026   2017-09-29 05:24:58\n",
       "4027   2018-03-14 05:01:46\n",
       "4028   2016-04-16 15:20:18\n",
       "4029   2016-06-06 08:16:52\n",
       "Name: reserve_datetime, Length: 4030, dtype: datetime64[ns]"
      ]
     },
     "execution_count": 76,
     "metadata": {},
     "output_type": "execute_result"
    }
   ],
   "source": [
    "reserve_tb['reserve_datetime'] + dt.timedelta(seconds = 1)"
   ]
  },
  {
   "cell_type": "code",
   "execution_count": 77,
   "id": "76f44b6b",
   "metadata": {},
   "outputs": [
    {
     "data": {
      "text/plain": [
       "0      2016-03-13 13:09:42\n",
       "1      2016-07-23 23:39:55\n",
       "2      2016-10-01 10:03:17\n",
       "3      2017-03-15 03:20:10\n",
       "4      2017-09-12 19:50:37\n",
       "               ...        \n",
       "4025   2017-07-04 23:00:02\n",
       "4026   2017-10-06 05:24:57\n",
       "4027   2018-03-21 05:01:45\n",
       "4028   2016-04-23 15:20:17\n",
       "4029   2016-06-13 08:16:51\n",
       "Name: reserve_datetime, Length: 4030, dtype: datetime64[ns]"
      ]
     },
     "execution_count": 77,
     "metadata": {},
     "output_type": "execute_result"
    }
   ],
   "source": [
    "reserve_tb['reserve_datetime'] + dt.timedelta(weeks = 1)"
   ]
  },
  {
   "cell_type": "markdown",
   "id": "790137bb",
   "metadata": {},
   "source": [
    "핵심은 datetime형으로 변환한 뒤, datetime.timedelta 함수로 정해저있는 시간간격을 더하고 뺄 수 있다는 것입니다."
   ]
  },
  {
   "cell_type": "markdown",
   "id": "e93ded2e",
   "metadata": {},
   "source": [
    "# 계절로 변환\n",
    "아이스크림의 매출은 여름에 제일 높을 것입니다.\n",
    "\n",
    "이와같이 계절별로 분석을 하는 경우가 도움이 많이 될 수도 있습니다.\n",
    "\n",
    "그러나 계절로 변환한다는 것이 범주화 한다는 것인데,\n",
    "\n",
    "이사는 보통 4월, 10월 이전에 많이 하는데, 이는 봄과 가을에 많이 한다는 것은 아닙니다.\n",
    "\n",
    "따라서 범주화 할때 주의 하여야 합니다."
   ]
  },
  {
   "cell_type": "code",
   "execution_count": 78,
   "id": "bfb3647d",
   "metadata": {},
   "outputs": [
    {
     "data": {
      "text/plain": [
       "0      2016-03-06 13:09:42\n",
       "1      2016-07-16 23:39:55\n",
       "2      2016-09-24 10:03:17\n",
       "3      2017-03-08 03:20:10\n",
       "4      2017-09-05 19:50:37\n",
       "               ...        \n",
       "4025   2017-06-27 23:00:02\n",
       "4026   2017-09-29 05:24:57\n",
       "4027   2018-03-14 05:01:45\n",
       "4028   2016-04-16 15:20:17\n",
       "4029   2016-06-06 08:16:51\n",
       "Name: reserve_datetime, Length: 4030, dtype: datetime64[ns]"
      ]
     },
     "execution_count": 78,
     "metadata": {},
     "output_type": "execute_result"
    }
   ],
   "source": [
    "reserve_tb['reserve_datetime'] = pd.to_datetime(reserve_tb['reserve_datetime'], format='%Y-%m-%d %H:%M:%S')\n",
    "reserve_tb['reserve_datetime']"
   ]
  },
  {
   "cell_type": "code",
   "execution_count": 79,
   "id": "962d297b",
   "metadata": {},
   "outputs": [],
   "source": [
    "def to_season(month_num):\n",
    "    season = 'winter'\n",
    "    if 3 <= month_num <= 5:\n",
    "        season = 'spring'\n",
    "    elif 6 <= month_num <= 8:\n",
    "        season = 'summer'\n",
    "    elif 9 <= month_num <= 11:\n",
    "        season = 'autumn'\n",
    "    \n",
    "    return season"
   ]
  },
  {
   "cell_type": "code",
   "execution_count": 80,
   "id": "ce7580d8",
   "metadata": {},
   "outputs": [
    {
     "data": {
      "text/plain": [
       "0       spring\n",
       "1       summer\n",
       "2       autumn\n",
       "3       spring\n",
       "4       autumn\n",
       "         ...  \n",
       "4025    summer\n",
       "4026    autumn\n",
       "4027    spring\n",
       "4028    spring\n",
       "4029    summer\n",
       "Name: reserve_season, Length: 4030, dtype: category\n",
       "Categories (4, object): ['spring', 'summer', 'autumn', 'winter']"
      ]
     },
     "execution_count": 80,
     "metadata": {},
     "output_type": "execute_result"
    }
   ],
   "source": [
    "reserve_tb['reserve_season'] = pd.Categorical(\n",
    "reserve_tb['reserve_datetime'].dt.month.apply(to_season),\n",
    "categories=['spring', 'summer', 'autumn', 'winter'])\n",
    "reserve_tb['reserve_season']"
   ]
  },
  {
   "cell_type": "markdown",
   "id": "9908446b",
   "metadata": {},
   "source": [
    "여기서 핵심은 범주화 할 수 있는 것을 찾고, Categorical 함수를 통해 범주화를 했다는 것입니다.\n",
    "\n",
    "계절로 범주화 하는 함수는 없고, 우리가 함수를 정의한뒤, apply를 통해 계절로 바꾸어주었습니다.\n",
    "\n",
    "다른 접근을 하자면, 커피의 경우도 오전, 오후, 저녁 이렇게 나누어 매출을 비교하는 등 시간대로 변환을\n",
    "\n",
    "할 수 있습니다."
   ]
  },
  {
   "cell_type": "code",
   "execution_count": 82,
   "id": "418fec67",
   "metadata": {},
   "outputs": [
    {
     "data": {
      "text/html": [
       "<div>\n",
       "<style scoped>\n",
       "    .dataframe tbody tr th:only-of-type {\n",
       "        vertical-align: middle;\n",
       "    }\n",
       "\n",
       "    .dataframe tbody tr th {\n",
       "        vertical-align: top;\n",
       "    }\n",
       "\n",
       "    .dataframe thead th {\n",
       "        text-align: right;\n",
       "    }\n",
       "</style>\n",
       "<table border=\"1\" class=\"dataframe\">\n",
       "  <thead>\n",
       "    <tr style=\"text-align: right;\">\n",
       "      <th></th>\n",
       "      <th>target_day</th>\n",
       "      <th>holidayday_flg</th>\n",
       "      <th>nextday_is_holiday_flg</th>\n",
       "    </tr>\n",
       "  </thead>\n",
       "  <tbody>\n",
       "    <tr>\n",
       "      <th>0</th>\n",
       "      <td>2016-01-01</td>\n",
       "      <td>True</td>\n",
       "      <td>True</td>\n",
       "    </tr>\n",
       "    <tr>\n",
       "      <th>1</th>\n",
       "      <td>2016-01-02</td>\n",
       "      <td>True</td>\n",
       "      <td>True</td>\n",
       "    </tr>\n",
       "    <tr>\n",
       "      <th>2</th>\n",
       "      <td>2016-01-03</td>\n",
       "      <td>True</td>\n",
       "      <td>False</td>\n",
       "    </tr>\n",
       "    <tr>\n",
       "      <th>3</th>\n",
       "      <td>2016-01-04</td>\n",
       "      <td>False</td>\n",
       "      <td>False</td>\n",
       "    </tr>\n",
       "    <tr>\n",
       "      <th>4</th>\n",
       "      <td>2016-01-05</td>\n",
       "      <td>False</td>\n",
       "      <td>False</td>\n",
       "    </tr>\n",
       "    <tr>\n",
       "      <th>...</th>\n",
       "      <td>...</td>\n",
       "      <td>...</td>\n",
       "      <td>...</td>\n",
       "    </tr>\n",
       "    <tr>\n",
       "      <th>1181</th>\n",
       "      <td>2019-03-27</td>\n",
       "      <td>False</td>\n",
       "      <td>False</td>\n",
       "    </tr>\n",
       "    <tr>\n",
       "      <th>1182</th>\n",
       "      <td>2019-03-28</td>\n",
       "      <td>False</td>\n",
       "      <td>False</td>\n",
       "    </tr>\n",
       "    <tr>\n",
       "      <th>1183</th>\n",
       "      <td>2019-03-29</td>\n",
       "      <td>False</td>\n",
       "      <td>True</td>\n",
       "    </tr>\n",
       "    <tr>\n",
       "      <th>1184</th>\n",
       "      <td>2019-03-30</td>\n",
       "      <td>True</td>\n",
       "      <td>True</td>\n",
       "    </tr>\n",
       "    <tr>\n",
       "      <th>1185</th>\n",
       "      <td>2019-03-31</td>\n",
       "      <td>True</td>\n",
       "      <td>False</td>\n",
       "    </tr>\n",
       "  </tbody>\n",
       "</table>\n",
       "<p>1186 rows × 3 columns</p>\n",
       "</div>"
      ],
      "text/plain": [
       "      target_day  holidayday_flg  nextday_is_holiday_flg\n",
       "0     2016-01-01            True                    True\n",
       "1     2016-01-02            True                    True\n",
       "2     2016-01-03            True                   False\n",
       "3     2016-01-04           False                   False\n",
       "4     2016-01-05           False                   False\n",
       "...          ...             ...                     ...\n",
       "1181  2019-03-27           False                   False\n",
       "1182  2019-03-28           False                   False\n",
       "1183  2019-03-29           False                    True\n",
       "1184  2019-03-30            True                    True\n",
       "1185  2019-03-31            True                   False\n",
       "\n",
       "[1186 rows x 3 columns]"
      ]
     },
     "execution_count": 82,
     "metadata": {},
     "output_type": "execute_result"
    }
   ],
   "source": [
    "holiday_mst = pd.read_csv('holiday_mst.csv')\n",
    "holiday_mst"
   ]
  },
  {
   "cell_type": "code",
   "execution_count": 83,
   "id": "efd82548",
   "metadata": {},
   "outputs": [
    {
     "data": {
      "text/html": [
       "<div>\n",
       "<style scoped>\n",
       "    .dataframe tbody tr th:only-of-type {\n",
       "        vertical-align: middle;\n",
       "    }\n",
       "\n",
       "    .dataframe tbody tr th {\n",
       "        vertical-align: top;\n",
       "    }\n",
       "\n",
       "    .dataframe thead th {\n",
       "        text-align: right;\n",
       "    }\n",
       "</style>\n",
       "<table border=\"1\" class=\"dataframe\">\n",
       "  <thead>\n",
       "    <tr style=\"text-align: right;\">\n",
       "      <th></th>\n",
       "      <th>reserve_id</th>\n",
       "      <th>hotel_id</th>\n",
       "      <th>customer_id</th>\n",
       "      <th>reserve_datetime</th>\n",
       "      <th>checkin_date</th>\n",
       "      <th>checkin_time</th>\n",
       "      <th>checkout_date</th>\n",
       "      <th>people_num</th>\n",
       "      <th>total_price</th>\n",
       "      <th>checkin_datetime</th>\n",
       "      <th>reserve_date</th>\n",
       "      <th>reserve_season</th>\n",
       "      <th>target_day</th>\n",
       "      <th>holidayday_flg</th>\n",
       "      <th>nextday_is_holiday_flg</th>\n",
       "    </tr>\n",
       "  </thead>\n",
       "  <tbody>\n",
       "    <tr>\n",
       "      <th>0</th>\n",
       "      <td>r1</td>\n",
       "      <td>h_75</td>\n",
       "      <td>c_1</td>\n",
       "      <td>2016-03-06 13:09:42</td>\n",
       "      <td>2016-03-26</td>\n",
       "      <td>10:00:00</td>\n",
       "      <td>2016-03-29</td>\n",
       "      <td>4</td>\n",
       "      <td>97200</td>\n",
       "      <td>2016-03-26 10:00:00</td>\n",
       "      <td>2016-03-06</td>\n",
       "      <td>spring</td>\n",
       "      <td>2016-03-26</td>\n",
       "      <td>True</td>\n",
       "      <td>True</td>\n",
       "    </tr>\n",
       "    <tr>\n",
       "      <th>1</th>\n",
       "      <td>r1269</td>\n",
       "      <td>h_138</td>\n",
       "      <td>c_309</td>\n",
       "      <td>2016-03-14 13:57:45</td>\n",
       "      <td>2016-03-26</td>\n",
       "      <td>11:30:00</td>\n",
       "      <td>2016-03-29</td>\n",
       "      <td>4</td>\n",
       "      <td>115200</td>\n",
       "      <td>2016-03-26 11:30:00</td>\n",
       "      <td>2016-03-14</td>\n",
       "      <td>spring</td>\n",
       "      <td>2016-03-26</td>\n",
       "      <td>True</td>\n",
       "      <td>True</td>\n",
       "    </tr>\n",
       "    <tr>\n",
       "      <th>2</th>\n",
       "      <td>r2192</td>\n",
       "      <td>h_267</td>\n",
       "      <td>c_547</td>\n",
       "      <td>2016-03-21 09:23:13</td>\n",
       "      <td>2016-03-26</td>\n",
       "      <td>11:00:00</td>\n",
       "      <td>2016-03-27</td>\n",
       "      <td>2</td>\n",
       "      <td>19600</td>\n",
       "      <td>2016-03-26 11:00:00</td>\n",
       "      <td>2016-03-21</td>\n",
       "      <td>spring</td>\n",
       "      <td>2016-03-26</td>\n",
       "      <td>True</td>\n",
       "      <td>True</td>\n",
       "    </tr>\n",
       "    <tr>\n",
       "      <th>3</th>\n",
       "      <td>r2288</td>\n",
       "      <td>h_144</td>\n",
       "      <td>c_574</td>\n",
       "      <td>2016-03-05 23:44:17</td>\n",
       "      <td>2016-03-26</td>\n",
       "      <td>12:30:00</td>\n",
       "      <td>2016-03-28</td>\n",
       "      <td>3</td>\n",
       "      <td>60000</td>\n",
       "      <td>2016-03-26 12:30:00</td>\n",
       "      <td>2016-03-05</td>\n",
       "      <td>spring</td>\n",
       "      <td>2016-03-26</td>\n",
       "      <td>True</td>\n",
       "      <td>True</td>\n",
       "    </tr>\n",
       "    <tr>\n",
       "      <th>4</th>\n",
       "      <td>r2987</td>\n",
       "      <td>h_230</td>\n",
       "      <td>c_754</td>\n",
       "      <td>2016-03-21 07:00:01</td>\n",
       "      <td>2016-03-26</td>\n",
       "      <td>10:00:00</td>\n",
       "      <td>2016-03-27</td>\n",
       "      <td>2</td>\n",
       "      <td>34800</td>\n",
       "      <td>2016-03-26 10:00:00</td>\n",
       "      <td>2016-03-21</td>\n",
       "      <td>spring</td>\n",
       "      <td>2016-03-26</td>\n",
       "      <td>True</td>\n",
       "      <td>True</td>\n",
       "    </tr>\n",
       "    <tr>\n",
       "      <th>...</th>\n",
       "      <td>...</td>\n",
       "      <td>...</td>\n",
       "      <td>...</td>\n",
       "      <td>...</td>\n",
       "      <td>...</td>\n",
       "      <td>...</td>\n",
       "      <td>...</td>\n",
       "      <td>...</td>\n",
       "      <td>...</td>\n",
       "      <td>...</td>\n",
       "      <td>...</td>\n",
       "      <td>...</td>\n",
       "      <td>...</td>\n",
       "      <td>...</td>\n",
       "      <td>...</td>\n",
       "    </tr>\n",
       "    <tr>\n",
       "      <th>4025</th>\n",
       "      <td>r3904</td>\n",
       "      <td>h_240</td>\n",
       "      <td>c_970</td>\n",
       "      <td>2018-04-10 10:01:59</td>\n",
       "      <td>2018-04-10</td>\n",
       "      <td>12:00:00</td>\n",
       "      <td>2018-04-13</td>\n",
       "      <td>4</td>\n",
       "      <td>320400</td>\n",
       "      <td>2018-04-10 12:00:00</td>\n",
       "      <td>2018-04-10</td>\n",
       "      <td>spring</td>\n",
       "      <td>2018-04-10</td>\n",
       "      <td>False</td>\n",
       "      <td>False</td>\n",
       "    </tr>\n",
       "    <tr>\n",
       "      <th>4026</th>\n",
       "      <td>r3905</td>\n",
       "      <td>h_230</td>\n",
       "      <td>c_970</td>\n",
       "      <td>2018-07-02 01:37:45</td>\n",
       "      <td>2018-07-24</td>\n",
       "      <td>12:30:00</td>\n",
       "      <td>2018-07-25</td>\n",
       "      <td>3</td>\n",
       "      <td>52200</td>\n",
       "      <td>2018-07-24 12:30:00</td>\n",
       "      <td>2018-07-02</td>\n",
       "      <td>summer</td>\n",
       "      <td>2018-07-24</td>\n",
       "      <td>False</td>\n",
       "      <td>False</td>\n",
       "    </tr>\n",
       "    <tr>\n",
       "      <th>4027</th>\n",
       "      <td>r3936</td>\n",
       "      <td>h_46</td>\n",
       "      <td>c_979</td>\n",
       "      <td>2018-09-10 05:48:22</td>\n",
       "      <td>2018-10-02</td>\n",
       "      <td>12:00:00</td>\n",
       "      <td>2018-10-05</td>\n",
       "      <td>3</td>\n",
       "      <td>166500</td>\n",
       "      <td>2018-10-02 12:00:00</td>\n",
       "      <td>2018-09-10</td>\n",
       "      <td>autumn</td>\n",
       "      <td>2018-10-02</td>\n",
       "      <td>False</td>\n",
       "      <td>False</td>\n",
       "    </tr>\n",
       "    <tr>\n",
       "      <th>4028</th>\n",
       "      <td>r3959</td>\n",
       "      <td>h_93</td>\n",
       "      <td>c_983</td>\n",
       "      <td>2018-02-16 11:01:40</td>\n",
       "      <td>2018-03-15</td>\n",
       "      <td>11:00:00</td>\n",
       "      <td>2018-03-17</td>\n",
       "      <td>3</td>\n",
       "      <td>58800</td>\n",
       "      <td>2018-03-15 11:00:00</td>\n",
       "      <td>2018-02-16</td>\n",
       "      <td>winter</td>\n",
       "      <td>2018-03-15</td>\n",
       "      <td>False</td>\n",
       "      <td>False</td>\n",
       "    </tr>\n",
       "    <tr>\n",
       "      <th>4029</th>\n",
       "      <td>r4020</td>\n",
       "      <td>h_243</td>\n",
       "      <td>c_996</td>\n",
       "      <td>2018-04-22 20:41:29</td>\n",
       "      <td>2018-05-21</td>\n",
       "      <td>12:00:00</td>\n",
       "      <td>2018-05-22</td>\n",
       "      <td>2</td>\n",
       "      <td>55400</td>\n",
       "      <td>2018-05-21 12:00:00</td>\n",
       "      <td>2018-04-22</td>\n",
       "      <td>spring</td>\n",
       "      <td>2018-05-21</td>\n",
       "      <td>False</td>\n",
       "      <td>False</td>\n",
       "    </tr>\n",
       "  </tbody>\n",
       "</table>\n",
       "<p>4030 rows × 15 columns</p>\n",
       "</div>"
      ],
      "text/plain": [
       "     reserve_id hotel_id customer_id    reserve_datetime checkin_date  \\\n",
       "0            r1     h_75         c_1 2016-03-06 13:09:42   2016-03-26   \n",
       "1         r1269    h_138       c_309 2016-03-14 13:57:45   2016-03-26   \n",
       "2         r2192    h_267       c_547 2016-03-21 09:23:13   2016-03-26   \n",
       "3         r2288    h_144       c_574 2016-03-05 23:44:17   2016-03-26   \n",
       "4         r2987    h_230       c_754 2016-03-21 07:00:01   2016-03-26   \n",
       "...         ...      ...         ...                 ...          ...   \n",
       "4025      r3904    h_240       c_970 2018-04-10 10:01:59   2018-04-10   \n",
       "4026      r3905    h_230       c_970 2018-07-02 01:37:45   2018-07-24   \n",
       "4027      r3936     h_46       c_979 2018-09-10 05:48:22   2018-10-02   \n",
       "4028      r3959     h_93       c_983 2018-02-16 11:01:40   2018-03-15   \n",
       "4029      r4020    h_243       c_996 2018-04-22 20:41:29   2018-05-21   \n",
       "\n",
       "     checkin_time checkout_date  people_num  total_price    checkin_datetime  \\\n",
       "0        10:00:00    2016-03-29           4        97200 2016-03-26 10:00:00   \n",
       "1        11:30:00    2016-03-29           4       115200 2016-03-26 11:30:00   \n",
       "2        11:00:00    2016-03-27           2        19600 2016-03-26 11:00:00   \n",
       "3        12:30:00    2016-03-28           3        60000 2016-03-26 12:30:00   \n",
       "4        10:00:00    2016-03-27           2        34800 2016-03-26 10:00:00   \n",
       "...           ...           ...         ...          ...                 ...   \n",
       "4025     12:00:00    2018-04-13           4       320400 2018-04-10 12:00:00   \n",
       "4026     12:30:00    2018-07-25           3        52200 2018-07-24 12:30:00   \n",
       "4027     12:00:00    2018-10-05           3       166500 2018-10-02 12:00:00   \n",
       "4028     11:00:00    2018-03-17           3        58800 2018-03-15 11:00:00   \n",
       "4029     12:00:00    2018-05-22           2        55400 2018-05-21 12:00:00   \n",
       "\n",
       "     reserve_date reserve_season  target_day  holidayday_flg  \\\n",
       "0      2016-03-06         spring  2016-03-26            True   \n",
       "1      2016-03-14         spring  2016-03-26            True   \n",
       "2      2016-03-21         spring  2016-03-26            True   \n",
       "3      2016-03-05         spring  2016-03-26            True   \n",
       "4      2016-03-21         spring  2016-03-26            True   \n",
       "...           ...            ...         ...             ...   \n",
       "4025   2018-04-10         spring  2018-04-10           False   \n",
       "4026   2018-07-02         summer  2018-07-24           False   \n",
       "4027   2018-09-10         autumn  2018-10-02           False   \n",
       "4028   2018-02-16         winter  2018-03-15           False   \n",
       "4029   2018-04-22         spring  2018-05-21           False   \n",
       "\n",
       "      nextday_is_holiday_flg  \n",
       "0                       True  \n",
       "1                       True  \n",
       "2                       True  \n",
       "3                       True  \n",
       "4                       True  \n",
       "...                      ...  \n",
       "4025                   False  \n",
       "4026                   False  \n",
       "4027                   False  \n",
       "4028                   False  \n",
       "4029                   False  \n",
       "\n",
       "[4030 rows x 15 columns]"
      ]
     },
     "execution_count": 83,
     "metadata": {},
     "output_type": "execute_result"
    }
   ],
   "source": [
    "pd.merge(reserve_tb, holiday_mst, left_on='checkin_date', right_on='target_day')"
   ]
  },
  {
   "cell_type": "markdown",
   "id": "cc4fd5f4",
   "metadata": {},
   "source": [
    "호텔 예약의 경우 평일만 하냐, 주말도 있냐에 따라 예약의 길이가 달라집니다.\n",
    "\n",
    "그래서 holiday_mst 자료를 병합하여 휴일인지 휴일아닌지 표시를 하였습니다."
   ]
  }
 ],
 "metadata": {
  "kernelspec": {
   "display_name": "Python 3",
   "language": "python",
   "name": "python3"
  },
  "language_info": {
   "codemirror_mode": {
    "name": "ipython",
    "version": 3
   },
   "file_extension": ".py",
   "mimetype": "text/x-python",
   "name": "python",
   "nbconvert_exporter": "python",
   "pygments_lexer": "ipython3",
   "version": "3.8.10"
  }
 },
 "nbformat": 4,
 "nbformat_minor": 5
}
