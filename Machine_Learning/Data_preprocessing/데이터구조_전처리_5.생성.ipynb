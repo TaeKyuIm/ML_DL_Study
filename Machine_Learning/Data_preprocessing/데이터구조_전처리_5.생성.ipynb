{
 "cells": [
  {
   "cell_type": "markdown",
   "id": "33892d2d",
   "metadata": {},
   "source": [
    "## 6장 생성\n",
    "데이터가 불균형할 경우 데이터를 조정해야하는데, 데이터를 생성해야 합니다.\n",
    "데이터가 불균형하다는 것의 의미는 a랑 b로 구분을 해야하는데, 전체가 100만개인데, b상태는 100건정도 되는 경우랑 비슷하게 생각할 수 있습니다.\n",
    "따라서 조정을 하는 방법은 첫번째가 가중치 부여가 있고, 두번째가 데이터를 변경하는 방법이 있는데, 가중치 부여는 머신러닝 특성에 따라 다르고, 사용하기 까다로워, 따로 소개는 안하겠습니다.\n",
    "\n",
    "데이터를 변경하는 방법에는 언더샘플링, 오버샘플링이 있는데, 언더샘플링의 경우 데이터를 줄이는 작업이므로, 데이터를 선택하는 방법만 고려하면 되므로, 전의 내용(결합, 분할)에서 사용한 방법으로 구현이 가능합니다.\n",
    "그러나 언더샘플링은 데이터를 걸러서 정보를 적게 만드므로, 되도록 사용안하는 것이 좋습니다."
   ]
  },
  {
   "cell_type": "markdown",
   "id": "aba1ab14",
   "metadata": {},
   "source": [
    "# 오버샘플링으로 데이터 불균형 조정"
   ]
  },
  {
   "cell_type": "markdown",
   "id": "a8759317",
   "metadata": {},
   "source": [
    "오버샘플링은 원본 데이터에서 새로운 데이터를 생성하는 방법입니다.\n",
    "그중 하나의 방법은 랜덤 샘플링으로 원래의 데이터 수보다 많은 데이터를 추출하는 것입니다.\n",
    "그러나 똑같은 데이터가 생성되기 때문에, 과적합이 발생할 수 있습니다.\n",
    "이를 해결하기 위해 오버샘플링 기법으로 'SMOTE'가 있습니다.\n",
    "원리는 적기 힘드므로, 단순히 다수의 데이터를 복사하는 오버샘플링 보다는 어느정도 좋습니다.\n",
    "그러나 SMOTE는 직선차원(2차원)에서 샘플링 하므로, 차수가 클 경우(3차원, 4차원) 언더샘플링과 배깅을 조합하는 것이 좋습니다.\n",
    "\n",
    "배깅에는 랜덤 포레스트 등의 머신러닝 기법이 해당됩니다."
   ]
  },
  {
   "cell_type": "code",
   "execution_count": 1,
   "id": "fa1984d1",
   "metadata": {},
   "outputs": [],
   "source": [
    "from imblearn.over_sampling import SMOTE\n",
    "import pandas as pd\n",
    "sm = SMOTE(sampling_strategy='auto', k_neighbors=5, random_state=71)"
   ]
  },
  {
   "cell_type": "code",
   "execution_count": 2,
   "id": "3646f703",
   "metadata": {
    "scrolled": true
   },
   "outputs": [
    {
     "data": {
      "text/html": [
       "<div>\n",
       "<style scoped>\n",
       "    .dataframe tbody tr th:only-of-type {\n",
       "        vertical-align: middle;\n",
       "    }\n",
       "\n",
       "    .dataframe tbody tr th {\n",
       "        vertical-align: top;\n",
       "    }\n",
       "\n",
       "    .dataframe thead th {\n",
       "        text-align: right;\n",
       "    }\n",
       "</style>\n",
       "<table border=\"1\" class=\"dataframe\">\n",
       "  <thead>\n",
       "    <tr style=\"text-align: right;\">\n",
       "      <th></th>\n",
       "      <th>type</th>\n",
       "      <th>length</th>\n",
       "      <th>thickness</th>\n",
       "      <th>fault_flg</th>\n",
       "    </tr>\n",
       "  </thead>\n",
       "  <tbody>\n",
       "    <tr>\n",
       "      <th>0</th>\n",
       "      <td>E</td>\n",
       "      <td>274.027383</td>\n",
       "      <td>40.241131</td>\n",
       "      <td>False</td>\n",
       "    </tr>\n",
       "    <tr>\n",
       "      <th>1</th>\n",
       "      <td>D</td>\n",
       "      <td>86.319269</td>\n",
       "      <td>16.906715</td>\n",
       "      <td>False</td>\n",
       "    </tr>\n",
       "    <tr>\n",
       "      <th>2</th>\n",
       "      <td>E</td>\n",
       "      <td>123.940388</td>\n",
       "      <td>1.018462</td>\n",
       "      <td>False</td>\n",
       "    </tr>\n",
       "    <tr>\n",
       "      <th>3</th>\n",
       "      <td>B</td>\n",
       "      <td>175.554886</td>\n",
       "      <td>16.414924</td>\n",
       "      <td>False</td>\n",
       "    </tr>\n",
       "    <tr>\n",
       "      <th>4</th>\n",
       "      <td>B</td>\n",
       "      <td>244.934740</td>\n",
       "      <td>29.061081</td>\n",
       "      <td>False</td>\n",
       "    </tr>\n",
       "    <tr>\n",
       "      <th>...</th>\n",
       "      <td>...</td>\n",
       "      <td>...</td>\n",
       "      <td>...</td>\n",
       "      <td>...</td>\n",
       "    </tr>\n",
       "    <tr>\n",
       "      <th>995</th>\n",
       "      <td>C</td>\n",
       "      <td>363.214163</td>\n",
       "      <td>48.369483</td>\n",
       "      <td>False</td>\n",
       "    </tr>\n",
       "    <tr>\n",
       "      <th>996</th>\n",
       "      <td>D</td>\n",
       "      <td>134.773797</td>\n",
       "      <td>26.861665</td>\n",
       "      <td>False</td>\n",
       "    </tr>\n",
       "    <tr>\n",
       "      <th>997</th>\n",
       "      <td>B</td>\n",
       "      <td>231.174985</td>\n",
       "      <td>7.087471</td>\n",
       "      <td>False</td>\n",
       "    </tr>\n",
       "    <tr>\n",
       "      <th>998</th>\n",
       "      <td>D</td>\n",
       "      <td>81.613510</td>\n",
       "      <td>5.716271</td>\n",
       "      <td>False</td>\n",
       "    </tr>\n",
       "    <tr>\n",
       "      <th>999</th>\n",
       "      <td>C</td>\n",
       "      <td>202.010973</td>\n",
       "      <td>35.211647</td>\n",
       "      <td>True</td>\n",
       "    </tr>\n",
       "  </tbody>\n",
       "</table>\n",
       "<p>1000 rows × 4 columns</p>\n",
       "</div>"
      ],
      "text/plain": [
       "    type      length  thickness  fault_flg\n",
       "0      E  274.027383  40.241131      False\n",
       "1      D   86.319269  16.906715      False\n",
       "2      E  123.940388   1.018462      False\n",
       "3      B  175.554886  16.414924      False\n",
       "4      B  244.934740  29.061081      False\n",
       "..   ...         ...        ...        ...\n",
       "995    C  363.214163  48.369483      False\n",
       "996    D  134.773797  26.861665      False\n",
       "997    B  231.174985   7.087471      False\n",
       "998    D   81.613510   5.716271      False\n",
       "999    C  202.010973  35.211647       True\n",
       "\n",
       "[1000 rows x 4 columns]"
      ]
     },
     "execution_count": 2,
     "metadata": {},
     "output_type": "execute_result"
    }
   ],
   "source": [
    "production_tb = pd.read_csv('C:/Users/User/daejeon/production.csv')\n",
    "production_tb"
   ]
  },
  {
   "cell_type": "code",
   "execution_count": 3,
   "id": "125aa951",
   "metadata": {},
   "outputs": [
    {
     "data": {
      "text/html": [
       "<div>\n",
       "<style scoped>\n",
       "    .dataframe tbody tr th:only-of-type {\n",
       "        vertical-align: middle;\n",
       "    }\n",
       "\n",
       "    .dataframe tbody tr th {\n",
       "        vertical-align: top;\n",
       "    }\n",
       "\n",
       "    .dataframe thead th {\n",
       "        text-align: right;\n",
       "    }\n",
       "</style>\n",
       "<table border=\"1\" class=\"dataframe\">\n",
       "  <thead>\n",
       "    <tr style=\"text-align: right;\">\n",
       "      <th></th>\n",
       "      <th>length</th>\n",
       "      <th>thickness</th>\n",
       "    </tr>\n",
       "  </thead>\n",
       "  <tbody>\n",
       "    <tr>\n",
       "      <th>0</th>\n",
       "      <td>274.027383</td>\n",
       "      <td>40.241131</td>\n",
       "    </tr>\n",
       "    <tr>\n",
       "      <th>1</th>\n",
       "      <td>86.319269</td>\n",
       "      <td>16.906715</td>\n",
       "    </tr>\n",
       "    <tr>\n",
       "      <th>2</th>\n",
       "      <td>123.940388</td>\n",
       "      <td>1.018462</td>\n",
       "    </tr>\n",
       "    <tr>\n",
       "      <th>3</th>\n",
       "      <td>175.554886</td>\n",
       "      <td>16.414924</td>\n",
       "    </tr>\n",
       "    <tr>\n",
       "      <th>4</th>\n",
       "      <td>244.934740</td>\n",
       "      <td>29.061081</td>\n",
       "    </tr>\n",
       "    <tr>\n",
       "      <th>...</th>\n",
       "      <td>...</td>\n",
       "      <td>...</td>\n",
       "    </tr>\n",
       "    <tr>\n",
       "      <th>1891</th>\n",
       "      <td>83.027175</td>\n",
       "      <td>12.307428</td>\n",
       "    </tr>\n",
       "    <tr>\n",
       "      <th>1892</th>\n",
       "      <td>76.554335</td>\n",
       "      <td>9.363658</td>\n",
       "    </tr>\n",
       "    <tr>\n",
       "      <th>1893</th>\n",
       "      <td>80.078486</td>\n",
       "      <td>10.566607</td>\n",
       "    </tr>\n",
       "    <tr>\n",
       "      <th>1894</th>\n",
       "      <td>115.081638</td>\n",
       "      <td>6.771068</td>\n",
       "    </tr>\n",
       "    <tr>\n",
       "      <th>1895</th>\n",
       "      <td>98.229626</td>\n",
       "      <td>1.371432</td>\n",
       "    </tr>\n",
       "  </tbody>\n",
       "</table>\n",
       "<p>1896 rows × 2 columns</p>\n",
       "</div>"
      ],
      "text/plain": [
       "          length  thickness\n",
       "0     274.027383  40.241131\n",
       "1      86.319269  16.906715\n",
       "2     123.940388   1.018462\n",
       "3     175.554886  16.414924\n",
       "4     244.934740  29.061081\n",
       "...          ...        ...\n",
       "1891   83.027175  12.307428\n",
       "1892   76.554335   9.363658\n",
       "1893   80.078486  10.566607\n",
       "1894  115.081638   6.771068\n",
       "1895   98.229626   1.371432\n",
       "\n",
       "[1896 rows x 2 columns]"
      ]
     },
     "execution_count": 3,
     "metadata": {},
     "output_type": "execute_result"
    }
   ],
   "source": [
    "balance_data, balance_target = sm.fit_resample(production_tb[['length', 'thickness']],\n",
    "                                            production_tb['fault_flg'])\n",
    "\n",
    "balance_data"
   ]
  },
  {
   "cell_type": "code",
   "execution_count": 4,
   "id": "ce92172d",
   "metadata": {},
   "outputs": [
    {
     "data": {
      "text/plain": [
       "False    0.5\n",
       "True     0.5\n",
       "Name: fault_flg, dtype: float64"
      ]
     },
     "execution_count": 4,
     "metadata": {},
     "output_type": "execute_result"
    }
   ],
   "source": [
    "balance_target.value_counts(True)"
   ]
  },
  {
   "cell_type": "markdown",
   "id": "655bf491",
   "metadata": {},
   "source": [
    "sm 객체를 통해 SMOTE 기법이 적용되는 객체를 만들고, fit_resample을 통해 오버샘플링을 적용합니다.\n",
    "이때 fit_resample(x, y)에서 간단히 설명하자면,\n",
    "여기서 length, thickness 보고 fault_flg를 예측하여야 하는데,\n",
    "x 자리에는 length, thickness y 자리에는 fault_flg 를 넣으시면 됩니다."
   ]
  }
 ],
 "metadata": {
  "kernelspec": {
   "display_name": "Python 3",
   "language": "python",
   "name": "python3"
  },
  "language_info": {
   "codemirror_mode": {
    "name": "ipython",
    "version": 3
   },
   "file_extension": ".py",
   "mimetype": "text/x-python",
   "name": "python",
   "nbconvert_exporter": "python",
   "pygments_lexer": "ipython3",
   "version": "3.8.10"
  }
 },
 "nbformat": 4,
 "nbformat_minor": 5
}
