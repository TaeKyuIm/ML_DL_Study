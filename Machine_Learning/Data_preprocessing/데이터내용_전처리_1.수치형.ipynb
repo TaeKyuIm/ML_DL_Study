{
 "cells": [
  {
   "cell_type": "markdown",
   "id": "2648371d",
   "metadata": {},
   "source": [
    "## 8장 수치형\n",
    "데이터 분석에서 보통 수치형의 자료를 많이 다룹니다."
   ]
  },
  {
   "cell_type": "markdown",
   "id": "c8aee0c6",
   "metadata": {},
   "source": [
    "# 수치형 데이터로 변환\n",
    "수치형 연산의 경우 같은 정수형이여도 부동 소수점 등의 자료가 있어 변환을 통해 통일을 해주어야 합니다.\n",
    "예를들어 숙박 인원은 정수형이지만, 평균 숙박 인원은 소수점이 나올 수 있습니다."
   ]
  },
  {
   "cell_type": "code",
   "execution_count": 1,
   "id": "0390f100",
   "metadata": {},
   "outputs": [
    {
     "data": {
      "text/plain": [
       "float"
      ]
     },
     "execution_count": 1,
     "metadata": {},
     "output_type": "execute_result"
    }
   ],
   "source": [
    "type(40000/3)\n",
    "# 자료형을 확인"
   ]
  },
  {
   "cell_type": "code",
   "execution_count": 2,
   "id": "ba03b046",
   "metadata": {},
   "outputs": [
    {
     "data": {
      "text/plain": [
       "13333"
      ]
     },
     "execution_count": 2,
     "metadata": {},
     "output_type": "execute_result"
    }
   ],
   "source": [
    "int(40000/3)\n",
    "# 정수형으로 변환"
   ]
  },
  {
   "cell_type": "code",
   "execution_count": 3,
   "id": "eb9f2643",
   "metadata": {},
   "outputs": [
    {
     "data": {
      "text/plain": [
       "13333.333333333334"
      ]
     },
     "execution_count": 3,
     "metadata": {},
     "output_type": "execute_result"
    }
   ],
   "source": [
    "float(40000/3)\n",
    "# 부동 소수점형으로 변환"
   ]
  },
  {
   "cell_type": "code",
   "execution_count": 4,
   "id": "43084b13",
   "metadata": {
    "scrolled": true
   },
   "outputs": [
    {
     "data": {
      "text/html": [
       "<div>\n",
       "<style scoped>\n",
       "    .dataframe tbody tr th:only-of-type {\n",
       "        vertical-align: middle;\n",
       "    }\n",
       "\n",
       "    .dataframe tbody tr th {\n",
       "        vertical-align: top;\n",
       "    }\n",
       "\n",
       "    .dataframe thead th {\n",
       "        text-align: right;\n",
       "    }\n",
       "</style>\n",
       "<table border=\"1\" class=\"dataframe\">\n",
       "  <thead>\n",
       "    <tr style=\"text-align: right;\">\n",
       "      <th></th>\n",
       "      <th>value</th>\n",
       "    </tr>\n",
       "  </thead>\n",
       "  <tbody>\n",
       "    <tr>\n",
       "      <th>0</th>\n",
       "      <td>13333.333333</td>\n",
       "    </tr>\n",
       "  </tbody>\n",
       "</table>\n",
       "</div>"
      ],
      "text/plain": [
       "          value\n",
       "0  13333.333333"
      ]
     },
     "execution_count": 4,
     "metadata": {},
     "output_type": "execute_result"
    }
   ],
   "source": [
    "import pandas as pd\n",
    "df = pd.DataFrame({'value' : [40000/3]})\n",
    "df"
   ]
  },
  {
   "cell_type": "code",
   "execution_count": 5,
   "id": "7b42f870",
   "metadata": {},
   "outputs": [
    {
     "data": {
      "text/plain": [
       "value    float64\n",
       "dtype: object"
      ]
     },
     "execution_count": 5,
     "metadata": {},
     "output_type": "execute_result"
    }
   ],
   "source": [
    "df.dtypes\n",
    "# 자료형 확인"
   ]
  },
  {
   "cell_type": "markdown",
   "id": "04974d11",
   "metadata": {},
   "source": [
    "책에는 내용이 더 있지만, 기초 내용이여서 이정도만 적습니다."
   ]
  },
  {
   "cell_type": "markdown",
   "id": "c9c080c2",
   "metadata": {},
   "source": [
    "# 대수화를 이용한 비선형 변화"
   ]
  },
  {
   "cell_type": "markdown",
   "id": "7ed0b6ee",
   "metadata": {},
   "source": [
    "선형은 말그대로 y = ax + b 처럼 일차원의 직선 모델로 가정하고, a, b 값을 찾는 것을 뜻합니다.\n",
    "\n",
    "그러나 대부분의 사회현상은 비선형 모델입니다. 따라서 그중 많이 설명되는 것이 지수형태의 모델입니다.\n",
    "\n",
    "그러나 지수형태 모델같은 비선형 모델은 연산에 많은 메모리가 필요합니다.\n",
    "\n",
    "따라서 수학에서 이러한 지수형의 모델을 선형화 시키기 위한 도입한 방법이 바로 log입니다.\n",
    "\n",
    "즉 로그를 통해 곱하기 연산을 더하기로 바꾸어 줄 수 있고, y = ax^n 의 모델을\n",
    "\n",
    "log y = log a + n log x\n",
    "\n",
    "log y 에 Y, log x 에 X를 대입하면\n",
    "\n",
    "Y = log a + nX 비선형 모델도 선형화 시켜 해석이 가능합니다."
   ]
  },
  {
   "cell_type": "code",
   "execution_count": 6,
   "id": "b6b25f23",
   "metadata": {},
   "outputs": [],
   "source": [
    "import numpy as np\n",
    "# 파이썬에서 수학적인 해석을 위해선 numpy 라이브러리가 필요로 합니다."
   ]
  },
  {
   "cell_type": "code",
   "execution_count": 7,
   "id": "3efae55e",
   "metadata": {},
   "outputs": [
    {
     "data": {
      "text/html": [
       "<div>\n",
       "<style scoped>\n",
       "    .dataframe tbody tr th:only-of-type {\n",
       "        vertical-align: middle;\n",
       "    }\n",
       "\n",
       "    .dataframe tbody tr th {\n",
       "        vertical-align: top;\n",
       "    }\n",
       "\n",
       "    .dataframe thead th {\n",
       "        text-align: right;\n",
       "    }\n",
       "</style>\n",
       "<table border=\"1\" class=\"dataframe\">\n",
       "  <thead>\n",
       "    <tr style=\"text-align: right;\">\n",
       "      <th></th>\n",
       "      <th>reserve_id</th>\n",
       "      <th>hotel_id</th>\n",
       "      <th>customer_id</th>\n",
       "      <th>reserve_datetime</th>\n",
       "      <th>checkin_date</th>\n",
       "      <th>checkin_time</th>\n",
       "      <th>checkout_date</th>\n",
       "      <th>people_num</th>\n",
       "      <th>total_price</th>\n",
       "    </tr>\n",
       "  </thead>\n",
       "  <tbody>\n",
       "    <tr>\n",
       "      <th>0</th>\n",
       "      <td>r1</td>\n",
       "      <td>h_75</td>\n",
       "      <td>c_1</td>\n",
       "      <td>2016-03-06 13:09:42</td>\n",
       "      <td>2016-03-26</td>\n",
       "      <td>10:00:00</td>\n",
       "      <td>2016-03-29</td>\n",
       "      <td>4</td>\n",
       "      <td>97200</td>\n",
       "    </tr>\n",
       "    <tr>\n",
       "      <th>1</th>\n",
       "      <td>r2</td>\n",
       "      <td>h_219</td>\n",
       "      <td>c_1</td>\n",
       "      <td>2016-07-16 23:39:55</td>\n",
       "      <td>2016-07-20</td>\n",
       "      <td>11:30:00</td>\n",
       "      <td>2016-07-21</td>\n",
       "      <td>2</td>\n",
       "      <td>20600</td>\n",
       "    </tr>\n",
       "    <tr>\n",
       "      <th>2</th>\n",
       "      <td>r3</td>\n",
       "      <td>h_179</td>\n",
       "      <td>c_1</td>\n",
       "      <td>2016-09-24 10:03:17</td>\n",
       "      <td>2016-10-19</td>\n",
       "      <td>09:00:00</td>\n",
       "      <td>2016-10-22</td>\n",
       "      <td>2</td>\n",
       "      <td>33600</td>\n",
       "    </tr>\n",
       "    <tr>\n",
       "      <th>3</th>\n",
       "      <td>r4</td>\n",
       "      <td>h_214</td>\n",
       "      <td>c_1</td>\n",
       "      <td>2017-03-08 03:20:10</td>\n",
       "      <td>2017-03-29</td>\n",
       "      <td>11:00:00</td>\n",
       "      <td>2017-03-30</td>\n",
       "      <td>4</td>\n",
       "      <td>194400</td>\n",
       "    </tr>\n",
       "    <tr>\n",
       "      <th>4</th>\n",
       "      <td>r5</td>\n",
       "      <td>h_16</td>\n",
       "      <td>c_1</td>\n",
       "      <td>2017-09-05 19:50:37</td>\n",
       "      <td>2017-09-22</td>\n",
       "      <td>10:30:00</td>\n",
       "      <td>2017-09-23</td>\n",
       "      <td>3</td>\n",
       "      <td>68100</td>\n",
       "    </tr>\n",
       "    <tr>\n",
       "      <th>...</th>\n",
       "      <td>...</td>\n",
       "      <td>...</td>\n",
       "      <td>...</td>\n",
       "      <td>...</td>\n",
       "      <td>...</td>\n",
       "      <td>...</td>\n",
       "      <td>...</td>\n",
       "      <td>...</td>\n",
       "      <td>...</td>\n",
       "    </tr>\n",
       "    <tr>\n",
       "      <th>4025</th>\n",
       "      <td>r4026</td>\n",
       "      <td>h_129</td>\n",
       "      <td>c_999</td>\n",
       "      <td>2017-06-27 23:00:02</td>\n",
       "      <td>2017-07-10</td>\n",
       "      <td>09:30:00</td>\n",
       "      <td>2017-07-11</td>\n",
       "      <td>2</td>\n",
       "      <td>16000</td>\n",
       "    </tr>\n",
       "    <tr>\n",
       "      <th>4026</th>\n",
       "      <td>r4027</td>\n",
       "      <td>h_97</td>\n",
       "      <td>c_999</td>\n",
       "      <td>2017-09-29 05:24:57</td>\n",
       "      <td>2017-10-09</td>\n",
       "      <td>10:30:00</td>\n",
       "      <td>2017-10-10</td>\n",
       "      <td>2</td>\n",
       "      <td>41800</td>\n",
       "    </tr>\n",
       "    <tr>\n",
       "      <th>4027</th>\n",
       "      <td>r4028</td>\n",
       "      <td>h_27</td>\n",
       "      <td>c_999</td>\n",
       "      <td>2018-03-14 05:01:45</td>\n",
       "      <td>2018-04-02</td>\n",
       "      <td>11:30:00</td>\n",
       "      <td>2018-04-04</td>\n",
       "      <td>2</td>\n",
       "      <td>74800</td>\n",
       "    </tr>\n",
       "    <tr>\n",
       "      <th>4028</th>\n",
       "      <td>r4029</td>\n",
       "      <td>h_48</td>\n",
       "      <td>c_1000</td>\n",
       "      <td>2016-04-16 15:20:17</td>\n",
       "      <td>2016-05-10</td>\n",
       "      <td>09:30:00</td>\n",
       "      <td>2016-05-13</td>\n",
       "      <td>4</td>\n",
       "      <td>540000</td>\n",
       "    </tr>\n",
       "    <tr>\n",
       "      <th>4029</th>\n",
       "      <td>r4030</td>\n",
       "      <td>h_117</td>\n",
       "      <td>c_1000</td>\n",
       "      <td>2016-06-06 08:16:51</td>\n",
       "      <td>2016-07-06</td>\n",
       "      <td>09:00:00</td>\n",
       "      <td>2016-07-09</td>\n",
       "      <td>1</td>\n",
       "      <td>44100</td>\n",
       "    </tr>\n",
       "  </tbody>\n",
       "</table>\n",
       "<p>4030 rows × 9 columns</p>\n",
       "</div>"
      ],
      "text/plain": [
       "     reserve_id hotel_id customer_id     reserve_datetime checkin_date  \\\n",
       "0            r1     h_75         c_1  2016-03-06 13:09:42   2016-03-26   \n",
       "1            r2    h_219         c_1  2016-07-16 23:39:55   2016-07-20   \n",
       "2            r3    h_179         c_1  2016-09-24 10:03:17   2016-10-19   \n",
       "3            r4    h_214         c_1  2017-03-08 03:20:10   2017-03-29   \n",
       "4            r5     h_16         c_1  2017-09-05 19:50:37   2017-09-22   \n",
       "...         ...      ...         ...                  ...          ...   \n",
       "4025      r4026    h_129       c_999  2017-06-27 23:00:02   2017-07-10   \n",
       "4026      r4027     h_97       c_999  2017-09-29 05:24:57   2017-10-09   \n",
       "4027      r4028     h_27       c_999  2018-03-14 05:01:45   2018-04-02   \n",
       "4028      r4029     h_48      c_1000  2016-04-16 15:20:17   2016-05-10   \n",
       "4029      r4030    h_117      c_1000  2016-06-06 08:16:51   2016-07-06   \n",
       "\n",
       "     checkin_time checkout_date  people_num  total_price  \n",
       "0        10:00:00    2016-03-29           4        97200  \n",
       "1        11:30:00    2016-07-21           2        20600  \n",
       "2        09:00:00    2016-10-22           2        33600  \n",
       "3        11:00:00    2017-03-30           4       194400  \n",
       "4        10:30:00    2017-09-23           3        68100  \n",
       "...           ...           ...         ...          ...  \n",
       "4025     09:30:00    2017-07-11           2        16000  \n",
       "4026     10:30:00    2017-10-10           2        41800  \n",
       "4027     11:30:00    2018-04-04           2        74800  \n",
       "4028     09:30:00    2016-05-13           4       540000  \n",
       "4029     09:00:00    2016-07-09           1        44100  \n",
       "\n",
       "[4030 rows x 9 columns]"
      ]
     },
     "execution_count": 7,
     "metadata": {},
     "output_type": "execute_result"
    }
   ],
   "source": [
    "reserve_tb = pd.read_csv('reserve.csv')\n",
    "reserve_tb"
   ]
  },
  {
   "cell_type": "code",
   "execution_count": 8,
   "id": "f16707d2",
   "metadata": {},
   "outputs": [
    {
     "data": {
      "text/plain": [
       "0       1.992111\n",
       "1       1.334454\n",
       "2       1.539076\n",
       "3       2.290925\n",
       "4       1.839478\n",
       "          ...   \n",
       "4025    1.230449\n",
       "4026    1.631444\n",
       "4027    1.879669\n",
       "4028    2.733197\n",
       "4029    1.654177\n",
       "Name: total_price_log, Length: 4030, dtype: float64"
      ]
     },
     "execution_count": 8,
     "metadata": {},
     "output_type": "execute_result"
    }
   ],
   "source": [
    "reserve_tb['total_price_log'] = reserve_tb['total_price'].apply(lambda x : np.log10(x / 1000 + 1))\n",
    "reserve_tb['total_price_log']"
   ]
  },
  {
   "cell_type": "markdown",
   "id": "868d5dfa",
   "metadata": {},
   "source": [
    "# 범주화를 이용한 비선형 변화\n",
    "키 성장을 예를 들겠습니다.\n",
    "\n",
    "어릴때는 키가 빠르게 자라고, 점점 줄어들다가 어느 순간부터 정지할 것입니다.\n",
    "\n",
    "위에 대수화는 계속 일정한 n 으로 자란다고 가정한 것입니다.\n",
    "\n",
    "그러나 몇몇 경우에는 케이스에 따라 n을 다르게 적용 해야 합니다.\n",
    "\n",
    "그러나 범주화를 자세하게 할 경우 표현해야할 경우 처리 비용이 늘고, 패턴또한 기하적으로 늘어날 것입니다.\n",
    "\n",
    "이를 해결하기 위한 방법이 범주 플래그를 할때 if/elif/else 구문처럼\n",
    "\n",
    "범주 수에서 범주 플래그를 하나 줄이는 것입니다.\n",
    "\n",
    "예를들어 키 성장에서 연령을\n",
    "\n",
    "0-9, 10-19, 20세 이상에서 0-9, 10-19 만 생각을 하면 됩니다.\n",
    "\n",
    "두개 다 아닐경우 자동으로 20세 이상이기 때문입니다."
   ]
  },
  {
   "cell_type": "code",
   "execution_count": 9,
   "id": "4aec4354",
   "metadata": {},
   "outputs": [
    {
     "name": "stderr",
     "output_type": "stream",
     "text": [
      "C:\\Users\\User\\anaconda3\\lib\\site-packages\\pandas\\io\\formats\\format.py:1405: FutureWarning: Index.ravel returning ndarray is deprecated; in a future version this will return a view on self.\n",
      "  for val, m in zip(values.ravel(), mask.ravel())\n"
     ]
    },
    {
     "data": {
      "text/plain": [
       "0      40.0\n",
       "1      30.0\n",
       "2      40.0\n",
       "3      40.0\n",
       "4      30.0\n",
       "       ... \n",
       "995    40.0\n",
       "996    30.0\n",
       "997    30.0\n",
       "998    40.0\n",
       "999    30.0\n",
       "Name: age_rank, Length: 1000, dtype: category\n",
       "Categories (7, float64): [20.0, 30.0, 40.0, 50.0, 60.0, 70.0, 80.0]"
      ]
     },
     "execution_count": 9,
     "metadata": {},
     "output_type": "execute_result"
    }
   ],
   "source": [
    "customer_tb = pd.read_csv('customer.csv')\n",
    "customer_tb['age_rank'] = (np.floor(customer_tb['age']/10) * 10).astype('category')\n",
    "customer_tb['age_rank']"
   ]
  },
  {
   "cell_type": "markdown",
   "id": "72848f2c",
   "metadata": {},
   "source": [
    "넘파이의 floor함수는 매개변수의 소수점 이하 자리수를 버리고, 매개변수 이하의 최대정수를 변환합니다.\n",
    "예를들어 floor(15.4)는 15를 반환하고, floor(-3.4)는 -4를 반환합니다.\n",
    "astype은 자료형을 변환하는 pandas의 함수입니다. 매개변수에 category를 지정하면, 판다스의 라이브러리의 범주형으로 변환됩니다.\n",
    "여기서 우리가 가질 수 있는 값을 직접 지정을 해주려면, pandas.Categorical 함수를 이용합니다."
   ]
  },
  {
   "cell_type": "markdown",
   "id": "cc31fc5b",
   "metadata": {},
   "source": [
    "# 정규화\n",
    "머신러닝에서 입력값이 가질 수 있는 범위가 크게 달라지면 큰 문제가 생깁니다.\n",
    "\n",
    "분류 작업에서 데이터의 차이가 클 경우 큰 열의 영향이 강합니다.\n",
    "\n",
    "연산을 통해 같은 위치에 있는 서로 다른 데이터에 대해 같은 영향력이 같도록 보정을 해줍니다."
   ]
  },
  {
   "cell_type": "code",
   "execution_count": 10,
   "id": "033facd9",
   "metadata": {},
   "outputs": [
    {
     "data": {
      "text/plain": [
       "array([[ 1.30070909, -0.05319398],\n",
       "       [-0.48375308, -0.74782231],\n",
       "       [-0.48375308, -0.62993499],\n",
       "       ...,\n",
       "       [-0.48375308, -0.25632289],\n",
       "       [ 1.30070909,  3.96222931],\n",
       "       [-1.37598416, -0.53471832]])"
      ]
     },
     "execution_count": 10,
     "metadata": {},
     "output_type": "execute_result"
    }
   ],
   "source": [
    "from sklearn.preprocessing import StandardScaler\n",
    "\n",
    "reserve_tb['people_num'] = reserve_tb['people_num'].astype(float)\n",
    "# 정규화의 경우 필연적으로 소수점이 나올예정이므로 실수형태 자료로 자료를 변환해주어야 합니다.\n",
    "ss = StandardScaler()\n",
    "\n",
    "result = ss.fit_transform(reserve_tb[['people_num', 'total_price']])\n",
    "result"
   ]
  },
  {
   "cell_type": "markdown",
   "id": "6a5da88a",
   "metadata": {},
   "source": [
    "StandardScaler 함수는 앞서 말한 가우스 분포로의 정규화를 하는 함수입니다.\n",
    "\n",
    "그 다음 정규화를 하는 객체 ss를 선언한 후, fit_transform()을 통해\n",
    "\n",
    "people_num 과 total_price column에 대해 정규화를 하였습니다."
   ]
  },
  {
   "cell_type": "code",
   "execution_count": 11,
   "id": "3a841b25",
   "metadata": {},
   "outputs": [
    {
     "data": {
      "text/html": [
       "<div>\n",
       "<style scoped>\n",
       "    .dataframe tbody tr th:only-of-type {\n",
       "        vertical-align: middle;\n",
       "    }\n",
       "\n",
       "    .dataframe tbody tr th {\n",
       "        vertical-align: top;\n",
       "    }\n",
       "\n",
       "    .dataframe thead th {\n",
       "        text-align: right;\n",
       "    }\n",
       "</style>\n",
       "<table border=\"1\" class=\"dataframe\">\n",
       "  <thead>\n",
       "    <tr style=\"text-align: right;\">\n",
       "      <th></th>\n",
       "      <th>people_normalized</th>\n",
       "      <th>total_price_normalized</th>\n",
       "    </tr>\n",
       "  </thead>\n",
       "  <tbody>\n",
       "    <tr>\n",
       "      <th>0</th>\n",
       "      <td>1.300709</td>\n",
       "      <td>-0.053194</td>\n",
       "    </tr>\n",
       "    <tr>\n",
       "      <th>1</th>\n",
       "      <td>-0.483753</td>\n",
       "      <td>-0.747822</td>\n",
       "    </tr>\n",
       "    <tr>\n",
       "      <th>2</th>\n",
       "      <td>-0.483753</td>\n",
       "      <td>-0.629935</td>\n",
       "    </tr>\n",
       "    <tr>\n",
       "      <th>3</th>\n",
       "      <td>1.300709</td>\n",
       "      <td>0.828240</td>\n",
       "    </tr>\n",
       "    <tr>\n",
       "      <th>4</th>\n",
       "      <td>0.408478</td>\n",
       "      <td>-0.317080</td>\n",
       "    </tr>\n",
       "    <tr>\n",
       "      <th>...</th>\n",
       "      <td>...</td>\n",
       "      <td>...</td>\n",
       "    </tr>\n",
       "    <tr>\n",
       "      <th>4025</th>\n",
       "      <td>-0.483753</td>\n",
       "      <td>-0.789536</td>\n",
       "    </tr>\n",
       "    <tr>\n",
       "      <th>4026</th>\n",
       "      <td>-0.483753</td>\n",
       "      <td>-0.555575</td>\n",
       "    </tr>\n",
       "    <tr>\n",
       "      <th>4027</th>\n",
       "      <td>-0.483753</td>\n",
       "      <td>-0.256323</td>\n",
       "    </tr>\n",
       "    <tr>\n",
       "      <th>4028</th>\n",
       "      <td>1.300709</td>\n",
       "      <td>3.962229</td>\n",
       "    </tr>\n",
       "    <tr>\n",
       "      <th>4029</th>\n",
       "      <td>-1.375984</td>\n",
       "      <td>-0.534718</td>\n",
       "    </tr>\n",
       "  </tbody>\n",
       "</table>\n",
       "<p>4030 rows × 2 columns</p>\n",
       "</div>"
      ],
      "text/plain": [
       "      people_normalized  total_price_normalized\n",
       "0              1.300709               -0.053194\n",
       "1             -0.483753               -0.747822\n",
       "2             -0.483753               -0.629935\n",
       "3              1.300709                0.828240\n",
       "4              0.408478               -0.317080\n",
       "...                 ...                     ...\n",
       "4025          -0.483753               -0.789536\n",
       "4026          -0.483753               -0.555575\n",
       "4027          -0.483753               -0.256323\n",
       "4028           1.300709                3.962229\n",
       "4029          -1.375984               -0.534718\n",
       "\n",
       "[4030 rows x 2 columns]"
      ]
     },
     "execution_count": 11,
     "metadata": {},
     "output_type": "execute_result"
    }
   ],
   "source": [
    "reserve_tb['people_normalized'] = [x[0] for x in result]\n",
    "# result에서 x[0]은 사람 수에 대해 정규화 한 것 입니다.\n",
    "reserve_tb['total_price_normalized'] = [x[1] for x in result]\n",
    "# result에서 x[1]은 가격의 합에 대해 정규화 한 것 입니다.\n",
    "\n",
    "reserve_tb[['people_normalized', 'total_price_normalized']]"
   ]
  },
  {
   "cell_type": "markdown",
   "id": "7f4f6b29",
   "metadata": {},
   "source": [
    "예를들어 어떤 정규화된 값이 1.3을 가진다하면, 가우스 적분 테이블이라고\n",
    "\n",
    "그 값을 구하면 값의 상대적 위치를 알 수 있습니다."
   ]
  },
  {
   "cell_type": "markdown",
   "id": "6b5e5db0",
   "metadata": {},
   "source": [
    "# 예외값 제거\n",
    "대부분의 값보다 극단적으로 크거나, 작은 값은 정규화 뿐만 아니라 예측 모델링을 할때에도 방해가 되므로, 전처리 과정에서도 제외를 하면\n",
    "\n",
    "많은 도움이 됩니다.\n",
    "\n",
    "그러나 극단적인 값을 고려해야할때에는 예외값이라도 제거하면 안됩니다.\n",
    "\n",
    "대표적인 예로는 주가 분석에서 극단적인 값을 제거하는 것과 살리는 것은 수익률에서 많은 차이를 일으킵니다.\n",
    "\n",
    "먼저 예외값을 제거하기위해선 일반적인 값과 극단적인 값을 구분을 하여야 합니다.\n",
    "\n",
    "그중 많이 이용되는 방법이 정규화 인데, Z값의 크기가 3 이상인 경우에 대해서는 발생확률이 0.27%이므로\n",
    "\n",
    "이러한 값들을 제거하는 것이 도움됩니다."
   ]
  },
  {
   "cell_type": "code",
   "execution_count": 12,
   "id": "a72a1526",
   "metadata": {},
   "outputs": [
    {
     "data": {
      "text/plain": [
       "7.2050372718932865"
      ]
     },
     "execution_count": 12,
     "metadata": {},
     "output_type": "execute_result"
    }
   ],
   "source": [
    "reserve_tb['total_price_normalized'].max()"
   ]
  },
  {
   "cell_type": "code",
   "execution_count": 13,
   "id": "1fed3ea5",
   "metadata": {},
   "outputs": [
    {
     "data": {
      "text/plain": [
       "2.8794796676976024"
      ]
     },
     "execution_count": 13,
     "metadata": {},
     "output_type": "execute_result"
    }
   ],
   "source": [
    "reserve_tb =reserve_tb[\n",
    "    (abs(reserve_tb['total_price'] - np.mean(reserve_tb['total_price'])) / np.std(reserve_tb['total_price']) <= 3)].reset_index()\n",
    "reserve_tb['total_price_normalized'].max()"
   ]
  },
  {
   "cell_type": "markdown",
   "id": "d81b0646",
   "metadata": {},
   "source": [
    "정규화는 (x - 평균)/표준편차 를 통해 진행되고, 이러한 과정을 통해 나온 값을 Z값이라 합니다.\n",
    "\n",
    "여기서 보시면 예외값 제거를 하기전에는 Z값이 7.205 인것이 있지만, 예외값 제외를 통해\n",
    "\n",
    "total_price_normalized의 최대값이 2.87인 것을 보았습니다."
   ]
  },
  {
   "cell_type": "markdown",
   "id": "c1ce1de1",
   "metadata": {},
   "source": [
    "# 주성분 분석을 이용한 차원 압축\n",
    "예를들어 어떤 값이 z = f(x, y, a, b, c) 즉 x, y, a, b, c 5개의 값의 영향을 받습니다.\n",
    "\n",
    "따라서 x, y, a, b, c 5개 변수를 살펴보아야 합니다.\n",
    "\n",
    "그러나 여기서 어떤 식을 정의해 d = g(a, b, c)형태의 어느 식을 내가 모델링하고,\n",
    "\n",
    "다시 z = f'(x, y, d) 형태의 식을 찾으면, 3개의 변수만을 살펴보아야 합니다.\n",
    "\n",
    "이러한 과정을 차원 압축이라 합니다."
   ]
  },
  {
   "cell_type": "code",
   "execution_count": 14,
   "id": "360868cd",
   "metadata": {},
   "outputs": [
    {
     "data": {
      "text/plain": [
       "PCA(n_components=2)"
      ]
     },
     "execution_count": 14,
     "metadata": {},
     "output_type": "execute_result"
    }
   ],
   "source": [
    "from sklearn.decomposition import PCA\n",
    "\n",
    "pca = PCA(n_components=2)\n",
    "pca"
   ]
  },
  {
   "cell_type": "code",
   "execution_count": 15,
   "id": "a082f799",
   "metadata": {},
   "outputs": [],
   "source": [
    "production_tb = pd.read_csv('production.csv')"
   ]
  },
  {
   "cell_type": "code",
   "execution_count": 16,
   "id": "d42775b4",
   "metadata": {},
   "outputs": [],
   "source": [
    "pca_values = pca.fit_transform(production_tb[['length', 'thickness']])"
   ]
  },
  {
   "cell_type": "code",
   "execution_count": 17,
   "id": "608b5e38",
   "metadata": {},
   "outputs": [
    {
     "name": "stdout",
     "output_type": "stream",
     "text": [
      "누적 기여율 : 1.0\n",
      "각 차원의 기여율 : [0.97897794 0.02102206]\n"
     ]
    }
   ],
   "source": [
    "print('누적 기여율 : {0}'.format(sum(pca.explained_variance_ratio_)))\n",
    "print('각 차원의 기여율 : {0}'.format(pca.explained_variance_ratio_))"
   ]
  },
  {
   "cell_type": "code",
   "execution_count": 18,
   "id": "32fb5c3c",
   "metadata": {},
   "outputs": [
    {
     "data": {
      "text/plain": [
       "array([[  76.96838157,  -13.38906936],\n",
       "       [-112.11469337,   -8.24884796],\n",
       "       [ -76.1994339 ,   11.19027127],\n",
       "       ...,\n",
       "       [  31.12100559,   15.48152593],\n",
       "       [-117.87675543,    2.4361334 ],\n",
       "       [   4.80243541,  -15.32174872]])"
      ]
     },
     "execution_count": 18,
     "metadata": {},
     "output_type": "execute_result"
    }
   ],
   "source": [
    "pca_newvalues = pca.transform(production_tb[['length', 'thickness']])\n",
    "pca_newvalues"
   ]
  },
  {
   "cell_type": "markdown",
   "id": "d985c06c",
   "metadata": {},
   "source": [
    "원리는 고유값 문제, 텐서 등 난이도 높은 수학이 등장하여 어렵습니다.\n",
    "\n",
    "그냥 차원을 압축하여 데이터 가시화를 쉽게 만들거나, 새로운 차원에서 다른 발견을 할 수도 있다는 점을 기억하면 될 거 같습니다."
   ]
  },
  {
   "cell_type": "markdown",
   "id": "d6624be7",
   "metadata": {},
   "source": [
    "# 수치의 보완"
   ]
  },
  {
   "cell_type": "markdown",
   "id": "bca41146",
   "metadata": {},
   "source": [
    "데이터 발생 환경에 따라 데이터 결손은 흔합니다. 따라서 결손값에 전처리를 적용하기 전 어떠한 결손인지 확인해야 합니다.\n",
    "\n",
    "결손은 크게 세 가지 종류가 있습ㄴ다.\n",
    "\n",
    "MCAR : 완전 무작위 결손입니다. 예를들어 온도 측정에서 일정 확률로 실내 온도를 측정하는 온도 센서으 데이터가 파손하는 경우입니다.\n",
    "\n",
    "MAR : 다른 항목 데이터에 의존한 결손입니다.예를 들어 온도가 높을수록 실내 온도를 측정하는 온도 센서의 데이터가 파손될 확률이 높아지는 경우입니다.\n",
    "\n",
    "MNAR : 결손된 항목 데이터에 의존한 결손 입니다.예를들어 실내온도가 40도 넘으면 실내 온도를 측정하는 온도 센서의 데이터가 파손되는 경우입니다."
   ]
  },
  {
   "cell_type": "markdown",
   "id": "af54d50e",
   "metadata": {},
   "source": [
    "우선 결손 레코드 제거 방법이 있습니다."
   ]
  },
  {
   "cell_type": "code",
   "execution_count": 19,
   "id": "c035f9f2",
   "metadata": {},
   "outputs": [
    {
     "data": {
      "text/html": [
       "<div>\n",
       "<style scoped>\n",
       "    .dataframe tbody tr th:only-of-type {\n",
       "        vertical-align: middle;\n",
       "    }\n",
       "\n",
       "    .dataframe tbody tr th {\n",
       "        vertical-align: top;\n",
       "    }\n",
       "\n",
       "    .dataframe thead th {\n",
       "        text-align: right;\n",
       "    }\n",
       "</style>\n",
       "<table border=\"1\" class=\"dataframe\">\n",
       "  <thead>\n",
       "    <tr style=\"text-align: right;\">\n",
       "      <th></th>\n",
       "      <th>type</th>\n",
       "      <th>length</th>\n",
       "      <th>thickness</th>\n",
       "      <th>fault_flg</th>\n",
       "    </tr>\n",
       "  </thead>\n",
       "  <tbody>\n",
       "    <tr>\n",
       "      <th>0</th>\n",
       "      <td>E</td>\n",
       "      <td>274.027383</td>\n",
       "      <td>40.24113135955541</td>\n",
       "      <td>False</td>\n",
       "    </tr>\n",
       "    <tr>\n",
       "      <th>1</th>\n",
       "      <td>D</td>\n",
       "      <td>86.319269</td>\n",
       "      <td>16.906714630016268</td>\n",
       "      <td>False</td>\n",
       "    </tr>\n",
       "    <tr>\n",
       "      <th>2</th>\n",
       "      <td>E</td>\n",
       "      <td>123.940388</td>\n",
       "      <td>1.0184619943950775</td>\n",
       "      <td>False</td>\n",
       "    </tr>\n",
       "    <tr>\n",
       "      <th>3</th>\n",
       "      <td>B</td>\n",
       "      <td>175.554886</td>\n",
       "      <td>16.41492419553766</td>\n",
       "      <td>False</td>\n",
       "    </tr>\n",
       "    <tr>\n",
       "      <th>4</th>\n",
       "      <td>B</td>\n",
       "      <td>244.934740</td>\n",
       "      <td>29.061080805480326</td>\n",
       "      <td>False</td>\n",
       "    </tr>\n",
       "    <tr>\n",
       "      <th>...</th>\n",
       "      <td>...</td>\n",
       "      <td>...</td>\n",
       "      <td>...</td>\n",
       "      <td>...</td>\n",
       "    </tr>\n",
       "    <tr>\n",
       "      <th>995</th>\n",
       "      <td>C</td>\n",
       "      <td>363.214163</td>\n",
       "      <td>48.36948254254505</td>\n",
       "      <td>False</td>\n",
       "    </tr>\n",
       "    <tr>\n",
       "      <th>996</th>\n",
       "      <td>D</td>\n",
       "      <td>134.773797</td>\n",
       "      <td>26.861665493072845</td>\n",
       "      <td>False</td>\n",
       "    </tr>\n",
       "    <tr>\n",
       "      <th>997</th>\n",
       "      <td>B</td>\n",
       "      <td>231.174985</td>\n",
       "      <td>7.087471454014727</td>\n",
       "      <td>False</td>\n",
       "    </tr>\n",
       "    <tr>\n",
       "      <th>998</th>\n",
       "      <td>D</td>\n",
       "      <td>81.613510</td>\n",
       "      <td>5.716271403731385</td>\n",
       "      <td>False</td>\n",
       "    </tr>\n",
       "    <tr>\n",
       "      <th>999</th>\n",
       "      <td>C</td>\n",
       "      <td>202.010973</td>\n",
       "      <td>35.211646979555084</td>\n",
       "      <td>True</td>\n",
       "    </tr>\n",
       "  </tbody>\n",
       "</table>\n",
       "<p>1000 rows × 4 columns</p>\n",
       "</div>"
      ],
      "text/plain": [
       "    type      length           thickness  fault_flg\n",
       "0      E  274.027383   40.24113135955541      False\n",
       "1      D   86.319269  16.906714630016268      False\n",
       "2      E  123.940388  1.0184619943950775      False\n",
       "3      B  175.554886   16.41492419553766      False\n",
       "4      B  244.934740  29.061080805480326      False\n",
       "..   ...         ...                 ...        ...\n",
       "995    C  363.214163   48.36948254254505      False\n",
       "996    D  134.773797  26.861665493072845      False\n",
       "997    B  231.174985   7.087471454014727      False\n",
       "998    D   81.613510   5.716271403731385      False\n",
       "999    C  202.010973  35.211646979555084       True\n",
       "\n",
       "[1000 rows x 4 columns]"
      ]
     },
     "execution_count": 19,
     "metadata": {},
     "output_type": "execute_result"
    }
   ],
   "source": [
    "production_miss_tb = pd.read_csv('production_missing_num.csv')\n",
    "production_miss_tb"
   ]
  },
  {
   "cell_type": "code",
   "execution_count": 20,
   "id": "58d26166",
   "metadata": {},
   "outputs": [
    {
     "data": {
      "text/html": [
       "<div>\n",
       "<style scoped>\n",
       "    .dataframe tbody tr th:only-of-type {\n",
       "        vertical-align: middle;\n",
       "    }\n",
       "\n",
       "    .dataframe tbody tr th {\n",
       "        vertical-align: top;\n",
       "    }\n",
       "\n",
       "    .dataframe thead th {\n",
       "        text-align: right;\n",
       "    }\n",
       "</style>\n",
       "<table border=\"1\" class=\"dataframe\">\n",
       "  <thead>\n",
       "    <tr style=\"text-align: right;\">\n",
       "      <th></th>\n",
       "      <th>type</th>\n",
       "      <th>length</th>\n",
       "      <th>thickness</th>\n",
       "      <th>fault_flg</th>\n",
       "    </tr>\n",
       "  </thead>\n",
       "  <tbody>\n",
       "    <tr>\n",
       "      <th>0</th>\n",
       "      <td>E</td>\n",
       "      <td>274.027383</td>\n",
       "      <td>40.24113135955541</td>\n",
       "      <td>False</td>\n",
       "    </tr>\n",
       "    <tr>\n",
       "      <th>1</th>\n",
       "      <td>D</td>\n",
       "      <td>86.319269</td>\n",
       "      <td>16.906714630016268</td>\n",
       "      <td>False</td>\n",
       "    </tr>\n",
       "    <tr>\n",
       "      <th>2</th>\n",
       "      <td>E</td>\n",
       "      <td>123.940388</td>\n",
       "      <td>1.0184619943950775</td>\n",
       "      <td>False</td>\n",
       "    </tr>\n",
       "    <tr>\n",
       "      <th>3</th>\n",
       "      <td>B</td>\n",
       "      <td>175.554886</td>\n",
       "      <td>16.41492419553766</td>\n",
       "      <td>False</td>\n",
       "    </tr>\n",
       "    <tr>\n",
       "      <th>4</th>\n",
       "      <td>B</td>\n",
       "      <td>244.934740</td>\n",
       "      <td>29.061080805480326</td>\n",
       "      <td>False</td>\n",
       "    </tr>\n",
       "    <tr>\n",
       "      <th>...</th>\n",
       "      <td>...</td>\n",
       "      <td>...</td>\n",
       "      <td>...</td>\n",
       "      <td>...</td>\n",
       "    </tr>\n",
       "    <tr>\n",
       "      <th>995</th>\n",
       "      <td>C</td>\n",
       "      <td>363.214163</td>\n",
       "      <td>48.36948254254505</td>\n",
       "      <td>False</td>\n",
       "    </tr>\n",
       "    <tr>\n",
       "      <th>996</th>\n",
       "      <td>D</td>\n",
       "      <td>134.773797</td>\n",
       "      <td>26.861665493072845</td>\n",
       "      <td>False</td>\n",
       "    </tr>\n",
       "    <tr>\n",
       "      <th>997</th>\n",
       "      <td>B</td>\n",
       "      <td>231.174985</td>\n",
       "      <td>7.087471454014727</td>\n",
       "      <td>False</td>\n",
       "    </tr>\n",
       "    <tr>\n",
       "      <th>998</th>\n",
       "      <td>D</td>\n",
       "      <td>81.613510</td>\n",
       "      <td>5.716271403731385</td>\n",
       "      <td>False</td>\n",
       "    </tr>\n",
       "    <tr>\n",
       "      <th>999</th>\n",
       "      <td>C</td>\n",
       "      <td>202.010973</td>\n",
       "      <td>35.211646979555084</td>\n",
       "      <td>True</td>\n",
       "    </tr>\n",
       "  </tbody>\n",
       "</table>\n",
       "<p>1000 rows × 4 columns</p>\n",
       "</div>"
      ],
      "text/plain": [
       "    type      length           thickness  fault_flg\n",
       "0      E  274.027383   40.24113135955541      False\n",
       "1      D   86.319269  16.906714630016268      False\n",
       "2      E  123.940388  1.0184619943950775      False\n",
       "3      B  175.554886   16.41492419553766      False\n",
       "4      B  244.934740  29.061080805480326      False\n",
       "..   ...         ...                 ...        ...\n",
       "995    C  363.214163   48.36948254254505      False\n",
       "996    D  134.773797  26.861665493072845      False\n",
       "997    B  231.174985   7.087471454014727      False\n",
       "998    D   81.613510   5.716271403731385      False\n",
       "999    C  202.010973  35.211646979555084       True\n",
       "\n",
       "[1000 rows x 4 columns]"
      ]
     },
     "execution_count": 20,
     "metadata": {},
     "output_type": "execute_result"
    }
   ],
   "source": [
    "production_miss_tb.replace('None', np.nan, inplace=True)\n",
    "production_miss_tb"
   ]
  },
  {
   "cell_type": "code",
   "execution_count": 21,
   "id": "e8479871",
   "metadata": {},
   "outputs": [
    {
     "data": {
      "text/html": [
       "<div>\n",
       "<style scoped>\n",
       "    .dataframe tbody tr th:only-of-type {\n",
       "        vertical-align: middle;\n",
       "    }\n",
       "\n",
       "    .dataframe tbody tr th {\n",
       "        vertical-align: top;\n",
       "    }\n",
       "\n",
       "    .dataframe thead th {\n",
       "        text-align: right;\n",
       "    }\n",
       "</style>\n",
       "<table border=\"1\" class=\"dataframe\">\n",
       "  <thead>\n",
       "    <tr style=\"text-align: right;\">\n",
       "      <th></th>\n",
       "      <th>type</th>\n",
       "      <th>length</th>\n",
       "      <th>thickness</th>\n",
       "      <th>fault_flg</th>\n",
       "    </tr>\n",
       "  </thead>\n",
       "  <tbody>\n",
       "    <tr>\n",
       "      <th>0</th>\n",
       "      <td>E</td>\n",
       "      <td>274.027383</td>\n",
       "      <td>40.24113135955541</td>\n",
       "      <td>False</td>\n",
       "    </tr>\n",
       "    <tr>\n",
       "      <th>1</th>\n",
       "      <td>D</td>\n",
       "      <td>86.319269</td>\n",
       "      <td>16.906714630016268</td>\n",
       "      <td>False</td>\n",
       "    </tr>\n",
       "    <tr>\n",
       "      <th>2</th>\n",
       "      <td>E</td>\n",
       "      <td>123.940388</td>\n",
       "      <td>1.0184619943950775</td>\n",
       "      <td>False</td>\n",
       "    </tr>\n",
       "    <tr>\n",
       "      <th>3</th>\n",
       "      <td>B</td>\n",
       "      <td>175.554886</td>\n",
       "      <td>16.41492419553766</td>\n",
       "      <td>False</td>\n",
       "    </tr>\n",
       "    <tr>\n",
       "      <th>4</th>\n",
       "      <td>B</td>\n",
       "      <td>244.934740</td>\n",
       "      <td>29.061080805480326</td>\n",
       "      <td>False</td>\n",
       "    </tr>\n",
       "    <tr>\n",
       "      <th>...</th>\n",
       "      <td>...</td>\n",
       "      <td>...</td>\n",
       "      <td>...</td>\n",
       "      <td>...</td>\n",
       "    </tr>\n",
       "    <tr>\n",
       "      <th>995</th>\n",
       "      <td>C</td>\n",
       "      <td>363.214163</td>\n",
       "      <td>48.36948254254505</td>\n",
       "      <td>False</td>\n",
       "    </tr>\n",
       "    <tr>\n",
       "      <th>996</th>\n",
       "      <td>D</td>\n",
       "      <td>134.773797</td>\n",
       "      <td>26.861665493072845</td>\n",
       "      <td>False</td>\n",
       "    </tr>\n",
       "    <tr>\n",
       "      <th>997</th>\n",
       "      <td>B</td>\n",
       "      <td>231.174985</td>\n",
       "      <td>7.087471454014727</td>\n",
       "      <td>False</td>\n",
       "    </tr>\n",
       "    <tr>\n",
       "      <th>998</th>\n",
       "      <td>D</td>\n",
       "      <td>81.613510</td>\n",
       "      <td>5.716271403731385</td>\n",
       "      <td>False</td>\n",
       "    </tr>\n",
       "    <tr>\n",
       "      <th>999</th>\n",
       "      <td>C</td>\n",
       "      <td>202.010973</td>\n",
       "      <td>35.211646979555084</td>\n",
       "      <td>True</td>\n",
       "    </tr>\n",
       "  </tbody>\n",
       "</table>\n",
       "<p>892 rows × 4 columns</p>\n",
       "</div>"
      ],
      "text/plain": [
       "    type      length           thickness  fault_flg\n",
       "0      E  274.027383   40.24113135955541      False\n",
       "1      D   86.319269  16.906714630016268      False\n",
       "2      E  123.940388  1.0184619943950775      False\n",
       "3      B  175.554886   16.41492419553766      False\n",
       "4      B  244.934740  29.061080805480326      False\n",
       "..   ...         ...                 ...        ...\n",
       "995    C  363.214163   48.36948254254505      False\n",
       "996    D  134.773797  26.861665493072845      False\n",
       "997    B  231.174985   7.087471454014727      False\n",
       "998    D   81.613510   5.716271403731385      False\n",
       "999    C  202.010973  35.211646979555084       True\n",
       "\n",
       "[892 rows x 4 columns]"
      ]
     },
     "execution_count": 21,
     "metadata": {},
     "output_type": "execute_result"
    }
   ],
   "source": [
    "production_miss_tb.dropna(subset=['thickness'], inplace=True)\n",
    "production_miss_tb"
   ]
  },
  {
   "cell_type": "markdown",
   "id": "45b2ed8c",
   "metadata": {},
   "source": [
    "dropna()함수를 통해 NaN이 포함된 레코드를 제거하려고 합니다.\n",
    "\n",
    "그러나 None은 문자열로 인식하여서 이를 NaN값으로 바꿔야 합니다.\n",
    "\n",
    "따라서 replace() 함수를 통해 NaN으로 교환해주어야 합니다."
   ]
  },
  {
   "cell_type": "markdown",
   "id": "5ed113c8",
   "metadata": {},
   "source": [
    "결손값을 보완하는 방법에는 특정 정수로 대체하는 방법도 있습니다."
   ]
  },
  {
   "cell_type": "code",
   "execution_count": 22,
   "id": "d71847af",
   "metadata": {},
   "outputs": [
    {
     "data": {
      "text/html": [
       "<div>\n",
       "<style scoped>\n",
       "    .dataframe tbody tr th:only-of-type {\n",
       "        vertical-align: middle;\n",
       "    }\n",
       "\n",
       "    .dataframe tbody tr th {\n",
       "        vertical-align: top;\n",
       "    }\n",
       "\n",
       "    .dataframe thead th {\n",
       "        text-align: right;\n",
       "    }\n",
       "</style>\n",
       "<table border=\"1\" class=\"dataframe\">\n",
       "  <thead>\n",
       "    <tr style=\"text-align: right;\">\n",
       "      <th></th>\n",
       "      <th>type</th>\n",
       "      <th>length</th>\n",
       "      <th>thickness</th>\n",
       "      <th>fault_flg</th>\n",
       "    </tr>\n",
       "  </thead>\n",
       "  <tbody>\n",
       "    <tr>\n",
       "      <th>0</th>\n",
       "      <td>E</td>\n",
       "      <td>274.027383</td>\n",
       "      <td>40.24113135955541</td>\n",
       "      <td>False</td>\n",
       "    </tr>\n",
       "    <tr>\n",
       "      <th>1</th>\n",
       "      <td>D</td>\n",
       "      <td>86.319269</td>\n",
       "      <td>16.906714630016268</td>\n",
       "      <td>False</td>\n",
       "    </tr>\n",
       "    <tr>\n",
       "      <th>2</th>\n",
       "      <td>E</td>\n",
       "      <td>123.940388</td>\n",
       "      <td>1.0184619943950775</td>\n",
       "      <td>False</td>\n",
       "    </tr>\n",
       "    <tr>\n",
       "      <th>3</th>\n",
       "      <td>B</td>\n",
       "      <td>175.554886</td>\n",
       "      <td>16.41492419553766</td>\n",
       "      <td>False</td>\n",
       "    </tr>\n",
       "    <tr>\n",
       "      <th>4</th>\n",
       "      <td>B</td>\n",
       "      <td>244.934740</td>\n",
       "      <td>29.061080805480326</td>\n",
       "      <td>False</td>\n",
       "    </tr>\n",
       "    <tr>\n",
       "      <th>...</th>\n",
       "      <td>...</td>\n",
       "      <td>...</td>\n",
       "      <td>...</td>\n",
       "      <td>...</td>\n",
       "    </tr>\n",
       "    <tr>\n",
       "      <th>995</th>\n",
       "      <td>C</td>\n",
       "      <td>363.214163</td>\n",
       "      <td>48.36948254254505</td>\n",
       "      <td>False</td>\n",
       "    </tr>\n",
       "    <tr>\n",
       "      <th>996</th>\n",
       "      <td>D</td>\n",
       "      <td>134.773797</td>\n",
       "      <td>26.861665493072845</td>\n",
       "      <td>False</td>\n",
       "    </tr>\n",
       "    <tr>\n",
       "      <th>997</th>\n",
       "      <td>B</td>\n",
       "      <td>231.174985</td>\n",
       "      <td>7.087471454014727</td>\n",
       "      <td>False</td>\n",
       "    </tr>\n",
       "    <tr>\n",
       "      <th>998</th>\n",
       "      <td>D</td>\n",
       "      <td>81.613510</td>\n",
       "      <td>5.716271403731385</td>\n",
       "      <td>False</td>\n",
       "    </tr>\n",
       "    <tr>\n",
       "      <th>999</th>\n",
       "      <td>C</td>\n",
       "      <td>202.010973</td>\n",
       "      <td>35.211646979555084</td>\n",
       "      <td>True</td>\n",
       "    </tr>\n",
       "  </tbody>\n",
       "</table>\n",
       "<p>1000 rows × 4 columns</p>\n",
       "</div>"
      ],
      "text/plain": [
       "    type      length           thickness  fault_flg\n",
       "0      E  274.027383   40.24113135955541      False\n",
       "1      D   86.319269  16.906714630016268      False\n",
       "2      E  123.940388  1.0184619943950775      False\n",
       "3      B  175.554886   16.41492419553766      False\n",
       "4      B  244.934740  29.061080805480326      False\n",
       "..   ...         ...                 ...        ...\n",
       "995    C  363.214163   48.36948254254505      False\n",
       "996    D  134.773797  26.861665493072845      False\n",
       "997    B  231.174985   7.087471454014727      False\n",
       "998    D   81.613510   5.716271403731385      False\n",
       "999    C  202.010973  35.211646979555084       True\n",
       "\n",
       "[1000 rows x 4 columns]"
      ]
     },
     "execution_count": 22,
     "metadata": {},
     "output_type": "execute_result"
    }
   ],
   "source": [
    "production_miss_tb = pd.read_csv('production_missing_num.csv')\n",
    "production_miss_tb"
   ]
  },
  {
   "cell_type": "code",
   "execution_count": 23,
   "id": "51acc4d7",
   "metadata": {},
   "outputs": [],
   "source": [
    "production_miss_tb.replace('None', np.nan, inplace=True)\n",
    "production_miss_tb['thickness'].fillna(1, inplace = True)"
   ]
  },
  {
   "cell_type": "markdown",
   "id": "a9f80600",
   "metadata": {},
   "source": [
    "또 다른 방법으로는 평균값 보완이 있습니다."
   ]
  },
  {
   "cell_type": "code",
   "execution_count": 24,
   "id": "f7dc580d",
   "metadata": {},
   "outputs": [],
   "source": [
    "production_miss_tb = pd.read_csv('production_missing_num.csv')\n",
    "production_miss_tb.replace('None', np.nan, inplace = True)\n",
    "production_miss_tb['thickness'] = production_miss_tb['thickness'].astype('float64')\n",
    "\n",
    "thickness_mean = production_miss_tb['thickness'].mean()"
   ]
  },
  {
   "cell_type": "markdown",
   "id": "16a62d16",
   "metadata": {},
   "source": [
    "None 값에 평균값을 채워주기 위해 None을 NaN값으로 교체해주고,\n",
    "\n",
    "mean()함수를 통해 평균을 구했습니다."
   ]
  },
  {
   "cell_type": "code",
   "execution_count": 25,
   "id": "7fc2c3ca",
   "metadata": {},
   "outputs": [],
   "source": [
    "production_miss_tb['thickness'].fillna(thickness_mean, inplace = True)"
   ]
  },
  {
   "cell_type": "markdown",
   "id": "6dd92f63",
   "metadata": {},
   "source": [
    "또 다른 방법으론 PMM 방법이 있습니다.\n",
    "(라이브 버리 설치문제로 아직 미구현)"
   ]
  },
  {
   "cell_type": "code",
   "execution_count": 39,
   "id": "686cb1c3",
   "metadata": {},
   "outputs": [],
   "source": [
    "from fancyimpute import IterativeImputer as MICE"
   ]
  },
  {
   "cell_type": "code",
   "execution_count": 40,
   "id": "dbf6a8fc",
   "metadata": {},
   "outputs": [],
   "source": [
    "production_miss_num = pd.read_csv('production_missing_num.csv')"
   ]
  },
  {
   "cell_type": "code",
   "execution_count": 41,
   "id": "c3aa52ae",
   "metadata": {},
   "outputs": [],
   "source": [
    "production_miss_num.replace('None', np.nan, inplace=True)\n",
    "\n",
    "production_miss_num['thickness'] = production_miss_num['thickness'].astype('float64')\n",
    "production_miss_num['type'] = production_miss_num['type'].astype('category')\n",
    "production_miss_num['fault_flg'] = production_miss_num['fault_flg'].astype('category')"
   ]
  },
  {
   "cell_type": "code",
   "execution_count": 42,
   "id": "ad343113",
   "metadata": {},
   "outputs": [],
   "source": [
    "production_dummy_flg = pd.get_dummies(production_miss_num[['type', 'fault_flg']], drop_first=True)"
   ]
  },
  {
   "cell_type": "code",
   "execution_count": 44,
   "id": "1ab8bf89",
   "metadata": {},
   "outputs": [
    {
     "ename": "TypeError",
     "evalue": "fit_transform() missing 1 required positional argument: 'X'",
     "output_type": "error",
     "traceback": [
      "\u001b[1;31m---------------------------------------------------------------------------\u001b[0m",
      "\u001b[1;31mTypeError\u001b[0m                                 Traceback (most recent call last)",
      "\u001b[1;32m<ipython-input-44-0241ee093a02>\u001b[0m in \u001b[0;36m<module>\u001b[1;34m\u001b[0m\n\u001b[1;32m----> 1\u001b[1;33m MICE.fit_transform(pd.concat([production_miss_num[['length', 'thickness']],\n\u001b[0m\u001b[0;32m      2\u001b[0m                              production_dummy_flg]))\n",
      "\u001b[1;31mTypeError\u001b[0m: fit_transform() missing 1 required positional argument: 'X'"
     ]
    }
   ],
   "source": [
    "MICE.fit_transform()"
   ]
  },
  {
   "cell_type": "code",
   "execution_count": null,
   "id": "9ba4e20d",
   "metadata": {},
   "outputs": [],
   "source": []
  }
 ],
 "metadata": {
  "kernelspec": {
   "display_name": "Python 3",
   "language": "python",
   "name": "python3"
  },
  "language_info": {
   "codemirror_mode": {
    "name": "ipython",
    "version": 3
   },
   "file_extension": ".py",
   "mimetype": "text/x-python",
   "name": "python",
   "nbconvert_exporter": "python",
   "pygments_lexer": "ipython3",
   "version": "3.8.10"
  }
 },
 "nbformat": 4,
 "nbformat_minor": 5
}
