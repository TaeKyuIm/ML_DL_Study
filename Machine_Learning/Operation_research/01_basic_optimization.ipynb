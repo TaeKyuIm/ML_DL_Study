{
 "cells": [
  {
   "cell_type": "code",
   "execution_count": 1,
   "id": "8b390ee4-4a4c-40fe-917c-48572053a8b6",
   "metadata": {},
   "outputs": [],
   "source": [
    "from ortools.linear_solver import pywraplp\n",
    "def solve_coexistence():\n",
    "    t = 'Amphibian coexistence'\n",
    "    s = pywraplp.Solver(t, pywraplp.Solver.GLOP_LINEAR_PROGRAMMING)\n",
    "    # linear programming solver에 이름을 붙이고 생성\n",
    "    x = [s.NumVar(0, 1000, 'x[%i]' % i) for i in range(3)]\n",
    "    # 0에서 1000까지인 세개의 변수를 만듬\n",
    "    pop = s.NumVar(0, 3000, 'pop')\n",
    "    s.Add(2*x[0] + x[1] + x[2] <= 1500)\n",
    "    s.Add(x[0] + 3*x[1] + 2*x[2] <= 3000)\n",
    "    s.Add(x[0] + 2*x[1] + 3*x[2] <= 4000)\n",
    "    # 제약조건들 추가하기\n",
    "    s.Add(pop == x[0] + x[1] + x[2])\n",
    "    # 이 조건 없으면 결과값이 0, 0, 0 나온다.\n",
    "    # 이 조건을 통해 pop이 x[0] + x[1] + x[2] 인것을 해줘야 한다.\n",
    "    s.Maximize(pop) # objective function\n",
    "    s.Solve()\n",
    "    return pop.SolutionValue(), [e.SolutionValue() for e in x]"
   ]
  },
  {
   "cell_type": "markdown",
   "id": "a01a79ae-be44-4357-aaae-30cc8316a842",
   "metadata": {},
   "source": [
    "원래 이 문제를 수학적으로 풀기 위해서는 각각의 제약조건을 변수공간에 표현을 하여 이를 나타낸 뒤, 기하학적 관계를 살펴보면서 구하여야 한다.  \n",
    "그러나 변수의 차원이 3차원을 넘어서거나, 제약조건이 많은 경우 이는 엄청난 문제가 된다.."
   ]
  },
  {
   "cell_type": "code",
   "execution_count": 2,
   "id": "798b9843-b7a3-4425-b549-6aa0d89aee8e",
   "metadata": {},
   "outputs": [
    {
     "name": "stdout",
     "output_type": "stream",
     "text": [
      "Specie Count\n",
      "Toads 100.00000000000021\n",
      "Salamanders 299.9999999999999\n",
      "Caecilians 1000.0\n",
      "Total 1400.0\n"
     ]
    }
   ],
   "source": [
    "pop, x = solve_coexistence()\n",
    "T = [['Specie', 'Count']]\n",
    "for i in range(3):\n",
    "    T.append([['Toads', 'Salamanders', 'Caecilians'][i], x[i]])\n",
    "T.append(['Total', pop])\n",
    "for e in T:\n",
    "    print(e[0], e[1])"
   ]
  }
 ],
 "metadata": {
  "kernelspec": {
   "display_name": "Python 3 (ipykernel)",
   "language": "python",
   "name": "python3"
  },
  "language_info": {
   "codemirror_mode": {
    "name": "ipython",
    "version": 3
   },
   "file_extension": ".py",
   "mimetype": "text/x-python",
   "name": "python",
   "nbconvert_exporter": "python",
   "pygments_lexer": "ipython3",
   "version": "3.9.13"
  }
 },
 "nbformat": 4,
 "nbformat_minor": 5
}
