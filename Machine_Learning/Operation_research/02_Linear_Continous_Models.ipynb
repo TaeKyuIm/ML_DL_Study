{
 "cells": [
  {
   "cell_type": "code",
   "execution_count": 1,
   "id": "b33d11ff-7ba7-4522-b5a7-0a70e5288362",
   "metadata": {
    "tags": []
   },
   "outputs": [],
   "source": [
    "from ortools.linear_solver import pywraplp\n",
    "import pandas as pd\n",
    "def newSolver(name,integer=False):\n",
    "    return pywraplp.Solver(name,\\\n",
    "                         pywraplp.Solver.CBC_MIXED_INTEGER_PROGRAMMING \\\n",
    "                         if integer else \\\n",
    "                         pywraplp.Solver.GLOP_LINEAR_PROGRAMMING)\n",
    "# Solution의 값 list 구하기\n",
    "def SolVal(x):\n",
    "    if type(x) is not list:\n",
    "        return 0 if x is None \\\n",
    "    else x if isinstance(x,(int,float)) \\\n",
    "           else x.SolutionValue() if x.Integer() is False \\\n",
    "                else int(x.SolutionValue())\n",
    "    elif type(x) is list:\n",
    "        return [SolVal(e) for e in x]\n",
    "# 목적함수의 값 구하기\n",
    "def ObjVal(x):\n",
    "    return x.Objective().Value()"
   ]
  },
  {
   "cell_type": "markdown",
   "id": "1af45f3c-2d73-47c4-9336-692421b8eeac",
   "metadata": {},
   "source": [
    "if 변수 is None 은 연산자 처럼 작용하여 변수에 대해 연산자 작용해줌."
   ]
  },
  {
   "cell_type": "markdown",
   "id": "1218aeaf-7511-4b6e-b9b6-bb50c73bea4b",
   "metadata": {},
   "source": [
    "## Mixing Problem"
   ]
  },
  {
   "cell_type": "markdown",
   "id": "65af65ce-b829-45bb-8f7d-866ee6d32b50",
   "metadata": {},
   "source": [
    "### 문제 : 특정 영양소 조건들을 만족하며 어떻게 비용을 최소화?"
   ]
  },
  {
   "cell_type": "code",
   "execution_count": 2,
   "id": "e863793f-d8b3-4cb8-b3ce-eaefa863f152",
   "metadata": {},
   "outputs": [],
   "source": [
    "# 데이터생성용 함수\n",
    "def gen_diet_problem(nb_foods=5, nb_nutrients=4):\n",
    "    from random import randint,uniform\n",
    "    data = []\n",
    "    ranges = [10**randint(2,4) for i in range(nb_nutrients)]\n",
    "    x = [randint(15,25) for i in range(nb_foods)] # this must be feasible\n",
    "    MinNutrient = [0]*nb_nutrients\n",
    "    MaxNutrient = [0]*nb_nutrients\n",
    "    for food in range(nb_foods):\n",
    "        nutrients = [randint(10,ranges[i]) for i in range(nb_nutrients)]\n",
    "        minmax = [randint(0,x[food]),randint(x[food],2*x[food])]\n",
    "        cost = round(100*uniform(0,10))/100\n",
    "        v = nutrients+minmax+[cost]\n",
    "        data.append(v)\n",
    "    for j in range(nb_nutrients):\n",
    "        b = sum([x[i]*data[i][j] for i in range(nb_foods)])\n",
    "        MinNutrient[j] = randint(0,b)\n",
    "        MaxNutrient[j] = randint(b, 2*b)\n",
    "    data.append(MinNutrient+['','','',''])\n",
    "    data.append(MaxNutrient+['','','',''])\n",
    "    return data"
   ]
  },
  {
   "cell_type": "markdown",
   "id": "82de8bb0-32a6-40bf-b95b-2c5ff89024cf",
   "metadata": {},
   "source": [
    "    N_0 N_1 N_2 N_3 Min Max Cost  영양소 4개, 음식 5개의 데이터의 경우 다음과 같은 형태\n",
    "F_0  \n",
    "F_1  \n",
    "F_2  \n",
    "F_3  \n",
    "F_4  \n",
    "Min  \n",
    "Max"
   ]
  },
  {
   "cell_type": "code",
   "execution_count": 3,
   "id": "fd9c2f46-4063-4f5a-9027-0fdf94ec8bae",
   "metadata": {},
   "outputs": [
    {
     "data": {
      "text/plain": [
       "[[124, 993, 49, 40, 12, 35, 4.05],\n",
       " [615, 319, 62, 81, 14, 30, 5.53],\n",
       " [794, 588, 56, 81, 1, 24, 9.52],\n",
       " [493, 938, 13, 27, 8, 27, 8.22],\n",
       " [723, 459, 63, 93, 2, 28, 1.14],\n",
       " [19177, 38013, 3192, 1439, '', '', '', ''],\n",
       " [84788, 82843, 4957, 10584, '', '', '', '']]"
      ]
     },
     "execution_count": 3,
     "metadata": {},
     "output_type": "execute_result"
    }
   ],
   "source": [
    "data = gen_diet_problem(5, 4)\n",
    "data"
   ]
  },
  {
   "cell_type": "code",
   "execution_count": 4,
   "id": "b3bca583-52db-49dc-87c9-1eb8f7a830aa",
   "metadata": {},
   "outputs": [],
   "source": [
    "def solve_diet(N):\n",
    "    s = newSolver('Diet')\n",
    "    nbF, nbN = len(N) - 2, len(N[0]) - 3\n",
    "    # 음식의 개수는 Min, Max 이므로 -2, 영양분의 개수는 Min, Max, Cost이므로 -3 을 해주어야 함.\n",
    "    FMin, FMax, FCost, NMin, NMax = nbN, nbN + 1, nbN + 2, nbF, nbF +1\n",
    "    # 음식의 Min, Max, Cost 그 다음 Min, Max 에 대한 인덱스 지정.\n",
    "    f = [s.NumVar(N[i][FMin], N[i][FMax], '') for i in range(nbF)]\n",
    "    # s.NumVar(최소값, 최대값, notation)\n",
    "    # 각각의 데이터에 대한 변수 지정\n",
    "    for j in range(nbN):\n",
    "        s.Add(N[NMin][j]<=s.Sum([f[i]*N[i][j] for i in range(nbF)]) <= N[NMax][j])\n",
    "        # 영양분이 특정 범위를 만족하도록 제약조건 추가\n",
    "    s.Minimize(s.Sum(f[i]*N[i][FCost] for i in range(nbF)))\n",
    "    rc = s.Solve()\n",
    "    return rc, ObjVal(s), SolVal(f)"
   ]
  },
  {
   "cell_type": "code",
   "execution_count": 5,
   "id": "c37ade0b-85ef-4157-871f-ddc8ea8d6d4e",
   "metadata": {},
   "outputs": [
    {
     "data": {
      "text/plain": [
       "(0, 203.57999999999998, [12.0, 14.0, 1.0, 8.0, 2.0])"
      ]
     },
     "execution_count": 5,
     "metadata": {},
     "output_type": "execute_result"
    }
   ],
   "source": [
    "solve_diet(data)"
   ]
  },
  {
   "cell_type": "markdown",
   "id": "e7804be4-3750-4ae0-bdd2-866af20e96bd",
   "metadata": {},
   "source": [
    "두번째 값이 비용(Objective Function),세번째 리스트가 각각 음식의 개수에 대한 리스트가 반환된다."
   ]
  },
  {
   "cell_type": "markdown",
   "id": "30f90929-35a2-4434-83fa-1be743690d06",
   "metadata": {},
   "source": [
    "## Blending Problem"
   ]
  },
  {
   "cell_type": "markdown",
   "id": "def4e525-f9e5-4f4d-831a-e6477ce21e9c",
   "metadata": {},
   "source": [
    "예를들어 일정 제품들이 있고, 제품이 가지고 있는 성질들이 있을때, 이 제품들을 조합하여 특정 수치의 성분을 만족하는 새로운 제품들의 비 조합을 찾는 것을 할 수 있다.  \n",
    "우리가 흔히 하는 소금물 문제가 이 문제의 비슷한 예시이자 해결 키 포인트 이다."
   ]
  },
  {
   "cell_type": "markdown",
   "id": "51b4bcd3-b87c-4885-bb24-4ed5ee67fd22",
   "metadata": {},
   "source": [
    "### 문제 : 특정 수치의 성분, 제품의 성질들을 만족하며 어떻게 최적의 비를 찾을까??"
   ]
  },
  {
   "cell_type": "code",
   "execution_count": 6,
   "id": "336c008c-6b58-482c-89cf-b472ac8a5d1d",
   "metadata": {},
   "outputs": [],
   "source": [
    "from random import randint"
   ]
  },
  {
   "cell_type": "code",
   "execution_count": 7,
   "id": "8b1e2078-5018-425e-a9f8-3995ad62c818",
   "metadata": {},
   "outputs": [],
   "source": [
    "def gen_raw(n):\n",
    "    R = []\n",
    "    for i in range(n):\n",
    "        R.append([randint(80, 99), randint(600, 1000), 0])\n",
    "    avgr = sum([R[i][0] for i in range(n)]) / float(n)\n",
    "    for i in range(n):\n",
    "        p = randint(50,55)+4*R[i][0]/avgr\n",
    "        R[i][2] = round(p, 2)\n",
    "    return R\n",
    "\n",
    "def gen_refined(n):\n",
    "    R = []\n",
    "    for i in range(n):\n",
    "        R.append([randint(82,96), randint(100, 500), randint(600, 20000), 0])\n",
    "    avgr = sum(R[i][0] for i in range(n)) / float(n)\n",
    "    for i in range(n):\n",
    "        p = 61.0+R[i][0]/avgr\n",
    "        R[i][3] = round(p, 2)\n",
    "    return R"
   ]
  },
  {
   "cell_type": "code",
   "execution_count": 8,
   "id": "3b99e7a4-b769-4add-899d-0c5ff60df82e",
   "metadata": {},
   "outputs": [],
   "source": [
    "C = gen_raw(5)"
   ]
  },
  {
   "cell_type": "markdown",
   "id": "ab303702-a82c-4427-950e-81b5e9d051e8",
   "metadata": {},
   "source": [
    "[octane, availability(최대), cost] 이렇게 구성되어있음"
   ]
  },
  {
   "cell_type": "code",
   "execution_count": 9,
   "id": "365ba8f5-3e82-440a-b4b6-d9c6ecdfdde0",
   "metadata": {},
   "outputs": [],
   "source": [
    "D = gen_refined(5)"
   ]
  },
  {
   "cell_type": "markdown",
   "id": "60e0a002-2360-4aa1-aa44-9a9062a356d0",
   "metadata": {},
   "source": [
    "[octane, min_demand, max_demand, price] 이렇게 구성되어있음"
   ]
  },
  {
   "cell_type": "code",
   "execution_count": 10,
   "id": "f857d7e2-d936-4227-9ffa-b4f9c4d13109",
   "metadata": {},
   "outputs": [],
   "source": [
    "def solve_gas(C, D):\n",
    "    s = newSolver('Gas Blending Problem')\n",
    "    nR, nF = len(C), len(D)\n",
    "    Roc, Rmax, Rcost = 0, 1, 2 # octane, max, cost에 대한 index\n",
    "    Foc, Fmin, Fmax, Fprice = 0, 1, 2, 3 # octane, min, max, price에 대한 index\n",
    "    G = [[s.NumVar(0.0, 10000, '')\n",
    "         for j in range(nF)] for i in range(nR)]\n",
    "    R = [s.NumVar(0, C[i][Rmax],'') for i in range(nR)]\n",
    "    F = [s.NumVar(D[j][Fmin], D[j][Fmax], '') for j in range(nF)]\n",
    "    for i in range(nR):\n",
    "        s.Add(R[i] == sum(G[i][j] for j in range(nF)))\n",
    "    for j in range(nF):\n",
    "        s.Add(F[j] == sum(G[i][j] for i in range(nR)))\n",
    "    for j in range(nF):\n",
    "        s.Add(F[j]*D[j][Foc] == \n",
    "             s.Sum(G[i][j]*C[i][Roc] for i in range(nR)))\n",
    "    Cost = s.Sum(R[i]*C[i][Rcost] for i in range(nR))\n",
    "    Price = s.Sum(F[j]*D[j][Fprice] for j in range(nF))\n",
    "    s.Maximize(Price-Cost)\n",
    "    rc = s.Solve()\n",
    "    return rc, ObjVal(s), SolVal(G)"
   ]
  },
  {
   "cell_type": "code",
   "execution_count": 11,
   "id": "afabba8b-0471-45b6-a16e-a4f07a095897",
   "metadata": {},
   "outputs": [
    {
     "data": {
      "text/plain": [
       "(0,\n",
       " 24334.75000000001,\n",
       " [[0.0, 0.0, 26.56250000000003, 772.3125, 61.12500000000004],\n",
       "  [804.9230769230753, 2.759160421506888e-13, 0.0, 81.07692307692425, 0.0],\n",
       "  [0.0, 0.0, 0.0, 631.0, 0.0],\n",
       "  [0.0, 255.0000000000002, 0.0, 220.12499999999974, 427.87499999999994],\n",
       "  [67.07692307692464, 0.0, 398.4375, 301.4855769230753, 0.0]])"
      ]
     },
     "execution_count": 11,
     "metadata": {},
     "output_type": "execute_result"
    }
   ],
   "source": [
    "solve_gas(C, D)"
   ]
  },
  {
   "cell_type": "markdown",
   "id": "55dc5319-417d-4e62-b093-6d84d37677c0",
   "metadata": {},
   "source": [
    "## Project Management"
   ]
  },
  {
   "cell_type": "markdown",
   "id": "e15d62c2-a880-4f20-a954-080e9c335b23",
   "metadata": {},
   "source": [
    "프로젝트 일정을 짤때 다양한 제약조건들이 따른다.  \n",
    "핵심은 이론 제약조건들을 만족하며 소요시간이 제일 최소화 되는 조합을 만드는 것이다."
   ]
  },
  {
   "cell_type": "markdown",
   "id": "0bb5bd48-8495-4cfa-a08f-68ea89b6796a",
   "metadata": {},
   "source": [
    "### 문제 : 인력은 무한히 투입가능하다고 할때, 어느정도의 인력과 어느순서로 진행을 하여야 프로젝트를 빨리 끝낼 수 있을까??"
   ]
  },
  {
   "cell_type": "code",
   "execution_count": 12,
   "id": "669ce906-2edb-4c1b-87d0-61621e3c2d25",
   "metadata": {},
   "outputs": [],
   "source": [
    "def gen_data(n):\n",
    "    R=[]\n",
    "    S=0\n",
    "    for i in range(n):\n",
    "        RR=[i]                  # Task number\n",
    "        RR.append(randint(2,8)) # Duration\n",
    "        P=[]\n",
    "        for j in range(i):\n",
    "            if randint(0,1)*randint(0,1):\n",
    "                P.append(j)\n",
    "        RR.append(P) \n",
    "        R.append(RR)\n",
    "    return R"
   ]
  },
  {
   "cell_type": "code",
   "execution_count": 13,
   "id": "0a5e5777-4f18-434e-86a0-f9270bdac267",
   "metadata": {},
   "outputs": [
    {
     "data": {
      "text/plain": [
       "[[0, 7, []],\n",
       " [1, 7, [0]],\n",
       " [2, 6, [0]],\n",
       " [3, 6, []],\n",
       " [4, 2, []],\n",
       " [5, 5, [1, 2]],\n",
       " [6, 3, []],\n",
       " [7, 2, [4, 5, 6]],\n",
       " [8, 5, [2, 3]],\n",
       " [9, 8, [5, 6, 7]],\n",
       " [10, 8, [1]],\n",
       " [11, 3, [0, 1, 3, 9, 10]],\n",
       " [12, 4, [6]],\n",
       " [13, 4, [1, 3, 4, 6, 9, 11, 12]],\n",
       " [14, 5, [1, 3, 13]]]"
      ]
     },
     "execution_count": 13,
     "metadata": {},
     "output_type": "execute_result"
    }
   ],
   "source": [
    "D = gen_data(15)\n",
    "D"
   ]
  },
  {
   "cell_type": "code",
   "execution_count": 14,
   "id": "1a551eab-ce70-4b36-93b6-d61c2ae0ca7e",
   "metadata": {},
   "outputs": [],
   "source": [
    "def solve_model(D):\n",
    "    s = newSolver('Project Management')\n",
    "    n = len(D)\n",
    "    max_t = sum(D[i][1] for i in range(n)) # 최장 걸리는 시간\n",
    "    t = [s.NumVar(0, max_t, 't[%i]' % i) for i in range(n)]\n",
    "    Total = s.NumVar(0, max_t, 'Total')\n",
    "    for i in range(n):\n",
    "        s.Add(t[i] + D[i][1] <= Total)\n",
    "        for j in D[i][2]:\n",
    "            s.Add(t[j] + D[j][1] <= t[i])\n",
    "    s.Minimize(Total)\n",
    "    rc = s.Solve()\n",
    "    return rc, SolVal(Total), SolVal(t)"
   ]
  },
  {
   "cell_type": "code",
   "execution_count": 15,
   "id": "a70f05eb-fe93-42f1-9808-c05321d40f91",
   "metadata": {},
   "outputs": [
    {
     "data": {
      "text/plain": [
       "(0,\n",
       " 41.0,\n",
       " [0.0,\n",
       "  7.0,\n",
       "  7.0,\n",
       "  0.0,\n",
       "  0.0,\n",
       "  14.0,\n",
       "  0.0,\n",
       "  19.0,\n",
       "  36.0,\n",
       "  21.0,\n",
       "  14.0,\n",
       "  29.0,\n",
       "  3.0,\n",
       "  32.0,\n",
       "  36.0])"
      ]
     },
     "execution_count": 15,
     "metadata": {},
     "output_type": "execute_result"
    }
   ],
   "source": [
    "solve_model(D)"
   ]
  },
  {
   "cell_type": "markdown",
   "id": "2e59d16a-aacf-4ae0-a096-a8536da616f8",
   "metadata": {},
   "source": [
    "## Multi-Stage Models"
   ]
  },
  {
   "cell_type": "code",
   "execution_count": 16,
   "id": "74b8cca4-09cc-4cdf-8135-fe07d8c1b41c",
   "metadata": {},
   "outputs": [],
   "source": [
    "from random import uniform\n",
    "def gen_data_content(m,n):\n",
    "    # Oils down, acids accross (more oils than acids  m > n)\n",
    "    R=[]\n",
    "    for i in range(m):\n",
    "        RR=[]\n",
    "        P = 100\n",
    "        for j in range(n-1):\n",
    "            if P>1:\n",
    "                acid = randint(1,min(70,P))*randint(0,1)\n",
    "            else:\n",
    "                acid = 0\n",
    "            RR.append(acid)\n",
    "            P -= acid\n",
    "        RR.append(P)\n",
    "        R.append(RR)\n",
    "    return R\n",
    "def gen_data_target(C):\n",
    "    F=[]\n",
    "    R0,R1=[],[]\n",
    "    m,n=len(C),len(C[0])\n",
    "    P=100\n",
    "    R=[0 for j in range(n)]\n",
    "    for i in range(m-1):\n",
    "        if P:\n",
    "            f=randint(1,min(20,P))\n",
    "        else:\n",
    "            f=0\n",
    "        F.append(f)\n",
    "        P-=f\n",
    "        for j in range(n):\n",
    "            acid = f*C[i][j]\n",
    "            R[j] += acid\n",
    "    f=P\n",
    "    F.append(f)\n",
    "    for j in range(n):\n",
    "        acid = f*C[m-1][j]\n",
    "        R[j] += acid\n",
    "    for j in range(n):\n",
    "        R0.append((0.95*R[j]/100.0))\n",
    "        R1.append((1.05*R[j]/100.0))\n",
    "    return [R0,R1]\n",
    "def gen_data_cost(m,k):\n",
    "    # Oils down, months accross\n",
    "    R=[]\n",
    "    for i in range(m):\n",
    "        RR=[]\n",
    "        for j in range(k):\n",
    "            cost = randint(100,200)\n",
    "            RR.append(cost)\n",
    "        R.append(RR)\n",
    "    return R\n",
    "def gen_data_inventory(m):\n",
    "    # Oils down\n",
    "    R=[]\n",
    "    for i in range(m):\n",
    "        cost = [randint(0,200)]\n",
    "        R.append(cost)\n",
    "    return R"
   ]
  },
  {
   "cell_type": "code",
   "execution_count": 17,
   "id": "06357f1c-7da0-4db1-a255-532d18798aed",
   "metadata": {},
   "outputs": [],
   "source": [
    "gas_number = 9\n",
    "acid_number = 7\n",
    "time_number = 5"
   ]
  },
  {
   "cell_type": "code",
   "execution_count": 18,
   "id": "5d85f9e0-75eb-46bf-a714-1b24017b1788",
   "metadata": {},
   "outputs": [
    {
     "data": {
      "text/plain": [
       "[[53, 35, 8, 0, 1, 2, 1],\n",
       " [42, 0, 0, 24, 0, 0, 34],\n",
       " [0, 33, 41, 9, 0, 0, 17],\n",
       " [0, 0, 0, 14, 0, 43, 43],\n",
       " [0, 20, 64, 0, 7, 0, 9],\n",
       " [0, 0, 0, 68, 0, 0, 32],\n",
       " [49, 0, 0, 46, 0, 0, 5],\n",
       " [0, 55, 0, 0, 0, 24, 21],\n",
       " [0, 14, 3, 49, 0, 30, 4]]"
      ]
     },
     "execution_count": 18,
     "metadata": {},
     "output_type": "execute_result"
    }
   ],
   "source": [
    "data = gen_data_content(gas_number, acid_number)\n",
    "data # m x n"
   ]
  },
  {
   "cell_type": "markdown",
   "id": "47005e31-d31e-437f-ba69-b63e665febc8",
   "metadata": {},
   "source": [
    "D_ij : i번째 oil에 포함되어 있는 j번째 acid의 함량"
   ]
  },
  {
   "cell_type": "code",
   "execution_count": 19,
   "id": "7f5e462b-0d84-45f1-921e-aad9e7c9d03e",
   "metadata": {},
   "outputs": [
    {
     "data": {
      "text/plain": [
       "[[12.825,\n",
       "  16.5015,\n",
       "  9.414499999999999,\n",
       "  30.390499999999996,\n",
       "  0.7125,\n",
       "  14.515999999999998,\n",
       "  10.64],\n",
       " [14.175, 18.238500000000002, 10.4055, 33.5895, 0.7875, 16.044, 11.76]]"
      ]
     },
     "execution_count": 19,
     "metadata": {},
     "output_type": "execute_result"
    }
   ],
   "source": [
    "target = gen_data_target(data)\n",
    "target # 2 x n"
   ]
  },
  {
   "cell_type": "markdown",
   "id": "fa68d318-406e-4aac-9cbb-fa382d5ecc18",
   "metadata": {},
   "source": [
    "영양분의 목표.  \n",
    "첫행이 최소값, 두번째 행이 최대값"
   ]
  },
  {
   "cell_type": "code",
   "execution_count": 20,
   "id": "ee908cd5-48af-42c4-aa7b-07030d660248",
   "metadata": {},
   "outputs": [
    {
     "data": {
      "text/plain": [
       "[[120, 173, 136, 100, 104],\n",
       " [180, 143, 141, 107, 120],\n",
       " [139, 122, 103, 143, 116],\n",
       " [160, 188, 114, 120, 163],\n",
       " [187, 116, 153, 148, 100],\n",
       " [140, 140, 189, 140, 198],\n",
       " [122, 193, 183, 198, 149],\n",
       " [135, 111, 135, 167, 150],\n",
       " [160, 121, 110, 129, 187]]"
      ]
     },
     "execution_count": 20,
     "metadata": {},
     "output_type": "execute_result"
    }
   ],
   "source": [
    "costs = gen_data_cost(gas_number, time_number)\n",
    "costs # m x k"
   ]
  },
  {
   "cell_type": "markdown",
   "id": "0c2d64a9-8af7-4d2f-b77b-dc787689ea04",
   "metadata": {},
   "source": [
    "행이 Oil, 열이 시간에 따른 Oil의 가격변화"
   ]
  },
  {
   "cell_type": "code",
   "execution_count": 21,
   "id": "180d44a7-bf39-459b-9670-ecfae63d0b1a",
   "metadata": {},
   "outputs": [
    {
     "data": {
      "text/plain": [
       "[[179], [94], [107], [62], [163], [199], [138], [22], [138]]"
      ]
     },
     "execution_count": 21,
     "metadata": {},
     "output_type": "execute_result"
    }
   ],
   "source": [
    "inventory = gen_data_inventory(gas_number)\n",
    "inventory # m"
   ]
  },
  {
   "cell_type": "markdown",
   "id": "3b219f68-d509-4885-9185-0f8cbee15196",
   "metadata": {},
   "source": [
    "초기 창고에 있는 함유량\n",
    "### 문제의 목적 : Oil을 어떻게 refined하고 blended를 통해 비용을 최소화 할까?"
   ]
  },
  {
   "cell_type": "code",
   "execution_count": 22,
   "id": "99f71f5f-6dc7-4d3b-b6d2-dbf4f4ba32ee",
   "metadata": {},
   "outputs": [],
   "source": [
    "def solve_multi_stage(data, target, costs, inventory, D, SC, SL):\n",
    "    s = newSolver('Multi-period soap blending problem')\n",
    "    oils = range(len(data)) # oil의 총 개수\n",
    "    periods, acids = range(len(costs[0])), range(len(data[0]))\n",
    "    buy = [[s.NumVar(0, D, '') for _ in periods] for _ in oils]\n",
    "    blend = [[s.NumVar(0, D, '') for _ in periods] for _ in oils] # 혼합에 이용\n",
    "    hold = [[s.NumVar(0, D, '') for _ in periods] for _ in oils]\n",
    "    prod = [s.NumVar(0, D, '') for _ in periods]\n",
    "    costP = [s.NumVar(0, D*1000, '') for _ in periods] # cost_purchase\n",
    "    costS = [s.NumVar(0, D*1000, '') for _ in periods] # cost_save\n",
    "    acid = [[s.NumVar(0, D*D, '') for _ in periods] for _ in acids]\n",
    "    for i in oils:\n",
    "        s.Add(hold[i][0] == inventory[i][0]) # 창고에 있는 보유량과 hold하는 양이 같다.\n",
    "    for j in periods:\n",
    "        s.Add(prod[j] == sum(blend[i][j] for i in oils)) # 생산량은 blending 하는 양과 같다.\n",
    "        s.Add(prod[j] >= D)\n",
    "        if j < periods[-1]:\n",
    "            for i in oils:\n",
    "                s.Add(hold[i][j] + buy[i][j] - blend[i][j] == hold[i][j+1])\n",
    "        s.Add(sum(hold[i][j] for i in oils) >= SL[0])\n",
    "        s.Add(sum(hold[i][j] for i in oils) <= SL[1])\n",
    "        for k in acids:\n",
    "            s.Add(acid[k][j] == sum(blend[i][j]*data[i][k] for i in oils))\n",
    "            s.Add(acid[k][j] >= target[0][k]*prod[j])\n",
    "            s.Add(acid[k][j] <= target[1][k]*prod[j])\n",
    "        s.Add(costP[j] == sum(buy[i][j]*costs[i][j] for i in oils))\n",
    "        s.Add(costS[j] == sum(hold[i][j]*SC for i in oils))\n",
    "    cost_product = s.Sum(costP[j] for j in periods)\n",
    "    cost_storage = s.Sum(costS[j] for j in periods)\n",
    "    s.Minimize(cost_product + cost_storage)\n",
    "    rc = s.Solve()\n",
    "    B, L, H, A = SolVal(buy), SolVal(blend), SolVal(hold), SolVal(acid)\n",
    "    CP, CS, P = SolVal(costP), SolVal(costS), SolVal(prod)\n",
    "    \n",
    "    return rc, ObjVal(s), B, L, H, P, A, CP, CS"
   ]
  },
  {
   "cell_type": "code",
   "execution_count": 23,
   "id": "d1c141d1-6dfb-4b97-afd7-9a08557a38e3",
   "metadata": {},
   "outputs": [],
   "source": [
    "demand = 5000\n",
    "cost = 5\n",
    "limits = [500, 2000]"
   ]
  },
  {
   "cell_type": "code",
   "execution_count": 24,
   "id": "5038756d-6b41-41e6-a1d0-745e4399a9cd",
   "metadata": {
    "tags": []
   },
   "outputs": [
    {
     "data": {
      "text/plain": [
       "(0,\n",
       " 2406785.1809491543,\n",
       " [[0.0, 0.0, 53.42029633669328, 1433.5367219008756, 0.0],\n",
       "  [0.0, 85.36000484390931, 671.9872345913504, 509.4655652203238, 0.0],\n",
       "  [147.22142150628787, 136.78440682897846, 647.0097845743022, 0.0, 0.0],\n",
       "  [133.66515087286623, 0.0, 0.0, 264.92973892556125, 0.0],\n",
       "  [345.92857142857144, 1413.7918545374903, 0.0, 0.0, 0.0],\n",
       "  [61.989108978722555, 237.1843820428578, 0.0, 347.22932639966115, 0.0],\n",
       "  [3035.4285714285716, 0.0, 0.0, 0.0, 0.0],\n",
       "  [952.4361268471068, 1305.4329117428056, 0.0, 0.0, 0.0],\n",
       "  [1221.3310489378728,\n",
       "   1821.4464400039576,\n",
       "   3627.5826844976546,\n",
       "   944.8386475535767,\n",
       "   0.0]],\n",
       " [[0.0, 0.0, 232.42029633669327, 933.5367219008758, 1226.1479306561391],\n",
       "  [0.0, 179.3600048439093, 671.9872345913504, 509.4655652203238, 0.0],\n",
       "  [254.22142150628792,\n",
       "   136.78440682897846,\n",
       "   309.76891235295153,\n",
       "   337.24087222135074,\n",
       "   244.73641150275665],\n",
       "  [195.6651508728662, 0.0, 0.0, 264.92973892556125, 266.18138050244136],\n",
       "  [508.9285714285714,\n",
       "   562.5,\n",
       "   475.725671951901,\n",
       "   375.56618258558916,\n",
       "   333.76458133483726],\n",
       "  [260.9891089787225,\n",
       "   237.1843820428578,\n",
       "   0.0,\n",
       "   347.22932639966126,\n",
       "   973.1062034344004],\n",
       "  [1446.4285714285718, 1154.93632237869, 572.0636776213104, 0.0, 0.0],\n",
       "  [974.4361268471068, 907.788443901606, 397.64446784119974, 0.0, 0.0],\n",
       "  [1359.3310489378725,\n",
       "   1821.4464400039576,\n",
       "   2340.389739304594,\n",
       "   2232.0315927466368,\n",
       "   1956.0634925694244]],\n",
       " [[179.0, 179.0, 179.0, 0.0, 500.0],\n",
       "  [94.0, 94.0, 0.0, 0.0, 0.0],\n",
       "  [107.0, 0.0, 0.0, 337.24087222135074, 0.0],\n",
       "  [62.0, 0.0, 0.0, 0.0, 0.0],\n",
       "  [163.0, 0.0, 851.2918545374899, 375.56618258558916, 0.0],\n",
       "  [199.0, 0.0, 0.0, 0.0, 0.0],\n",
       "  [138.0, 1727.0000000000002, 572.0636776213104, 0.0, 0.0],\n",
       "  [22.0, 0.0, 397.64446784119974, 0.0, 0.0],\n",
       "  [138.0, 0.0, 0.0, 1287.19294519306, 0.0]],\n",
       " [5000.0, 5000.0, 5000.0, 5000.0, 5000.0],\n",
       " [[70875.0, 64125.0, 68572.85976212566, 70875.0, 64985.840324775374],\n",
       "  [91192.50000000001,\n",
       "   91192.50000000001,\n",
       "   82507.5,\n",
       "   82562.49999999993,\n",
       "   85051.65967522452],\n",
       "  [47072.49999999999, 47072.49999999999, 52027.5, 52027.5, 47072.49999999999],\n",
       "  [155917.4999999999,\n",
       "   164042.18414624262,\n",
       "   159909.64023787435,\n",
       "   151952.49999999997,\n",
       "   167947.5],\n",
       "  [3562.5, 3937.5, 3562.5, 3562.5, 3562.5],\n",
       "  [72579.99999999999, 76430.31585375727, 80220.0, 80220.0, 72579.99999999999],\n",
       "  [58800.0, 53200.0, 53200.0, 58800.0, 58800.0]],\n",
       " [809531.4505119014,\n",
       "  591397.9193820937,\n",
       "  567691.4634850658,\n",
       "  400154.3475700935,\n",
       "  0.0],\n",
       " [5510.0, 10000.000000000002, 10000.0, 10000.0, 2500.0])"
      ]
     },
     "execution_count": 24,
     "metadata": {},
     "output_type": "execute_result"
    }
   ],
   "source": [
    "solve = solve_multi_stage(data=data, target=target, costs=costs, inventory=inventory, D=demand, SC=cost, SL=limits)\n",
    "solve"
   ]
  },
  {
   "cell_type": "code",
   "execution_count": 25,
   "id": "0c849f67-79af-45e0-8e6b-235969df938f",
   "metadata": {},
   "outputs": [
    {
     "name": "stdout",
     "output_type": "stream",
     "text": [
      "['gas_0', 'gas_1', 'gas_2', 'gas_3', 'gas_4', 'gas_5', 'gas_6', 'gas_7', 'gas_8']\n",
      "['month_0', 'month_1', 'month_2', 'month_3', 'month_4']\n"
     ]
    }
   ],
   "source": [
    "gas_index = [f'gas_{i}' for i in range(gas_number)]\n",
    "time_index = [f'month_{i}' for i in range(time_number)]\n",
    "print(gas_index)\n",
    "print(time_index)"
   ]
  },
  {
   "cell_type": "code",
   "execution_count": 26,
   "id": "a20ba327-6d44-4c79-824c-4f9849682b46",
   "metadata": {},
   "outputs": [
    {
     "data": {
      "text/html": [
       "<div>\n",
       "<style scoped>\n",
       "    .dataframe tbody tr th:only-of-type {\n",
       "        vertical-align: middle;\n",
       "    }\n",
       "\n",
       "    .dataframe tbody tr th {\n",
       "        vertical-align: top;\n",
       "    }\n",
       "\n",
       "    .dataframe thead th {\n",
       "        text-align: right;\n",
       "    }\n",
       "</style>\n",
       "<table border=\"1\" class=\"dataframe\">\n",
       "  <thead>\n",
       "    <tr style=\"text-align: right;\">\n",
       "      <th></th>\n",
       "      <th>month_0</th>\n",
       "      <th>month_1</th>\n",
       "      <th>month_2</th>\n",
       "      <th>month_3</th>\n",
       "      <th>month_4</th>\n",
       "    </tr>\n",
       "  </thead>\n",
       "  <tbody>\n",
       "    <tr>\n",
       "      <th>gas_0</th>\n",
       "      <td>0.000000</td>\n",
       "      <td>0.000000</td>\n",
       "      <td>53.420296</td>\n",
       "      <td>1433.536722</td>\n",
       "      <td>0.0</td>\n",
       "    </tr>\n",
       "    <tr>\n",
       "      <th>gas_1</th>\n",
       "      <td>0.000000</td>\n",
       "      <td>85.360005</td>\n",
       "      <td>671.987235</td>\n",
       "      <td>509.465565</td>\n",
       "      <td>0.0</td>\n",
       "    </tr>\n",
       "    <tr>\n",
       "      <th>gas_2</th>\n",
       "      <td>147.221422</td>\n",
       "      <td>136.784407</td>\n",
       "      <td>647.009785</td>\n",
       "      <td>0.000000</td>\n",
       "      <td>0.0</td>\n",
       "    </tr>\n",
       "    <tr>\n",
       "      <th>gas_3</th>\n",
       "      <td>133.665151</td>\n",
       "      <td>0.000000</td>\n",
       "      <td>0.000000</td>\n",
       "      <td>264.929739</td>\n",
       "      <td>0.0</td>\n",
       "    </tr>\n",
       "    <tr>\n",
       "      <th>gas_4</th>\n",
       "      <td>345.928571</td>\n",
       "      <td>1413.791855</td>\n",
       "      <td>0.000000</td>\n",
       "      <td>0.000000</td>\n",
       "      <td>0.0</td>\n",
       "    </tr>\n",
       "    <tr>\n",
       "      <th>gas_5</th>\n",
       "      <td>61.989109</td>\n",
       "      <td>237.184382</td>\n",
       "      <td>0.000000</td>\n",
       "      <td>347.229326</td>\n",
       "      <td>0.0</td>\n",
       "    </tr>\n",
       "    <tr>\n",
       "      <th>gas_6</th>\n",
       "      <td>3035.428571</td>\n",
       "      <td>0.000000</td>\n",
       "      <td>0.000000</td>\n",
       "      <td>0.000000</td>\n",
       "      <td>0.0</td>\n",
       "    </tr>\n",
       "    <tr>\n",
       "      <th>gas_7</th>\n",
       "      <td>952.436127</td>\n",
       "      <td>1305.432912</td>\n",
       "      <td>0.000000</td>\n",
       "      <td>0.000000</td>\n",
       "      <td>0.0</td>\n",
       "    </tr>\n",
       "    <tr>\n",
       "      <th>gas_8</th>\n",
       "      <td>1221.331049</td>\n",
       "      <td>1821.446440</td>\n",
       "      <td>3627.582684</td>\n",
       "      <td>944.838648</td>\n",
       "      <td>0.0</td>\n",
       "    </tr>\n",
       "  </tbody>\n",
       "</table>\n",
       "</div>"
      ],
      "text/plain": [
       "           month_0      month_1      month_2      month_3  month_4\n",
       "gas_0     0.000000     0.000000    53.420296  1433.536722      0.0\n",
       "gas_1     0.000000    85.360005   671.987235   509.465565      0.0\n",
       "gas_2   147.221422   136.784407   647.009785     0.000000      0.0\n",
       "gas_3   133.665151     0.000000     0.000000   264.929739      0.0\n",
       "gas_4   345.928571  1413.791855     0.000000     0.000000      0.0\n",
       "gas_5    61.989109   237.184382     0.000000   347.229326      0.0\n",
       "gas_6  3035.428571     0.000000     0.000000     0.000000      0.0\n",
       "gas_7   952.436127  1305.432912     0.000000     0.000000      0.0\n",
       "gas_8  1221.331049  1821.446440  3627.582684   944.838648      0.0"
      ]
     },
     "execution_count": 26,
     "metadata": {},
     "output_type": "execute_result"
    }
   ],
   "source": [
    "buy = pd.DataFrame(solve[2])\n",
    "buy.columns = time_index\n",
    "buy.index = gas_index\n",
    "buy"
   ]
  },
  {
   "cell_type": "code",
   "execution_count": 27,
   "id": "ea38b150-152f-4619-b38f-894cc4568167",
   "metadata": {},
   "outputs": [
    {
     "data": {
      "text/html": [
       "<div>\n",
       "<style scoped>\n",
       "    .dataframe tbody tr th:only-of-type {\n",
       "        vertical-align: middle;\n",
       "    }\n",
       "\n",
       "    .dataframe tbody tr th {\n",
       "        vertical-align: top;\n",
       "    }\n",
       "\n",
       "    .dataframe thead th {\n",
       "        text-align: right;\n",
       "    }\n",
       "</style>\n",
       "<table border=\"1\" class=\"dataframe\">\n",
       "  <thead>\n",
       "    <tr style=\"text-align: right;\">\n",
       "      <th></th>\n",
       "      <th>month_0</th>\n",
       "      <th>month_1</th>\n",
       "      <th>month_2</th>\n",
       "      <th>month_3</th>\n",
       "      <th>month_4</th>\n",
       "    </tr>\n",
       "  </thead>\n",
       "  <tbody>\n",
       "    <tr>\n",
       "      <th>gas_0</th>\n",
       "      <td>0.000000</td>\n",
       "      <td>0.000000</td>\n",
       "      <td>232.420296</td>\n",
       "      <td>933.536722</td>\n",
       "      <td>1226.147931</td>\n",
       "    </tr>\n",
       "    <tr>\n",
       "      <th>gas_1</th>\n",
       "      <td>0.000000</td>\n",
       "      <td>179.360005</td>\n",
       "      <td>671.987235</td>\n",
       "      <td>509.465565</td>\n",
       "      <td>0.000000</td>\n",
       "    </tr>\n",
       "    <tr>\n",
       "      <th>gas_2</th>\n",
       "      <td>254.221422</td>\n",
       "      <td>136.784407</td>\n",
       "      <td>309.768912</td>\n",
       "      <td>337.240872</td>\n",
       "      <td>244.736412</td>\n",
       "    </tr>\n",
       "    <tr>\n",
       "      <th>gas_3</th>\n",
       "      <td>195.665151</td>\n",
       "      <td>0.000000</td>\n",
       "      <td>0.000000</td>\n",
       "      <td>264.929739</td>\n",
       "      <td>266.181381</td>\n",
       "    </tr>\n",
       "    <tr>\n",
       "      <th>gas_4</th>\n",
       "      <td>508.928571</td>\n",
       "      <td>562.500000</td>\n",
       "      <td>475.725672</td>\n",
       "      <td>375.566183</td>\n",
       "      <td>333.764581</td>\n",
       "    </tr>\n",
       "    <tr>\n",
       "      <th>gas_5</th>\n",
       "      <td>260.989109</td>\n",
       "      <td>237.184382</td>\n",
       "      <td>0.000000</td>\n",
       "      <td>347.229326</td>\n",
       "      <td>973.106203</td>\n",
       "    </tr>\n",
       "    <tr>\n",
       "      <th>gas_6</th>\n",
       "      <td>1446.428571</td>\n",
       "      <td>1154.936322</td>\n",
       "      <td>572.063678</td>\n",
       "      <td>0.000000</td>\n",
       "      <td>0.000000</td>\n",
       "    </tr>\n",
       "    <tr>\n",
       "      <th>gas_7</th>\n",
       "      <td>974.436127</td>\n",
       "      <td>907.788444</td>\n",
       "      <td>397.644468</td>\n",
       "      <td>0.000000</td>\n",
       "      <td>0.000000</td>\n",
       "    </tr>\n",
       "    <tr>\n",
       "      <th>gas_8</th>\n",
       "      <td>1359.331049</td>\n",
       "      <td>1821.446440</td>\n",
       "      <td>2340.389739</td>\n",
       "      <td>2232.031593</td>\n",
       "      <td>1956.063493</td>\n",
       "    </tr>\n",
       "  </tbody>\n",
       "</table>\n",
       "</div>"
      ],
      "text/plain": [
       "           month_0      month_1      month_2      month_3      month_4\n",
       "gas_0     0.000000     0.000000   232.420296   933.536722  1226.147931\n",
       "gas_1     0.000000   179.360005   671.987235   509.465565     0.000000\n",
       "gas_2   254.221422   136.784407   309.768912   337.240872   244.736412\n",
       "gas_3   195.665151     0.000000     0.000000   264.929739   266.181381\n",
       "gas_4   508.928571   562.500000   475.725672   375.566183   333.764581\n",
       "gas_5   260.989109   237.184382     0.000000   347.229326   973.106203\n",
       "gas_6  1446.428571  1154.936322   572.063678     0.000000     0.000000\n",
       "gas_7   974.436127   907.788444   397.644468     0.000000     0.000000\n",
       "gas_8  1359.331049  1821.446440  2340.389739  2232.031593  1956.063493"
      ]
     },
     "execution_count": 27,
     "metadata": {},
     "output_type": "execute_result"
    }
   ],
   "source": [
    "blend = pd.DataFrame(solve[3])\n",
    "blend.columns = time_index\n",
    "blend.index = gas_index\n",
    "blend"
   ]
  },
  {
   "cell_type": "code",
   "execution_count": 28,
   "id": "34cfff9d-3b0c-4891-9ae6-13daf1d1e935",
   "metadata": {},
   "outputs": [
    {
     "data": {
      "text/html": [
       "<div>\n",
       "<style scoped>\n",
       "    .dataframe tbody tr th:only-of-type {\n",
       "        vertical-align: middle;\n",
       "    }\n",
       "\n",
       "    .dataframe tbody tr th {\n",
       "        vertical-align: top;\n",
       "    }\n",
       "\n",
       "    .dataframe thead th {\n",
       "        text-align: right;\n",
       "    }\n",
       "</style>\n",
       "<table border=\"1\" class=\"dataframe\">\n",
       "  <thead>\n",
       "    <tr style=\"text-align: right;\">\n",
       "      <th></th>\n",
       "      <th>month_0</th>\n",
       "      <th>month_1</th>\n",
       "      <th>month_2</th>\n",
       "      <th>month_3</th>\n",
       "      <th>month_4</th>\n",
       "    </tr>\n",
       "  </thead>\n",
       "  <tbody>\n",
       "    <tr>\n",
       "      <th>gas_0</th>\n",
       "      <td>179.0</td>\n",
       "      <td>179.0</td>\n",
       "      <td>179.000000</td>\n",
       "      <td>0.000000</td>\n",
       "      <td>500.0</td>\n",
       "    </tr>\n",
       "    <tr>\n",
       "      <th>gas_1</th>\n",
       "      <td>94.0</td>\n",
       "      <td>94.0</td>\n",
       "      <td>0.000000</td>\n",
       "      <td>0.000000</td>\n",
       "      <td>0.0</td>\n",
       "    </tr>\n",
       "    <tr>\n",
       "      <th>gas_2</th>\n",
       "      <td>107.0</td>\n",
       "      <td>0.0</td>\n",
       "      <td>0.000000</td>\n",
       "      <td>337.240872</td>\n",
       "      <td>0.0</td>\n",
       "    </tr>\n",
       "    <tr>\n",
       "      <th>gas_3</th>\n",
       "      <td>62.0</td>\n",
       "      <td>0.0</td>\n",
       "      <td>0.000000</td>\n",
       "      <td>0.000000</td>\n",
       "      <td>0.0</td>\n",
       "    </tr>\n",
       "    <tr>\n",
       "      <th>gas_4</th>\n",
       "      <td>163.0</td>\n",
       "      <td>0.0</td>\n",
       "      <td>851.291855</td>\n",
       "      <td>375.566183</td>\n",
       "      <td>0.0</td>\n",
       "    </tr>\n",
       "    <tr>\n",
       "      <th>gas_5</th>\n",
       "      <td>199.0</td>\n",
       "      <td>0.0</td>\n",
       "      <td>0.000000</td>\n",
       "      <td>0.000000</td>\n",
       "      <td>0.0</td>\n",
       "    </tr>\n",
       "    <tr>\n",
       "      <th>gas_6</th>\n",
       "      <td>138.0</td>\n",
       "      <td>1727.0</td>\n",
       "      <td>572.063678</td>\n",
       "      <td>0.000000</td>\n",
       "      <td>0.0</td>\n",
       "    </tr>\n",
       "    <tr>\n",
       "      <th>gas_7</th>\n",
       "      <td>22.0</td>\n",
       "      <td>0.0</td>\n",
       "      <td>397.644468</td>\n",
       "      <td>0.000000</td>\n",
       "      <td>0.0</td>\n",
       "    </tr>\n",
       "    <tr>\n",
       "      <th>gas_8</th>\n",
       "      <td>138.0</td>\n",
       "      <td>0.0</td>\n",
       "      <td>0.000000</td>\n",
       "      <td>1287.192945</td>\n",
       "      <td>0.0</td>\n",
       "    </tr>\n",
       "  </tbody>\n",
       "</table>\n",
       "</div>"
      ],
      "text/plain": [
       "       month_0  month_1     month_2      month_3  month_4\n",
       "gas_0    179.0    179.0  179.000000     0.000000    500.0\n",
       "gas_1     94.0     94.0    0.000000     0.000000      0.0\n",
       "gas_2    107.0      0.0    0.000000   337.240872      0.0\n",
       "gas_3     62.0      0.0    0.000000     0.000000      0.0\n",
       "gas_4    163.0      0.0  851.291855   375.566183      0.0\n",
       "gas_5    199.0      0.0    0.000000     0.000000      0.0\n",
       "gas_6    138.0   1727.0  572.063678     0.000000      0.0\n",
       "gas_7     22.0      0.0  397.644468     0.000000      0.0\n",
       "gas_8    138.0      0.0    0.000000  1287.192945      0.0"
      ]
     },
     "execution_count": 28,
     "metadata": {},
     "output_type": "execute_result"
    }
   ],
   "source": [
    "hold = pd.DataFrame(solve[4])\n",
    "hold.columns = time_index\n",
    "hold.index = gas_index\n",
    "hold"
   ]
  },
  {
   "cell_type": "markdown",
   "id": "f5ef0aca-3000-4adc-adbe-6af49330a4b0",
   "metadata": {},
   "source": [
    "## 최적화를 이용한 패턴분류"
   ]
  },
  {
   "cell_type": "code",
   "execution_count": 29,
   "id": "22c79ff3-8fe6-4400-8c1f-69a7a293bd31",
   "metadata": {},
   "outputs": [],
   "source": [
    "def inner(a, b): # 내적 연산자\n",
    "    s = 0\n",
    "    for i in range(len(a)):\n",
    "        s += a[i]*b[i]\n",
    "    return s\n",
    "\n",
    "def gen_features(n,m):\n",
    "  # Generating n vectors of m features linearly separable\n",
    "    a=gen_hyperplane(m)\n",
    "    A,B,i=[],[],0\n",
    "    while len(A) < n:\n",
    "        x=[randint(-10,10) for _ in range(m)]\n",
    "        if inner(a[0:m],x) < a[m]-1:\n",
    "            A.append(x)\n",
    "    while len(B) < n:\n",
    "        x=[randint(-10,10) for _ in range(m)]\n",
    "        if inner(a[0:m],x) > a[m]+1:\n",
    "            B.append(x)\n",
    "    return A,B,a\n",
    "\n",
    "def gen_hyperplane(m):\n",
    "    return [randint(-10,10) for _ in range(m+1)]"
   ]
  },
  {
   "cell_type": "code",
   "execution_count": 30,
   "id": "fc560b8a-c23b-43d5-a53e-b08d5c674ca2",
   "metadata": {},
   "outputs": [],
   "source": [
    "def solve_classification(A, B):\n",
    "    n, ma, mb = len(A[0]), len(A), len(B)\n",
    "    s = newSolver('Classification')\n",
    "    ya = [s.NumVar(0, 99, '') for _ in range(ma)]\n",
    "    yb = [s.NumVar(0, 99, '') for _ in range(mb)]\n",
    "    a = [s.NumVar(-99, 99, '') for _ in range(n+1)]\n",
    "    for i in range(ma):\n",
    "        s.Add(ya[i] >= a[n]+1-s.Sum(a[j]*A[i][j] for j in range(n)))\n",
    "    for i in range(mb):\n",
    "        s.Add(yb[i] >= s.Sum(a[j]*B[i][j] for j in range(n)) - a[n]+1)\n",
    "    Agap = s.Sum(ya[i] for i in range(ma))\n",
    "    Bgap = s.Sum(yb[i] for i in range(mb))\n",
    "    s.Minimize(Agap + Bgap)\n",
    "    rc = s.Solve()\n",
    "    \n",
    "    return rc, ObjVal(s), SolVal(a)"
   ]
  },
  {
   "cell_type": "code",
   "execution_count": 31,
   "id": "254b1cb4-232b-4527-bac8-e44fd2bb5f7b",
   "metadata": {},
   "outputs": [],
   "source": [
    "A, B, a = gen_features(12, 2)"
   ]
  },
  {
   "cell_type": "code",
   "execution_count": 32,
   "id": "95fbde3e-db20-4304-9298-b5ecf0ddcc25",
   "metadata": {},
   "outputs": [
    {
     "data": {
      "text/plain": [
       "[[2, 2],\n",
       " [-8, 7],\n",
       " [6, 2],\n",
       " [5, -1],\n",
       " [-6, 10],\n",
       " [7, 7],\n",
       " [6, 7],\n",
       " [-7, 9],\n",
       " [9, 4],\n",
       " [3, 1],\n",
       " [0, 5],\n",
       " [-1, 3]]"
      ]
     },
     "execution_count": 32,
     "metadata": {},
     "output_type": "execute_result"
    }
   ],
   "source": [
    "A"
   ]
  },
  {
   "cell_type": "code",
   "execution_count": 33,
   "id": "9eceefc2-7444-467c-ae28-6d92297c6061",
   "metadata": {},
   "outputs": [
    {
     "data": {
      "text/plain": [
       "[[-9, -1],\n",
       " [1, -5],\n",
       " [2, -4],\n",
       " [-2, -9],\n",
       " [-5, 2],\n",
       " [0, -8],\n",
       " [-9, 6],\n",
       " [-6, -3],\n",
       " [-6, -4],\n",
       " [-3, 0],\n",
       " [-9, 0],\n",
       " [-9, 3]]"
      ]
     },
     "execution_count": 33,
     "metadata": {},
     "output_type": "execute_result"
    }
   ],
   "source": [
    "B"
   ]
  },
  {
   "cell_type": "code",
   "execution_count": 34,
   "id": "66590340-1ac6-4ef2-97c3-80d6d3c028c1",
   "metadata": {},
   "outputs": [
    {
     "data": {
      "text/plain": [
       "[-6, -7, 8]"
      ]
     },
     "execution_count": 34,
     "metadata": {},
     "output_type": "execute_result"
    }
   ],
   "source": [
    "a"
   ]
  },
  {
   "cell_type": "code",
   "execution_count": 35,
   "id": "76582af8-1ca6-49ef-9e02-36ef1bc6f499",
   "metadata": {},
   "outputs": [
    {
     "data": {
      "text/plain": [
       "(0, 0.0, [0.7619047619047616, 1.2380952380952377, 1.571428571428571])"
      ]
     },
     "execution_count": 35,
     "metadata": {},
     "output_type": "execute_result"
    }
   ],
   "source": [
    "solve_classification(A, B)"
   ]
  }
 ],
 "metadata": {
  "kernelspec": {
   "display_name": "Python 3 (ipykernel)",
   "language": "python",
   "name": "python3"
  },
  "language_info": {
   "codemirror_mode": {
    "name": "ipython",
    "version": 3
   },
   "file_extension": ".py",
   "mimetype": "text/x-python",
   "name": "python",
   "nbconvert_exporter": "python",
   "pygments_lexer": "ipython3",
   "version": "3.9.1"
  }
 },
 "nbformat": 4,
 "nbformat_minor": 5
}
