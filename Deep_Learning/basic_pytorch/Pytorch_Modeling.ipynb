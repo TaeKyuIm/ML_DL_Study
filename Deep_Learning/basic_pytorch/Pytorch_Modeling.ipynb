{
 "cells": [
  {
   "cell_type": "code",
   "execution_count": 1,
   "id": "b014c340",
   "metadata": {},
   "outputs": [],
   "source": [
    "import torch\n",
    "import numpy as np"
   ]
  },
  {
   "cell_type": "markdown",
   "id": "2ec9a293",
   "metadata": {},
   "source": [
    "# contiguous()"
   ]
  },
  {
   "cell_type": "markdown",
   "id": "6f21d66d",
   "metadata": {},
   "source": [
    "메모리에 0/1/2/3/4 순으로 저장되어 있으면 contiguous\n",
    "\n",
    "메모리에 0/1/2/\\n/3/4 순으로 저장되어 있으면 non contiguous"
   ]
  },
  {
   "cell_type": "code",
   "execution_count": 2,
   "id": "aaaf649e",
   "metadata": {},
   "outputs": [
    {
     "data": {
      "text/plain": [
       "tensor([[ 0,  1,  2,  3],\n",
       "        [ 4,  5,  6,  7],\n",
       "        [ 8,  9, 10, 11]])"
      ]
     },
     "execution_count": 2,
     "metadata": {},
     "output_type": "execute_result"
    }
   ],
   "source": [
    "A = torch.tensor([[0, 1, 2, 3], [4, 5, 6, 7], [8, 9, 10, 11]])\n",
    "A"
   ]
  },
  {
   "cell_type": "code",
   "execution_count": 3,
   "id": "c628ee65",
   "metadata": {},
   "outputs": [
    {
     "data": {
      "text/plain": [
       "True"
      ]
     },
     "execution_count": 3,
     "metadata": {},
     "output_type": "execute_result"
    }
   ],
   "source": [
    "A.is_contiguous()"
   ]
  },
  {
   "cell_type": "code",
   "execution_count": 5,
   "id": "c1689395",
   "metadata": {},
   "outputs": [
    {
     "data": {
      "text/plain": [
       "tensor([[ 0,  4,  8],\n",
       "        [ 1,  5,  9],\n",
       "        [ 2,  6, 10],\n",
       "        [ 3,  7, 11]])"
      ]
     },
     "execution_count": 5,
     "metadata": {},
     "output_type": "execute_result"
    }
   ],
   "source": [
    "A_t = A.T\n",
    "A_t"
   ]
  },
  {
   "cell_type": "code",
   "execution_count": 6,
   "id": "ae5793a7",
   "metadata": {},
   "outputs": [
    {
     "data": {
      "text/plain": [
       "False"
      ]
     },
     "execution_count": 6,
     "metadata": {},
     "output_type": "execute_result"
    }
   ],
   "source": [
    "A_t.is_contiguous()"
   ]
  },
  {
   "cell_type": "code",
   "execution_count": 7,
   "id": "b15b488e",
   "metadata": {},
   "outputs": [],
   "source": [
    "A_t_contigous = A_t.contiguous()"
   ]
  },
  {
   "cell_type": "code",
   "execution_count": 8,
   "id": "6013f95c",
   "metadata": {},
   "outputs": [
    {
     "data": {
      "text/plain": [
       "True"
      ]
     },
     "execution_count": 8,
     "metadata": {},
     "output_type": "execute_result"
    }
   ],
   "source": [
    "A_t_contigous.is_contiguous()"
   ]
  },
  {
   "cell_type": "markdown",
   "id": "b3ae885f",
   "metadata": {},
   "source": [
    "즉 메모리에 저장되어 있는 순서는 같은데, 보여지는 정보만 달라진 것이다.\n",
    "\n",
    "이때 A_t.contiguous()를 통해 보여지는 것과 메모리에 할당된 순서를 업데이트 가능하다."
   ]
  },
  {
   "cell_type": "markdown",
   "id": "183bdb72",
   "metadata": {},
   "source": [
    "# argmax()"
   ]
  },
  {
   "cell_type": "code",
   "execution_count": 12,
   "id": "30e3830d",
   "metadata": {},
   "outputs": [
    {
     "data": {
      "text/plain": [
       "tensor([[[7, 4],\n",
       "         [3, 0],\n",
       "         [6, 0],\n",
       "         [3, 6]],\n",
       "\n",
       "        [[3, 2],\n",
       "         [3, 7],\n",
       "         [5, 9],\n",
       "         [8, 2]],\n",
       "\n",
       "        [[2, 4],\n",
       "         [3, 7],\n",
       "         [7, 8],\n",
       "         [8, 3]]])"
      ]
     },
     "execution_count": 12,
     "metadata": {},
     "output_type": "execute_result"
    }
   ],
   "source": [
    "A = torch.randint(10, (3, 4, 2)) # 10까지 (3, 4, 2)차원인 텐서 생성\n",
    "A"
   ]
  },
  {
   "cell_type": "code",
   "execution_count": 15,
   "id": "687febe3",
   "metadata": {},
   "outputs": [
    {
     "data": {
      "text/plain": [
       "tensor([[0, 0],\n",
       "        [0, 1],\n",
       "        [2, 1],\n",
       "        [1, 0]])"
      ]
     },
     "execution_count": 15,
     "metadata": {},
     "output_type": "execute_result"
    }
   ],
   "source": [
    "torch.argmax(A, dim=0)\n",
    "# dim=0은 채널 방향. 즉 2차원 텐서 특정 지점에서 3개의 채널을 비교해서 제일 값이 큰 채널의 인덱스를 반환"
   ]
  },
  {
   "cell_type": "code",
   "execution_count": 14,
   "id": "bd136606",
   "metadata": {},
   "outputs": [
    {
     "data": {
      "text/plain": [
       "torch.Size([4, 2])"
      ]
     },
     "execution_count": 14,
     "metadata": {},
     "output_type": "execute_result"
    }
   ],
   "source": [
    "torch.argmax(A, dim=0).shape"
   ]
  },
  {
   "cell_type": "code",
   "execution_count": 16,
   "id": "8a35099e",
   "metadata": {},
   "outputs": [
    {
     "data": {
      "text/plain": [
       "tensor([[[0, 0],\n",
       "         [0, 1],\n",
       "         [2, 1],\n",
       "         [1, 0]]])"
      ]
     },
     "execution_count": 16,
     "metadata": {},
     "output_type": "execute_result"
    }
   ],
   "source": [
    "torch.argmax(A, dim=0, keepdim = True)"
   ]
  },
  {
   "cell_type": "code",
   "execution_count": 17,
   "id": "627f1562",
   "metadata": {},
   "outputs": [
    {
     "data": {
      "text/plain": [
       "torch.Size([1, 4, 2])"
      ]
     },
     "execution_count": 17,
     "metadata": {},
     "output_type": "execute_result"
    }
   ],
   "source": [
    "torch.argmax(A, dim=0, keepdim = True).shape\n",
    "# 제일 값이 큰 채널이 있는 텐서빼고 다 날림"
   ]
  },
  {
   "cell_type": "code",
   "execution_count": 20,
   "id": "d5d69438",
   "metadata": {},
   "outputs": [
    {
     "name": "stdout",
     "output_type": "stream",
     "text": [
      "tensor([[0, 3],\n",
      "        [3, 2],\n",
      "        [3, 2]])\n",
      "torch.Size([3, 2])\n"
     ]
    }
   ],
   "source": [
    "print(torch.argmax(A, dim=1))\n",
    "print(torch.argmax(A, dim=1).shape)\n",
    "# 높이 기준"
   ]
  },
  {
   "cell_type": "code",
   "execution_count": 21,
   "id": "1a33fddc",
   "metadata": {},
   "outputs": [
    {
     "data": {
      "text/plain": [
       "tensor([[[0, 3]],\n",
       "\n",
       "        [[3, 2]],\n",
       "\n",
       "        [[3, 2]]])"
      ]
     },
     "execution_count": 21,
     "metadata": {},
     "output_type": "execute_result"
    }
   ],
   "source": [
    "torch.argmax(A, dim=1, keepdim = True)"
   ]
  },
  {
   "cell_type": "code",
   "execution_count": 23,
   "id": "1878dc1f",
   "metadata": {},
   "outputs": [
    {
     "data": {
      "text/plain": [
       "torch.Size([3, 1, 2])"
      ]
     },
     "execution_count": 23,
     "metadata": {},
     "output_type": "execute_result"
    }
   ],
   "source": [
    "torch.argmax(A, dim=1, keepdim = True).shape"
   ]
  },
  {
   "cell_type": "code",
   "execution_count": 24,
   "id": "b60b9dca",
   "metadata": {},
   "outputs": [
    {
     "data": {
      "text/plain": [
       "tensor([[0, 0, 0, 1],\n",
       "        [0, 1, 1, 0],\n",
       "        [1, 1, 1, 0]])"
      ]
     },
     "execution_count": 24,
     "metadata": {},
     "output_type": "execute_result"
    }
   ],
   "source": [
    "torch.argmax(A, dim=2)\n",
    "# 너비 기준"
   ]
  },
  {
   "cell_type": "code",
   "execution_count": 25,
   "id": "88ba69e6",
   "metadata": {},
   "outputs": [
    {
     "data": {
      "text/plain": [
       "torch.Size([3, 4])"
      ]
     },
     "execution_count": 25,
     "metadata": {},
     "output_type": "execute_result"
    }
   ],
   "source": [
    "torch.argmax(A, dim=2).shape"
   ]
  },
  {
   "cell_type": "code",
   "execution_count": 26,
   "id": "7f12dbef",
   "metadata": {},
   "outputs": [
    {
     "data": {
      "text/plain": [
       "tensor([[[0],\n",
       "         [0],\n",
       "         [0],\n",
       "         [1]],\n",
       "\n",
       "        [[0],\n",
       "         [1],\n",
       "         [1],\n",
       "         [0]],\n",
       "\n",
       "        [[1],\n",
       "         [1],\n",
       "         [1],\n",
       "         [0]]])"
      ]
     },
     "execution_count": 26,
     "metadata": {},
     "output_type": "execute_result"
    }
   ],
   "source": [
    "torch.argmax(A, dim=2, keepdim=True)"
   ]
  },
  {
   "cell_type": "code",
   "execution_count": 27,
   "id": "d9e79b98",
   "metadata": {},
   "outputs": [
    {
     "data": {
      "text/plain": [
       "torch.Size([3, 4, 1])"
      ]
     },
     "execution_count": 27,
     "metadata": {},
     "output_type": "execute_result"
    }
   ],
   "source": [
    "torch.argmax(A, dim=2, keepdim=True).shape"
   ]
  },
  {
   "cell_type": "markdown",
   "id": "d8c8235b",
   "metadata": {},
   "source": [
    "0번째 축은 화면 안으로 들어가는 방향, 1번째 축은 높이 방향, 2번째 축은 가로 방향"
   ]
  },
  {
   "cell_type": "code",
   "execution_count": 30,
   "id": "050d7444",
   "metadata": {},
   "outputs": [
    {
     "data": {
      "text/plain": [
       "tensor([[0.9165, 0.6731],\n",
       "        [0.9941, 0.3027],\n",
       "        [0.2350, 0.8714]])"
      ]
     },
     "execution_count": 30,
     "metadata": {},
     "output_type": "execute_result"
    }
   ],
   "source": [
    "B = torch.rand(3, 2)\n",
    "B"
   ]
  },
  {
   "cell_type": "code",
   "execution_count": 31,
   "id": "1f95b0e5",
   "metadata": {},
   "outputs": [
    {
     "data": {
      "text/plain": [
       "tensor([1, 2])"
      ]
     },
     "execution_count": 31,
     "metadata": {},
     "output_type": "execute_result"
    }
   ],
   "source": [
    "torch.argmax(B, dim=0)"
   ]
  },
  {
   "cell_type": "markdown",
   "id": "9208fdbd",
   "metadata": {},
   "source": [
    "즉 여기서는 높이 방향은 .9941, .8714가 제일 크고, 높이 위치는 각각 1, 2번째 인덱스이다."
   ]
  },
  {
   "cell_type": "code",
   "execution_count": 32,
   "id": "8fa0c9c5",
   "metadata": {},
   "outputs": [
    {
     "data": {
      "text/plain": [
       "tensor([[1, 2]])"
      ]
     },
     "execution_count": 32,
     "metadata": {},
     "output_type": "execute_result"
    }
   ],
   "source": [
    "torch.argmax(B, dim=0, keepdim=True)"
   ]
  },
  {
   "cell_type": "code",
   "execution_count": 33,
   "id": "49f4ed57",
   "metadata": {},
   "outputs": [
    {
     "data": {
      "text/plain": [
       "tensor([0, 0, 1])"
      ]
     },
     "execution_count": 33,
     "metadata": {},
     "output_type": "execute_result"
    }
   ],
   "source": [
    "torch.argmax(B, dim=1)"
   ]
  },
  {
   "cell_type": "code",
   "execution_count": 34,
   "id": "85d921d4",
   "metadata": {},
   "outputs": [
    {
     "data": {
      "text/plain": [
       "tensor([[0],\n",
       "        [0],\n",
       "        [1]])"
      ]
     },
     "execution_count": 34,
     "metadata": {},
     "output_type": "execute_result"
    }
   ],
   "source": [
    "torch.argmax(B, dim=1, keepdim=True)"
   ]
  },
  {
   "cell_type": "markdown",
   "id": "a68169a2",
   "metadata": {},
   "source": [
    "# numpy 배열과 토치의 텐서 변환"
   ]
  },
  {
   "cell_type": "markdown",
   "id": "77816d58",
   "metadata": {},
   "source": [
    "numpy 배열에서 토치의 텐서로"
   ]
  },
  {
   "cell_type": "code",
   "execution_count": 35,
   "id": "4f2da3f6",
   "metadata": {},
   "outputs": [
    {
     "data": {
      "text/plain": [
       "tensor([[[0.2661, 0.1321, 0.2578,  ..., 0.5965, 0.5601, 0.9763],\n",
       "         [0.9791, 0.4239, 0.8937,  ..., 0.2862, 0.6900, 0.6624],\n",
       "         [0.0432, 0.6333, 0.6014,  ..., 0.6868, 0.3571, 0.4619],\n",
       "         ...,\n",
       "         [0.8063, 0.2974, 0.7452,  ..., 0.0546, 0.9343, 0.8274],\n",
       "         [0.4745, 0.8952, 0.5187,  ..., 0.5554, 0.8581, 0.3449],\n",
       "         [0.1129, 0.7825, 0.2729,  ..., 0.4650, 0.3233, 0.5135]],\n",
       "\n",
       "        [[0.5016, 0.8979, 0.8700,  ..., 0.7622, 0.7759, 0.3228],\n",
       "         [0.1159, 0.6503, 0.6079,  ..., 0.3766, 0.7496, 0.1899],\n",
       "         [0.9687, 0.1023, 0.4013,  ..., 0.3056, 0.5203, 0.0033],\n",
       "         ...,\n",
       "         [0.4212, 0.3171, 0.8454,  ..., 0.3388, 0.8447, 0.0338],\n",
       "         [0.6091, 0.6382, 0.9271,  ..., 0.8156, 0.6660, 0.4343],\n",
       "         [0.2916, 0.9309, 0.4379,  ..., 0.4610, 0.6087, 0.3420]],\n",
       "\n",
       "        [[0.1530, 0.2102, 0.5695,  ..., 0.9908, 0.6878, 0.1926],\n",
       "         [0.9012, 0.2175, 0.2803,  ..., 0.3420, 0.9963, 0.7903],\n",
       "         [0.1905, 0.7665, 0.8879,  ..., 0.1864, 0.5605, 0.2165],\n",
       "         ...,\n",
       "         [0.9021, 0.4625, 0.7174,  ..., 0.2687, 0.1159, 0.3273],\n",
       "         [0.3892, 0.6055, 0.2605,  ..., 0.9227, 0.5314, 0.1867],\n",
       "         [0.4438, 0.8379, 0.5872,  ..., 0.4402, 0.4637, 0.5682]]],\n",
       "       dtype=torch.float64)"
      ]
     },
     "execution_count": 35,
     "metadata": {},
     "output_type": "execute_result"
    }
   ],
   "source": [
    "A = np.random.rand(3, 100, 100)\n",
    "torch.from_numpy(A)"
   ]
  },
  {
   "cell_type": "markdown",
   "id": "82a23df8",
   "metadata": {},
   "source": [
    "토치의 텐서에서 넘파이 배열로의 변환은 cpu device 상에서 이루어져야 한다."
   ]
  },
  {
   "cell_type": "code",
   "execution_count": 36,
   "id": "92586677",
   "metadata": {},
   "outputs": [
    {
     "data": {
      "text/plain": [
       "array([1, 2, 3], dtype=int64)"
      ]
     },
     "execution_count": 36,
     "metadata": {},
     "output_type": "execute_result"
    }
   ],
   "source": [
    "B = torch.tensor([1, 2, 3])\n",
    "B_np = B.detach().cpu().numpy()\n",
    "B_np"
   ]
  },
  {
   "cell_type": "markdown",
   "id": "89b96ecd",
   "metadata": {},
   "source": [
    "# torch.unsqueeze()와 torch.squeeze()"
   ]
  },
  {
   "cell_type": "code",
   "execution_count": 37,
   "id": "427cac21",
   "metadata": {},
   "outputs": [
    {
     "name": "stdout",
     "output_type": "stream",
     "text": [
      "torch.Size([5, 5])\n"
     ]
    }
   ],
   "source": [
    "tensor = torch.rand(5,5)\n",
    "print(tensor.shape)"
   ]
  },
  {
   "cell_type": "code",
   "execution_count": 38,
   "id": "01d1e421",
   "metadata": {},
   "outputs": [
    {
     "data": {
      "text/plain": [
       "torch.Size([1, 5, 5])"
      ]
     },
     "execution_count": 38,
     "metadata": {},
     "output_type": "execute_result"
    }
   ],
   "source": [
    "tensor = torch.unsqueeze(tensor, 0)\n",
    "tensor.shape\n",
    "\n",
    "# 크기가 1인 새로운 차원 생성"
   ]
  },
  {
   "cell_type": "code",
   "execution_count": 39,
   "id": "511d8e7c",
   "metadata": {},
   "outputs": [
    {
     "name": "stdout",
     "output_type": "stream",
     "text": [
      "torch.Size([5, 1, 5])\n"
     ]
    }
   ],
   "source": [
    "tensor = torch.rand(5,5)\n",
    "tensor = torch.unsqueeze(tensor, 1)\n",
    "\n",
    "# 크기가 1인 새로운 차원을 1번째 차원 텐서에 생성\n",
    "\n",
    "print(tensor.shape)"
   ]
  },
  {
   "cell_type": "code",
   "execution_count": 41,
   "id": "e9f125ee",
   "metadata": {},
   "outputs": [
    {
     "name": "stdout",
     "output_type": "stream",
     "text": [
      "torch.Size([5, 5, 1])\n"
     ]
    }
   ],
   "source": [
    "tensor = torch.rand(5, 5)\n",
    "tensor = torch.unsqueeze(tensor, 2)\n",
    "print(tensor.shape)"
   ]
  },
  {
   "cell_type": "markdown",
   "id": "85b39084",
   "metadata": {},
   "source": [
    "unsqueeze가 크기가 1인 차원을 생성하는 것이라면, squeeze는 크기가 1인 차원을 제거 하는 것이다."
   ]
  },
  {
   "cell_type": "code",
   "execution_count": 42,
   "id": "279c08b6",
   "metadata": {},
   "outputs": [
    {
     "name": "stdout",
     "output_type": "stream",
     "text": [
      "torch.Size([1, 5, 5])\n"
     ]
    }
   ],
   "source": [
    "tensor = torch.rand(1, 5, 5)\n",
    "print(tensor.shape)"
   ]
  },
  {
   "cell_type": "code",
   "execution_count": 43,
   "id": "691d24fe",
   "metadata": {},
   "outputs": [
    {
     "name": "stdout",
     "output_type": "stream",
     "text": [
      "torch.Size([5, 5])\n"
     ]
    }
   ],
   "source": [
    "tensor = torch.squeeze(tensor, 0)\n",
    "print(tensor.shape)"
   ]
  },
  {
   "cell_type": "code",
   "execution_count": 44,
   "id": "85fc471b",
   "metadata": {},
   "outputs": [
    {
     "name": "stdout",
     "output_type": "stream",
     "text": [
      "torch.Size([1, 5, 5])\n"
     ]
    }
   ],
   "source": [
    "tensor = torch.rand(1, 5, 5)\n",
    "tensor = torch.squeeze(tensor, 1)\n",
    "print(tensor.shape)\n",
    "# 차원 텐서의 해당 인덱스에서 크기가 1이 아니라면 제거 안됨"
   ]
  },
  {
   "cell_type": "markdown",
   "id": "59d04e3a",
   "metadata": {},
   "source": [
    "# Variable(data)"
   ]
  },
  {
   "cell_type": "code",
   "execution_count": 46,
   "id": "286c24a2",
   "metadata": {},
   "outputs": [
    {
     "data": {
      "text/plain": [
       "tensor([0.9546, 0.9395, 0.9020], requires_grad=True)"
      ]
     },
     "execution_count": 46,
     "metadata": {},
     "output_type": "execute_result"
    }
   ],
   "source": [
    "from torch.autograd import Variable\n",
    "\n",
    "v1 = Variable(torch.rand(3), requires_grad = True)\n",
    "v1"
   ]
  },
  {
   "cell_type": "code",
   "execution_count": 47,
   "id": "b81d35a7",
   "metadata": {},
   "outputs": [
    {
     "name": "stdout",
     "output_type": "stream",
     "text": [
      "tensor([0.4008, 0.5433, 0.4036])\n"
     ]
    }
   ],
   "source": [
    "with torch.no_grad():\n",
    "    v2 = Variable(torch.rand(3))\n",
    "print(v2)"
   ]
  },
  {
   "cell_type": "markdown",
   "id": "7514bbc3",
   "metadata": {},
   "source": [
    "즉 v1에 해당되는 텐서는 학습이 적용되고, v2에 해당되는 텐서들은 학습에 적용 안됨."
   ]
  },
  {
   "cell_type": "markdown",
   "id": "d6b2cf6a",
   "metadata": {},
   "source": [
    "# F.interpolate()와 nn.Upsample()"
   ]
  },
  {
   "cell_type": "markdown",
   "id": "ac1768a2",
   "metadata": {},
   "source": [
    "2 메서드 전부 작은 데이터의 개수를 크게 할때 이용"
   ]
  },
  {
   "cell_type": "code",
   "execution_count": 48,
   "id": "d66d79a3",
   "metadata": {},
   "outputs": [],
   "source": [
    "import torch.nn as nn\n",
    "import torch.nn.functional as F"
   ]
  },
  {
   "cell_type": "code",
   "execution_count": 49,
   "id": "e931cef1",
   "metadata": {},
   "outputs": [
    {
     "data": {
      "text/plain": [
       "tensor([[[[ 0.,  1.,  2.,  3.],\n",
       "          [ 4.,  5.,  6.,  7.],\n",
       "          [ 8.,  9., 10., 11.],\n",
       "          [12., 13., 14., 15.]]]])"
      ]
     },
     "execution_count": 49,
     "metadata": {},
     "output_type": "execute_result"
    }
   ],
   "source": [
    "input = torch.arange(0, 16, dtype = torch.float32).reshape(1, 1, 4, 4)\n",
    "input"
   ]
  },
  {
   "cell_type": "code",
   "execution_count": 50,
   "id": "565abe33",
   "metadata": {},
   "outputs": [
    {
     "data": {
      "text/plain": [
       "tensor([[[[ 0.,  0.,  1.,  1.,  2.,  2.,  3.,  3.],\n",
       "          [ 0.,  0.,  1.,  1.,  2.,  2.,  3.,  3.],\n",
       "          [ 4.,  4.,  5.,  5.,  6.,  6.,  7.,  7.],\n",
       "          [ 4.,  4.,  5.,  5.,  6.,  6.,  7.,  7.],\n",
       "          [ 8.,  8.,  9.,  9., 10., 10., 11., 11.],\n",
       "          [ 8.,  8.,  9.,  9., 10., 10., 11., 11.],\n",
       "          [12., 12., 13., 13., 14., 14., 15., 15.],\n",
       "          [12., 12., 13., 13., 14., 14., 15., 15.]]]])"
      ]
     },
     "execution_count": 50,
     "metadata": {},
     "output_type": "execute_result"
    }
   ],
   "source": [
    "F.interpolate(input, scale_factor=2, mode='nearest')"
   ]
  },
  {
   "cell_type": "markdown",
   "id": "eefbf723",
   "metadata": {},
   "source": [
    "scale_factor는 interpolate를 할 목표사이즈 이다.\n",
    "여기서 텐서의 구성요소 값들이 2개 반복된 것을 알수있다."
   ]
  },
  {
   "cell_type": "code",
   "execution_count": 51,
   "id": "35f6d88d",
   "metadata": {},
   "outputs": [
    {
     "name": "stderr",
     "output_type": "stream",
     "text": [
      "C:\\ProgramData\\Anaconda3\\lib\\site-packages\\torch\\nn\\functional.py:3679: UserWarning: The default behavior for interpolate/upsample with float scale_factor changed in 1.6.0 to align with other frameworks/libraries, and now uses scale_factor directly, instead of relying on the computed output size. If you wish to restore the old behavior, please set recompute_scale_factor=True. See the documentation of nn.Upsample for details. \n",
      "  warnings.warn(\n"
     ]
    },
    {
     "data": {
      "text/plain": [
       "tensor([[[[ 0.,  1.,  2.],\n",
       "          [ 4.,  5.,  6.],\n",
       "          [ 8.,  9., 10.]]]])"
      ]
     },
     "execution_count": 51,
     "metadata": {},
     "output_type": "execute_result"
    }
   ],
   "source": [
    "F.interpolate(input, scale_factor=0.8, mode='nearest')"
   ]
  },
  {
   "cell_type": "code",
   "execution_count": 52,
   "id": "59f6eb04",
   "metadata": {},
   "outputs": [
    {
     "data": {
      "text/plain": [
       "tensor([[[[ 0.0000,  0.2500,  0.7500,  1.2500,  1.7500,  2.2500,  2.7500,\n",
       "            3.0000],\n",
       "          [ 1.0000,  1.2500,  1.7500,  2.2500,  2.7500,  3.2500,  3.7500,\n",
       "            4.0000],\n",
       "          [ 3.0000,  3.2500,  3.7500,  4.2500,  4.7500,  5.2500,  5.7500,\n",
       "            6.0000],\n",
       "          [ 5.0000,  5.2500,  5.7500,  6.2500,  6.7500,  7.2500,  7.7500,\n",
       "            8.0000],\n",
       "          [ 7.0000,  7.2500,  7.7500,  8.2500,  8.7500,  9.2500,  9.7500,\n",
       "           10.0000],\n",
       "          [ 9.0000,  9.2500,  9.7500, 10.2500, 10.7500, 11.2500, 11.7500,\n",
       "           12.0000],\n",
       "          [11.0000, 11.2500, 11.7500, 12.2500, 12.7500, 13.2500, 13.7500,\n",
       "           14.0000],\n",
       "          [12.0000, 12.2500, 12.7500, 13.2500, 13.7500, 14.2500, 14.7500,\n",
       "           15.0000]]]])"
      ]
     },
     "execution_count": 52,
     "metadata": {},
     "output_type": "execute_result"
    }
   ],
   "source": [
    "F.interpolate(input, scale_factor=2, mode='bilinear', align_corners=False)"
   ]
  },
  {
   "cell_type": "code",
   "execution_count": 53,
   "id": "577e79cf",
   "metadata": {},
   "outputs": [
    {
     "data": {
      "text/plain": [
       "tensor([[[[ 0.0000,  0.4286,  0.8571,  1.2857,  1.7143,  2.1429,  2.5714,\n",
       "            3.0000],\n",
       "          [ 1.7143,  2.1429,  2.5714,  3.0000,  3.4286,  3.8571,  4.2857,\n",
       "            4.7143],\n",
       "          [ 3.4286,  3.8571,  4.2857,  4.7143,  5.1429,  5.5714,  6.0000,\n",
       "            6.4286],\n",
       "          [ 5.1429,  5.5714,  6.0000,  6.4286,  6.8571,  7.2857,  7.7143,\n",
       "            8.1429],\n",
       "          [ 6.8571,  7.2857,  7.7143,  8.1429,  8.5714,  9.0000,  9.4286,\n",
       "            9.8571],\n",
       "          [ 8.5714,  9.0000,  9.4286,  9.8571, 10.2857, 10.7143, 11.1429,\n",
       "           11.5714],\n",
       "          [10.2857, 10.7143, 11.1429, 11.5714, 12.0000, 12.4286, 12.8571,\n",
       "           13.2857],\n",
       "          [12.0000, 12.4286, 12.8571, 13.2857, 13.7143, 14.1429, 14.5714,\n",
       "           15.0000]]]])"
      ]
     },
     "execution_count": 53,
     "metadata": {},
     "output_type": "execute_result"
    }
   ],
   "source": [
    "F.interpolate(input, scale_factor=2, mode='bilinear', align_corners=True) \n",
    "# 어느정도 제일 부드럽게 upsampling 됨"
   ]
  },
  {
   "cell_type": "code",
   "execution_count": 54,
   "id": "4440e5fa",
   "metadata": {},
   "outputs": [
    {
     "data": {
      "text/plain": [
       "tensor([[[[ 0.1667,  1.5000,  2.8333],\n",
       "          [ 2.9667,  4.3000,  5.6333],\n",
       "          [ 6.1667,  7.5000,  8.8333],\n",
       "          [ 9.3667, 10.7000, 12.0333],\n",
       "          [12.1667, 13.5000, 14.8333]]]])"
      ]
     },
     "execution_count": 54,
     "metadata": {},
     "output_type": "execute_result"
    }
   ],
   "source": [
    "F.interpolate(input, size=(5, 3), mode='bilinear', align_corners=False)"
   ]
  },
  {
   "cell_type": "markdown",
   "id": "b21a914b",
   "metadata": {},
   "source": [
    "interpolate를 할때 size나 scale_factor중 둘중 하나만 선택하여야 한다.\n",
    "\n",
    "size는 정확한 크기, scale_factor는 몇 배수 인지 정해주는 것이다."
   ]
  },
  {
   "cell_type": "code",
   "execution_count": 55,
   "id": "8683d6d9",
   "metadata": {},
   "outputs": [],
   "source": [
    "input = torch.arange(0, 16, dtype=torch.float32).reshape(1, 1, 4, 4)"
   ]
  },
  {
   "cell_type": "code",
   "execution_count": 56,
   "id": "03de8bf4",
   "metadata": {},
   "outputs": [
    {
     "data": {
      "text/plain": [
       "tensor([[[[ 0.,  0.,  1.,  1.,  2.,  2.,  3.,  3.],\n",
       "          [ 0.,  0.,  1.,  1.,  2.,  2.,  3.,  3.],\n",
       "          [ 4.,  4.,  5.,  5.,  6.,  6.,  7.,  7.],\n",
       "          [ 4.,  4.,  5.,  5.,  6.,  6.,  7.,  7.],\n",
       "          [ 8.,  8.,  9.,  9., 10., 10., 11., 11.],\n",
       "          [ 8.,  8.,  9.,  9., 10., 10., 11., 11.],\n",
       "          [12., 12., 13., 13., 14., 14., 15., 15.],\n",
       "          [12., 12., 13., 13., 14., 14., 15., 15.]]]])"
      ]
     },
     "execution_count": 56,
     "metadata": {},
     "output_type": "execute_result"
    }
   ],
   "source": [
    "m = nn.Upsample(scale_factor=2, mode = 'nearest')\n",
    "m(input)\n",
    "# F.interpolate(input, scale_factor=2, mode='nearest') 와 같다"
   ]
  },
  {
   "cell_type": "code",
   "execution_count": 57,
   "id": "32ab12ef",
   "metadata": {},
   "outputs": [
    {
     "data": {
      "text/plain": [
       "tensor([[[[ 0.,  1.,  2.],\n",
       "          [ 4.,  5.,  6.],\n",
       "          [ 8.,  9., 10.]]]])"
      ]
     },
     "execution_count": 57,
     "metadata": {},
     "output_type": "execute_result"
    }
   ],
   "source": [
    "m = nn.Upsample(scale_factor=0.8, mode='nearest')\n",
    "m(input)\n",
    "# F.interpolate(input, scale_factor=0.8, mode='nearest')"
   ]
  },
  {
   "cell_type": "code",
   "execution_count": 58,
   "id": "6b9353fe",
   "metadata": {},
   "outputs": [
    {
     "data": {
      "text/plain": [
       "tensor([[[[ 0.0000,  0.2500,  0.7500,  1.2500,  1.7500,  2.2500,  2.7500,\n",
       "            3.0000],\n",
       "          [ 1.0000,  1.2500,  1.7500,  2.2500,  2.7500,  3.2500,  3.7500,\n",
       "            4.0000],\n",
       "          [ 3.0000,  3.2500,  3.7500,  4.2500,  4.7500,  5.2500,  5.7500,\n",
       "            6.0000],\n",
       "          [ 5.0000,  5.2500,  5.7500,  6.2500,  6.7500,  7.2500,  7.7500,\n",
       "            8.0000],\n",
       "          [ 7.0000,  7.2500,  7.7500,  8.2500,  8.7500,  9.2500,  9.7500,\n",
       "           10.0000],\n",
       "          [ 9.0000,  9.2500,  9.7500, 10.2500, 10.7500, 11.2500, 11.7500,\n",
       "           12.0000],\n",
       "          [11.0000, 11.2500, 11.7500, 12.2500, 12.7500, 13.2500, 13.7500,\n",
       "           14.0000],\n",
       "          [12.0000, 12.2500, 12.7500, 13.2500, 13.7500, 14.2500, 14.7500,\n",
       "           15.0000]]]])"
      ]
     },
     "execution_count": 58,
     "metadata": {},
     "output_type": "execute_result"
    }
   ],
   "source": [
    "m = nn.Upsample(scale_factor=2, mode='bilinear', align_corners=False)\n",
    "m(input)\n",
    "# F.interpolate(input, scale_factor=2, mode='bilinear', align_corners=False)"
   ]
  },
  {
   "cell_type": "code",
   "execution_count": 59,
   "id": "536cc9a0",
   "metadata": {},
   "outputs": [
    {
     "data": {
      "text/plain": [
       "tensor([[[[ 0.1667,  1.5000,  2.8333],\n",
       "          [ 2.9667,  4.3000,  5.6333],\n",
       "          [ 6.1667,  7.5000,  8.8333],\n",
       "          [ 9.3667, 10.7000, 12.0333],\n",
       "          [12.1667, 13.5000, 14.8333]]]])"
      ]
     },
     "execution_count": 59,
     "metadata": {},
     "output_type": "execute_result"
    }
   ],
   "source": [
    "m = nn.Upsample(size=(5, 3), mode='bilinear', align_corners=False)\n",
    "m(input)\n",
    "# F.interpolate(input, size=(5, 3), mode='bilinear', align_corners=False)"
   ]
  },
  {
   "cell_type": "markdown",
   "id": "632e8e91",
   "metadata": {},
   "source": [
    "# 모델 block을 쌓기 - Module, Sequential, ModuleList, ModuleDict"
   ]
  },
  {
   "cell_type": "markdown",
   "id": "e78cb68a",
   "metadata": {},
   "source": [
    "Module : 여러 개의 작은 블록으로 구성된 큰 볼록이 있을 때\n",
    "\n",
    "Sequential : 레이어에서 작은 블록을 만들고 싶을 때\n",
    "\n",
    "ModuleList : 일부 레이어 또는 빌딩 블록을 반복하면서 어떤 작업을 해야 할때\n",
    "\n",
    "ModuleDict : 모델의 일부 블록을 매개 변수화 해야하는 경우"
   ]
  },
  {
   "cell_type": "markdown",
   "id": "1a9d5018",
   "metadata": {},
   "source": [
    "## Module"
   ]
  },
  {
   "cell_type": "code",
   "execution_count": 60,
   "id": "07fe0a91",
   "metadata": {},
   "outputs": [],
   "source": [
    "class CNNClassifier(nn.Module):\n",
    "    def __init__(self, in_c, n_classes):\n",
    "        super().__init__()\n",
    "        self.conv1 = nn.Conv2d(in_c, 32, kernel_size=3, stride=1, padding=1)\n",
    "        self.bn1 = nn.BatchNorm2d(32)\n",
    "        \n",
    "        self.conv2 = nn.Conv2d(32, 64, kernel_size=3, stride=1, padding=1)\n",
    "        self.bn2 = nn.BatchNorm2d(32)\n",
    "        \n",
    "        self.fc1 = nn.Linear(32*28*28, 1024)\n",
    "        self.fc2 = nn.Linear(1024, 10)\n",
    "        \n",
    "    def forward(self, x):\n",
    "        x = self.conv1(x)\n",
    "        x = self.bn1(x)\n",
    "        x = F.relu(x)\n",
    "        \n",
    "        x = self.conv2(x)\n",
    "        x = self.bn2(x)\n",
    "        x = F.relu(x)\n",
    "        \n",
    "        x = x.view(x.size(0), -1) # Flatten\n",
    "        \n",
    "        x = self.fc1(x)\n",
    "        x = F.sigmoid(x)\n",
    "        x = self.fc2(x)\n",
    "        \n",
    "        return x"
   ]
  },
  {
   "cell_type": "markdown",
   "id": "9db7f0d7",
   "metadata": {},
   "source": [
    "## Sequential"
   ]
  },
  {
   "cell_type": "code",
   "execution_count": 61,
   "id": "094197fd",
   "metadata": {},
   "outputs": [],
   "source": [
    "class CNNClassifier(nn.Module):\n",
    "    def __init__(self, in_c, n_classes):\n",
    "        super().__init__()\n",
    "        self.conv_block1 = nn.Sequential(\n",
    "            nn.Conv2d(in_c, 32, kernel_size=3, stride=1, padding=1),\n",
    "            nn.BatchNorm2d(32),\n",
    "            nn.ReLU()\n",
    "        )\n",
    "        \n",
    "        self.conv_block2 = nn.Sequential(\n",
    "            nn.Conv2d(32, 64, kernel_size=3, stride=1, padding=1),\n",
    "            nn.BatchNorm2d(64),\n",
    "            nn.ReLU()\n",
    "        )\n",
    "        \n",
    "        self.decoder = nn.Sequential(\n",
    "            nn.Linear(32 * 28 * 28, 1024),\n",
    "            nn.Sigmoid(),\n",
    "            nn.Linear(1024, n_classes)\n",
    "        )\n",
    "    def forward(self, x):\n",
    "        x = self.conv_block1(x)\n",
    "        x = self.conv_block2(x)\n",
    "\n",
    "        x = x.view(x.size(0), -1) # flat\n",
    "        \n",
    "        x = self.decoder(x)\n",
    "        \n",
    "        return x"
   ]
  },
  {
   "cell_type": "markdown",
   "id": "d0006b76",
   "metadata": {},
   "source": [
    "보통 Sequential을 이용하면 다음과 같이 코드를 쓴다."
   ]
  },
  {
   "cell_type": "code",
   "execution_count": 62,
   "id": "b2d47094",
   "metadata": {},
   "outputs": [],
   "source": [
    "def conv_block(in_f, out_f, *args, **kwargs):\n",
    "    return nn.Sequential(\n",
    "        nn.Conv2d(in_f, out_f, *args, **kwargs),\n",
    "        nn.BatchNorm2d(out_f),\n",
    "        nn.ReLU()\n",
    "    )\n",
    "\n",
    "class CNNClassifier(nn.Module):\n",
    "    def __init__(self, in_c, n_classes):\n",
    "        super().__init__()\n",
    "        self.encoder = nn.Sequential(\n",
    "            conv_block(in_c, 32, kernel_size=3, padding=1),\n",
    "            conv_block(32, 64, kernel_size=3, padding=1)\n",
    "        )\n",
    "\n",
    "        self.decoder = nn.Sequential(\n",
    "            nn.Linear(32 * 28 * 28, 1024),\n",
    "            nn.Sigmoid(),\n",
    "            nn.Linear(1024, n_classes)\n",
    "        )\n",
    "\n",
    "        \n",
    "    def forward(self, x):\n",
    "        x = self.encoder(x)\n",
    "        x = x.view(x.size(0), -1) # flat\n",
    "        x = self.decoder(x)\n",
    "        return x"
   ]
  },
  {
   "cell_type": "markdown",
   "id": "7d3fc436",
   "metadata": {},
   "source": [
    "훨씬 코드가 간결해졌다."
   ]
  },
  {
   "cell_type": "markdown",
   "id": "ff64c92d",
   "metadata": {},
   "source": [
    "conv_block이 늘어나면 그렇게 보기는 좋지 않아 보인다.\n",
    "\n",
    "따라서 다음과 같이 코드를 쓸 수 있다."
   ]
  },
  {
   "cell_type": "code",
   "execution_count": 64,
   "id": "5c164f74",
   "metadata": {},
   "outputs": [],
   "source": [
    "class CNNClassifier(nn.Module):\n",
    "    def __init__(self, in_c, n_classes):\n",
    "        super().__init__()\n",
    "        self.enc_sizes = [in_c, 32, 64]\n",
    "        conv_blocks = [conv_block(in_f, out_f, kernel_size=3, padding=1) \n",
    "                       for in_f, out_f in zip(self.enc_sizes, self.enc_sizes[1:])]\n",
    "        self.encoder = nn.Sequential(*conv_blocks)\n",
    "        \n",
    "        self.decoder = nn.Sequential(\n",
    "            nn.Linear(32 * 28 * 28, 1024),\n",
    "            nn.Sigmoid(),\n",
    "            nn.Linear(1024, n_classes)\n",
    "        )\n",
    "        \n",
    "    def forward(self, x):\n",
    "        x = self.encoder(x)\n",
    "        x = x.view(x.size(0), -1) # flat\n",
    "        x = self.decoder(x)\n",
    "        \n",
    "        return x"
   ]
  },
  {
   "cell_type": "markdown",
   "id": "a66bf9d3",
   "metadata": {},
   "source": [
    "다음과 같이 반복문을 이용하여 코드를 쓸 수도 있따.\n",
    "\n",
    "그러나 반복문을 이용할때 주의 할 것은 input 과 output의 채널 수이다.(CNN 코드)\n",
    "\n",
    "따라서 channel의 수는 리스트를 이용하여 미리 저장하면 된다."
   ]
  },
  {
   "cell_type": "code",
   "execution_count": 65,
   "id": "1b59d170",
   "metadata": {},
   "outputs": [
    {
     "name": "stdout",
     "output_type": "stream",
     "text": [
      "[10, 1, 2, 3, 4, 5]\n"
     ]
    }
   ],
   "source": [
    "a = [1, 2, 3, 4, 5]\n",
    "b = [10, *a]\n",
    "print(b)"
   ]
  },
  {
   "cell_type": "code",
   "execution_count": 66,
   "id": "34881844",
   "metadata": {},
   "outputs": [],
   "source": [
    "def conv_block(in_f, out_f, *args, **kwargs):\n",
    "    return nn.Sequential(\n",
    "        nn.Conv2d(in_f, out_f, *args, **kwargs),\n",
    "        nn.BatchNorm2d(out_f),\n",
    "        nn.ReLU()\n",
    "    )\n",
    "\n",
    "def dec_block(in_f, out_f):\n",
    "    return nn.Sequential(\n",
    "        nn.Linear(in_f, out_f),\n",
    "        nn.Sigmoid()\n",
    "    )\n",
    "\n",
    "class CNNClassifier(nn.Module):\n",
    "    def __init__(self, in_c, enc_sizes, dec_sizes,  n_classes):\n",
    "        super().__init__()\n",
    "        self.enc_sizes = [in_c, *enc_sizes]\n",
    "        self.dec_sizes = [32 * 28 * 28, *dec_sizes]\n",
    "\n",
    "        conv_blokcs = [conv_block(in_f, out_f, kernel_size=3, padding=1) \n",
    "                       for in_f, out_f in zip(self.enc_sizes, self.enc_sizes[1:])]\n",
    "        self.encoder = nn.Sequential(*conv_blokcs)\n",
    "        \n",
    "        dec_blocks = [dec_block(in_f, out_f) \n",
    "                       for in_f, out_f in zip(self.dec_sizes, self.dec_sizes[1:])]\n",
    "        self.decoder = nn.Sequential(*dec_blocks)\n",
    "        \n",
    "        self.last = nn.Linear(self.dec_sizes[-1], n_classes)\n",
    "        \n",
    "    def forward(self, x):\n",
    "        x = self.encoder(x)\n",
    "        x = x.view(x.size(0), -1) # flat\n",
    "        x = self.decoder(x)\n",
    "        return x"
   ]
  },
  {
   "cell_type": "markdown",
   "id": "097150b0",
   "metadata": {},
   "source": [
    "즉 CNN연산의 경우 Convolution을 진행후 BatchNormalization 진행을 하는 연산이 반복이 되는데, 이러한 경우 Pytorch에서 Sequential 형태로 코드 블록을 작성하면 깔끔하게 작성이 가능하다."
   ]
  },
  {
   "cell_type": "markdown",
   "id": "e9c400ef",
   "metadata": {},
   "source": [
    "## ModuleList"
   ]
  },
  {
   "cell_type": "code",
   "execution_count": 67,
   "id": "4327879c",
   "metadata": {},
   "outputs": [
    {
     "name": "stdout",
     "output_type": "stream",
     "text": [
      "torch.Size([4, 16])\n",
      "torch.Size([4, 32])\n"
     ]
    },
    {
     "data": {
      "text/plain": [
       "[None, None]"
      ]
     },
     "execution_count": 67,
     "metadata": {},
     "output_type": "execute_result"
    }
   ],
   "source": [
    "class MyModule(nn.Module):\n",
    "    def __init__(self, sizes):\n",
    "        super().__init__()\n",
    "        self.layers = nn.ModuleList([nn.Linear(in_f, out_f) for in_f, out_f in zip(sizes, sizes[1:])])\n",
    "        self.trace = []\n",
    "        \n",
    "    def forward(self,x):\n",
    "        # ModuleList 에서는 각 Module을 하나 하나 접근할 수 있습니다.\n",
    "        for layer in self.layers:\n",
    "            x = layer(x)\n",
    "            self.trace.append(x)\n",
    "        return x\n",
    "\n",
    "model = MyModule([1, 16, 32])\n",
    "model(torch.rand((4,1)))\n",
    "[print(trace.shape) for trace in model.trace]"
   ]
  },
  {
   "cell_type": "markdown",
   "id": "2f8adec4",
   "metadata": {},
   "source": [
    "Sequentai의 경우 Sequential로 묶은 단위에 대해서는 forward 연산이 발생하여 완전히 한 단위로 움직인다.\n",
    "\n",
    "그러니 ModuleList는 리스트 형태로 각 Module을 접근하여 사용가능하다.\n",
    "\n",
    "여기서보면 for 문을 이용하여 다양한 nn.Linear()층을 불러오는 것을 볼 수 있다."
   ]
  },
  {
   "cell_type": "markdown",
   "id": "ce2ce70e",
   "metadata": {},
   "source": [
    "## ModuleDict"
   ]
  },
  {
   "cell_type": "code",
   "execution_count": 68,
   "id": "0f7599c9",
   "metadata": {},
   "outputs": [
    {
     "name": "stdout",
     "output_type": "stream",
     "text": [
      "Sequential(\n",
      "  (0): Conv2d(1, 32, kernel_size=(3, 3), stride=(1, 1), padding=(1, 1))\n",
      "  (1): BatchNorm2d(32, eps=1e-05, momentum=0.1, affine=True, track_running_stats=True)\n",
      "  (2): LeakyReLU(negative_slope=0.01)\n",
      ")\n",
      "Sequential(\n",
      "  (0): Conv2d(1, 32, kernel_size=(3, 3), stride=(1, 1), padding=(1, 1))\n",
      "  (1): BatchNorm2d(32, eps=1e-05, momentum=0.1, affine=True, track_running_stats=True)\n",
      "  (2): ReLU()\n",
      ")\n"
     ]
    }
   ],
   "source": [
    "def conv_block(in_f, out_f, activation='relu', *args, **kwargs):\n",
    "    \n",
    "    activations = nn.ModuleDict([\n",
    "                ['lrelu', nn.LeakyReLU()],\n",
    "                ['relu', nn.ReLU()]\n",
    "    ])\n",
    "    \n",
    "    return nn.Sequential(\n",
    "        nn.Conv2d(in_f, out_f, *args, **kwargs),\n",
    "        nn.BatchNorm2d(out_f),\n",
    "        activations[activation]\n",
    "    )\n",
    "\n",
    "print(conv_block(1, 32,'lrelu', kernel_size=3, padding=1))\n",
    "print(conv_block(1, 32,'relu', kernel_size=3, padding=1))"
   ]
  },
  {
   "cell_type": "markdown",
   "id": "28f53d7f",
   "metadata": {},
   "source": [
    "즉 여기서 Dictionary 처럼 다양한 Layer를 선택해서 호출해서 사용가능하다."
   ]
  }
 ],
 "metadata": {
  "kernelspec": {
   "display_name": "Python 3 (ipykernel)",
   "language": "python",
   "name": "python3"
  },
  "language_info": {
   "codemirror_mode": {
    "name": "ipython",
    "version": 3
   },
   "file_extension": ".py",
   "mimetype": "text/x-python",
   "name": "python",
   "nbconvert_exporter": "python",
   "pygments_lexer": "ipython3",
   "version": "3.9.7"
  }
 },
 "nbformat": 4,
 "nbformat_minor": 5
}
