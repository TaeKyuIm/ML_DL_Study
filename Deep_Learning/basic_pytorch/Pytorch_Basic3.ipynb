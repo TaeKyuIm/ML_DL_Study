{
 "cells": [
  {
   "cell_type": "markdown",
   "metadata": {
    "id": "oSUDPrvkTfqK"
   },
   "source": [
    "# 벡터와 텐서의 element-wise multiplication"
   ]
  },
  {
   "cell_type": "code",
   "execution_count": 1,
   "metadata": {
    "id": "qHmmbZZ_TFsD"
   },
   "outputs": [],
   "source": [
    "import torch\n",
    "import numpy as np"
   ]
  },
  {
   "cell_type": "code",
   "execution_count": 2,
   "metadata": {
    "colab": {
     "base_uri": "https://localhost:8080/"
    },
    "id": "dfswLrMiTPaz",
    "outputId": "67f0cdb1-f7dd-4b8f-fcee-1ae7efa87cea"
   },
   "outputs": [
    {
     "data": {
      "text/plain": [
       "tensor([[[1., 1., 1.],\n",
       "         [1., 1., 1.],\n",
       "         [1., 1., 1.]],\n",
       "\n",
       "        [[1., 1., 1.],\n",
       "         [1., 1., 1.],\n",
       "         [1., 1., 1.]],\n",
       "\n",
       "        [[1., 1., 1.],\n",
       "         [1., 1., 1.],\n",
       "         [1., 1., 1.]],\n",
       "\n",
       "        [[1., 1., 1.],\n",
       "         [1., 1., 1.],\n",
       "         [1., 1., 1.]],\n",
       "\n",
       "        [[1., 1., 1.],\n",
       "         [1., 1., 1.],\n",
       "         [1., 1., 1.]]])"
      ]
     },
     "execution_count": 2,
     "metadata": {},
     "output_type": "execute_result"
    }
   ],
   "source": [
    "A = torch.ones(5, 3, 3)\n",
    "A"
   ]
  },
  {
   "cell_type": "code",
   "execution_count": 3,
   "metadata": {
    "colab": {
     "base_uri": "https://localhost:8080/"
    },
    "id": "T0YPTwHoTSub",
    "outputId": "eaea61dd-acef-4a86-ac49-7a2f5acaf840"
   },
   "outputs": [
    {
     "data": {
      "text/plain": [
       "tensor([0, 1, 2, 3, 4])"
      ]
     },
     "execution_count": 3,
     "metadata": {},
     "output_type": "execute_result"
    }
   ],
   "source": [
    "v = torch.arange(0, 5)\n",
    "v"
   ]
  },
  {
   "cell_type": "code",
   "execution_count": 4,
   "metadata": {
    "colab": {
     "base_uri": "https://localhost:8080/"
    },
    "id": "--ozf3VOTVDw",
    "outputId": "7bc2d752-55ff-4fa1-9874-0f6ec4e483bd"
   },
   "outputs": [
    {
     "name": "stdout",
     "output_type": "stream",
     "text": [
      "torch.Size([5, 1, 1])\n"
     ]
    }
   ],
   "source": [
    "v_tensor = v.view(v.size()[0], 1, 1)\n",
    "v_tensor\n",
    "print(v_tensor.size())"
   ]
  },
  {
   "cell_type": "code",
   "execution_count": 5,
   "metadata": {
    "colab": {
     "base_uri": "https://localhost:8080/"
    },
    "id": "7pTMrKA8TtuI",
    "outputId": "204cb355-2940-4387-d8ba-3cb9143ba015"
   },
   "outputs": [
    {
     "name": "stdout",
     "output_type": "stream",
     "text": [
      "tensor([[[0., 0., 0.],\n",
      "         [0., 0., 0.],\n",
      "         [0., 0., 0.]],\n",
      "\n",
      "        [[1., 1., 1.],\n",
      "         [1., 1., 1.],\n",
      "         [1., 1., 1.]],\n",
      "\n",
      "        [[2., 2., 2.],\n",
      "         [2., 2., 2.],\n",
      "         [2., 2., 2.]],\n",
      "\n",
      "        [[3., 3., 3.],\n",
      "         [3., 3., 3.],\n",
      "         [3., 3., 3.]],\n",
      "\n",
      "        [[4., 4., 4.],\n",
      "         [4., 4., 4.],\n",
      "         [4., 4., 4.]]])\n",
      "result.shape: torch.Size([5, 3, 3])\n"
     ]
    }
   ],
   "source": [
    "result = v_tensor * A\n",
    "print(result)\n",
    "print('result.shape:', result.shape)\n",
    "\n",
    "# 즉 1 텐서에 순서대로 2차원 텐서에 0부터 4까지 곱해짐"
   ]
  },
  {
   "cell_type": "markdown",
   "metadata": {
    "id": "39mT7cgfUJnN"
   },
   "source": [
    "# gather 기능 사용하기"
   ]
  },
  {
   "cell_type": "code",
   "execution_count": 6,
   "metadata": {
    "colab": {
     "base_uri": "https://localhost:8080/"
    },
    "id": "t_ZM9_gUT6L6",
    "outputId": "873432ee-080e-4402-eca2-4430fb1435b1"
   },
   "outputs": [
    {
     "data": {
      "text/plain": [
       "tensor([1, 2, 3, 4, 5, 6, 7, 8, 9])"
      ]
     },
     "execution_count": 6,
     "metadata": {},
     "output_type": "execute_result"
    }
   ],
   "source": [
    "A = torch.arange(1, 10)\n",
    "A\n",
    "# 1차원 텐서"
   ]
  },
  {
   "cell_type": "code",
   "execution_count": 7,
   "metadata": {
    "colab": {
     "base_uri": "https://localhost:8080/"
    },
    "id": "hFPsZngAUUzm",
    "outputId": "da8864a3-4cd1-43fb-ff63-7c5767825871"
   },
   "outputs": [
    {
     "name": "stdout",
     "output_type": "stream",
     "text": [
      "tensor([1, 4, 6, 7])\n"
     ]
    }
   ],
   "source": [
    "indices = torch.tensor([0, 3, 5, 6])\n",
    "print(torch.gather(A, 0, indices))\n",
    "# 출력은 1차원 텐서\n",
    "# 즉 배열에서 텐서에 해당되는 인덱스에 있는 값들만을 추출하는 것을 알 수 있다."
   ]
  },
  {
   "cell_type": "code",
   "execution_count": 8,
   "metadata": {
    "colab": {
     "base_uri": "https://localhost:8080/"
    },
    "id": "EZFF1eHFUjdq",
    "outputId": "9504e6a7-5f7a-48ed-b1e6-b4172f8b6482"
   },
   "outputs": [
    {
     "data": {
      "text/plain": [
       "tensor([[ 0,  1,  2,  3,  4],\n",
       "        [ 5,  6,  7,  8,  9],\n",
       "        [10, 11, 12, 13, 14],\n",
       "        [15, 16, 17, 18, 19],\n",
       "        [20, 21, 22, 23, 24]])"
      ]
     },
     "execution_count": 8,
     "metadata": {},
     "output_type": "execute_result"
    }
   ],
   "source": [
    "A = torch.arange(25).reshape(5, 5)\n",
    "A\n",
    "# 2차원텐서"
   ]
  },
  {
   "cell_type": "code",
   "execution_count": 9,
   "metadata": {
    "colab": {
     "base_uri": "https://localhost:8080/"
    },
    "id": "mUYJKbmQUmb6",
    "outputId": "b7a7bca2-4018-475a-eb32-da40f3e7a0a4"
   },
   "outputs": [
    {
     "name": "stdout",
     "output_type": "stream",
     "text": [
      "tensor([[ 0,  1,  2],\n",
      "        [ 6,  7,  8],\n",
      "        [12, 13, 13],\n",
      "        [18, 19, 16],\n",
      "        [20, 20, 20]])\n"
     ]
    }
   ],
   "source": [
    "indices = torch.tensor([\n",
    "                        [0, 1, 2],\n",
    "                        [1, 2, 3],\n",
    "                        [2, 3, 3],\n",
    "                        [3, 4, 1],\n",
    "                        [0, 0, 0]\n",
    "])\n",
    "\n",
    "print(torch.gather(A, 1, indices))\n",
    "# 출력도 2차원 텐서"
   ]
  },
  {
   "cell_type": "code",
   "execution_count": 10,
   "metadata": {
    "colab": {
     "base_uri": "https://localhost:8080/"
    },
    "id": "5gINXwteUvij",
    "outputId": "09798cc0-9675-492f-a949-13eee0597ed5"
   },
   "outputs": [
    {
     "data": {
      "text/plain": [
       "tensor([[[ 0,  1,  2],\n",
       "         [ 3,  4,  5],\n",
       "         [ 6,  7,  8]],\n",
       "\n",
       "        [[ 9, 10, 11],\n",
       "         [12, 13, 14],\n",
       "         [15, 16, 17]],\n",
       "\n",
       "        [[18, 19, 20],\n",
       "         [21, 22, 23],\n",
       "         [24, 25, 26]]])"
      ]
     },
     "execution_count": 10,
     "metadata": {},
     "output_type": "execute_result"
    }
   ],
   "source": [
    "A = torch.arange(27).reshape(3, 3, 3)\n",
    "A\n",
    "# 3차원 텐서"
   ]
  },
  {
   "cell_type": "code",
   "execution_count": 11,
   "metadata": {
    "colab": {
     "base_uri": "https://localhost:8080/"
    },
    "id": "sY1UXJtbV4qg",
    "outputId": "345cd5c9-87f6-472a-97fe-b414533a44aa"
   },
   "outputs": [
    {
     "data": {
      "text/plain": [
       "tensor([[[ 0,  0,  0],\n",
       "         [ 4,  4,  4],\n",
       "         [ 8,  8,  8]],\n",
       "\n",
       "        [[10, 10, 10],\n",
       "         [14, 14, 14],\n",
       "         [15, 15, 15]],\n",
       "\n",
       "        [[18, 19, 20],\n",
       "         [21, 22, 23],\n",
       "         [24, 25, 26]]])"
      ]
     },
     "execution_count": 11,
     "metadata": {},
     "output_type": "execute_result"
    }
   ],
   "source": [
    "indices = torch.tensor([\n",
    "                        [[0, 0, 0], [1, 1, 1], [2, 2, 2]],\n",
    "                        [[1, 1, 1], [2, 2, 2], [0, 0, 0]],\n",
    "                        [[0, 1, 2], [0, 1, 2], [0, 1, 2]]])\n",
    "torch.gather(A, 2, indices)\n",
    "# 출력도 3차원 텐서"
   ]
  },
  {
   "cell_type": "markdown",
   "metadata": {
    "id": "1B-hOwRNW7G1"
   },
   "source": [
    "즉 torch.gather(A, 2, indices)는 지정된 축을 의미한다. 첫번째는 0을 했으므로 해당되는 값을 뽑아내고, 두번째는 1이므로 해당되는 1차원 텐서에서 포함되는 인덱스만을 구성해서 2차원 텐서를 반환하고, 세번째는 2이므로 2차원 텐서에서 해당되는 인덱스 값들만을 뽑아내서 3차원 텐서를 반환하였다."
   ]
  },
  {
   "cell_type": "markdown",
   "metadata": {},
   "source": [
    "# expand와 repeat 활용"
   ]
  },
  {
   "cell_type": "code",
   "execution_count": 12,
   "metadata": {
    "id": "sp1eDjr7WK8C"
   },
   "outputs": [
    {
     "data": {
      "text/plain": [
       "torch.Size([3, 1])"
      ]
     },
     "execution_count": 12,
     "metadata": {},
     "output_type": "execute_result"
    }
   ],
   "source": [
    "x = torch.tensor([[1], [2], [3]])\n",
    "x.size()"
   ]
  },
  {
   "cell_type": "code",
   "execution_count": 13,
   "metadata": {},
   "outputs": [
    {
     "data": {
      "text/plain": [
       "tensor([[1, 1, 1, 1],\n",
       "        [2, 2, 2, 2],\n",
       "        [3, 3, 3, 3]])"
      ]
     },
     "execution_count": 13,
     "metadata": {},
     "output_type": "execute_result"
    }
   ],
   "source": [
    "x.expand(3, 4)"
   ]
  },
  {
   "cell_type": "code",
   "execution_count": 14,
   "metadata": {},
   "outputs": [
    {
     "data": {
      "text/plain": [
       "tensor([[1, 1, 1, 1],\n",
       "        [2, 2, 2, 2],\n",
       "        [3, 3, 3, 3]])"
      ]
     },
     "execution_count": 14,
     "metadata": {},
     "output_type": "execute_result"
    }
   ],
   "source": [
    "x.expand(-1, 4)"
   ]
  },
  {
   "cell_type": "markdown",
   "metadata": {},
   "source": [
    "expand는 크기가 1인 차수를 반복하는 연산이다."
   ]
  },
  {
   "cell_type": "code",
   "execution_count": 15,
   "metadata": {},
   "outputs": [
    {
     "data": {
      "text/plain": [
       "tensor([[[0.4619]],\n",
       "\n",
       "        [[0.7409]],\n",
       "\n",
       "        [[0.9114]]])"
      ]
     },
     "execution_count": 15,
     "metadata": {},
     "output_type": "execute_result"
    }
   ],
   "source": [
    "y = torch.rand(3, 1, 1)\n",
    "y"
   ]
  },
  {
   "cell_type": "code",
   "execution_count": 16,
   "metadata": {},
   "outputs": [
    {
     "data": {
      "text/plain": [
       "tensor([[[0.4619, 0.4619, 0.4619, 0.4619],\n",
       "         [0.4619, 0.4619, 0.4619, 0.4619],\n",
       "         [0.4619, 0.4619, 0.4619, 0.4619]],\n",
       "\n",
       "        [[0.7409, 0.7409, 0.7409, 0.7409],\n",
       "         [0.7409, 0.7409, 0.7409, 0.7409],\n",
       "         [0.7409, 0.7409, 0.7409, 0.7409]],\n",
       "\n",
       "        [[0.9114, 0.9114, 0.9114, 0.9114],\n",
       "         [0.9114, 0.9114, 0.9114, 0.9114],\n",
       "         [0.9114, 0.9114, 0.9114, 0.9114]]])"
      ]
     },
     "execution_count": 16,
     "metadata": {},
     "output_type": "execute_result"
    }
   ],
   "source": [
    "y.expand(-1, 3, 4)"
   ]
  },
  {
   "cell_type": "markdown",
   "metadata": {},
   "source": [
    "즉 expand는 차원이 1인 값을 반복한다."
   ]
  },
  {
   "cell_type": "code",
   "execution_count": 17,
   "metadata": {},
   "outputs": [
    {
     "data": {
      "text/plain": [
       "tensor([[0.3954, 0.2789, 0.9888],\n",
       "        [0.1464, 0.8633, 0.1800]])"
      ]
     },
     "execution_count": 17,
     "metadata": {},
     "output_type": "execute_result"
    }
   ],
   "source": [
    "x = torch.rand(2, 3)\n",
    "x"
   ]
  },
  {
   "cell_type": "code",
   "execution_count": 18,
   "metadata": {},
   "outputs": [
    {
     "data": {
      "text/plain": [
       "tensor([[[0.3954, 0.2789, 0.9888, 0.3954, 0.2789, 0.9888],\n",
       "         [0.1464, 0.8633, 0.1800, 0.1464, 0.8633, 0.1800],\n",
       "         [0.3954, 0.2789, 0.9888, 0.3954, 0.2789, 0.9888],\n",
       "         [0.1464, 0.8633, 0.1800, 0.1464, 0.8633, 0.1800]],\n",
       "\n",
       "        [[0.3954, 0.2789, 0.9888, 0.3954, 0.2789, 0.9888],\n",
       "         [0.1464, 0.8633, 0.1800, 0.1464, 0.8633, 0.1800],\n",
       "         [0.3954, 0.2789, 0.9888, 0.3954, 0.2789, 0.9888],\n",
       "         [0.1464, 0.8633, 0.1800, 0.1464, 0.8633, 0.1800]],\n",
       "\n",
       "        [[0.3954, 0.2789, 0.9888, 0.3954, 0.2789, 0.9888],\n",
       "         [0.1464, 0.8633, 0.1800, 0.1464, 0.8633, 0.1800],\n",
       "         [0.3954, 0.2789, 0.9888, 0.3954, 0.2789, 0.9888],\n",
       "         [0.1464, 0.8633, 0.1800, 0.1464, 0.8633, 0.1800]]])"
      ]
     },
     "execution_count": 18,
     "metadata": {},
     "output_type": "execute_result"
    }
   ],
   "source": [
    "x.repeat(3, 2, 2)"
   ]
  },
  {
   "cell_type": "code",
   "execution_count": 19,
   "metadata": {},
   "outputs": [
    {
     "data": {
      "text/plain": [
       "torch.Size([3, 4, 6])"
      ]
     },
     "execution_count": 19,
     "metadata": {},
     "output_type": "execute_result"
    }
   ],
   "source": [
    "x.repeat(3, 2, 2).shape"
   ]
  },
  {
   "cell_type": "markdown",
   "metadata": {},
   "source": [
    "(3, 2, 2)텐서에 원래 x의 차원인 (2, 3)이 곱해저 (3, 4, 6)의 텐서가 만들어짐"
   ]
  },
  {
   "cell_type": "code",
   "execution_count": 20,
   "metadata": {},
   "outputs": [
    {
     "data": {
      "text/plain": [
       "torch.Size([3, 8, 15, 12])"
      ]
     },
     "execution_count": 20,
     "metadata": {},
     "output_type": "execute_result"
    }
   ],
   "source": [
    "y = torch.rand(2, 3, 2)\n",
    "y.repeat(3, 4, 5, 6).shape"
   ]
  },
  {
   "cell_type": "markdown",
   "metadata": {},
   "source": [
    "expand는 원본 텐서를 참조하여 만들어서 원본 텐서가 변하면 expand한 값도 변한다.\n",
    "\n",
    "그러나 repeat는 깊은 복사로 만들어저 원본이 변경되더라도 값이 변경이 안된다."
   ]
  },
  {
   "cell_type": "code",
   "execution_count": 21,
   "metadata": {},
   "outputs": [
    {
     "data": {
      "text/plain": [
       "tensor([[[0.0026, 0.9029, 0.2333]]])"
      ]
     },
     "execution_count": 21,
     "metadata": {},
     "output_type": "execute_result"
    }
   ],
   "source": [
    "a = torch.rand(1, 1, 3)\n",
    "a"
   ]
  },
  {
   "cell_type": "code",
   "execution_count": 22,
   "metadata": {},
   "outputs": [],
   "source": [
    "b = a.expand(4, -1, -1)\n",
    "c = a.repeat(4, 1, 1)"
   ]
  },
  {
   "cell_type": "code",
   "execution_count": 23,
   "metadata": {},
   "outputs": [
    {
     "name": "stdout",
     "output_type": "stream",
     "text": [
      "torch.Size([4, 1, 3])\n",
      "torch.Size([4, 1, 3])\n"
     ]
    }
   ],
   "source": [
    "print(b.shape)\n",
    "print(c.shape)"
   ]
  },
  {
   "cell_type": "code",
   "execution_count": 24,
   "metadata": {},
   "outputs": [
    {
     "name": "stdout",
     "output_type": "stream",
     "text": [
      "tensor([[[0.0000, 0.9029, 0.2333]]])\n"
     ]
    }
   ],
   "source": [
    "a[0, 0, 0] = 0\n",
    "print(a)"
   ]
  },
  {
   "cell_type": "code",
   "execution_count": 25,
   "metadata": {},
   "outputs": [
    {
     "name": "stdout",
     "output_type": "stream",
     "text": [
      "tensor([[[0.0000, 0.9029, 0.2333]],\n",
      "\n",
      "        [[0.0000, 0.9029, 0.2333]],\n",
      "\n",
      "        [[0.0000, 0.9029, 0.2333]],\n",
      "\n",
      "        [[0.0000, 0.9029, 0.2333]]])\n"
     ]
    }
   ],
   "source": [
    "print(b)"
   ]
  },
  {
   "cell_type": "markdown",
   "metadata": {},
   "source": [
    "값이 변함"
   ]
  },
  {
   "cell_type": "code",
   "execution_count": 26,
   "metadata": {},
   "outputs": [
    {
     "name": "stdout",
     "output_type": "stream",
     "text": [
      "tensor([[[0.0026, 0.9029, 0.2333]],\n",
      "\n",
      "        [[0.0026, 0.9029, 0.2333]],\n",
      "\n",
      "        [[0.0026, 0.9029, 0.2333]],\n",
      "\n",
      "        [[0.0026, 0.9029, 0.2333]]])\n"
     ]
    }
   ],
   "source": [
    "print(c)"
   ]
  },
  {
   "cell_type": "markdown",
   "metadata": {},
   "source": [
    "값이 안변함"
   ]
  },
  {
   "cell_type": "markdown",
   "metadata": {},
   "source": [
    "# topk 기능 사용하기"
   ]
  },
  {
   "cell_type": "code",
   "execution_count": 27,
   "metadata": {},
   "outputs": [
    {
     "name": "stdout",
     "output_type": "stream",
     "text": [
      "tensor([5., 4., 3.])\n",
      "tensor([4, 3, 2])\n"
     ]
    }
   ],
   "source": [
    "x = torch.arange(1., 6.)\n",
    "values, indices = torch.topk(x, 3)\n",
    "print(values)\n",
    "print(indices)"
   ]
  },
  {
   "cell_type": "markdown",
   "metadata": {},
   "source": [
    "즉 텐서에서 제일 큰 값 k개를 추출한다."
   ]
  },
  {
   "cell_type": "code",
   "execution_count": 28,
   "metadata": {},
   "outputs": [
    {
     "data": {
      "text/plain": [
       "tensor([[[0.2946, 0.2747, 0.9977],\n",
       "         [0.2986, 0.2504, 0.8388],\n",
       "         [0.8716, 0.6923, 0.8474],\n",
       "         [0.1414, 0.3562, 0.4125]],\n",
       "\n",
       "        [[0.0660, 0.0741, 0.4795],\n",
       "         [0.1395, 0.2059, 0.0491],\n",
       "         [0.5789, 0.4427, 0.0404],\n",
       "         [0.9492, 0.2317, 0.0057]]])"
      ]
     },
     "execution_count": 28,
     "metadata": {},
     "output_type": "execute_result"
    }
   ],
   "source": [
    "x = torch.rand(2, 4, 3)\n",
    "x"
   ]
  },
  {
   "cell_type": "code",
   "execution_count": 29,
   "metadata": {},
   "outputs": [
    {
     "name": "stdout",
     "output_type": "stream",
     "text": [
      "tensor([[[0.9977, 0.2946],\n",
      "         [0.8388, 0.2986],\n",
      "         [0.8716, 0.8474],\n",
      "         [0.4125, 0.3562]],\n",
      "\n",
      "        [[0.4795, 0.0741],\n",
      "         [0.2059, 0.1395],\n",
      "         [0.5789, 0.4427],\n",
      "         [0.9492, 0.2317]]])\n"
     ]
    }
   ],
   "source": [
    "values, indices = torch.topk(x, 2)\n",
    "print(values)"
   ]
  },
  {
   "cell_type": "code",
   "execution_count": 30,
   "metadata": {},
   "outputs": [
    {
     "name": "stdout",
     "output_type": "stream",
     "text": [
      "tensor([[[2, 0],\n",
      "         [2, 0],\n",
      "         [0, 2],\n",
      "         [2, 1]],\n",
      "\n",
      "        [[2, 1],\n",
      "         [1, 0],\n",
      "         [0, 1],\n",
      "         [0, 1]]])\n"
     ]
    }
   ],
   "source": [
    "print(indices)"
   ]
  },
  {
   "cell_type": "markdown",
   "metadata": {},
   "source": [
    "indices를 이용하면 인덱스를 얻을 수 있고 이를 gather랑 콜라보해서 사용 가능"
   ]
  },
  {
   "cell_type": "code",
   "execution_count": 31,
   "metadata": {},
   "outputs": [
    {
     "data": {
      "text/plain": [
       "tensor([[[True, True],\n",
       "         [True, True],\n",
       "         [True, True],\n",
       "         [True, True]],\n",
       "\n",
       "        [[True, True],\n",
       "         [True, True],\n",
       "         [True, True],\n",
       "         [True, True]]])"
      ]
     },
     "execution_count": 31,
     "metadata": {},
     "output_type": "execute_result"
    }
   ],
   "source": [
    "torch.gather(x, -1, indices) == values"
   ]
  },
  {
   "cell_type": "code",
   "execution_count": 32,
   "metadata": {},
   "outputs": [
    {
     "name": "stdout",
     "output_type": "stream",
     "text": [
      "tensor([[[0.8716, 0.6923, 0.9977],\n",
      "         [0.2986, 0.3562, 0.8474]],\n",
      "\n",
      "        [[0.9492, 0.4427, 0.4795],\n",
      "         [0.5789, 0.2317, 0.0491]]])\n"
     ]
    }
   ],
   "source": [
    "values, indices = torch.topk(x, 2, dim=1)\n",
    "print(values)"
   ]
  },
  {
   "cell_type": "code",
   "execution_count": 33,
   "metadata": {},
   "outputs": [
    {
     "name": "stdout",
     "output_type": "stream",
     "text": [
      "tensor([[[2, 2, 0],\n",
      "         [1, 3, 2]],\n",
      "\n",
      "        [[3, 2, 0],\n",
      "         [2, 3, 1]]])\n"
     ]
    }
   ],
   "source": [
    "print(indices)"
   ]
  },
  {
   "cell_type": "code",
   "execution_count": 34,
   "metadata": {},
   "outputs": [
    {
     "data": {
      "text/plain": [
       "tensor([[[True, True, True],\n",
       "         [True, True, True]],\n",
       "\n",
       "        [[True, True, True],\n",
       "         [True, True, True]]])"
      ]
     },
     "execution_count": 34,
     "metadata": {},
     "output_type": "execute_result"
    }
   ],
   "source": [
    "torch.gather(x, 1, indices) == values"
   ]
  },
  {
   "cell_type": "markdown",
   "metadata": {},
   "source": [
    "즉 topk로 부터 인덱스를 얻어내면 토치의 gather로 최대값만 뽑아낼 수 있다."
   ]
  },
  {
   "cell_type": "code",
   "execution_count": 35,
   "metadata": {},
   "outputs": [],
   "source": [
    "x = torch.rand(3, 4, 5)\n",
    "y = torch.rand(3, 4, 5)\n",
    "\n",
    "values, indices = torch.topk(x, 1, dim=2)\n",
    "# 이 경우 3차원 텐서의 x에서 구성요소인 2차원 텐서내에서 제일 최대값의 값과 위치를 얻어낸다."
   ]
  },
  {
   "cell_type": "code",
   "execution_count": 36,
   "metadata": {},
   "outputs": [
    {
     "data": {
      "text/plain": [
       "tensor([[[0.7895],\n",
       "         [0.6534],\n",
       "         [0.7966],\n",
       "         [0.1729]],\n",
       "\n",
       "        [[0.6860],\n",
       "         [0.9038],\n",
       "         [0.2777],\n",
       "         [0.3751]],\n",
       "\n",
       "        [[0.7582],\n",
       "         [0.9839],\n",
       "         [0.8514],\n",
       "         [0.3856]]])"
      ]
     },
     "execution_count": 36,
     "metadata": {},
     "output_type": "execute_result"
    }
   ],
   "source": [
    "torch.gather(y, 2, indices)"
   ]
  },
  {
   "cell_type": "markdown",
   "metadata": {},
   "source": [
    "즉 이 값들의 의미는 x의 2차원 축에서 최대값이 위치하는 텐서의 인덱스를 y텐서에서 추출한 것이다."
   ]
  }
 ],
 "metadata": {
  "colab": {
   "collapsed_sections": [],
   "machine_shape": "hm",
   "name": "Pytorch_Basic3.ipynb",
   "provenance": []
  },
  "kernelspec": {
   "display_name": "Python 3 (ipykernel)",
   "language": "python",
   "name": "python3"
  },
  "language_info": {
   "codemirror_mode": {
    "name": "ipython",
    "version": 3
   },
   "file_extension": ".py",
   "mimetype": "text/x-python",
   "name": "python",
   "nbconvert_exporter": "python",
   "pygments_lexer": "ipython3",
   "version": "3.9.7"
  }
 },
 "nbformat": 4,
 "nbformat_minor": 1
}
