{
 "cells": [
  {
   "cell_type": "code",
   "execution_count": 1,
   "id": "5138e935",
   "metadata": {},
   "outputs": [],
   "source": [
    "import torch\n",
    "import numpy as np"
   ]
  },
  {
   "cell_type": "markdown",
   "id": "2a5b2eed",
   "metadata": {},
   "source": [
    "# shape 변경하기"
   ]
  },
  {
   "cell_type": "code",
   "execution_count": 2,
   "id": "35773883",
   "metadata": {},
   "outputs": [],
   "source": [
    "A = np.ones((100, 120, 3))"
   ]
  },
  {
   "cell_type": "code",
   "execution_count": 3,
   "id": "21d4e9d3",
   "metadata": {},
   "outputs": [
    {
     "name": "stdout",
     "output_type": "stream",
     "text": [
      "(3, 100, 120)\n"
     ]
    }
   ],
   "source": [
    "A_transposed = np.transpose(A, (2, 0, 1))\n",
    "print(A_transposed.shape)"
   ]
  },
  {
   "cell_type": "markdown",
   "id": "ad9cc236",
   "metadata": {},
   "source": [
    "차원 인덱스를 이용하여 맘대로 크기 변경가능"
   ]
  },
  {
   "cell_type": "code",
   "execution_count": 4,
   "id": "5dd07657",
   "metadata": {},
   "outputs": [
    {
     "name": "stdout",
     "output_type": "stream",
     "text": [
      "torch.Size([100, 3, 120])\n"
     ]
    }
   ],
   "source": [
    "B = torch.tensor(A)\n",
    "B_transposed = torch.transpose(B, 1, 2)\n",
    "print(B_transposed.shape)"
   ]
  },
  {
   "cell_type": "code",
   "execution_count": 5,
   "id": "09a2c61b",
   "metadata": {},
   "outputs": [
    {
     "name": "stdout",
     "output_type": "stream",
     "text": [
      "torch.Size([3, 100, 120])\n"
     ]
    }
   ],
   "source": [
    "B_transposed2 = torch.transpose(B_transposed, 0, 1)\n",
    "print(B_transposed2.shape)"
   ]
  },
  {
   "cell_type": "markdown",
   "id": "7c7845af",
   "metadata": {},
   "source": [
    "torch의 경우 한번에 2개의 채널만을 교환 가능하다.\n",
    "\n",
    "따라서 numpy로 바꾸는 것이 편리하다"
   ]
  },
  {
   "cell_type": "markdown",
   "id": "d10f4219",
   "metadata": {},
   "source": [
    "# permute를 이용한 shape 변경"
   ]
  },
  {
   "cell_type": "code",
   "execution_count": 6,
   "id": "49da8280",
   "metadata": {},
   "outputs": [
    {
     "name": "stdout",
     "output_type": "stream",
     "text": [
      "torch.Size([1, 3, 10, 20])\n"
     ]
    }
   ],
   "source": [
    "A = torch.ones(1, 3, 10, 20)\n",
    "print(A.shape)"
   ]
  },
  {
   "cell_type": "code",
   "execution_count": 7,
   "id": "d51d7996",
   "metadata": {},
   "outputs": [
    {
     "name": "stdout",
     "output_type": "stream",
     "text": [
      "torch.Size([3, 20, 1, 10])\n"
     ]
    }
   ],
   "source": [
    "A_permute = A.permute(1, 3, 0, 2)\n",
    "print(A_permute.shape)"
   ]
  },
  {
   "cell_type": "markdown",
   "id": "95814056",
   "metadata": {},
   "source": [
    "numpy.transpose 처럼 한번에 채널 변경 가능"
   ]
  },
  {
   "cell_type": "markdown",
   "id": "f3c4efac",
   "metadata": {},
   "source": [
    "# nn.Dropout vs F.dropout"
   ]
  },
  {
   "cell_type": "markdown",
   "id": "9440e1c6",
   "metadata": {},
   "source": [
    "Dropout의 경우 일정 비율만큼 텐서값을 0으로 만든다."
   ]
  },
  {
   "cell_type": "code",
   "execution_count": 8,
   "id": "35427ca5",
   "metadata": {},
   "outputs": [],
   "source": [
    "import torch.nn as nn"
   ]
  },
  {
   "cell_type": "code",
   "execution_count": 9,
   "id": "e8884a99",
   "metadata": {},
   "outputs": [],
   "source": [
    "class Model1(nn.Module):\n",
    "    def __init__(self, p = 0.0): # F.dropout\n",
    "        super().__init__()\n",
    "        self.p = p\n",
    "    \n",
    "    def forward(self, inputs):\n",
    "        return nn.functional.dropout(inputs, p = self.p, training=True)\n",
    "    \n",
    "class Model2(nn.Module):\n",
    "    def __init__(self, p = 0.0):\n",
    "        super().__init__()\n",
    "        self.drop_layer = nn.Dropout(p=p)\n",
    "    \n",
    "    def forward(self, inputs):\n",
    "        return self.drop_layer(inputs)"
   ]
  },
  {
   "cell_type": "code",
   "execution_count": 10,
   "id": "72ad5b49",
   "metadata": {},
   "outputs": [],
   "source": [
    "model1 = Model1(p = 0.5)\n",
    "model2 = Model2(p = 0.5)"
   ]
  },
  {
   "cell_type": "code",
   "execution_count": 11,
   "id": "9303d58d",
   "metadata": {},
   "outputs": [
    {
     "name": "stdout",
     "output_type": "stream",
     "text": [
      "Normal (train) model:\n",
      "Model 1: tensor([1.3858, 0.0000, 0.0000, 0.0000, 0.0000, 0.6708, 1.8110, 1.4070, 0.0000,\n",
      "        0.0000])\n",
      "Model 2: tensor([1.3858, 0.9440, 0.0000, 0.0000, 0.6535, 0.6708, 0.0000, 0.0000, 0.0000,\n",
      "        1.4730])\n"
     ]
    }
   ],
   "source": [
    "inputs = torch.rand(10)\n",
    "\n",
    "print('Normal (train) model:')\n",
    "print('Model 1:', model1(inputs))\n",
    "print('Model 2:', model2(inputs))"
   ]
  },
  {
   "cell_type": "markdown",
   "id": "c0baa15b",
   "metadata": {},
   "source": [
    "즉 p = 0.5 이므로 50%의 확률로 0이 된다."
   ]
  },
  {
   "cell_type": "code",
   "execution_count": 12,
   "id": "24a3d11a",
   "metadata": {},
   "outputs": [
    {
     "data": {
      "text/plain": [
       "Model1()"
      ]
     },
     "execution_count": 12,
     "metadata": {},
     "output_type": "execute_result"
    }
   ],
   "source": [
    "model1.eval()"
   ]
  },
  {
   "cell_type": "code",
   "execution_count": 13,
   "id": "0f4235f9",
   "metadata": {},
   "outputs": [
    {
     "data": {
      "text/plain": [
       "Model2(\n",
       "  (drop_layer): Dropout(p=0.5, inplace=False)\n",
       ")"
      ]
     },
     "execution_count": 13,
     "metadata": {},
     "output_type": "execute_result"
    }
   ],
   "source": [
    "model2.eval()"
   ]
  },
  {
   "cell_type": "code",
   "execution_count": 14,
   "id": "55da70dc",
   "metadata": {},
   "outputs": [
    {
     "name": "stdout",
     "output_type": "stream",
     "text": [
      "Evaluation mode:\n",
      "Model 1: tensor([1.3858, 0.0000, 0.9405, 1.3051, 0.0000, 0.6708, 0.0000, 0.0000, 1.7718,\n",
      "        0.0000])\n",
      "Model 2: tensor([0.6929, 0.4720, 0.4702, 0.6526, 0.3267, 0.3354, 0.9055, 0.7035, 0.8859,\n",
      "        0.7365])\n"
     ]
    }
   ],
   "source": [
    "print('Evaluation mode:')\n",
    "print('Model 1:', model1(inputs))\n",
    "print('Model 2:', model2(inputs)) # 레이어가 활성화 안되었"
   ]
  },
  {
   "cell_type": "code",
   "execution_count": 15,
   "id": "3f311a5f",
   "metadata": {},
   "outputs": [
    {
     "name": "stdout",
     "output_type": "stream",
     "text": [
      "Model1()\n"
     ]
    }
   ],
   "source": [
    "print(model1)"
   ]
  },
  {
   "cell_type": "code",
   "execution_count": 16,
   "id": "49338f68",
   "metadata": {},
   "outputs": [
    {
     "name": "stdout",
     "output_type": "stream",
     "text": [
      "Model2(\n",
      "  (drop_layer): Dropout(p=0.5, inplace=False)\n",
      ")\n"
     ]
    }
   ],
   "source": [
    "print(model2)"
   ]
  },
  {
   "cell_type": "markdown",
   "id": "58a13b97",
   "metadata": {},
   "source": [
    "드롭아웃의 경우 훈련중에만 설정하도록 평가를 하여야 하므로, 예측이나 모델을 평가할때에는 사용을 해제하여야 한다. \n",
    "\n",
    "F.dropout의 경우 평가 / 예측 모드에 따라 구분이 되지만, nn.dropout의 경우 평가 / 예측 모드에 따라 레이어가 활성화 다르다.\n",
    "\n",
    "따라서 대부분 nn.dropout을 더 선호한다."
   ]
  },
  {
   "cell_type": "markdown",
   "id": "a64495dc",
   "metadata": {},
   "source": [
    "# nn.AvgPool2d vs nn.AdaptiveAvgPool2d"
   ]
  },
  {
   "cell_type": "markdown",
   "id": "c4404acd",
   "metadata": {},
   "source": [
    "Pooling layer의 경우 CNN 연산후 값들을 뽑아내는데 이용된다.\n",
    "\n",
    "AvgPooling의 경우 pooling 작업에 대한 kernel의 크기, stride 크기를 정의하여야 한다.\n",
    "\n",
    "AdaptiveAvgPool의 경우 pooling 작업이 끝났을때 필요한 출력의 크기를 정의한다."
   ]
  },
  {
   "cell_type": "markdown",
   "id": "376b9931",
   "metadata": {},
   "source": [
    "## nn.AvgPool2d"
   ]
  },
  {
   "cell_type": "code",
   "execution_count": 17,
   "id": "5d790fcf",
   "metadata": {},
   "outputs": [],
   "source": [
    "# 3x3 커널로 pooling\n",
    "m = nn.AvgPool2d(3, stride=2)\n",
    "# 비정사각 커널로 풀링\n",
    "m = nn.AvgPool2d((3, 2), stride=(2, 1))\n",
    "input = torch.randn(20, 16, 50, 32)"
   ]
  },
  {
   "cell_type": "code",
   "execution_count": 18,
   "id": "a1169618",
   "metadata": {},
   "outputs": [
    {
     "name": "stdout",
     "output_type": "stream",
     "text": [
      "torch.Size([20, 16, 24, 31])\n"
     ]
    }
   ],
   "source": [
    "output = m(input)\n",
    "print(output.shape)"
   ]
  },
  {
   "cell_type": "markdown",
   "id": "8d32e064",
   "metadata": {},
   "source": [
    "## nn.AdaptiveAvgPool"
   ]
  },
  {
   "cell_type": "code",
   "execution_count": 19,
   "id": "d02137a8",
   "metadata": {},
   "outputs": [
    {
     "name": "stdout",
     "output_type": "stream",
     "text": [
      "torch.Size([1, 64, 5, 7])\n"
     ]
    }
   ],
   "source": [
    "m = nn.AdaptiveAvgPool2d((5, 7))\n",
    "input = torch.randn(1, 64, 8, 9)\n",
    "output = m(input)\n",
    "print(output.shape)"
   ]
  },
  {
   "cell_type": "markdown",
   "id": "be489122",
   "metadata": {},
   "source": [
    "2차원 텐서 크기가 5x7로 Pooling 됨"
   ]
  },
  {
   "cell_type": "code",
   "execution_count": 20,
   "id": "96d43df0",
   "metadata": {},
   "outputs": [
    {
     "name": "stdout",
     "output_type": "stream",
     "text": [
      "torch.Size([1, 64, 7, 7])\n"
     ]
    }
   ],
   "source": [
    "m = nn.AdaptiveAvgPool2d(7)\n",
    "input = torch.randn(1, 64, 10, 9)\n",
    "output = m(input)\n",
    "print(output.shape)"
   ]
  },
  {
   "cell_type": "markdown",
   "id": "5dc0dc90",
   "metadata": {},
   "source": [
    "Pooling 된 2차원 텐서 크기가 7x7임"
   ]
  },
  {
   "cell_type": "code",
   "execution_count": 21,
   "id": "0a0598fe",
   "metadata": {},
   "outputs": [
    {
     "name": "stdout",
     "output_type": "stream",
     "text": [
      "torch.Size([1, 64, 10, 7])\n"
     ]
    }
   ],
   "source": [
    "m = nn.AdaptiveMaxPool2d((None, 7))\n",
    "input = torch.randn(1, 64, 10, 9)\n",
    "output = m(input)\n",
    "print(output.shape)"
   ]
  },
  {
   "cell_type": "markdown",
   "id": "de74e57b",
   "metadata": {},
   "source": [
    "Pooling 된 2차원 텐서의 크기가 widh 차원의 경우 유지됨"
   ]
  },
  {
   "cell_type": "code",
   "execution_count": 22,
   "id": "b03ca192",
   "metadata": {},
   "outputs": [
    {
     "data": {
      "text/plain": [
       "tensor([[[[1., 2., 3.],\n",
       "          [4., 5., 6.],\n",
       "          [7., 8., 9.]]]])"
      ]
     },
     "execution_count": 22,
     "metadata": {},
     "output_type": "execute_result"
    }
   ],
   "source": [
    "input = torch.tensor([[[[1,2.,3], [4,5,6], [7,8,9]]]], dtype = torch.float)\n",
    "input"
   ]
  },
  {
   "cell_type": "code",
   "execution_count": 23,
   "id": "43916a4f",
   "metadata": {},
   "outputs": [
    {
     "data": {
      "text/plain": [
       "tensor([[[[3., 4.],\n",
       "          [6., 7.]]]])"
      ]
     },
     "execution_count": 23,
     "metadata": {},
     "output_type": "execute_result"
    }
   ],
   "source": [
    "output = nn.AdaptiveAvgPool2d((2,2))(input)\n",
    "output"
   ]
  },
  {
   "cell_type": "markdown",
   "id": "f00b8feb",
   "metadata": {},
   "source": [
    "3은 1, 2, 4, 5끼리\n",
    "\n",
    "4는 2, 3, 5, 6끼리\n",
    "\n",
    "6은 4, 5, 7, 8끼리\n",
    "\n",
    "7은 5, 6, 7, 9끼리"
   ]
  },
  {
   "cell_type": "markdown",
   "id": "ae979de9",
   "metadata": {},
   "source": [
    "# torch.einsum 사용하기"
   ]
  },
  {
   "cell_type": "markdown",
   "id": "aff3da63",
   "metadata": {},
   "source": [
    "물리학에서 행렬계산을 직관적으로 하기 위하여 아인슈타인 표기를 많이 사용한다.\n",
    "\n",
    "이러한 표기법이 토치에서 구현되어 있다."
   ]
  },
  {
   "cell_type": "code",
   "execution_count": 24,
   "id": "2525ab4d",
   "metadata": {},
   "outputs": [
    {
     "data": {
      "text/plain": [
       "tensor([[0.3435, 0.0892, 0.0737],\n",
       "        [0.6109, 0.8787, 0.8669]])"
      ]
     },
     "execution_count": 24,
     "metadata": {},
     "output_type": "execute_result"
    }
   ],
   "source": [
    "x = torch.rand((2, 3))\n",
    "x"
   ]
  },
  {
   "cell_type": "code",
   "execution_count": 25,
   "id": "6ca5be1a",
   "metadata": {},
   "outputs": [
    {
     "data": {
      "text/plain": [
       "tensor(2.8628)"
      ]
     },
     "execution_count": 25,
     "metadata": {},
     "output_type": "execute_result"
    }
   ],
   "source": [
    "torch.einsum('ij->', x)\n",
    "# 전체 다 더하기"
   ]
  },
  {
   "cell_type": "code",
   "execution_count": 26,
   "id": "6b3d27be",
   "metadata": {},
   "outputs": [
    {
     "data": {
      "text/plain": [
       "tensor([0.9544, 0.9679, 0.9406])"
      ]
     },
     "execution_count": 26,
     "metadata": {},
     "output_type": "execute_result"
    }
   ],
   "source": [
    "torch.einsum('ij->j', x)\n",
    "# column 합"
   ]
  },
  {
   "cell_type": "code",
   "execution_count": 27,
   "id": "98ed81ab",
   "metadata": {},
   "outputs": [
    {
     "data": {
      "text/plain": [
       "tensor([0.5064, 2.3564])"
      ]
     },
     "execution_count": 27,
     "metadata": {},
     "output_type": "execute_result"
    }
   ],
   "source": [
    "torch.einsum('ij->i', x)\n",
    "# row 합"
   ]
  },
  {
   "cell_type": "code",
   "execution_count": 28,
   "id": "3d11982e",
   "metadata": {},
   "outputs": [
    {
     "data": {
      "text/plain": [
       "tensor([[0.7557, 0.1286, 0.4445]])"
      ]
     },
     "execution_count": 28,
     "metadata": {},
     "output_type": "execute_result"
    }
   ],
   "source": [
    "y = torch.rand((1, 3))\n",
    "y"
   ]
  },
  {
   "cell_type": "code",
   "execution_count": 29,
   "id": "afd7650f",
   "metadata": {},
   "outputs": [
    {
     "data": {
      "text/plain": [
       "tensor([[0.1314, 0.3521],\n",
       "        [0.3521, 1.8967]])"
      ]
     },
     "execution_count": 29,
     "metadata": {},
     "output_type": "execute_result"
    }
   ],
   "source": [
    "torch.einsum('ij,kj->ik', x, x)\n",
    "# 2x3 과 3x2 가 곱해지므로 2x2가 나와야 함"
   ]
  },
  {
   "cell_type": "code",
   "execution_count": 30,
   "id": "eb858541",
   "metadata": {},
   "outputs": [
    {
     "data": {
      "text/plain": [
       "tensor([[0.3038],\n",
       "        [0.9600]])"
      ]
     },
     "execution_count": 30,
     "metadata": {},
     "output_type": "execute_result"
    }
   ],
   "source": [
    "torch.einsum('ij,kj->ik', x, y)\n",
    "# 행렬곱"
   ]
  },
  {
   "cell_type": "code",
   "execution_count": 31,
   "id": "950de0b8",
   "metadata": {},
   "outputs": [
    {
     "data": {
      "text/plain": [
       "tensor(2.0281)"
      ]
     },
     "execution_count": 31,
     "metadata": {},
     "output_type": "execute_result"
    }
   ],
   "source": [
    "torch.einsum('ij,ij->', x, x)\n",
    "# dot product"
   ]
  },
  {
   "cell_type": "code",
   "execution_count": 32,
   "id": "a5ae329b",
   "metadata": {},
   "outputs": [
    {
     "data": {
      "text/plain": [
       "tensor(0.1314)"
      ]
     },
     "execution_count": 32,
     "metadata": {},
     "output_type": "execute_result"
    }
   ],
   "source": [
    "torch.einsum('i,i->', x[0], x[0])\n",
    "# 첫째 행끼리 곱셈"
   ]
  },
  {
   "cell_type": "code",
   "execution_count": 33,
   "id": "ba5f5f99",
   "metadata": {},
   "outputs": [
    {
     "data": {
      "text/plain": [
       "tensor([[0.1180, 0.0079, 0.0054],\n",
       "        [0.3732, 0.7721, 0.7515]])"
      ]
     },
     "execution_count": 33,
     "metadata": {},
     "output_type": "execute_result"
    }
   ],
   "source": [
    "torch.einsum('ij, ij->ij', x, x)\n",
    "\n",
    "# Element wise product\n",
    "# 각 행렬의 원소끼리 곱한 값"
   ]
  },
  {
   "cell_type": "code",
   "execution_count": 34,
   "id": "f846e417",
   "metadata": {},
   "outputs": [
    {
     "data": {
      "text/plain": [
       "tensor([[0.2646, 0.3407, 0.2944, 0.3683, 0.3507],\n",
       "        [0.1862, 0.2397, 0.2071, 0.2592, 0.2468],\n",
       "        [0.1625, 0.2092, 0.1808, 0.2262, 0.2154]])"
      ]
     },
     "execution_count": 34,
     "metadata": {},
     "output_type": "execute_result"
    }
   ],
   "source": [
    "a = torch.rand((3))\n",
    "b = torch.rand((5))\n",
    "torch.einsum('i,j->ij', a, b)\n",
    "# outer product"
   ]
  },
  {
   "cell_type": "code",
   "execution_count": 35,
   "id": "69c241ca",
   "metadata": {},
   "outputs": [
    {
     "data": {
      "text/plain": [
       "tensor([[[1.0732, 0.8128, 1.3856],\n",
       "         [1.9057, 1.1245, 1.9013]],\n",
       "\n",
       "        [[1.3025, 0.9771, 0.8946],\n",
       "         [1.9841, 1.5569, 1.5701]],\n",
       "\n",
       "        [[2.2415, 1.7755, 2.3344],\n",
       "         [1.8472, 1.3612, 1.9189]]])"
      ]
     },
     "execution_count": 35,
     "metadata": {},
     "output_type": "execute_result"
    }
   ],
   "source": [
    "a = torch.rand((3, 2, 5))\n",
    "b = torch.rand((3, 5, 3))\n",
    "torch.einsum('ijk,ikl->ijl', a, b)"
   ]
  },
  {
   "cell_type": "code",
   "execution_count": 36,
   "id": "37fe2a39",
   "metadata": {},
   "outputs": [
    {
     "data": {
      "text/plain": [
       "tensor([[0.2543, 0.8844, 0.8535],\n",
       "        [0.5049, 0.2714, 0.2263],\n",
       "        [0.8747, 0.1499, 0.9536]])"
      ]
     },
     "execution_count": 36,
     "metadata": {},
     "output_type": "execute_result"
    }
   ],
   "source": [
    "x = torch.rand((3, 3))\n",
    "x"
   ]
  },
  {
   "cell_type": "code",
   "execution_count": 37,
   "id": "84bc0021",
   "metadata": {},
   "outputs": [
    {
     "data": {
      "text/plain": [
       "tensor([0.2543, 0.2714, 0.9536])"
      ]
     },
     "execution_count": 37,
     "metadata": {},
     "output_type": "execute_result"
    }
   ],
   "source": [
    "torch.einsum('ii->i', x)\n",
    "# 대각요소만 추출"
   ]
  },
  {
   "cell_type": "code",
   "execution_count": 38,
   "id": "941c8a54",
   "metadata": {},
   "outputs": [
    {
     "data": {
      "text/plain": [
       "tensor(1.4793)"
      ]
     },
     "execution_count": 38,
     "metadata": {},
     "output_type": "execute_result"
    }
   ],
   "source": [
    "torch.einsum('ii->', x)\n",
    "# 대각합"
   ]
  },
  {
   "cell_type": "markdown",
   "id": "69f0b2e8",
   "metadata": {},
   "source": [
    "# torch.softmax"
   ]
  },
  {
   "cell_type": "code",
   "execution_count": 39,
   "id": "6e6bcf42",
   "metadata": {},
   "outputs": [
    {
     "name": "stdout",
     "output_type": "stream",
     "text": [
      "tensor([[[[1., 1., 1., 1.],\n",
      "          [1., 1., 1., 1.],\n",
      "          [1., 1., 1., 1.]],\n",
      "\n",
      "         [[1., 1., 1., 1.],\n",
      "          [1., 1., 1., 1.],\n",
      "          [1., 1., 1., 1.]]]])\n"
     ]
    }
   ],
   "source": [
    "print(torch.softmax(torch.ones((1, 2, 3, 4)), dim=0))\n",
    "\n",
    "# 값들끼리 비교해서 제일 높은 것을 반환. 값들이 전부 같으므로 1"
   ]
  },
  {
   "cell_type": "code",
   "execution_count": 40,
   "id": "78caa863",
   "metadata": {},
   "outputs": [
    {
     "name": "stdout",
     "output_type": "stream",
     "text": [
      "tensor([[[[0.5000, 0.5000, 0.5000, 0.5000],\n",
      "          [0.5000, 0.5000, 0.5000, 0.5000],\n",
      "          [0.5000, 0.5000, 0.5000, 0.5000]],\n",
      "\n",
      "         [[0.5000, 0.5000, 0.5000, 0.5000],\n",
      "          [0.5000, 0.5000, 0.5000, 0.5000],\n",
      "          [0.5000, 0.5000, 0.5000, 0.5000]]]])\n"
     ]
    }
   ],
   "source": [
    "print(torch.softmax(torch.ones((1, 2, 3, 4)), dim=1))\n",
    "\n",
    "# 채널차원에서 비교. 전부 같으므로 0.5가 나옴"
   ]
  },
  {
   "cell_type": "code",
   "execution_count": 41,
   "id": "a02fe7f8",
   "metadata": {},
   "outputs": [
    {
     "name": "stdout",
     "output_type": "stream",
     "text": [
      "tensor([[[[0.3333, 0.3333, 0.3333, 0.3333],\n",
      "          [0.3333, 0.3333, 0.3333, 0.3333],\n",
      "          [0.3333, 0.3333, 0.3333, 0.3333]],\n",
      "\n",
      "         [[0.3333, 0.3333, 0.3333, 0.3333],\n",
      "          [0.3333, 0.3333, 0.3333, 0.3333],\n",
      "          [0.3333, 0.3333, 0.3333, 0.3333]]]])\n"
     ]
    }
   ],
   "source": [
    "print(torch.softmax(torch.ones((1, 2, 3, 4)), dim=2))\n",
    "\n",
    "# 행 끼리 비교. 3개가 다 같으므로 1/3"
   ]
  },
  {
   "cell_type": "code",
   "execution_count": 42,
   "id": "a775afa8",
   "metadata": {},
   "outputs": [
    {
     "name": "stdout",
     "output_type": "stream",
     "text": [
      "tensor([[[[0.2500, 0.2500, 0.2500, 0.2500],\n",
      "          [0.2500, 0.2500, 0.2500, 0.2500],\n",
      "          [0.2500, 0.2500, 0.2500, 0.2500]],\n",
      "\n",
      "         [[0.2500, 0.2500, 0.2500, 0.2500],\n",
      "          [0.2500, 0.2500, 0.2500, 0.2500],\n",
      "          [0.2500, 0.2500, 0.2500, 0.2500]]]])\n"
     ]
    }
   ],
   "source": [
    "print(torch.softmax(torch.ones((1, 2, 3, 4)), dim=3))\n",
    "\n",
    "# 열끼리 비교. 4개 다 같으므로 1/4"
   ]
  },
  {
   "cell_type": "code",
   "execution_count": 43,
   "id": "e79ac485",
   "metadata": {},
   "outputs": [
    {
     "name": "stdout",
     "output_type": "stream",
     "text": [
      "tensor([[[[0.2500, 0.2500, 0.2500, 0.2500],\n",
      "          [0.2500, 0.2500, 0.2500, 0.2500],\n",
      "          [0.2500, 0.2500, 0.2500, 0.2500]],\n",
      "\n",
      "         [[0.2500, 0.2500, 0.2500, 0.2500],\n",
      "          [0.2500, 0.2500, 0.2500, 0.2500],\n",
      "          [0.2500, 0.2500, 0.2500, 0.2500]]]])\n"
     ]
    }
   ],
   "source": [
    "print(torch.softmax(torch.ones((1, 2, 3, 4)), dim=-1))\n",
    "\n",
    "# 제일 높은 차원으로 자동 계산"
   ]
  },
  {
   "cell_type": "markdown",
   "id": "2bb715b1",
   "metadata": {},
   "source": [
    "# torch.repeat 사용하기"
   ]
  },
  {
   "cell_type": "code",
   "execution_count": 44,
   "id": "9c0181af",
   "metadata": {},
   "outputs": [
    {
     "data": {
      "text/plain": [
       "tensor([1.])"
      ]
     },
     "execution_count": 44,
     "metadata": {},
     "output_type": "execute_result"
    }
   ],
   "source": [
    "torch.ones(1)"
   ]
  },
  {
   "cell_type": "code",
   "execution_count": 45,
   "id": "9fcd41b8",
   "metadata": {},
   "outputs": [
    {
     "data": {
      "text/plain": [
       "tensor([[1., 1., 1.],\n",
       "        [1., 1., 1.]])"
      ]
     },
     "execution_count": 45,
     "metadata": {},
     "output_type": "execute_result"
    }
   ],
   "source": [
    "torch.ones(1).repeat(2, 3)"
   ]
  },
  {
   "cell_type": "code",
   "execution_count": 46,
   "id": "18ce8ec0",
   "metadata": {},
   "outputs": [
    {
     "data": {
      "text/plain": [
       "tensor([[1., 1., 1.],\n",
       "        [1., 1., 1.]])"
      ]
     },
     "execution_count": 46,
     "metadata": {},
     "output_type": "execute_result"
    }
   ],
   "source": [
    "torch.ones(2, 3)"
   ]
  },
  {
   "cell_type": "code",
   "execution_count": 47,
   "id": "ffe06b2d",
   "metadata": {},
   "outputs": [
    {
     "data": {
      "text/plain": [
       "torch.Size([6, 12])"
      ]
     },
     "execution_count": 47,
     "metadata": {},
     "output_type": "execute_result"
    }
   ],
   "source": [
    "torch.ones(2, 3).repeat(3, 4).shape"
   ]
  },
  {
   "cell_type": "code",
   "execution_count": 48,
   "id": "a550cf4a",
   "metadata": {},
   "outputs": [
    {
     "data": {
      "text/plain": [
       "torch.Size([3, 8, 15])"
      ]
     },
     "execution_count": 48,
     "metadata": {},
     "output_type": "execute_result"
    }
   ],
   "source": [
    "torch.ones(2, 3).repeat(3, 4, 5).shape"
   ]
  },
  {
   "cell_type": "code",
   "execution_count": 49,
   "id": "afb01cf6",
   "metadata": {},
   "outputs": [
    {
     "data": {
      "text/plain": [
       "tensor([0, 1, 2, 3])"
      ]
     },
     "execution_count": 49,
     "metadata": {},
     "output_type": "execute_result"
    }
   ],
   "source": [
    "torch.arange(0, 4)"
   ]
  },
  {
   "cell_type": "code",
   "execution_count": 50,
   "id": "13f5add1",
   "metadata": {},
   "outputs": [
    {
     "data": {
      "text/plain": [
       "tensor([[0, 1, 2, 3, 0, 1, 2, 3, 0, 1, 2, 3, 0, 1, 2, 3],\n",
       "        [0, 1, 2, 3, 0, 1, 2, 3, 0, 1, 2, 3, 0, 1, 2, 3],\n",
       "        [0, 1, 2, 3, 0, 1, 2, 3, 0, 1, 2, 3, 0, 1, 2, 3]])"
      ]
     },
     "execution_count": 50,
     "metadata": {},
     "output_type": "execute_result"
    }
   ],
   "source": [
    "torch.arange(0, 4).repeat(3, 4)"
   ]
  },
  {
   "cell_type": "markdown",
   "id": "fc197e3f",
   "metadata": {},
   "source": [
    "# torch.scatter"
   ]
  },
  {
   "cell_type": "markdown",
   "id": "cc9faa50",
   "metadata": {},
   "source": [
    "특정 인덱스에 특정 값을 뿌리는 특징을 가지고 있습니다."
   ]
  },
  {
   "cell_type": "code",
   "execution_count": 51,
   "id": "3b551a05",
   "metadata": {},
   "outputs": [
    {
     "name": "stdout",
     "output_type": "stream",
     "text": [
      "tensor([[ 1,  2,  3,  4,  5],\n",
      "        [ 6,  7,  8,  9, 10]])\n"
     ]
    }
   ],
   "source": [
    "src = torch.arange(1, 11).reshape((2, 5))\n",
    "print(src)"
   ]
  },
  {
   "cell_type": "code",
   "execution_count": 52,
   "id": "b714ab49",
   "metadata": {},
   "outputs": [
    {
     "data": {
      "text/plain": [
       "tensor([[1, 0, 0, 4, 0],\n",
       "        [0, 2, 0, 0, 0],\n",
       "        [0, 0, 3, 0, 5]])"
      ]
     },
     "execution_count": 52,
     "metadata": {},
     "output_type": "execute_result"
    }
   ],
   "source": [
    "index = torch.tensor([[0, 1, 2, 0, 2]])\n",
    "torch.zeros(3, 5, dtype = src.dtype).scatter_(0, index, src)"
   ]
  },
  {
   "cell_type": "markdown",
   "id": "49a926e9",
   "metadata": {},
   "source": [
    "뭐지 싶을 건데, dim = 0 이므로 값을 기준으로 scatter 진행.\n",
    "\n",
    "src에서 값을 가져다가 원래 토치에 흩뿌린다 생각하면 된다.\n",
    "\n",
    "인덱스 텐서의 크기가 5이므로 src 텐서에서 5개의 텐서만 박힌다.\n",
    "\n",
    "인덱스가 0, 1, 2, 0, 2 이므로 순서대로 0번째, 1번째, 2번째, 0번째, 2번째에\n",
    "\n",
    "1 2 3 4 5 가 박힐 것이다."
   ]
  },
  {
   "cell_type": "code",
   "execution_count": 53,
   "id": "94a35950",
   "metadata": {},
   "outputs": [
    {
     "name": "stdout",
     "output_type": "stream",
     "text": [
      "tensor([[ 1,  2,  3,  4,  5],\n",
      "        [ 6,  7,  8,  9, 10]])\n"
     ]
    }
   ],
   "source": [
    "src = torch.arange(1, 11).reshape((2, 5))\n",
    "print(src)"
   ]
  },
  {
   "cell_type": "code",
   "execution_count": 54,
   "id": "f1432ff1",
   "metadata": {},
   "outputs": [
    {
     "data": {
      "text/plain": [
       "tensor([[1, 2, 3, 0, 0],\n",
       "        [6, 7, 0, 0, 8],\n",
       "        [0, 0, 0, 0, 0]])"
      ]
     },
     "execution_count": 54,
     "metadata": {},
     "output_type": "execute_result"
    }
   ],
   "source": [
    "index = torch.tensor([[0, 1, 2], [0, 1, 4]])\n",
    "torch.zeros(3, 5, dtype=src.dtype).scatter_(1, index, src)"
   ]
  },
  {
   "cell_type": "markdown",
   "id": "87d72a80",
   "metadata": {},
   "source": [
    "여기서는 dim이 1이므로, 줄 단위로 생각을 할 것이다.\n",
    "\n",
    "첫번째 줄은 0, 1, 2 이므로 1, 2, 3이\n",
    "\n",
    "두번째 줄은 0, 1, 4 이므로 6, 7, 8이 순서대로 각각의 zeros 텐서에 넣어질 것이다."
   ]
  },
  {
   "cell_type": "markdown",
   "id": "2cd88bf3",
   "metadata": {},
   "source": [
    "# torch.split"
   ]
  },
  {
   "cell_type": "code",
   "execution_count": 55,
   "id": "ae0133bf",
   "metadata": {
    "scrolled": true
   },
   "outputs": [
    {
     "data": {
      "text/plain": [
       "tensor([[0, 1],\n",
       "        [2, 3],\n",
       "        [4, 5],\n",
       "        [6, 7],\n",
       "        [8, 9]])"
      ]
     },
     "execution_count": 55,
     "metadata": {},
     "output_type": "execute_result"
    }
   ],
   "source": [
    "a = torch.arange(10).reshape(5,2)\n",
    "a"
   ]
  },
  {
   "cell_type": "code",
   "execution_count": 56,
   "id": "fd4108fb",
   "metadata": {},
   "outputs": [
    {
     "data": {
      "text/plain": [
       "(tensor([[0, 1],\n",
       "         [2, 3]]),\n",
       " tensor([[4, 5],\n",
       "         [6, 7]]),\n",
       " tensor([[8, 9]]))"
      ]
     },
     "execution_count": 56,
     "metadata": {},
     "output_type": "execute_result"
    }
   ],
   "source": [
    "torch.split(a, 2)\n",
    "\n",
    "# 2개씩 분해"
   ]
  },
  {
   "cell_type": "code",
   "execution_count": 57,
   "id": "ab2df498",
   "metadata": {},
   "outputs": [
    {
     "data": {
      "text/plain": [
       "(tensor([[0, 1]]),\n",
       " tensor([[2, 3],\n",
       "         [4, 5],\n",
       "         [6, 7],\n",
       "         [8, 9]]))"
      ]
     },
     "execution_count": 57,
     "metadata": {},
     "output_type": "execute_result"
    }
   ],
   "source": [
    "torch.split(a, [1,4])"
   ]
  },
  {
   "cell_type": "markdown",
   "id": "94775070",
   "metadata": {},
   "source": [
    "# torch.nan_to_num"
   ]
  },
  {
   "cell_type": "code",
   "execution_count": 58,
   "id": "14c41190",
   "metadata": {},
   "outputs": [
    {
     "data": {
      "text/plain": [
       "tensor([ 0.0000e+00,  3.4028e+38, -3.4028e+38,  3.1400e+00])"
      ]
     },
     "execution_count": 58,
     "metadata": {},
     "output_type": "execute_result"
    }
   ],
   "source": [
    "x = torch.tensor([float('nan'), float('inf'), -float('inf'), 3.14])\n",
    "torch.nan_to_num(x)"
   ]
  },
  {
   "cell_type": "code",
   "execution_count": 59,
   "id": "d75a9d25",
   "metadata": {},
   "outputs": [
    {
     "data": {
      "text/plain": [
       "tensor([ 0.0000e+00,  1.0000e+10, -1.0000e+10,  3.1400e+00])"
      ]
     },
     "execution_count": 59,
     "metadata": {},
     "output_type": "execute_result"
    }
   ],
   "source": [
    "torch.nan_to_num(x, nan = 0.0, posinf=1e10, neginf=-1e10)"
   ]
  },
  {
   "cell_type": "markdown",
   "id": "6d845090",
   "metadata": {},
   "source": [
    "# weight 초기화 방법"
   ]
  },
  {
   "cell_type": "code",
   "execution_count": 60,
   "id": "0959dcab",
   "metadata": {},
   "outputs": [],
   "source": [
    "import torch.nn.functional as F "
   ]
  },
  {
   "cell_type": "code",
   "execution_count": 61,
   "id": "e6ab5819",
   "metadata": {},
   "outputs": [
    {
     "name": "stdout",
     "output_type": "stream",
     "text": [
      "Parameter containing:\n",
      "tensor([[[[ 0.1103, -0.3843,  0.2854],\n",
      "          [ 0.1306,  0.2139,  0.0752],\n",
      "          [ 0.1389,  0.2022,  0.4347]],\n",
      "\n",
      "         [[ 0.2956,  0.0851, -0.4342],\n",
      "          [-0.1576,  0.0331,  0.0029],\n",
      "          [-0.1181,  0.4160, -0.3398]],\n",
      "\n",
      "         [[ 0.0033, -0.1967,  0.2678],\n",
      "          [-0.2506, -0.1710,  0.0164],\n",
      "          [ 0.3866, -0.2206,  0.3805]]],\n",
      "\n",
      "\n",
      "        [[[ 0.3844,  0.0979,  0.3595],\n",
      "          [-0.2392, -0.2969,  0.2484],\n",
      "          [-0.3168,  0.2796, -0.1044]],\n",
      "\n",
      "         [[-0.2922, -0.2327,  0.2301],\n",
      "          [-0.4593,  0.2892,  0.3827],\n",
      "          [-0.2698,  0.0184, -0.1722]],\n",
      "\n",
      "         [[-0.3666,  0.2382, -0.2350],\n",
      "          [-0.0984, -0.1140, -0.3218],\n",
      "          [-0.0890, -0.2260,  0.0523]]],\n",
      "\n",
      "\n",
      "        [[[ 0.1532,  0.0992, -0.0092],\n",
      "          [ 0.4230,  0.3932, -0.1153],\n",
      "          [-0.3190,  0.2027,  0.0891]],\n",
      "\n",
      "         [[-0.2769,  0.4501, -0.2236],\n",
      "          [ 0.2910, -0.1907, -0.1876],\n",
      "          [ 0.2373,  0.2757,  0.3940]],\n",
      "\n",
      "         [[ 0.1737, -0.3636, -0.0781],\n",
      "          [-0.3188, -0.2488,  0.4030],\n",
      "          [ 0.1171,  0.2320,  0.1994]]],\n",
      "\n",
      "\n",
      "        [[[-0.3763, -0.0517, -0.0103],\n",
      "          [-0.2013,  0.1964,  0.2440],\n",
      "          [ 0.3847, -0.1168, -0.3849]],\n",
      "\n",
      "         [[ 0.0055,  0.1558, -0.3943],\n",
      "          [ 0.1257, -0.4472, -0.0676],\n",
      "          [-0.3151,  0.3452, -0.4661]],\n",
      "\n",
      "         [[ 0.1422, -0.3214,  0.1974],\n",
      "          [ 0.2823,  0.0513, -0.1988],\n",
      "          [-0.0517, -0.0920, -0.4278]]],\n",
      "\n",
      "\n",
      "        [[[-0.1567,  0.4051,  0.0153],\n",
      "          [ 0.4678, -0.3206, -0.2522],\n",
      "          [ 0.2970, -0.3727, -0.0448]],\n",
      "\n",
      "         [[-0.3411,  0.2421, -0.1041],\n",
      "          [ 0.2215,  0.3565,  0.2961],\n",
      "          [-0.2760,  0.1703, -0.4286]],\n",
      "\n",
      "         [[-0.0923,  0.4341,  0.3007],\n",
      "          [ 0.2319, -0.1712,  0.0457],\n",
      "          [ 0.1016, -0.2027, -0.3958]]],\n",
      "\n",
      "\n",
      "        [[[ 0.2730,  0.4184, -0.0349],\n",
      "          [-0.2936, -0.0536, -0.3084],\n",
      "          [-0.4312,  0.1008,  0.1727]],\n",
      "\n",
      "         [[ 0.0231,  0.3308,  0.1230],\n",
      "          [ 0.3772,  0.3934,  0.4167],\n",
      "          [-0.0332,  0.2582, -0.2941]],\n",
      "\n",
      "         [[ 0.1830,  0.0039,  0.0490],\n",
      "          [-0.2492, -0.4105, -0.1371],\n",
      "          [ 0.3089,  0.2567,  0.1589]]]], requires_grad=True)\n",
      "Parameter containing:\n",
      "tensor([0., 0., 0., 0., 0., 0.], requires_grad=True)\n",
      "Parameter containing:\n",
      "tensor([[[[ 0.2420, -0.2000, -0.0149],\n",
      "          [-0.0652,  0.2535,  0.2039],\n",
      "          [ 0.1689,  0.2855, -0.0150]],\n",
      "\n",
      "         [[-0.3214,  0.2592, -0.1122],\n",
      "          [ 0.2815,  0.2455, -0.0029],\n",
      "          [-0.3135, -0.1804,  0.0146]],\n",
      "\n",
      "         [[ 0.2475, -0.0297, -0.1378],\n",
      "          [-0.2428, -0.2993, -0.0950],\n",
      "          [-0.0917, -0.0917, -0.1602]],\n",
      "\n",
      "         [[ 0.0966,  0.0161,  0.2812],\n",
      "          [-0.2725, -0.2132,  0.0355],\n",
      "          [ 0.2428,  0.0624,  0.0504]],\n",
      "\n",
      "         [[-0.2039, -0.0690,  0.2011],\n",
      "          [-0.2985,  0.0125,  0.3085],\n",
      "          [ 0.2605,  0.1654,  0.1730]],\n",
      "\n",
      "         [[-0.1959, -0.0779,  0.2375],\n",
      "          [-0.2461, -0.2049, -0.2526],\n",
      "          [ 0.3125, -0.0438, -0.0246]]],\n",
      "\n",
      "\n",
      "        [[[-0.0178, -0.2887,  0.2597],\n",
      "          [-0.2215, -0.1571, -0.0217],\n",
      "          [-0.2028,  0.0655, -0.0592]],\n",
      "\n",
      "         [[-0.1060, -0.0896,  0.0815],\n",
      "          [ 0.3042,  0.1534,  0.2851],\n",
      "          [ 0.3059,  0.2766,  0.0689]],\n",
      "\n",
      "         [[ 0.2385,  0.2505, -0.0914],\n",
      "          [ 0.2326, -0.0561,  0.2329],\n",
      "          [-0.0299,  0.0111, -0.1588]],\n",
      "\n",
      "         [[-0.1615, -0.0396,  0.3302],\n",
      "          [-0.1598, -0.1275,  0.0706],\n",
      "          [-0.1947, -0.0233, -0.0629]],\n",
      "\n",
      "         [[-0.2236, -0.1047, -0.1486],\n",
      "          [-0.1509, -0.1012, -0.2435],\n",
      "          [ 0.1980,  0.0036,  0.2194]],\n",
      "\n",
      "         [[ 0.2156,  0.0497,  0.1130],\n",
      "          [-0.1962,  0.1506,  0.0491],\n",
      "          [-0.1120,  0.0534,  0.2919]]],\n",
      "\n",
      "\n",
      "        [[[ 0.2955,  0.0765, -0.2170],\n",
      "          [-0.2592, -0.0461, -0.2900],\n",
      "          [ 0.0168,  0.1101,  0.0252]],\n",
      "\n",
      "         [[-0.0567, -0.1432,  0.1080],\n",
      "          [ 0.3292, -0.2374, -0.2561],\n",
      "          [ 0.0382, -0.2153, -0.3283]],\n",
      "\n",
      "         [[-0.2380, -0.0888,  0.1538],\n",
      "          [-0.1002,  0.1616,  0.0781],\n",
      "          [-0.2679, -0.0275, -0.1718]],\n",
      "\n",
      "         [[-0.2206, -0.0073, -0.0259],\n",
      "          [ 0.2698, -0.3043,  0.2817],\n",
      "          [-0.1191,  0.0494, -0.1587]],\n",
      "\n",
      "         [[-0.2035,  0.2515,  0.1689],\n",
      "          [-0.0744,  0.0422, -0.3324],\n",
      "          [ 0.0065, -0.2226, -0.1549]],\n",
      "\n",
      "         [[-0.3189,  0.1776, -0.0718],\n",
      "          [ 0.2795, -0.0020,  0.0460],\n",
      "          [-0.3244,  0.2946, -0.2945]]],\n",
      "\n",
      "\n",
      "        [[[ 0.2872, -0.1338, -0.0535],\n",
      "          [-0.2864, -0.0961, -0.1364],\n",
      "          [ 0.3125,  0.2479,  0.0578]],\n",
      "\n",
      "         [[ 0.2685,  0.1743,  0.0819],\n",
      "          [ 0.0564, -0.1499,  0.1065],\n",
      "          [ 0.2722, -0.1286, -0.0683]],\n",
      "\n",
      "         [[-0.3241, -0.3039,  0.1440],\n",
      "          [-0.1613, -0.1281,  0.1753],\n",
      "          [ 0.3125, -0.1581,  0.0804]],\n",
      "\n",
      "         [[ 0.0690, -0.0457, -0.0750],\n",
      "          [ 0.1725, -0.2221, -0.0607],\n",
      "          [ 0.0906,  0.1118,  0.2643]],\n",
      "\n",
      "         [[-0.0556, -0.0189,  0.3174],\n",
      "          [-0.3082, -0.0807,  0.1429],\n",
      "          [-0.1728, -0.3000, -0.2812]],\n",
      "\n",
      "         [[ 0.2525, -0.2674,  0.2832],\n",
      "          [ 0.1836, -0.2366, -0.3223],\n",
      "          [-0.0149, -0.0605, -0.0662]]],\n",
      "\n",
      "\n",
      "        [[[-0.1343, -0.0365,  0.1035],\n",
      "          [ 0.0588,  0.3239, -0.1470],\n",
      "          [ 0.2742, -0.3265, -0.1731]],\n",
      "\n",
      "         [[-0.3078,  0.2121, -0.1305],\n",
      "          [ 0.3261,  0.1751,  0.0260],\n",
      "          [ 0.2640, -0.1945, -0.2395]],\n",
      "\n",
      "         [[ 0.0757,  0.0674,  0.2417],\n",
      "          [ 0.1613,  0.2989, -0.2293],\n",
      "          [-0.1452, -0.1808,  0.0752]],\n",
      "\n",
      "         [[-0.1751, -0.1633,  0.1726],\n",
      "          [ 0.2403,  0.3063,  0.1949],\n",
      "          [-0.3232, -0.0578,  0.2731]],\n",
      "\n",
      "         [[-0.0563,  0.1878,  0.1106],\n",
      "          [-0.0228, -0.0858,  0.1140],\n",
      "          [-0.0330,  0.1931, -0.1575]],\n",
      "\n",
      "         [[ 0.0487, -0.2199, -0.1393],\n",
      "          [-0.3098, -0.1541, -0.1646],\n",
      "          [-0.1460, -0.2870, -0.2315]]],\n",
      "\n",
      "\n",
      "        [[[ 0.2689, -0.1289,  0.2402],\n",
      "          [-0.2216, -0.1196,  0.2503],\n",
      "          [ 0.3108, -0.0313,  0.2919]],\n",
      "\n",
      "         [[-0.3071, -0.1508, -0.1717],\n",
      "          [-0.2784, -0.2968, -0.1284],\n",
      "          [-0.0071, -0.2594,  0.1186]],\n",
      "\n",
      "         [[ 0.3271,  0.1616,  0.2458],\n",
      "          [-0.2443, -0.0869, -0.1447],\n",
      "          [-0.1772, -0.3048,  0.1286]],\n",
      "\n",
      "         [[ 0.1587, -0.1670, -0.3107],\n",
      "          [ 0.1302, -0.3290,  0.2255],\n",
      "          [ 0.1437, -0.0216, -0.0151]],\n",
      "\n",
      "         [[-0.0951, -0.1202,  0.0124],\n",
      "          [-0.2429,  0.1775,  0.2891],\n",
      "          [ 0.0912, -0.2656, -0.2567]],\n",
      "\n",
      "         [[ 0.1295,  0.1611,  0.0926],\n",
      "          [ 0.2182, -0.2839, -0.3090],\n",
      "          [ 0.1784, -0.2882, -0.3290]]],\n",
      "\n",
      "\n",
      "        [[[ 0.1197,  0.0467, -0.1038],\n",
      "          [-0.3303,  0.3275, -0.3195],\n",
      "          [-0.2416, -0.3271,  0.1398]],\n",
      "\n",
      "         [[ 0.1191, -0.2003,  0.2718],\n",
      "          [ 0.2065,  0.2829,  0.0533],\n",
      "          [ 0.3181, -0.1832, -0.1057]],\n",
      "\n",
      "         [[-0.1204,  0.3171,  0.0828],\n",
      "          [-0.3249,  0.3218, -0.1880],\n",
      "          [ 0.1696, -0.0026,  0.1259]],\n",
      "\n",
      "         [[ 0.2709,  0.1648, -0.2874],\n",
      "          [-0.0702, -0.1889, -0.2834],\n",
      "          [ 0.0955, -0.2850,  0.2077]],\n",
      "\n",
      "         [[ 0.1130,  0.1223,  0.1387],\n",
      "          [-0.0526, -0.0496,  0.1288],\n",
      "          [ 0.0253, -0.2239,  0.1563]],\n",
      "\n",
      "         [[-0.1205,  0.2897,  0.2427],\n",
      "          [ 0.1839,  0.3062,  0.0935],\n",
      "          [-0.0073,  0.0698,  0.1978]]],\n",
      "\n",
      "\n",
      "        [[[-0.2459, -0.3254,  0.1674],\n",
      "          [ 0.2278, -0.2797,  0.2019],\n",
      "          [-0.0462, -0.0170,  0.1887]],\n",
      "\n",
      "         [[ 0.2051,  0.3171,  0.2702],\n",
      "          [ 0.1067, -0.3153,  0.2971],\n",
      "          [-0.1783,  0.0373,  0.0959]],\n",
      "\n",
      "         [[-0.0160,  0.1706, -0.0276],\n",
      "          [-0.1285,  0.2495, -0.2352],\n",
      "          [ 0.2691,  0.2555, -0.1537]],\n",
      "\n",
      "         [[ 0.0262,  0.0707, -0.1158],\n",
      "          [ 0.2269, -0.2417,  0.2911],\n",
      "          [ 0.0674, -0.1330,  0.3099]],\n",
      "\n",
      "         [[ 0.0053, -0.2194, -0.0472],\n",
      "          [ 0.0746, -0.0198, -0.2575],\n",
      "          [-0.2749, -0.3318,  0.0847]],\n",
      "\n",
      "         [[-0.0732,  0.1740, -0.0887],\n",
      "          [-0.2735,  0.1827, -0.0395],\n",
      "          [ 0.1757, -0.0038, -0.1121]]],\n",
      "\n",
      "\n",
      "        [[[-0.0229,  0.0528,  0.0361],\n",
      "          [ 0.3228,  0.2678,  0.1525],\n",
      "          [-0.3077,  0.1452,  0.2919]],\n",
      "\n",
      "         [[-0.1084,  0.2465, -0.2923],\n",
      "          [ 0.1055, -0.1074, -0.1953],\n",
      "          [ 0.0784,  0.0596, -0.1692]],\n",
      "\n",
      "         [[-0.1106, -0.2046,  0.0555],\n",
      "          [-0.2474, -0.0171, -0.1289],\n",
      "          [ 0.3130, -0.2836, -0.0968]],\n",
      "\n",
      "         [[-0.2011, -0.3063,  0.2165],\n",
      "          [ 0.2804, -0.0550,  0.2112],\n",
      "          [-0.1654, -0.3260,  0.1055]],\n",
      "\n",
      "         [[-0.2002,  0.1094, -0.3239],\n",
      "          [-0.1454, -0.1643, -0.2647],\n",
      "          [-0.1540,  0.1346,  0.0794]],\n",
      "\n",
      "         [[-0.1962, -0.0751,  0.2958],\n",
      "          [-0.0669,  0.0411, -0.1222],\n",
      "          [-0.1682,  0.1872,  0.2591]]],\n",
      "\n",
      "\n",
      "        [[[ 0.1857, -0.2670,  0.2082],\n",
      "          [ 0.1380, -0.2267,  0.1422],\n",
      "          [ 0.1321,  0.1845,  0.2463]],\n",
      "\n",
      "         [[-0.3253,  0.0006,  0.0067],\n",
      "          [ 0.3037, -0.0994, -0.3131],\n",
      "          [ 0.2071, -0.3046, -0.1385]],\n",
      "\n",
      "         [[ 0.1784, -0.2515, -0.2637],\n",
      "          [ 0.2940, -0.0504, -0.2195],\n",
      "          [ 0.0811,  0.2876, -0.1420]],\n",
      "\n",
      "         [[ 0.1506,  0.0339, -0.1346],\n",
      "          [-0.0817,  0.0742,  0.0936],\n",
      "          [-0.1931,  0.2351, -0.1757]],\n",
      "\n",
      "         [[-0.2344,  0.0732,  0.1465],\n",
      "          [ 0.3023,  0.1146,  0.2043],\n",
      "          [-0.0110, -0.1469,  0.2348]],\n",
      "\n",
      "         [[ 0.2991,  0.2926,  0.1927],\n",
      "          [ 0.1420, -0.1592, -0.2957],\n",
      "          [ 0.1995,  0.2818, -0.1192]]],\n",
      "\n",
      "\n",
      "        [[[ 0.1571,  0.1555,  0.2843],\n",
      "          [-0.2661,  0.2205,  0.1990],\n",
      "          [ 0.2765, -0.1449, -0.3333]],\n",
      "\n",
      "         [[-0.1427,  0.2679, -0.2361],\n",
      "          [-0.1828, -0.2237, -0.3108],\n",
      "          [ 0.0050,  0.1373,  0.3024]],\n",
      "\n",
      "         [[ 0.0605,  0.0669, -0.2102],\n",
      "          [-0.0846,  0.2922,  0.2091],\n",
      "          [ 0.0536, -0.2767,  0.2938]],\n",
      "\n",
      "         [[-0.3128,  0.0668, -0.1423],\n",
      "          [-0.1009,  0.2601, -0.0430],\n",
      "          [ 0.0192, -0.0547, -0.2416]],\n",
      "\n",
      "         [[-0.2726,  0.1001,  0.0697],\n",
      "          [-0.0364, -0.0466,  0.0838],\n",
      "          [ 0.3055, -0.1362,  0.2888]],\n",
      "\n",
      "         [[-0.2085, -0.1628,  0.1386],\n",
      "          [ 0.2627,  0.1467, -0.3063],\n",
      "          [ 0.1063,  0.1633, -0.0053]]],\n",
      "\n",
      "\n",
      "        [[[-0.2507,  0.1241, -0.1698],\n",
      "          [-0.0231, -0.3126,  0.2417],\n",
      "          [-0.2692,  0.2063,  0.0142]],\n",
      "\n",
      "         [[ 0.2556, -0.1302, -0.2266],\n",
      "          [ 0.2536,  0.1365, -0.1448],\n",
      "          [ 0.1452, -0.1064, -0.1622]],\n",
      "\n",
      "         [[-0.2239,  0.2855, -0.1638],\n",
      "          [-0.1295,  0.0289, -0.0053],\n",
      "          [-0.2328, -0.1940,  0.0476]],\n",
      "\n",
      "         [[ 0.1031, -0.0714, -0.0673],\n",
      "          [ 0.0672,  0.1670,  0.1172],\n",
      "          [-0.2806,  0.0459, -0.0946]],\n",
      "\n",
      "         [[-0.2967, -0.0319,  0.2245],\n",
      "          [-0.1763, -0.2394,  0.0984],\n",
      "          [ 0.1769, -0.1723, -0.3221]],\n",
      "\n",
      "         [[-0.0079, -0.1997, -0.0022],\n",
      "          [ 0.1630,  0.0233, -0.0619],\n",
      "          [ 0.2647,  0.2021,  0.0989]]],\n",
      "\n",
      "\n",
      "        [[[ 0.2601, -0.2696, -0.0687],\n",
      "          [-0.2821,  0.1501, -0.3096],\n",
      "          [ 0.0417, -0.2944,  0.1278]],\n",
      "\n",
      "         [[-0.2619,  0.1394,  0.1704],\n",
      "          [ 0.2927,  0.1881,  0.0313],\n",
      "          [ 0.3320,  0.1021, -0.2492]],\n",
      "\n",
      "         [[-0.2758,  0.2926, -0.1509],\n",
      "          [-0.2737,  0.0716, -0.1521],\n",
      "          [ 0.1417, -0.0413, -0.2734]],\n",
      "\n",
      "         [[-0.0100, -0.1418,  0.0294],\n",
      "          [ 0.1041,  0.1434,  0.0040],\n",
      "          [-0.1670,  0.1652, -0.3089]],\n",
      "\n",
      "         [[ 0.1186, -0.1668, -0.1980],\n",
      "          [-0.2541,  0.2179,  0.0316],\n",
      "          [-0.0225, -0.0961, -0.1613]],\n",
      "\n",
      "         [[-0.0987,  0.1544, -0.1388],\n",
      "          [ 0.0857,  0.1426,  0.1229],\n",
      "          [-0.0362,  0.1386,  0.1377]]],\n",
      "\n",
      "\n",
      "        [[[ 0.2853, -0.0891, -0.0102],\n",
      "          [-0.2042, -0.0376, -0.2329],\n",
      "          [ 0.1489, -0.3128, -0.3224]],\n",
      "\n",
      "         [[-0.2422,  0.0815, -0.1380],\n",
      "          [-0.1607, -0.3104,  0.0300],\n",
      "          [ 0.0768,  0.0263, -0.2483]],\n",
      "\n",
      "         [[-0.0287, -0.2385,  0.0399],\n",
      "          [-0.1042, -0.2487, -0.2424],\n",
      "          [-0.3004, -0.2941, -0.0781]],\n",
      "\n",
      "         [[ 0.2279, -0.2662,  0.3033],\n",
      "          [ 0.3266,  0.0556, -0.2254],\n",
      "          [-0.1394, -0.1794,  0.1107]],\n",
      "\n",
      "         [[-0.2535, -0.0466, -0.2465],\n",
      "          [ 0.3315, -0.0743, -0.1399],\n",
      "          [-0.2464,  0.2530,  0.0013]],\n",
      "\n",
      "         [[-0.2984, -0.3128,  0.2525],\n",
      "          [ 0.1893,  0.1753, -0.0903],\n",
      "          [-0.1709, -0.2299, -0.1814]]],\n",
      "\n",
      "\n",
      "        [[[-0.0747, -0.1748, -0.0024],\n",
      "          [-0.1514,  0.1441,  0.2829],\n",
      "          [-0.1035, -0.0335,  0.0076]],\n",
      "\n",
      "         [[ 0.2089, -0.1663, -0.2692],\n",
      "          [-0.1585,  0.1337, -0.1823],\n",
      "          [ 0.2141, -0.1907,  0.2011]],\n",
      "\n",
      "         [[-0.2677, -0.2019,  0.0073],\n",
      "          [ 0.1368, -0.2951,  0.0778],\n",
      "          [-0.1739, -0.2197, -0.3171]],\n",
      "\n",
      "         [[-0.2700,  0.0326, -0.3050],\n",
      "          [ 0.3041, -0.0117, -0.0816],\n",
      "          [ 0.2294,  0.0512, -0.1167]],\n",
      "\n",
      "         [[-0.0836, -0.0647, -0.2519],\n",
      "          [ 0.2608, -0.1050,  0.2660],\n",
      "          [-0.1776,  0.0958, -0.3073]],\n",
      "\n",
      "         [[-0.0568,  0.0495, -0.0013],\n",
      "          [-0.1151, -0.1004,  0.2474],\n",
      "          [ 0.1940,  0.2564,  0.1893]]],\n",
      "\n",
      "\n",
      "        [[[ 0.2560,  0.1180,  0.2414],\n",
      "          [-0.1950,  0.1442, -0.3026],\n",
      "          [ 0.2712,  0.1126,  0.2085]],\n",
      "\n",
      "         [[-0.2006, -0.1374,  0.0638],\n",
      "          [-0.3174, -0.0561,  0.0594],\n",
      "          [-0.2966,  0.1455,  0.1637]],\n",
      "\n",
      "         [[ 0.2791, -0.0097, -0.0168],\n",
      "          [-0.0004, -0.2152,  0.0397],\n",
      "          [-0.1125, -0.1698,  0.2842]],\n",
      "\n",
      "         [[ 0.3191, -0.1096,  0.2007],\n",
      "          [-0.2905, -0.0584,  0.1074],\n",
      "          [ 0.1890,  0.3267,  0.2141]],\n",
      "\n",
      "         [[ 0.1483,  0.1471,  0.1842],\n",
      "          [ 0.0809,  0.1569, -0.3299],\n",
      "          [-0.2626,  0.0599, -0.0637]],\n",
      "\n",
      "         [[-0.2498, -0.1315,  0.0059],\n",
      "          [ 0.1684, -0.0312,  0.0056],\n",
      "          [ 0.2682,  0.0733, -0.1883]]]], requires_grad=True)\n",
      "Parameter containing:\n",
      "tensor([0., 0., 0., 0., 0., 0., 0., 0., 0., 0., 0., 0., 0., 0., 0., 0.],\n",
      "       requires_grad=True)\n",
      "Parameter containing:\n",
      "tensor([[ 0.0064,  0.0238,  0.0199,  ...,  0.0035,  0.0279, -0.0060],\n",
      "        [-0.0336,  0.0022, -0.0262,  ...,  0.0111,  0.0336, -0.0307],\n",
      "        [ 0.0064, -0.0319,  0.0150,  ..., -0.0226, -0.0337, -0.0139],\n",
      "        ...,\n",
      "        [ 0.0161,  0.0157,  0.0355,  ..., -0.0145, -0.0308, -0.0311],\n",
      "        [-0.0326, -0.0228,  0.0275,  ..., -0.0179,  0.0054, -0.0096],\n",
      "        [ 0.0071, -0.0079,  0.0161,  ...,  0.0162,  0.0064,  0.0301]],\n",
      "       requires_grad=True)\n",
      "Parameter containing:\n",
      "tensor([ 0.0253, -0.0346,  0.0019, -0.0325,  0.0072,  0.0178, -0.0287, -0.0252,\n",
      "        -0.0353,  0.0029], requires_grad=True)\n"
     ]
    }
   ],
   "source": [
    "class CNN(nn.Module):\n",
    "    def __init__(self, in_channels, num_classes):\n",
    "        super(CNN, self).__init__()\n",
    "        self.conv1 = nn.Conv2d(\n",
    "            in_channels=in_channels,\n",
    "            out_channels=6,\n",
    "            kernel_size=(3,3),\n",
    "            stride=(1,1),\n",
    "            padding=(1,1)\n",
    "        )\n",
    "        self.pool = nn.MaxPool2d(kernel_size=(2,2), stride=(2,2))\n",
    "        self.conv2 = nn.Conv2d(\n",
    "            in_channels=6,\n",
    "            out_channels=16,\n",
    "            kernel_size=(3,3),\n",
    "            stride=(1,1),\n",
    "            padding=(1,1)\n",
    "        )\n",
    "        \n",
    "        self.fc1 = nn.Linear(16*7*7, num_classes)\n",
    "        \n",
    "        self.initialize_weights()\n",
    "    \n",
    "    def forward(self, x):\n",
    "        x = F.relu(self.conv1(x))\n",
    "        x = self.pool(x)\n",
    "        x = F.relu(self.conv2(x))\n",
    "        x = self.pool(x)\n",
    "        x = x.reshape(x.shape[0], -1)\n",
    "        x = self.fc1(x)\n",
    "        \n",
    "        return x\n",
    "    \n",
    "    def initialize_weights(self):\n",
    "        for m in self.modules():\n",
    "            # convolution kernel의 가중치를 He initialization\n",
    "            if isinstance(m, nn.Conv2d):\n",
    "                nn.init.kaiming_uniform_(m.weight)\n",
    "                \n",
    "                if m.bias is not None:\n",
    "                    nn.init.constant_(m.bias, 0)\n",
    "                    \n",
    "                elif isinstance(m, nn.BatchNorm2d):\n",
    "                    nn.init.constant_(m.weight, 1)\n",
    "                    nn.init.constant_(m.bias, 0)\n",
    "        \n",
    "                elif isinstance(m, nn.Linear):\n",
    "                    nn.init.kaiming_uniform_(m.weight)\n",
    "                    nn.init.constant_(m.bias, 0)\n",
    "                    \n",
    "if __name__ == '__main__':\n",
    "    model = CNN(in_channels=3,num_classes=10)\n",
    "    \n",
    "    # He initialization과 Constant로 초기화 한것을 확인할 수 있습니다.\n",
    "    for param in model.parameters():\n",
    "        print(param)"
   ]
  },
  {
   "cell_type": "markdown",
   "id": "ce4dc334",
   "metadata": {},
   "source": [
    "# DataLoader 활용"
   ]
  },
  {
   "cell_type": "code",
   "execution_count": 62,
   "id": "f35195ed",
   "metadata": {},
   "outputs": [],
   "source": [
    "from torchvision import datasets, transforms"
   ]
  },
  {
   "cell_type": "code",
   "execution_count": 63,
   "id": "0d8933a8",
   "metadata": {},
   "outputs": [],
   "source": [
    "batch_size = 32\n",
    "test_batch_size = 32"
   ]
  },
  {
   "cell_type": "code",
   "execution_count": 66,
   "id": "3f6511f9",
   "metadata": {},
   "outputs": [
    {
     "name": "stdout",
     "output_type": "stream",
     "text": [
      "Downloading http://yann.lecun.com/exdb/mnist/train-images-idx3-ubyte.gz\n",
      "Downloading http://yann.lecun.com/exdb/mnist/train-images-idx3-ubyte.gz to datasets/MNIST\\raw\\train-images-idx3-ubyte.gz\n"
     ]
    },
    {
     "data": {
      "application/vnd.jupyter.widget-view+json": {
       "model_id": "9eed99c826284b0c88d5492d756b74b6",
       "version_major": 2,
       "version_minor": 0
      },
      "text/plain": [
       "  0%|          | 0/9912422 [00:00<?, ?it/s]"
      ]
     },
     "metadata": {},
     "output_type": "display_data"
    },
    {
     "name": "stdout",
     "output_type": "stream",
     "text": [
      "Extracting datasets/MNIST\\raw\\train-images-idx3-ubyte.gz to datasets/MNIST\\raw\n",
      "\n",
      "Downloading http://yann.lecun.com/exdb/mnist/train-labels-idx1-ubyte.gz\n",
      "Downloading http://yann.lecun.com/exdb/mnist/train-labels-idx1-ubyte.gz to datasets/MNIST\\raw\\train-labels-idx1-ubyte.gz\n"
     ]
    },
    {
     "data": {
      "application/vnd.jupyter.widget-view+json": {
       "model_id": "00bd30e49ab8402f95131e94f9c17070",
       "version_major": 2,
       "version_minor": 0
      },
      "text/plain": [
       "  0%|          | 0/28881 [00:00<?, ?it/s]"
      ]
     },
     "metadata": {},
     "output_type": "display_data"
    },
    {
     "name": "stdout",
     "output_type": "stream",
     "text": [
      "Extracting datasets/MNIST\\raw\\train-labels-idx1-ubyte.gz to datasets/MNIST\\raw\n",
      "\n",
      "Downloading http://yann.lecun.com/exdb/mnist/t10k-images-idx3-ubyte.gz\n",
      "Downloading http://yann.lecun.com/exdb/mnist/t10k-images-idx3-ubyte.gz to datasets/MNIST\\raw\\t10k-images-idx3-ubyte.gz\n"
     ]
    },
    {
     "data": {
      "application/vnd.jupyter.widget-view+json": {
       "model_id": "5204e117b2c94919af37f68771ff3f66",
       "version_major": 2,
       "version_minor": 0
      },
      "text/plain": [
       "  0%|          | 0/1648877 [00:00<?, ?it/s]"
      ]
     },
     "metadata": {},
     "output_type": "display_data"
    },
    {
     "name": "stdout",
     "output_type": "stream",
     "text": [
      "Extracting datasets/MNIST\\raw\\t10k-images-idx3-ubyte.gz to datasets/MNIST\\raw\n",
      "\n",
      "Downloading http://yann.lecun.com/exdb/mnist/t10k-labels-idx1-ubyte.gz\n",
      "Downloading http://yann.lecun.com/exdb/mnist/t10k-labels-idx1-ubyte.gz to datasets/MNIST\\raw\\t10k-labels-idx1-ubyte.gz\n"
     ]
    },
    {
     "data": {
      "application/vnd.jupyter.widget-view+json": {
       "model_id": "573565dc16024e068dcefe83e7699cea",
       "version_major": 2,
       "version_minor": 0
      },
      "text/plain": [
       "  0%|          | 0/4542 [00:00<?, ?it/s]"
      ]
     },
     "metadata": {},
     "output_type": "display_data"
    },
    {
     "name": "stdout",
     "output_type": "stream",
     "text": [
      "Extracting datasets/MNIST\\raw\\t10k-labels-idx1-ubyte.gz to datasets/MNIST\\raw\n",
      "\n"
     ]
    }
   ],
   "source": [
    "train_loader = torch.utils.data.DataLoader(\n",
    "    datasets.MNIST(\n",
    "        root='datasets/', # 현재 위치에 저장\n",
    "        train = True, # 학습용 데이터\n",
    "        download=True, # 다운로드\n",
    "        transform=transforms.Compose([\n",
    "                transforms.ToTensor(), # 데이터를 tensor 타입으로 변경\n",
    "                transforms.Normalize(mean=(0.5,), std=(0.5,)) # 정규화 진행\n",
    "        ])\n",
    "    ),\n",
    "    batch_size=batch_size,\n",
    "    shuffle=True\n",
    ") # 학습세트"
   ]
  },
  {
   "cell_type": "code",
   "execution_count": 67,
   "id": "a9bd4af3",
   "metadata": {},
   "outputs": [],
   "source": [
    "test_loader = torch.utils.data.DataLoader(\n",
    "    datasets.MNIST(\n",
    "        root = \"datasets/\", # 현재 경로에 datasets/MNIST/ 를 생성 후 데이터를 저장한다.\n",
    "        train = False, # test 용도의 data 셋을 저장한다.\n",
    "        download = True,\n",
    "        transform = transforms.Compose([\n",
    "            transforms.ToTensor(), # tensor 타입으로 데이터 변경\n",
    "            transforms.Normalize(mean = (0.5,), std = (0.5,)) # train과 동일한 조건으로 normalize 한다.            \n",
    "        ])\n",
    "    ),\n",
    "    batch_size = test_batch_size,\n",
    "    shuffle = True\n",
    ")"
   ]
  },
  {
   "cell_type": "code",
   "execution_count": 68,
   "id": "42da7917",
   "metadata": {},
   "outputs": [
    {
     "name": "stdout",
     "output_type": "stream",
     "text": [
      "torch.Size([32, 1, 28, 28])\n",
      "torch.Size([32])\n"
     ]
    }
   ],
   "source": [
    "image, label = next(iter(train_loader))\n",
    "# iter로 반복하는 객체를 설정해주고, next로 반복할때마다 다음 구성요소를 불러냄\n",
    "print(image.shape)\n",
    "# torch.Size([32, 1, 28, 28])\n",
    "\n",
    "print(label.shape)\n",
    "# torch.Size([32])"
   ]
  }
 ],
 "metadata": {
  "kernelspec": {
   "display_name": "Python 3 (ipykernel)",
   "language": "python",
   "name": "python3"
  },
  "language_info": {
   "codemirror_mode": {
    "name": "ipython",
    "version": 3
   },
   "file_extension": ".py",
   "mimetype": "text/x-python",
   "name": "python",
   "nbconvert_exporter": "python",
   "pygments_lexer": "ipython3",
   "version": "3.9.7"
  }
 },
 "nbformat": 4,
 "nbformat_minor": 5
}
