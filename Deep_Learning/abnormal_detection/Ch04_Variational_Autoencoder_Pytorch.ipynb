{
 "cells": [
  {
   "cell_type": "code",
   "execution_count": 1,
   "id": "88833321",
   "metadata": {},
   "outputs": [],
   "source": [
    "import torch\n",
    "import numpy as np"
   ]
  },
  {
   "cell_type": "code",
   "execution_count": 2,
   "id": "2dfa8d46",
   "metadata": {},
   "outputs": [],
   "source": [
    "import torch.nn as nn\n",
    "import torch.optim as optim\n",
    "import torch.nn.functional as F"
   ]
  },
  {
   "cell_type": "code",
   "execution_count": 3,
   "id": "e465b6f0",
   "metadata": {},
   "outputs": [
    {
     "name": "stdout",
     "output_type": "stream",
     "text": [
      "cpu\n"
     ]
    }
   ],
   "source": [
    "device = torch.device('cuda:0' if torch.cuda.is_available() else 'cpu')\n",
    "print(device) # 내 노트북으로 해서 cpu로 나올 예정"
   ]
  },
  {
   "cell_type": "code",
   "execution_count": 4,
   "id": "7bbe6715",
   "metadata": {},
   "outputs": [],
   "source": [
    "import pandas as pd\n",
    "import numpy as np\n",
    "import seaborn as sns\n",
    "\n",
    "import matplotlib.pyplot as plt\n",
    "import matplotlib.gridspec as gridspec\n",
    "%matplotlib inline"
   ]
  },
  {
   "cell_type": "code",
   "execution_count": 5,
   "id": "eb2441ed",
   "metadata": {},
   "outputs": [],
   "source": [
    "from sklearn.preprocessing import StandardScaler\n",
    "from sklearn.model_selection import train_test_split\n",
    "from sklearn.metrics import confusion_matrix, roc_auc_score\n",
    "from sklearn.preprocessing import MinMaxScaler\n",
    "from sklearn.metrics import classification_report"
   ]
  },
  {
   "cell_type": "code",
   "execution_count": 6,
   "id": "df6f052d",
   "metadata": {},
   "outputs": [],
   "source": [
    "class Visualization:\n",
    "    labels = [\"Normal\", \"Anomaly\"]\n",
    "\n",
    "    def draw_confusion_matrix(self, y, ypred):\n",
    "        matrix = confusion_matrix(y, ypred)\n",
    "\n",
    "        plt.figure(figsize=(10, 8))\n",
    "        colors=[ \"orange\",\"green\"]\n",
    "        sns.heatmap(matrix, xticklabels=self.labels, yticklabels=self.labels, cmap=colors, annot=True, fmt=\"d\")\n",
    "        plt.title(\"Confusion Matrix\")\n",
    "        plt.ylabel('Actual')\n",
    "        plt.xlabel('Predicted')\n",
    "        plt.show()\n",
    "\n",
    "\n",
    "    def draw_anomaly(self, y, error, threshold):\n",
    "        groupsDF = pd.DataFrame({'error': error,\n",
    "                                 'true': y}).groupby('true')\n",
    "\n",
    "        figure, axes = plt.subplots(figsize=(12, 8))\n",
    "\n",
    "        for name, group in groupsDF:\n",
    "            axes.plot(group.index, group.error, marker='x' if name == 1 else 'o', linestyle='',\n",
    "                    color='r' if name == 1 else 'g', label=\"Anomaly\" if name == 1 else \"Normal\")\n",
    "\n",
    "        axes.hlines(threshold, axes.get_xlim()[0], axes.get_xlim()[1], colors=\"b\", zorder=100, label='Threshold')\n",
    "        axes.legend()\n",
    "        \n",
    "        plt.title(\"Anomalies\")\n",
    "        plt.ylabel(\"Error\")\n",
    "        plt.xlabel(\"Data\")\n",
    "        plt.show()\n",
    "\n",
    "    def draw_error(self, error, threshold):\n",
    "            plt.plot(error, marker='o', ms=3.5, linestyle='',\n",
    "                     label='Point')\n",
    "\n",
    "            plt.hlines(threshold, xmin=0, xmax=len(error)-1, colors=\"b\", zorder=100, label='Threshold')\n",
    "            plt.legend()\n",
    "            plt.title(\"Reconstruction error\")\n",
    "            plt.ylabel(\"Error\")\n",
    "            plt.xlabel(\"Data\")\n",
    "            plt.show()"
   ]
  },
  {
   "cell_type": "code",
   "execution_count": 7,
   "id": "f2570b77",
   "metadata": {},
   "outputs": [],
   "source": [
    "viz = Visualization()\n",
    "# 시각화 객체 정의"
   ]
  },
  {
   "cell_type": "code",
   "execution_count": 8,
   "id": "0eb299fa",
   "metadata": {},
   "outputs": [
    {
     "name": "stdout",
     "output_type": "stream",
     "text": [
      "(284807, 31)\n"
     ]
    },
    {
     "data": {
      "text/html": [
       "<div>\n",
       "<style scoped>\n",
       "    .dataframe tbody tr th:only-of-type {\n",
       "        vertical-align: middle;\n",
       "    }\n",
       "\n",
       "    .dataframe tbody tr th {\n",
       "        vertical-align: top;\n",
       "    }\n",
       "\n",
       "    .dataframe thead th {\n",
       "        text-align: right;\n",
       "    }\n",
       "</style>\n",
       "<table border=\"1\" class=\"dataframe\">\n",
       "  <thead>\n",
       "    <tr style=\"text-align: right;\">\n",
       "      <th></th>\n",
       "      <th>Time</th>\n",
       "      <th>V1</th>\n",
       "      <th>V2</th>\n",
       "      <th>V3</th>\n",
       "      <th>V4</th>\n",
       "      <th>V5</th>\n",
       "      <th>V6</th>\n",
       "      <th>V7</th>\n",
       "      <th>V8</th>\n",
       "      <th>V9</th>\n",
       "      <th>...</th>\n",
       "      <th>V21</th>\n",
       "      <th>V22</th>\n",
       "      <th>V23</th>\n",
       "      <th>V24</th>\n",
       "      <th>V25</th>\n",
       "      <th>V26</th>\n",
       "      <th>V27</th>\n",
       "      <th>V28</th>\n",
       "      <th>Amount</th>\n",
       "      <th>Class</th>\n",
       "    </tr>\n",
       "  </thead>\n",
       "  <tbody>\n",
       "    <tr>\n",
       "      <th>0</th>\n",
       "      <td>0.0</td>\n",
       "      <td>-1.359807</td>\n",
       "      <td>-0.072781</td>\n",
       "      <td>2.536347</td>\n",
       "      <td>1.378155</td>\n",
       "      <td>-0.338321</td>\n",
       "      <td>0.462388</td>\n",
       "      <td>0.239599</td>\n",
       "      <td>0.098698</td>\n",
       "      <td>0.363787</td>\n",
       "      <td>...</td>\n",
       "      <td>-0.018307</td>\n",
       "      <td>0.277838</td>\n",
       "      <td>-0.110474</td>\n",
       "      <td>0.066928</td>\n",
       "      <td>0.128539</td>\n",
       "      <td>-0.189115</td>\n",
       "      <td>0.133558</td>\n",
       "      <td>-0.021053</td>\n",
       "      <td>149.62</td>\n",
       "      <td>0</td>\n",
       "    </tr>\n",
       "    <tr>\n",
       "      <th>1</th>\n",
       "      <td>0.0</td>\n",
       "      <td>1.191857</td>\n",
       "      <td>0.266151</td>\n",
       "      <td>0.166480</td>\n",
       "      <td>0.448154</td>\n",
       "      <td>0.060018</td>\n",
       "      <td>-0.082361</td>\n",
       "      <td>-0.078803</td>\n",
       "      <td>0.085102</td>\n",
       "      <td>-0.255425</td>\n",
       "      <td>...</td>\n",
       "      <td>-0.225775</td>\n",
       "      <td>-0.638672</td>\n",
       "      <td>0.101288</td>\n",
       "      <td>-0.339846</td>\n",
       "      <td>0.167170</td>\n",
       "      <td>0.125895</td>\n",
       "      <td>-0.008983</td>\n",
       "      <td>0.014724</td>\n",
       "      <td>2.69</td>\n",
       "      <td>0</td>\n",
       "    </tr>\n",
       "    <tr>\n",
       "      <th>2</th>\n",
       "      <td>1.0</td>\n",
       "      <td>-1.358354</td>\n",
       "      <td>-1.340163</td>\n",
       "      <td>1.773209</td>\n",
       "      <td>0.379780</td>\n",
       "      <td>-0.503198</td>\n",
       "      <td>1.800499</td>\n",
       "      <td>0.791461</td>\n",
       "      <td>0.247676</td>\n",
       "      <td>-1.514654</td>\n",
       "      <td>...</td>\n",
       "      <td>0.247998</td>\n",
       "      <td>0.771679</td>\n",
       "      <td>0.909412</td>\n",
       "      <td>-0.689281</td>\n",
       "      <td>-0.327642</td>\n",
       "      <td>-0.139097</td>\n",
       "      <td>-0.055353</td>\n",
       "      <td>-0.059752</td>\n",
       "      <td>378.66</td>\n",
       "      <td>0</td>\n",
       "    </tr>\n",
       "    <tr>\n",
       "      <th>3</th>\n",
       "      <td>1.0</td>\n",
       "      <td>-0.966272</td>\n",
       "      <td>-0.185226</td>\n",
       "      <td>1.792993</td>\n",
       "      <td>-0.863291</td>\n",
       "      <td>-0.010309</td>\n",
       "      <td>1.247203</td>\n",
       "      <td>0.237609</td>\n",
       "      <td>0.377436</td>\n",
       "      <td>-1.387024</td>\n",
       "      <td>...</td>\n",
       "      <td>-0.108300</td>\n",
       "      <td>0.005274</td>\n",
       "      <td>-0.190321</td>\n",
       "      <td>-1.175575</td>\n",
       "      <td>0.647376</td>\n",
       "      <td>-0.221929</td>\n",
       "      <td>0.062723</td>\n",
       "      <td>0.061458</td>\n",
       "      <td>123.50</td>\n",
       "      <td>0</td>\n",
       "    </tr>\n",
       "    <tr>\n",
       "      <th>4</th>\n",
       "      <td>2.0</td>\n",
       "      <td>-1.158233</td>\n",
       "      <td>0.877737</td>\n",
       "      <td>1.548718</td>\n",
       "      <td>0.403034</td>\n",
       "      <td>-0.407193</td>\n",
       "      <td>0.095921</td>\n",
       "      <td>0.592941</td>\n",
       "      <td>-0.270533</td>\n",
       "      <td>0.817739</td>\n",
       "      <td>...</td>\n",
       "      <td>-0.009431</td>\n",
       "      <td>0.798278</td>\n",
       "      <td>-0.137458</td>\n",
       "      <td>0.141267</td>\n",
       "      <td>-0.206010</td>\n",
       "      <td>0.502292</td>\n",
       "      <td>0.219422</td>\n",
       "      <td>0.215153</td>\n",
       "      <td>69.99</td>\n",
       "      <td>0</td>\n",
       "    </tr>\n",
       "  </tbody>\n",
       "</table>\n",
       "<p>5 rows × 31 columns</p>\n",
       "</div>"
      ],
      "text/plain": [
       "   Time        V1        V2        V3        V4        V5        V6        V7  \\\n",
       "0   0.0 -1.359807 -0.072781  2.536347  1.378155 -0.338321  0.462388  0.239599   \n",
       "1   0.0  1.191857  0.266151  0.166480  0.448154  0.060018 -0.082361 -0.078803   \n",
       "2   1.0 -1.358354 -1.340163  1.773209  0.379780 -0.503198  1.800499  0.791461   \n",
       "3   1.0 -0.966272 -0.185226  1.792993 -0.863291 -0.010309  1.247203  0.237609   \n",
       "4   2.0 -1.158233  0.877737  1.548718  0.403034 -0.407193  0.095921  0.592941   \n",
       "\n",
       "         V8        V9  ...       V21       V22       V23       V24       V25  \\\n",
       "0  0.098698  0.363787  ... -0.018307  0.277838 -0.110474  0.066928  0.128539   \n",
       "1  0.085102 -0.255425  ... -0.225775 -0.638672  0.101288 -0.339846  0.167170   \n",
       "2  0.247676 -1.514654  ...  0.247998  0.771679  0.909412 -0.689281 -0.327642   \n",
       "3  0.377436 -1.387024  ... -0.108300  0.005274 -0.190321 -1.175575  0.647376   \n",
       "4 -0.270533  0.817739  ... -0.009431  0.798278 -0.137458  0.141267 -0.206010   \n",
       "\n",
       "        V26       V27       V28  Amount  Class  \n",
       "0 -0.189115  0.133558 -0.021053  149.62      0  \n",
       "1  0.125895 -0.008983  0.014724    2.69      0  \n",
       "2 -0.139097 -0.055353 -0.059752  378.66      0  \n",
       "3 -0.221929  0.062723  0.061458  123.50      0  \n",
       "4  0.502292  0.219422  0.215153   69.99      0  \n",
       "\n",
       "[5 rows x 31 columns]"
      ]
     },
     "execution_count": 8,
     "metadata": {},
     "output_type": "execute_result"
    }
   ],
   "source": [
    "df = pd.read_csv('data/creditcard.csv', header = 0, sep = ',')\n",
    "print(df.shape)\n",
    "df.head()"
   ]
  },
  {
   "cell_type": "code",
   "execution_count": 9,
   "id": "d1731cbf",
   "metadata": {},
   "outputs": [
    {
     "data": {
      "text/plain": [
       "0    284315\n",
       "1       492\n",
       "Name: Class, dtype: int64"
      ]
     },
     "execution_count": 9,
     "metadata": {},
     "output_type": "execute_result"
    }
   ],
   "source": [
    "df['Class'].value_counts()"
   ]
  },
  {
   "cell_type": "code",
   "execution_count": 10,
   "id": "754c461f",
   "metadata": {},
   "outputs": [],
   "source": [
    "df['Amount'] = StandardScaler().fit_transform(df['Amount'].values.reshape(-1, 1))\n",
    "df0 = df.query('Class == 0').sample(20000)\n",
    "df1 = df.query('Class == 1').sample(400)\n",
    "df = pd.concat([df0, df1])"
   ]
  },
  {
   "cell_type": "code",
   "execution_count": 11,
   "id": "8b3e5117",
   "metadata": {},
   "outputs": [
    {
     "data": {
      "text/html": [
       "<div>\n",
       "<style scoped>\n",
       "    .dataframe tbody tr th:only-of-type {\n",
       "        vertical-align: middle;\n",
       "    }\n",
       "\n",
       "    .dataframe tbody tr th {\n",
       "        vertical-align: top;\n",
       "    }\n",
       "\n",
       "    .dataframe thead th {\n",
       "        text-align: right;\n",
       "    }\n",
       "</style>\n",
       "<table border=\"1\" class=\"dataframe\">\n",
       "  <thead>\n",
       "    <tr style=\"text-align: right;\">\n",
       "      <th></th>\n",
       "      <th>Time</th>\n",
       "      <th>V1</th>\n",
       "      <th>V2</th>\n",
       "      <th>V3</th>\n",
       "      <th>V4</th>\n",
       "      <th>V5</th>\n",
       "      <th>V6</th>\n",
       "      <th>V7</th>\n",
       "      <th>V8</th>\n",
       "      <th>V9</th>\n",
       "      <th>...</th>\n",
       "      <th>V21</th>\n",
       "      <th>V22</th>\n",
       "      <th>V23</th>\n",
       "      <th>V24</th>\n",
       "      <th>V25</th>\n",
       "      <th>V26</th>\n",
       "      <th>V27</th>\n",
       "      <th>V28</th>\n",
       "      <th>Amount</th>\n",
       "      <th>Class</th>\n",
       "    </tr>\n",
       "  </thead>\n",
       "  <tbody>\n",
       "    <tr>\n",
       "      <th>282029</th>\n",
       "      <td>170615.0</td>\n",
       "      <td>2.180062</td>\n",
       "      <td>-1.758267</td>\n",
       "      <td>0.011970</td>\n",
       "      <td>-1.566799</td>\n",
       "      <td>-1.956546</td>\n",
       "      <td>0.007536</td>\n",
       "      <td>-1.924152</td>\n",
       "      <td>0.177587</td>\n",
       "      <td>-0.721939</td>\n",
       "      <td>...</td>\n",
       "      <td>-0.110166</td>\n",
       "      <td>0.159253</td>\n",
       "      <td>0.288898</td>\n",
       "      <td>-0.378407</td>\n",
       "      <td>-0.557486</td>\n",
       "      <td>-0.245203</td>\n",
       "      <td>0.056660</td>\n",
       "      <td>-0.041411</td>\n",
       "      <td>-0.235286</td>\n",
       "      <td>0</td>\n",
       "    </tr>\n",
       "    <tr>\n",
       "      <th>257464</th>\n",
       "      <td>158179.0</td>\n",
       "      <td>-0.315626</td>\n",
       "      <td>1.184693</td>\n",
       "      <td>-1.498383</td>\n",
       "      <td>0.751626</td>\n",
       "      <td>1.655667</td>\n",
       "      <td>-0.619278</td>\n",
       "      <td>0.955823</td>\n",
       "      <td>0.145659</td>\n",
       "      <td>-0.999862</td>\n",
       "      <td>...</td>\n",
       "      <td>0.295636</td>\n",
       "      <td>0.841605</td>\n",
       "      <td>-0.089557</td>\n",
       "      <td>0.049713</td>\n",
       "      <td>-0.627820</td>\n",
       "      <td>-0.505724</td>\n",
       "      <td>0.410914</td>\n",
       "      <td>0.213018</td>\n",
       "      <td>-0.319805</td>\n",
       "      <td>0</td>\n",
       "    </tr>\n",
       "    <tr>\n",
       "      <th>182611</th>\n",
       "      <td>125475.0</td>\n",
       "      <td>2.222383</td>\n",
       "      <td>-1.748274</td>\n",
       "      <td>-0.085812</td>\n",
       "      <td>-1.693127</td>\n",
       "      <td>-1.624895</td>\n",
       "      <td>0.516287</td>\n",
       "      <td>-2.011178</td>\n",
       "      <td>0.124158</td>\n",
       "      <td>-0.561341</td>\n",
       "      <td>...</td>\n",
       "      <td>0.044058</td>\n",
       "      <td>0.644285</td>\n",
       "      <td>0.177195</td>\n",
       "      <td>0.055449</td>\n",
       "      <td>-0.386843</td>\n",
       "      <td>-0.088135</td>\n",
       "      <td>0.077024</td>\n",
       "      <td>-0.018409</td>\n",
       "      <td>-0.173355</td>\n",
       "      <td>0</td>\n",
       "    </tr>\n",
       "    <tr>\n",
       "      <th>13489</th>\n",
       "      <td>23882.0</td>\n",
       "      <td>1.318462</td>\n",
       "      <td>0.078992</td>\n",
       "      <td>-0.947784</td>\n",
       "      <td>-0.353514</td>\n",
       "      <td>2.104428</td>\n",
       "      <td>3.315163</td>\n",
       "      <td>-0.627754</td>\n",
       "      <td>0.727705</td>\n",
       "      <td>1.232235</td>\n",
       "      <td>...</td>\n",
       "      <td>-0.463810</td>\n",
       "      <td>-1.255173</td>\n",
       "      <td>0.115566</td>\n",
       "      <td>0.931099</td>\n",
       "      <td>0.346279</td>\n",
       "      <td>0.071775</td>\n",
       "      <td>-0.055035</td>\n",
       "      <td>0.005423</td>\n",
       "      <td>-0.345313</td>\n",
       "      <td>0</td>\n",
       "    </tr>\n",
       "    <tr>\n",
       "      <th>58284</th>\n",
       "      <td>48320.0</td>\n",
       "      <td>1.319199</td>\n",
       "      <td>0.234119</td>\n",
       "      <td>-0.143166</td>\n",
       "      <td>0.470983</td>\n",
       "      <td>0.014669</td>\n",
       "      <td>-0.522591</td>\n",
       "      <td>-0.006241</td>\n",
       "      <td>-0.076324</td>\n",
       "      <td>0.271622</td>\n",
       "      <td>...</td>\n",
       "      <td>-0.364497</td>\n",
       "      <td>-1.109514</td>\n",
       "      <td>0.015176</td>\n",
       "      <td>-0.693635</td>\n",
       "      <td>0.310959</td>\n",
       "      <td>0.160217</td>\n",
       "      <td>-0.032457</td>\n",
       "      <td>0.018840</td>\n",
       "      <td>-0.331280</td>\n",
       "      <td>0</td>\n",
       "    </tr>\n",
       "  </tbody>\n",
       "</table>\n",
       "<p>5 rows × 31 columns</p>\n",
       "</div>"
      ],
      "text/plain": [
       "            Time        V1        V2        V3        V4        V5        V6  \\\n",
       "282029  170615.0  2.180062 -1.758267  0.011970 -1.566799 -1.956546  0.007536   \n",
       "257464  158179.0 -0.315626  1.184693 -1.498383  0.751626  1.655667 -0.619278   \n",
       "182611  125475.0  2.222383 -1.748274 -0.085812 -1.693127 -1.624895  0.516287   \n",
       "13489    23882.0  1.318462  0.078992 -0.947784 -0.353514  2.104428  3.315163   \n",
       "58284    48320.0  1.319199  0.234119 -0.143166  0.470983  0.014669 -0.522591   \n",
       "\n",
       "              V7        V8        V9  ...       V21       V22       V23  \\\n",
       "282029 -1.924152  0.177587 -0.721939  ... -0.110166  0.159253  0.288898   \n",
       "257464  0.955823  0.145659 -0.999862  ...  0.295636  0.841605 -0.089557   \n",
       "182611 -2.011178  0.124158 -0.561341  ...  0.044058  0.644285  0.177195   \n",
       "13489  -0.627754  0.727705  1.232235  ... -0.463810 -1.255173  0.115566   \n",
       "58284  -0.006241 -0.076324  0.271622  ... -0.364497 -1.109514  0.015176   \n",
       "\n",
       "             V24       V25       V26       V27       V28    Amount  Class  \n",
       "282029 -0.378407 -0.557486 -0.245203  0.056660 -0.041411 -0.235286      0  \n",
       "257464  0.049713 -0.627820 -0.505724  0.410914  0.213018 -0.319805      0  \n",
       "182611  0.055449 -0.386843 -0.088135  0.077024 -0.018409 -0.173355      0  \n",
       "13489   0.931099  0.346279  0.071775 -0.055035  0.005423 -0.345313      0  \n",
       "58284  -0.693635  0.310959  0.160217 -0.032457  0.018840 -0.331280      0  \n",
       "\n",
       "[5 rows x 31 columns]"
      ]
     },
     "execution_count": 11,
     "metadata": {},
     "output_type": "execute_result"
    }
   ],
   "source": [
    "df.head()"
   ]
  },
  {
   "cell_type": "code",
   "execution_count": 12,
   "id": "b1b1f7eb",
   "metadata": {},
   "outputs": [
    {
     "name": "stdout",
     "output_type": "stream",
     "text": [
      "(16320, 29) train samples\n",
      "(4080, 29) test samples\n"
     ]
    }
   ],
   "source": [
    "x_train, x_test, y_train, y_test = train_test_split(df.drop(labels=['Time', 'Class'], axis = 1) , \n",
    "                                                    df['Class'], test_size=0.2, random_state=42)\n",
    "print(x_train.shape, 'train samples')\n",
    "print(x_test.shape, 'test samples')"
   ]
  },
  {
   "cell_type": "code",
   "execution_count": 13,
   "id": "b67856c3",
   "metadata": {},
   "outputs": [
    {
     "data": {
      "text/plain": [
       "<torch._C.Generator at 0x1643bc01950>"
      ]
     },
     "execution_count": 13,
     "metadata": {},
     "output_type": "execute_result"
    }
   ],
   "source": [
    "torch.manual_seed(42)\n",
    "# 랜덤 시드 고정"
   ]
  },
  {
   "cell_type": "code",
   "execution_count": 14,
   "id": "ccc80ff0",
   "metadata": {},
   "outputs": [
    {
     "data": {
      "text/plain": [
       "tensor([[-0.4650,  0.7092,  1.5361,  ...,  0.0108,  0.2231, -0.3492],\n",
       "        [ 1.2151, -0.1479,  0.6181,  ..., -0.0710,  0.0033, -0.2757],\n",
       "        [ 2.0994, -1.1087,  0.3997,  ...,  0.0603, -0.0177, -0.3133],\n",
       "        ...,\n",
       "        [ 2.0178,  0.0383, -1.6252,  ..., -0.0730, -0.0409, -0.3453],\n",
       "        [-1.2167,  0.9454,  1.7687,  ...,  0.0567,  0.0505, -0.2335],\n",
       "        [ 1.1174,  0.2381,  0.6585,  ...,  0.0318,  0.0294, -0.2733]])"
      ]
     },
     "execution_count": 14,
     "metadata": {},
     "output_type": "execute_result"
    }
   ],
   "source": [
    "x_train_tensor = torch.tensor(np.array(x_train), dtype = torch.float32)\n",
    "x_train_tensor"
   ]
  },
  {
   "cell_type": "code",
   "execution_count": 15,
   "id": "16f3c630",
   "metadata": {},
   "outputs": [
    {
     "data": {
      "text/plain": [
       "tensor([[ 1.3046e+00,  1.2245e-01,  1.3038e-01,  ..., -3.8959e-02,\n",
       "          9.3280e-03, -3.1729e-01],\n",
       "        [ 1.4591e+00, -6.5503e-01, -1.2339e+00,  ..., -5.6906e-02,\n",
       "          3.2131e-03, -3.3728e-01],\n",
       "        [ 1.2976e+00, -5.1859e-01,  2.9188e-01,  ...,  6.4184e-03,\n",
       "          2.2121e-03, -2.4988e-01],\n",
       "        ...,\n",
       "        [-1.6117e+00, -1.9886e+00,  1.3824e+00,  ..., -6.4664e-02,\n",
       "          6.9092e-02,  9.9674e-02],\n",
       "        [-1.1457e+00,  1.6206e+00, -8.2476e-01,  ..., -9.4234e-01,\n",
       "         -7.2757e-01, -3.4359e-01],\n",
       "        [-1.9126e+00,  2.6807e+00,  2.2379e-01,  ...,  7.8552e-01,\n",
       "         -2.1128e-02,  1.1643e+00]])"
      ]
     },
     "execution_count": 15,
     "metadata": {},
     "output_type": "execute_result"
    }
   ],
   "source": [
    "x_test_tensor = torch.tensor(np.array(x_test), dtype = torch.float32)\n",
    "x_test_tensor"
   ]
  },
  {
   "cell_type": "code",
   "execution_count": 16,
   "id": "349bcc21",
   "metadata": {},
   "outputs": [
    {
     "name": "stdout",
     "output_type": "stream",
     "text": [
      "torch.Size([16320, 29])\n",
      "torch.Size([4080, 29])\n"
     ]
    }
   ],
   "source": [
    "print(x_train_tensor.shape)\n",
    "print(x_test_tensor.shape)"
   ]
  },
  {
   "cell_type": "code",
   "execution_count": 17,
   "id": "46e05188",
   "metadata": {},
   "outputs": [],
   "source": [
    "from torch.utils.data import DataLoader\n",
    "from torch.utils.data import TensorDataset\n",
    "train_tensor = TensorDataset(x_train_tensor, x_train_tensor)\n",
    "test_tensor = TensorDataset(x_test_tensor, x_test_tensor)"
   ]
  },
  {
   "cell_type": "code",
   "execution_count": 18,
   "id": "c67e8fa6",
   "metadata": {},
   "outputs": [],
   "source": [
    "batch_size = 32"
   ]
  },
  {
   "cell_type": "code",
   "execution_count": 19,
   "id": "26cddb12",
   "metadata": {},
   "outputs": [],
   "source": [
    "train_dataloader = DataLoader(train_tensor, batch_size=batch_size)\n",
    "test_dataloader = DataLoader(test_tensor, batch_size=batch_size)"
   ]
  },
  {
   "cell_type": "code",
   "execution_count": 20,
   "id": "2cac7f15",
   "metadata": {},
   "outputs": [],
   "source": [
    "def sampling(*args):\n",
    "    z_mean, z_log_var = args\n",
    "    batch = z_mean.shape[0]\n",
    "    dim = z_mean.shape[1]\n",
    "    \n",
    "    epsilon = torch.randn((batch, dim))\n",
    "    \n",
    "    return z_mean + epsilon*torch.exp(0.5*z_log_var)"
   ]
  },
  {
   "cell_type": "code",
   "execution_count": 21,
   "id": "4f82fa3c",
   "metadata": {},
   "outputs": [
    {
     "name": "stdout",
     "output_type": "stream",
     "text": [
      "tensor([[ 0.3367,  0.1288,  0.2345,  0.2303],\n",
      "        [-1.1229, -0.1863,  2.2082, -0.6380],\n",
      "        [ 0.4617,  0.2674,  0.5349,  0.8094]]) tensor([[ 1.1103, -1.6898, -0.9890,  0.9580],\n",
      "        [ 1.3221,  0.8172, -0.7658, -0.7506],\n",
      "        [ 1.3525,  0.6863, -0.3278,  0.7950]])\n"
     ]
    }
   ],
   "source": [
    "a = torch.randn((3, 4))\n",
    "b = torch.randn((3, 4))\n",
    "print(a, b)"
   ]
  },
  {
   "cell_type": "code",
   "execution_count": 22,
   "id": "0d29b237",
   "metadata": {},
   "outputs": [
    {
     "data": {
      "text/plain": [
       "tensor([[ 0.8272,  0.1529,  0.5533, -0.1545],\n",
       "        [-1.2195,  0.6057,  2.2024, -0.1371],\n",
       "        [ 0.7235,  1.4850, -0.3272, -0.5132]])"
      ]
     },
     "execution_count": 22,
     "metadata": {},
     "output_type": "execute_result"
    }
   ],
   "source": [
    "sampling(a, b)"
   ]
  },
  {
   "cell_type": "code",
   "execution_count": 23,
   "id": "de1caa82",
   "metadata": {},
   "outputs": [],
   "source": [
    "class VariationalAutoEncoder(nn.Module):\n",
    "    def __init__(self):\n",
    "        super(VariationalAutoEncoder, self).__init__()\n",
    "        self.dense1 = nn.Linear(29, 12)\n",
    "        self.latent = nn.Linear(12, 2)\n",
    "        self.dense2 = nn.Linear(2, 12)\n",
    "        self.dense3 = nn.Linear(12, 29)\n",
    "        self.relu = nn.ReLU()\n",
    "        self.sigmoid = nn.Sigmoid()\n",
    "    def forward(self, x):\n",
    "        x = self.dense1(x)\n",
    "        x = self.relu(x)\n",
    "        z_mean = self.latent(x)\n",
    "        z_log_var = self.latent(x)\n",
    "        x = sampling(z_mean, z_log_var)\n",
    "        x = self.dense2(x)\n",
    "        x = self.relu(x)\n",
    "        x = self.dense3(x)\n",
    "        x = self.sigmoid(x)\n",
    "        \n",
    "        return x, z_mean, z_log_var"
   ]
  },
  {
   "cell_type": "code",
   "execution_count": 24,
   "id": "8ea9dd04",
   "metadata": {},
   "outputs": [],
   "source": [
    "model = VariationalAutoEncoder().to(device)\n",
    "# 학습의 형태 적용. device 가 cuda 일경우 GPU 학습"
   ]
  },
  {
   "cell_type": "code",
   "execution_count": 25,
   "id": "54200ebd",
   "metadata": {},
   "outputs": [],
   "source": [
    "reconstruction_function = nn.MSELoss()"
   ]
  },
  {
   "cell_type": "code",
   "execution_count": 26,
   "id": "58d148ed",
   "metadata": {},
   "outputs": [],
   "source": [
    "def loss_fn(output, input, z_mean, z_log_var):\n",
    "    BCE = reconstruction_function(output, input)\n",
    "    KLD_element = z_mean.pow(2).add_(z_log_var.exp()).mul_(-1).add_(1).add_(z_log_var)\n",
    "    KLD = torch.sum(KLD_element).mul_(-0.5)\n",
    "    return BCE + KLD"
   ]
  },
  {
   "cell_type": "code",
   "execution_count": 27,
   "id": "e3a33570",
   "metadata": {},
   "outputs": [],
   "source": [
    "optimizer = optim.Adam(model.parameters())"
   ]
  },
  {
   "cell_type": "code",
   "execution_count": 28,
   "id": "b42f5b32",
   "metadata": {},
   "outputs": [],
   "source": [
    "def train(dataloader, model, optimizer):\n",
    "    size = len(dataloader.dataset)\n",
    "    loss_sum = 0\n",
    "    model.train()\n",
    "    for batch, (X, y) in enumerate(dataloader):\n",
    "        X, y = X.to(device), y.to(device)\n",
    "        \n",
    "        pred, z_mean, z_log_var = model(X)\n",
    "        loss = loss_fn(pred, X, z_mean, z_log_var)\n",
    "        loss_sum += loss\n",
    "        optimizer.zero_grad()\n",
    "        loss.backward()\n",
    "        optimizer.step()\n",
    "    print(f'Avg loss: {loss_sum / size}')\n",
    "    print('-------------------------------\\n')\n",
    "    return model"
   ]
  },
  {
   "cell_type": "code",
   "execution_count": 29,
   "id": "d7a1ca64",
   "metadata": {},
   "outputs": [],
   "source": [
    "epochs = 20"
   ]
  },
  {
   "cell_type": "code",
   "execution_count": 30,
   "id": "2484b363",
   "metadata": {},
   "outputs": [
    {
     "name": "stdout",
     "output_type": "stream",
     "text": [
      "Epoch 1\n",
      "\n",
      "Avg loss: 0.074897900223732\n",
      "-------------------------------\n",
      "\n",
      "Epoch 2\n",
      "\n",
      "Avg loss: 0.05186602473258972\n",
      "-------------------------------\n",
      "\n",
      "Epoch 3\n",
      "\n",
      "Avg loss: 0.049993112683296204\n",
      "-------------------------------\n",
      "\n",
      "Epoch 4\n",
      "\n",
      "Avg loss: 0.04926803335547447\n",
      "-------------------------------\n",
      "\n",
      "Epoch 5\n",
      "\n",
      "Avg loss: 0.04891568794846535\n",
      "-------------------------------\n",
      "\n",
      "Epoch 6\n",
      "\n",
      "Avg loss: 0.048735931515693665\n",
      "-------------------------------\n",
      "\n",
      "Epoch 7\n",
      "\n",
      "Avg loss: 0.048638809472322464\n",
      "-------------------------------\n",
      "\n",
      "Epoch 8\n",
      "\n",
      "Avg loss: 0.048537760972976685\n",
      "-------------------------------\n",
      "\n",
      "Epoch 9\n",
      "\n",
      "Avg loss: 0.04850488528609276\n",
      "-------------------------------\n",
      "\n",
      "Epoch 10\n",
      "\n",
      "Avg loss: 0.04850875586271286\n",
      "-------------------------------\n",
      "\n",
      "Epoch 11\n",
      "\n",
      "Avg loss: 0.04848870262503624\n",
      "-------------------------------\n",
      "\n",
      "Epoch 12\n",
      "\n",
      "Avg loss: 0.048443760722875595\n",
      "-------------------------------\n",
      "\n",
      "Epoch 13\n",
      "\n",
      "Avg loss: 0.048455335199832916\n",
      "-------------------------------\n",
      "\n",
      "Epoch 14\n",
      "\n",
      "Avg loss: 0.04845928028225899\n",
      "-------------------------------\n",
      "\n",
      "Epoch 15\n",
      "\n",
      "Avg loss: 0.048390403389930725\n",
      "-------------------------------\n",
      "\n",
      "Epoch 16\n",
      "\n",
      "Avg loss: 0.04837154969573021\n",
      "-------------------------------\n",
      "\n",
      "Epoch 17\n",
      "\n",
      "Avg loss: 0.04836823046207428\n",
      "-------------------------------\n",
      "\n",
      "Epoch 18\n",
      "\n",
      "Avg loss: 0.04837577044963837\n",
      "-------------------------------\n",
      "\n",
      "Epoch 19\n",
      "\n",
      "Avg loss: 0.04836426302790642\n",
      "-------------------------------\n",
      "\n",
      "Epoch 20\n",
      "\n",
      "Avg loss: 0.048473287373781204\n",
      "-------------------------------\n",
      "\n",
      "Done!\n"
     ]
    }
   ],
   "source": [
    "for t in range(epochs):\n",
    "    print(f\"Epoch {t+1}\\n\")\n",
    "    train(train_dataloader, model, optimizer)\n",
    "print(\"Done!\")"
   ]
  },
  {
   "cell_type": "code",
   "execution_count": 31,
   "id": "8a02f053",
   "metadata": {},
   "outputs": [],
   "source": [
    "threshold = 10\n",
    "y_pred = model(x_test_tensor)[0].detach().numpy()"
   ]
  },
  {
   "cell_type": "code",
   "execution_count": 32,
   "id": "0963def6",
   "metadata": {},
   "outputs": [],
   "source": [
    "y_dist = np.linalg.norm(x_test - y_pred, axis=-1)\n",
    "z = zip(y_dist >= threshold, y_dist)\n",
    "y_label = [] ; error = []\n",
    "\n",
    "for idx, (is_anomaly, y_dist) in enumerate(z):\n",
    "    if is_anomaly:\n",
    "        y_label.append(1)\n",
    "    else:\n",
    "        y_label.append(0)\n",
    "    error.append(y_dist)"
   ]
  },
  {
   "cell_type": "code",
   "execution_count": 33,
   "id": "897b8c4e",
   "metadata": {},
   "outputs": [
    {
     "name": "stdout",
     "output_type": "stream",
     "text": [
      "              precision    recall  f1-score   support\n",
      "\n",
      "           0       1.00      0.97      0.98      3987\n",
      "           1       0.39      0.82      0.53        93\n",
      "\n",
      "    accuracy                           0.97      4080\n",
      "   macro avg       0.69      0.89      0.76      4080\n",
      "weighted avg       0.98      0.97      0.97      4080\n",
      "\n"
     ]
    }
   ],
   "source": [
    "print(classification_report(y_test, y_label))"
   ]
  },
  {
   "cell_type": "code",
   "execution_count": 34,
   "id": "47ed2135",
   "metadata": {},
   "outputs": [
    {
     "data": {
      "image/png": "[encoded data removed]",
      "text/plain": [
       "<Figure size 864x576 with 1 Axes>"
      ]
     },
     "metadata": {
      "needs_background": "light"
     },
     "output_type": "display_data"
    }
   ],
   "source": [
    "viz.draw_anomaly(y_test, error, threshold)"
   ]
  },
  {
   "cell_type": "code",
   "execution_count": null,
   "id": "e7c7f0a7",
   "metadata": {},
   "outputs": [],
   "source": []
  }
 ],
 "metadata": {
  "kernelspec": {
   "display_name": "Python 3 (ipykernel)",
   "language": "python",
   "name": "python3"
  },
  "language_info": {
   "codemirror_mode": {
    "name": "ipython",
    "version": 3
   },
   "file_extension": ".py",
   "mimetype": "text/x-python",
   "name": "python",
   "nbconvert_exporter": "python",
   "pygments_lexer": "ipython3",
   "version": "3.9.7"
  }
 },
 "nbformat": 4,
 "nbformat_minor": 5
}
