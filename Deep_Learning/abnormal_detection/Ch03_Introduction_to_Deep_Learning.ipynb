{
  "cells": [
    {
      "cell_type": "markdown",
      "id": "9409aa7d",
      "metadata": {
        "id": "9409aa7d"
      },
      "source": [
        "# Keras 연습"
      ]
    },
    {
      "cell_type": "code",
      "execution_count": 1,
      "id": "91b288d9",
      "metadata": {
        "colab": {
          "base_uri": "https://localhost:8080/"
        },
        "id": "91b288d9",
        "outputId": "4dc61bca-5945-4201-c77d-1aee7db7f9ff"
      },
      "outputs": [
        {
          "output_type": "stream",
          "name": "stdout",
          "text": [
            "2.7.0\n"
          ]
        }
      ],
      "source": [
        "import tensorflow as tf\n",
        "print(tf.__version__)"
      ]
    },
    {
      "cell_type": "code",
      "execution_count": 2,
      "id": "b81de252",
      "metadata": {
        "colab": {
          "base_uri": "https://localhost:8080/"
        },
        "id": "b81de252",
        "outputId": "09e9c0d6-c21e-4895-d5eb-e239dbaee132"
      },
      "outputs": [
        {
          "output_type": "stream",
          "name": "stdout",
          "text": [
            "2.7.0\n"
          ]
        }
      ],
      "source": [
        "from tensorflow import keras\n",
        "print(keras.__version__)"
      ]
    },
    {
      "cell_type": "code",
      "execution_count": 3,
      "id": "0018c992",
      "metadata": {
        "id": "0018c992"
      },
      "outputs": [],
      "source": [
        "from keras.datasets import mnist\n",
        "from keras.models import Sequential\n",
        "from keras.layers import Dense, Dropout, Flatten, Input"
      ]
    },
    {
      "cell_type": "code",
      "execution_count": 4,
      "id": "9fdfec85",
      "metadata": {
        "id": "9fdfec85"
      },
      "outputs": [],
      "source": [
        "from keras.layers import Conv2D, MaxPooling2D\n",
        "import numpy as np"
      ]
    },
    {
      "cell_type": "code",
      "execution_count": 5,
      "id": "c4b6e3ee",
      "metadata": {
        "id": "c4b6e3ee"
      },
      "outputs": [],
      "source": [
        "from keras import backend as K"
      ]
    },
    {
      "cell_type": "code",
      "execution_count": 6,
      "id": "78b2b930",
      "metadata": {
        "id": "78b2b930"
      },
      "outputs": [],
      "source": [
        "batch_size = 128\n",
        "n_classes = 10\n",
        "n_epoches = 15\n",
        "\n",
        "im_row, im_col = 28, 28"
      ]
    },
    {
      "cell_type": "code",
      "execution_count": 7,
      "id": "be774e38",
      "metadata": {
        "colab": {
          "base_uri": "https://localhost:8080/"
        },
        "id": "be774e38",
        "outputId": "70930d17-f488-4c64-f58d-d6447a4f13eb"
      },
      "outputs": [
        {
          "output_type": "stream",
          "name": "stdout",
          "text": [
            "Downloading data from https://storage.googleapis.com/tensorflow/tf-keras-datasets/mnist.npz\n",
            "11493376/11490434 [==============================] - 0s 0us/step\n",
            "11501568/11490434 [==============================] - 0s 0us/step\n"
          ]
        }
      ],
      "source": [
        "(X_train, y_train), (X_test, y_test) = mnist.load_data()"
      ]
    },
    {
      "cell_type": "code",
      "execution_count": 8,
      "id": "a92d548e",
      "metadata": {
        "id": "a92d548e"
      },
      "outputs": [],
      "source": [
        "import matplotlib.pyplot as plt\n",
        "%matplotlib inline"
      ]
    },
    {
      "cell_type": "code",
      "execution_count": 9,
      "id": "a03f784c",
      "metadata": {
        "colab": {
          "base_uri": "https://localhost:8080/",
          "height": 265
        },
        "id": "a03f784c",
        "outputId": "2825c354-e96d-410d-b623-4f4fa7f8687c"
      },
      "outputs": [
        {
          "output_type": "display_data",
          "data": {
            "image/png": "[encoded data removed]",
            "text/plain": [
              "<Figure size 432x288 with 1 Axes>"
            ]
          },
          "metadata": {
            "needs_background": "light"
          }
        }
      ],
      "source": [
        "plt.imshow(X_train[1], cmap='gray')\n",
        "plt.show()"
      ]
    },
    {
      "cell_type": "code",
      "execution_count": 10,
      "id": "c7706d3d",
      "metadata": {
        "colab": {
          "base_uri": "https://localhost:8080/",
          "height": 475
        },
        "id": "c7706d3d",
        "outputId": "a890047d-3842-4762-86e0-f2852e517641"
      },
      "outputs": [
        {
          "output_type": "display_data",
          "data": {
            "image/png": "[encoded data removed]",
            "text/plain": [
              "<Figure size 1080x720 with 10 Axes>"
            ]
          },
          "metadata": {}
        }
      ],
      "source": [
        "fig = plt.figure(figsize=(15, 10))\n",
        "\n",
        "i = 0\n",
        "\n",
        "for f in range(0, y_train.shape[0]):\n",
        "    if(y_train[f] == 1 and i < 10):\n",
        "        plt.subplot(2, 5, i+1)\n",
        "        plt.imshow(X_train[f], cmap='gray')\n",
        "        plt.xticks([])\n",
        "        plt.yticks([])\n",
        "        i += 1\n",
        "\n",
        "plt.show()"
      ]
    },
    {
      "cell_type": "code",
      "execution_count": 11,
      "id": "7a886a98",
      "metadata": {
        "colab": {
          "base_uri": "https://localhost:8080/"
        },
        "id": "7a886a98",
        "outputId": "aafcad7b-e246-470f-8338-8e20693cd795"
      },
      "outputs": [
        {
          "output_type": "stream",
          "name": "stdout",
          "text": [
            "X_train : (60000, 28, 28)\n",
            "X_test : (10000, 28, 28)\n"
          ]
        }
      ],
      "source": [
        "print(f'X_train : {X_train.shape}\\nX_test : {X_test.shape}')"
      ]
    },
    {
      "cell_type": "code",
      "execution_count": 12,
      "id": "b8184084",
      "metadata": {
        "id": "b8184084"
      },
      "outputs": [],
      "source": [
        "if K.image_data_format() == 'channels_first':\n",
        "    X_train = X_train.reshape(X_train.shape[0], 1, im_row, im_col)\n",
        "    X_test = X_test.reshape(X_test.shape[0], 1, im_row, im_col)\n",
        "    input_shape = (1, im_row, im_col)\n",
        "else:\n",
        "    X_train = X_train.reshape(X_train.shape[0], im_row, im_col, 1)\n",
        "    X_test = X_test.reshape(X_test.shape[0], im_row, im_col, 1)\n",
        "    input_shape = (im_row, im_col , 1)"
      ]
    },
    {
      "cell_type": "code",
      "execution_count": 13,
      "id": "f0adaadb",
      "metadata": {
        "id": "f0adaadb"
      },
      "outputs": [],
      "source": [
        "X_train = X_train.astype('float32')\n",
        "X_test = X_test.astype('float32')\n",
        "X_train /= 255\n",
        "X_test /= 255\n",
        "\n",
        "y_train = keras.utils.to_categorical(y_train, n_classes)\n",
        "y_test = keras.utils.to_categorical(y_test, n_classes)"
      ]
    },
    {
      "cell_type": "code",
      "execution_count": 14,
      "id": "38ada915",
      "metadata": {
        "id": "38ada915"
      },
      "outputs": [],
      "source": [
        "model = Sequential()\n",
        "model.add(Conv2D(32, kernel_size=(3, 3), activation='relu', input_shape = input_shape))\n",
        "model.add(Conv2D(64, (3, 3), activation='relu'))\n",
        "model.add(MaxPooling2D(pool_size=(2, 2)))\n",
        "model.add(Dropout(0.25))\n",
        "model.add(Flatten())\n",
        "model.add(Dense(128, activation='relu'))\n",
        "model.add(Dropout(0.5))\n",
        "model.add(Dense(n_classes, activation='softmax'))"
      ]
    },
    {
      "cell_type": "code",
      "execution_count": 15,
      "id": "29c78bc0",
      "metadata": {
        "id": "29c78bc0"
      },
      "outputs": [],
      "source": [
        "model.compile(loss=keras.losses.categorical_crossentropy,\n",
        "             optimizer = keras.optimizers.Adam(),\n",
        "             metrics=['accuracy'])"
      ]
    },
    {
      "cell_type": "code",
      "execution_count": 16,
      "id": "b44c8114",
      "metadata": {
        "colab": {
          "base_uri": "https://localhost:8080/"
        },
        "id": "b44c8114",
        "outputId": "271dcbf6-ca8c-459d-9ab0-f9adbc656573"
      },
      "outputs": [
        {
          "output_type": "stream",
          "name": "stdout",
          "text": [
            "Model: \"sequential\"\n",
            "_________________________________________________________________\n",
            " Layer (type)                Output Shape              Param #   \n",
            "=================================================================\n",
            " conv2d (Conv2D)             (None, 26, 26, 32)        320       \n",
            "                                                                 \n",
            " conv2d_1 (Conv2D)           (None, 24, 24, 64)        18496     \n",
            "                                                                 \n",
            " max_pooling2d (MaxPooling2D  (None, 12, 12, 64)       0         \n",
            " )                                                               \n",
            "                                                                 \n",
            " dropout (Dropout)           (None, 12, 12, 64)        0         \n",
            "                                                                 \n",
            " flatten (Flatten)           (None, 9216)              0         \n",
            "                                                                 \n",
            " dense (Dense)               (None, 128)               1179776   \n",
            "                                                                 \n",
            " dropout_1 (Dropout)         (None, 128)               0         \n",
            "                                                                 \n",
            " dense_1 (Dense)             (None, 10)                1290      \n",
            "                                                                 \n",
            "=================================================================\n",
            "Total params: 1,199,882\n",
            "Trainable params: 1,199,882\n",
            "Non-trainable params: 0\n",
            "_________________________________________________________________\n"
          ]
        }
      ],
      "source": [
        "model.summary()"
      ]
    },
    {
      "cell_type": "code",
      "execution_count": 17,
      "id": "d1529a2d",
      "metadata": {
        "colab": {
          "base_uri": "https://localhost:8080/"
        },
        "id": "d1529a2d",
        "outputId": "b5bec4cc-9cd8-44eb-acc3-1c47d043ceb1"
      },
      "outputs": [
        {
          "output_type": "stream",
          "name": "stdout",
          "text": [
            "Epoch 1/15\n",
            "469/469 [==============================] - 11s 7ms/step - loss: 0.2379 - accuracy: 0.9283 - val_loss: 0.0558 - val_accuracy: 0.9824\n",
            "Epoch 2/15\n",
            "469/469 [==============================] - 3s 6ms/step - loss: 0.0852 - accuracy: 0.9751 - val_loss: 0.0356 - val_accuracy: 0.9888\n",
            "Epoch 3/15\n",
            "469/469 [==============================] - 3s 6ms/step - loss: 0.0615 - accuracy: 0.9811 - val_loss: 0.0308 - val_accuracy: 0.9901\n",
            "Epoch 4/15\n",
            "469/469 [==============================] - 3s 6ms/step - loss: 0.0534 - accuracy: 0.9835 - val_loss: 0.0343 - val_accuracy: 0.9888\n",
            "Epoch 5/15\n",
            "469/469 [==============================] - 3s 6ms/step - loss: 0.0433 - accuracy: 0.9866 - val_loss: 0.0272 - val_accuracy: 0.9904\n",
            "Epoch 6/15\n",
            "469/469 [==============================] - 3s 6ms/step - loss: 0.0376 - accuracy: 0.9876 - val_loss: 0.0271 - val_accuracy: 0.9918\n",
            "Epoch 7/15\n",
            "469/469 [==============================] - 3s 6ms/step - loss: 0.0365 - accuracy: 0.9886 - val_loss: 0.0260 - val_accuracy: 0.9911\n",
            "Epoch 8/15\n",
            "469/469 [==============================] - 3s 6ms/step - loss: 0.0305 - accuracy: 0.9904 - val_loss: 0.0279 - val_accuracy: 0.9919\n",
            "Epoch 9/15\n",
            "469/469 [==============================] - 3s 6ms/step - loss: 0.0284 - accuracy: 0.9909 - val_loss: 0.0257 - val_accuracy: 0.9919\n",
            "Epoch 10/15\n",
            "469/469 [==============================] - 3s 6ms/step - loss: 0.0252 - accuracy: 0.9921 - val_loss: 0.0255 - val_accuracy: 0.9921\n",
            "Epoch 11/15\n",
            "469/469 [==============================] - 3s 6ms/step - loss: 0.0234 - accuracy: 0.9923 - val_loss: 0.0245 - val_accuracy: 0.9927\n",
            "Epoch 12/15\n",
            "469/469 [==============================] - 3s 6ms/step - loss: 0.0221 - accuracy: 0.9926 - val_loss: 0.0249 - val_accuracy: 0.9927\n",
            "Epoch 13/15\n",
            "469/469 [==============================] - 3s 6ms/step - loss: 0.0219 - accuracy: 0.9929 - val_loss: 0.0267 - val_accuracy: 0.9926\n",
            "Epoch 14/15\n",
            "469/469 [==============================] - 3s 6ms/step - loss: 0.0189 - accuracy: 0.9939 - val_loss: 0.0260 - val_accuracy: 0.9918\n",
            "Epoch 15/15\n",
            "469/469 [==============================] - 3s 6ms/step - loss: 0.0174 - accuracy: 0.9941 - val_loss: 0.0299 - val_accuracy: 0.9921\n",
            "313/313 [==============================] - 1s 2ms/step - loss: 0.0299 - accuracy: 0.9921\n"
          ]
        }
      ],
      "source": [
        "checkpoint = tf.keras.callbacks.ModelCheckpoint(filepath='keras_MNIST_CNN.h5',\n",
        "                                               save_best_only=True)\n",
        "\n",
        "model.fit(X_train, y_train, batch_size=batch_size, epochs=n_epoches, validation_data=(X_test, y_test), callbacks=[checkpoint])\n",
        "\n",
        "score = model.evaluate(X_test, y_test)"
      ]
    },
    {
      "cell_type": "code",
      "execution_count": 18,
      "id": "574efb8f",
      "metadata": {
        "colab": {
          "base_uri": "https://localhost:8080/"
        },
        "id": "574efb8f",
        "outputId": "6d90bb6e-a3b4-4c67-cacc-b0ab4ca87cc9"
      },
      "outputs": [
        {
          "output_type": "stream",
          "name": "stdout",
          "text": [
            "Test loss: 0.02990388497710228\n",
            "Test Accuracy: 0.9921000003814697\n"
          ]
        }
      ],
      "source": [
        "print('Test loss:', score[0])\n",
        "print('Test Accuracy:', score[1])"
      ]
    },
    {
      "cell_type": "code",
      "source": [
        "from sklearn.metrics import roc_auc_score\n",
        "\n",
        "preds = model.predict(X_test)\n",
        "auc = roc_auc_score(np.round(preds), y_test)\n",
        "print('AUC: {:2%}'.format(auc))"
      ],
      "metadata": {
        "colab": {
          "base_uri": "https://localhost:8080/"
        },
        "id": "hmLD8xQPLWRS",
        "outputId": "52995cde-254e-401e-bd0d-339bb9a8ad1a"
      },
      "id": "hmLD8xQPLWRS",
      "execution_count": 19,
      "outputs": [
        {
          "output_type": "stream",
          "name": "stdout",
          "text": [
            "AUC: 99.578459%\n"
          ]
        }
      ]
    },
    {
      "cell_type": "code",
      "source": [
        "print('Predictions for X_test[0]: {}\\n\\nActual label for X_test[0]: {}\\n'.format(preds[0], y_test[0]))\n",
        "print('Predictions for X_test[0] after rounding: {}\\n'.format(np.round(preds)[0]))"
      ],
      "metadata": {
        "colab": {
          "base_uri": "https://localhost:8080/"
        },
        "id": "jkF7gSTnLpfe",
        "outputId": "2669f9c5-54a3-4d8f-e415-0f17b71f031f"
      },
      "id": "jkF7gSTnLpfe",
      "execution_count": 20,
      "outputs": [
        {
          "output_type": "stream",
          "name": "stdout",
          "text": [
            "Predictions for X_test[0]: [1.4221522e-18 4.9730582e-14 8.7073996e-15 4.3797461e-13 7.5432477e-15\n",
            " 8.8872994e-16 6.5178086e-23 1.0000000e+00 3.1937666e-16 2.3604855e-12]\n",
            "\n",
            "Actual label for X_test[0]: [0. 0. 0. 0. 0. 0. 0. 1. 0. 0.]\n",
            "\n",
            "Predictions for X_test[0] after rounding: [0. 0. 0. 0. 0. 0. 0. 1. 0. 0.]\n",
            "\n"
          ]
        }
      ]
    },
    {
      "cell_type": "markdown",
      "source": [
        "# Pytorch 연습"
      ],
      "metadata": {
        "id": "x4slZDlbSjkl"
      },
      "id": "x4slZDlbSjkl"
    },
    {
      "cell_type": "code",
      "source": [
        "import torch\n",
        "import torch.nn as nn\n",
        "import torchvision\n",
        "import torchvision.transforms as transforms\n",
        "import torch.optim as optim\n",
        "import torch.nn.functional as F"
      ],
      "metadata": {
        "id": "KE5HlxccSmvm"
      },
      "id": "KE5HlxccSmvm",
      "execution_count": 21,
      "outputs": []
    },
    {
      "cell_type": "code",
      "source": [
        "device = torch.device('cuda:0' if torch.cuda.is_available() else 'cpu')"
      ],
      "metadata": {
        "id": "b0aZyAxobKbu"
      },
      "id": "b0aZyAxobKbu",
      "execution_count": 22,
      "outputs": []
    },
    {
      "cell_type": "code",
      "source": [
        "device"
      ],
      "metadata": {
        "colab": {
          "base_uri": "https://localhost:8080/"
        },
        "id": "yYgFYex5bgaC",
        "outputId": "b0fdc983-c7c4-42e9-98fa-bac7d5c1a4d6"
      },
      "id": "yYgFYex5bgaC",
      "execution_count": 23,
      "outputs": [
        {
          "output_type": "execute_result",
          "data": {
            "text/plain": [
              "device(type='cuda', index=0)"
            ]
          },
          "metadata": {},
          "execution_count": 23
        }
      ]
    },
    {
      "cell_type": "code",
      "source": [
        "num_epoches = 15\n",
        "num_classes = 10\n",
        "batch_size = 128\n",
        "learning_rate = 0.001"
      ],
      "metadata": {
        "id": "Ah7nBEiJS15_"
      },
      "id": "Ah7nBEiJS15_",
      "execution_count": 31,
      "outputs": []
    },
    {
      "cell_type": "code",
      "source": [
        "train_dataset = torchvision.datasets.MNIST(root='../../data/', train = True,\n",
        "                                           transform = transforms.ToTensor(), download = True)"
      ],
      "metadata": {
        "colab": {
          "base_uri": "https://localhost:8080/",
          "height": 439,
          "referenced_widgets": [
            "674c283d5a5e44529f371e10fd0a4129",
            "73c6fb7f32d3475da62075d99d448fe4",
            "d8ffcd4bdbf24cd1aba141136608d9ca",
            "8e80830c8b584ab9ad6f238a3d6b7797",
            "b677cc0b00c544b8815e1fec296228e0",
            "34ae20e0c9e741dc9982d6203f560762",
            "1b10e172be674cc48857b199df73a48c",
            "55fd38de50b347fc96da7cbf1f5c3191",
            "c350ad39d4ca4e45869a7cbcd8b24485",
            "6ed7f157318842058f841a717d61ed97",
            "44b83b924f1c4879b5cde036d72b1831",
            "a051fd3612994c5182f0374e00087bb2",
            "057256062d3d4aaa825a71d84dd51c10",
            "885143a1c8a847ecbb7d5b6a79916494",
            "5321848286ce48869c5cf21e5f5d5140",
            "ec68e814ced44b6b89aa7ab91242ab74",
            "c65290733d4d4d94b63dd2c424ef93c7",
            "63a0d850cb62424b8839d8e9ad2c0d35",
            "fc651dfa2783410ebf90591972d94e2d",
            "a74b57607d6e40da911de104f39281ce",
            "221676806b9c47d493d5033caad5d4da",
            "333c2e8e84424bff92d6ae3eea4d28a4",
            "1eeeddbf3f3f4e2fbd3dda8155d105a3",
            "c7e8521bcbee4e35b9a8258d0244be92",
            "ced7bb40aea44c67ac4dd4ff72c25333",
            "ecfe6ef65465411899db650fe69d86b4",
            "3922955994374b1fbf920333c737dbd5",
            "3ce9a93fcd1d40eab41d368144078254",
            "c569fc63c46943fba55235069874bf0d",
            "2230f8a82f82477bbe3857a24a9adbda",
            "ab316bffc3f84e26bf20499019501cc7",
            "19a531bb6ae64026813f2afc65038986",
            "756abf1dae3546229070150ddc6f2c4a",
            "9af4937f99c14845b6bed86c2d60ecc2",
            "f97c57bd5eef48489d340d032164e0d7",
            "acb52b7a2dc74b468487d4b10670e6c4",
            "fabbfc2e318844ff8de98149c720e489",
            "a97012d9dae0405bb7a1e18855cc222a",
            "fc837458c8f04f12a0a37ef0bd6bd05e",
            "073d88b767e240e6aa6eb0923663a176",
            "ecabe5d9342d481a81ef52aa75c61b71",
            "bf1ad1e7ed7a4f5daf92cf0e4f105661",
            "559ea27907ef4f26bac1ff35a43bea5f",
            "637462648c644f3db51fb9047cc6d51c"
          ]
        },
        "id": "_hm4d-3QS_GJ",
        "outputId": "ff804e87-1bf8-41a9-8b08-f81bc3ffb8ca"
      },
      "id": "_hm4d-3QS_GJ",
      "execution_count": 25,
      "outputs": [
        {
          "output_type": "stream",
          "name": "stdout",
          "text": [
            "Downloading http://yann.lecun.com/exdb/mnist/train-images-idx3-ubyte.gz\n",
            "Downloading http://yann.lecun.com/exdb/mnist/train-images-idx3-ubyte.gz to ../../data/MNIST/raw/train-images-idx3-ubyte.gz\n"
          ]
        },
        {
          "output_type": "display_data",
          "data": {
            "application/vnd.jupyter.widget-view+json": {
              "model_id": "674c283d5a5e44529f371e10fd0a4129",
              "version_minor": 0,
              "version_major": 2
            },
            "text/plain": [
              "  0%|          | 0/9912422 [00:00<?, ?it/s]"
            ]
          },
          "metadata": {}
        },
        {
          "output_type": "stream",
          "name": "stdout",
          "text": [
            "Extracting ../../data/MNIST/raw/train-images-idx3-ubyte.gz to ../../data/MNIST/raw\n",
            "\n",
            "Downloading http://yann.lecun.com/exdb/mnist/train-labels-idx1-ubyte.gz\n",
            "Downloading http://yann.lecun.com/exdb/mnist/train-labels-idx1-ubyte.gz to ../../data/MNIST/raw/train-labels-idx1-ubyte.gz\n"
          ]
        },
        {
          "output_type": "display_data",
          "data": {
            "application/vnd.jupyter.widget-view+json": {
              "model_id": "a051fd3612994c5182f0374e00087bb2",
              "version_minor": 0,
              "version_major": 2
            },
            "text/plain": [
              "  0%|          | 0/28881 [00:00<?, ?it/s]"
            ]
          },
          "metadata": {}
        },
        {
          "output_type": "stream",
          "name": "stdout",
          "text": [
            "Extracting ../../data/MNIST/raw/train-labels-idx1-ubyte.gz to ../../data/MNIST/raw\n",
            "\n",
            "Downloading http://yann.lecun.com/exdb/mnist/t10k-images-idx3-ubyte.gz\n",
            "Downloading http://yann.lecun.com/exdb/mnist/t10k-images-idx3-ubyte.gz to ../../data/MNIST/raw/t10k-images-idx3-ubyte.gz\n"
          ]
        },
        {
          "output_type": "display_data",
          "data": {
            "application/vnd.jupyter.widget-view+json": {
              "model_id": "1eeeddbf3f3f4e2fbd3dda8155d105a3",
              "version_minor": 0,
              "version_major": 2
            },
            "text/plain": [
              "  0%|          | 0/1648877 [00:00<?, ?it/s]"
            ]
          },
          "metadata": {}
        },
        {
          "output_type": "stream",
          "name": "stdout",
          "text": [
            "Extracting ../../data/MNIST/raw/t10k-images-idx3-ubyte.gz to ../../data/MNIST/raw\n",
            "\n",
            "Downloading http://yann.lecun.com/exdb/mnist/t10k-labels-idx1-ubyte.gz\n",
            "Downloading http://yann.lecun.com/exdb/mnist/t10k-labels-idx1-ubyte.gz to ../../data/MNIST/raw/t10k-labels-idx1-ubyte.gz\n"
          ]
        },
        {
          "output_type": "display_data",
          "data": {
            "application/vnd.jupyter.widget-view+json": {
              "model_id": "9af4937f99c14845b6bed86c2d60ecc2",
              "version_minor": 0,
              "version_major": 2
            },
            "text/plain": [
              "  0%|          | 0/4542 [00:00<?, ?it/s]"
            ]
          },
          "metadata": {}
        },
        {
          "output_type": "stream",
          "name": "stdout",
          "text": [
            "Extracting ../../data/MNIST/raw/t10k-labels-idx1-ubyte.gz to ../../data/MNIST/raw\n",
            "\n"
          ]
        }
      ]
    },
    {
      "cell_type": "code",
      "source": [
        "test_dataset = torchvision.datasets.MNIST('../../data', train = False, transform=transforms.ToTensor())"
      ],
      "metadata": {
        "id": "sDwLq7-MTTs7"
      },
      "id": "sDwLq7-MTTs7",
      "execution_count": 26,
      "outputs": []
    },
    {
      "cell_type": "code",
      "source": [
        "train_loader = torch.utils.data.DataLoader(dataset = train_dataset, batch_size=batch_size, shuffle = True)\n",
        "\n",
        "test_loader = torch.utils.data.DataLoader(dataset = test_dataset, batch_size = batch_size, shuffle = False)"
      ],
      "metadata": {
        "id": "ENWuiKVfTc6C"
      },
      "id": "ENWuiKVfTc6C",
      "execution_count": 27,
      "outputs": []
    },
    {
      "cell_type": "code",
      "source": [
        "class CNN(nn.Module):\n",
        "  def __init__(self):\n",
        "    super(CNN, self).__init__()\n",
        "    self.conv1 = nn.Conv2d(1, 32 ,3, 1)\n",
        "    self.conv2 = nn.Conv2d(32, 64, 3, 1)\n",
        "    self.dense1 = nn.Linear(12*12*64, 128)\n",
        "    self.dense2 = nn.Linear(128, num_classes)\n",
        "\n",
        "  def forward(self, x):\n",
        "    x = F.relu(self.conv1(x))\n",
        "    x = F.relu(self.conv2(x))\n",
        "    x = F.max_pool2d(x, 2, 2)\n",
        "    x = F.dropout(x, 0.25)\n",
        "    x = x.view(-1, 12*12*64)\n",
        "    x = F.relu(self.dense1(x))\n",
        "    x = F.dropout(x, 0.5)\n",
        "    x = self.dense2(x)\n",
        "\n",
        "    return F.log_softmax(x, dim=1)"
      ],
      "metadata": {
        "id": "XIOFlb6PTsTA"
      },
      "id": "XIOFlb6PTsTA",
      "execution_count": 28,
      "outputs": []
    },
    {
      "cell_type": "code",
      "source": [
        "model = CNN().to(device)\n",
        "criterion = nn.CrossEntropyLoss()\n",
        "optimizer = torch.optim.Adam(model.parameters(), lr=learning_rate)\n",
        "\n",
        "total_step = len(train_loader)\n",
        "\n",
        "for epoch in range(num_epoches):\n",
        "\n",
        "  for i, (images, labels) in enumerate(train_loader):\n",
        "    \n",
        "    images = images.to(device)\n",
        "    labels = labels.to(device)\n",
        "\n",
        "    outputs = model(images)\n",
        "    loss = criterion(outputs, labels)\n",
        "\n",
        "    optimizer.zero_grad()\n",
        "    loss.backward()\n",
        "    optimizer.step()\n",
        "\n",
        "    if (i+1) % 100 == 0:\n",
        "      print('Epoch [{}/{}], Step [{}/{}], Loss: {:.4f}'.format(epoch + 1, num_epoches, i+1, total_step, loss.item()))"
      ],
      "metadata": {
        "colab": {
          "base_uri": "https://localhost:8080/"
        },
        "id": "4bbN_RoBVHl-",
        "outputId": "d957e233-0aed-4876-fa46-669bfea8e021"
      },
      "id": "4bbN_RoBVHl-",
      "execution_count": 35,
      "outputs": [
        {
          "output_type": "stream",
          "name": "stdout",
          "text": [
            "Epoch [1/15], Step [100/469], Loss: 0.2536\n",
            "Epoch [1/15], Step [200/469], Loss: 0.2360\n",
            "Epoch [1/15], Step [300/469], Loss: 0.1725\n",
            "Epoch [1/15], Step [400/469], Loss: 0.1015\n",
            "Epoch [2/15], Step [100/469], Loss: 0.0892\n",
            "Epoch [2/15], Step [200/469], Loss: 0.1045\n",
            "Epoch [2/15], Step [300/469], Loss: 0.1830\n",
            "Epoch [2/15], Step [400/469], Loss: 0.1027\n",
            "Epoch [3/15], Step [100/469], Loss: 0.0882\n",
            "Epoch [3/15], Step [200/469], Loss: 0.0633\n",
            "Epoch [3/15], Step [300/469], Loss: 0.0846\n",
            "Epoch [3/15], Step [400/469], Loss: 0.0544\n",
            "Epoch [4/15], Step [100/469], Loss: 0.0318\n",
            "Epoch [4/15], Step [200/469], Loss: 0.0521\n",
            "Epoch [4/15], Step [300/469], Loss: 0.0868\n",
            "Epoch [4/15], Step [400/469], Loss: 0.0475\n",
            "Epoch [5/15], Step [100/469], Loss: 0.0818\n",
            "Epoch [5/15], Step [200/469], Loss: 0.0356\n",
            "Epoch [5/15], Step [300/469], Loss: 0.0723\n",
            "Epoch [5/15], Step [400/469], Loss: 0.0197\n",
            "Epoch [6/15], Step [100/469], Loss: 0.0278\n",
            "Epoch [6/15], Step [200/469], Loss: 0.0189\n",
            "Epoch [6/15], Step [300/469], Loss: 0.0584\n",
            "Epoch [6/15], Step [400/469], Loss: 0.0165\n",
            "Epoch [7/15], Step [100/469], Loss: 0.0077\n",
            "Epoch [7/15], Step [200/469], Loss: 0.0198\n",
            "Epoch [7/15], Step [300/469], Loss: 0.0204\n",
            "Epoch [7/15], Step [400/469], Loss: 0.0139\n",
            "Epoch [8/15], Step [100/469], Loss: 0.0432\n",
            "Epoch [8/15], Step [200/469], Loss: 0.0311\n",
            "Epoch [8/15], Step [300/469], Loss: 0.0381\n",
            "Epoch [8/15], Step [400/469], Loss: 0.0200\n",
            "Epoch [9/15], Step [100/469], Loss: 0.0299\n",
            "Epoch [9/15], Step [200/469], Loss: 0.0261\n",
            "Epoch [9/15], Step [300/469], Loss: 0.0113\n",
            "Epoch [9/15], Step [400/469], Loss: 0.0091\n",
            "Epoch [10/15], Step [100/469], Loss: 0.0046\n",
            "Epoch [10/15], Step [200/469], Loss: 0.0547\n",
            "Epoch [10/15], Step [300/469], Loss: 0.0373\n",
            "Epoch [10/15], Step [400/469], Loss: 0.0248\n",
            "Epoch [11/15], Step [100/469], Loss: 0.0138\n",
            "Epoch [11/15], Step [200/469], Loss: 0.0350\n",
            "Epoch [11/15], Step [300/469], Loss: 0.0434\n",
            "Epoch [11/15], Step [400/469], Loss: 0.0158\n",
            "Epoch [12/15], Step [100/469], Loss: 0.0112\n",
            "Epoch [12/15], Step [200/469], Loss: 0.0608\n",
            "Epoch [12/15], Step [300/469], Loss: 0.0098\n",
            "Epoch [12/15], Step [400/469], Loss: 0.0056\n",
            "Epoch [13/15], Step [100/469], Loss: 0.0144\n",
            "Epoch [13/15], Step [200/469], Loss: 0.0150\n",
            "Epoch [13/15], Step [300/469], Loss: 0.0300\n",
            "Epoch [13/15], Step [400/469], Loss: 0.0890\n",
            "Epoch [14/15], Step [100/469], Loss: 0.0457\n",
            "Epoch [14/15], Step [200/469], Loss: 0.0156\n",
            "Epoch [14/15], Step [300/469], Loss: 0.0060\n",
            "Epoch [14/15], Step [400/469], Loss: 0.0133\n",
            "Epoch [15/15], Step [100/469], Loss: 0.0518\n",
            "Epoch [15/15], Step [200/469], Loss: 0.0126\n",
            "Epoch [15/15], Step [300/469], Loss: 0.0053\n",
            "Epoch [15/15], Step [400/469], Loss: 0.0180\n"
          ]
        }
      ]
    },
    {
      "cell_type": "code",
      "source": [
        "preds = []\n",
        "y_true = []\n",
        "\n",
        "model.eval()\n",
        "\n",
        "with torch.no_grad():\n",
        "  correct = 0\n",
        "  total = 0\n",
        "  for images, labels in test_loader:\n",
        "    images = images.to(device)\n",
        "    labels = labels.to(device)\n",
        "    outputs = model(images)\n",
        "    _, predicted = torch.max(outputs.data, 1)\n",
        "    total += labels.size(0)\n",
        "    correct += (predicted == labels).sum().item()\n",
        "    detached_pred = predicted.detach().cpu().numpy()\n",
        "    detached_label = labels.detach().cpu().numpy()\n",
        "    for f in range(0, len(detached_pred)):\n",
        "      preds.append(detached_pred[f])\n",
        "      y_true.append(detached_label[f])\n",
        "    \n",
        "  print('Test Accuracy of the model on 10000 test images: {:.2%}'.format(correct/total))\n",
        "\n",
        "  preds = np.eye(num_classes)[preds]\n",
        "  y_true = np.eye(num_classes)[y_true]\n",
        "  auc = roc_auc_score(preds, y_true)\n",
        "  print('AUC: {:.2%}'.format(auc))\n",
        "\n",
        "torch.save(model.state_dict(), 'pytorch_mnist_cnn.ckpt')"
      ],
      "metadata": {
        "colab": {
          "base_uri": "https://localhost:8080/"
        },
        "id": "J_mGHsL0WynY",
        "outputId": "1d46987b-7878-4ea4-fbb5-fb1851b9c9ef"
      },
      "id": "J_mGHsL0WynY",
      "execution_count": 38,
      "outputs": [
        {
          "output_type": "stream",
          "name": "stdout",
          "text": [
            "Test Accuracy of the model on 10000 test images: 98.59%\n",
            "AUC: 99.22%\n"
          ]
        }
      ]
    }
  ],
  "metadata": {
    "kernelspec": {
      "display_name": "Python 3 (ipykernel)",
      "language": "python",
      "name": "python3"
    },
    "language_info": {
      "codemirror_mode": {
        "name": "ipython",
        "version": 3
      },
      "file_extension": ".py",
      "mimetype": "text/x-python",
      "name": "python",
      "nbconvert_exporter": "python",
      "pygments_lexer": "ipython3",
      "version": "3.9.7"
    },
    "colab": {
      "name": "Ch03_Introduction_to_Deep_Learning.ipynb",
      "provenance": [],
      "collapsed_sections": [],
      "machine_shape": "hm"
    },
    "accelerator": "GPU",
    "widgets": {
      "application/vnd.jupyter.widget-state+json": {
        "674c283d5a5e44529f371e10fd0a4129": {
          "model_module": "@jupyter-widgets/controls",
          "model_name": "HBoxModel",
          "model_module_version": "1.5.0",
          "state": {
            "_view_name": "HBoxView",
            "_dom_classes": [],
            "_model_name": "HBoxModel",
            "_view_module": "@jupyter-widgets/controls",
            "_model_module_version": "1.5.0",
            "_view_count": null,
            "_view_module_version": "1.5.0",
            "box_style": "",
            "layout": "IPY_MODEL_73c6fb7f32d3475da62075d99d448fe4",
            "_model_module": "@jupyter-widgets/controls",
            "children": [
              "IPY_MODEL_d8ffcd4bdbf24cd1aba141136608d9ca",
              "IPY_MODEL_8e80830c8b584ab9ad6f238a3d6b7797",
              "IPY_MODEL_b677cc0b00c544b8815e1fec296228e0"
            ]
          }
        },
        "73c6fb7f32d3475da62075d99d448fe4": {
          "model_module": "@jupyter-widgets/base",
          "model_name": "LayoutModel",
          "model_module_version": "1.2.0",
          "state": {
            "_view_name": "LayoutView",
            "grid_template_rows": null,
            "right": null,
            "justify_content": null,
            "_view_module": "@jupyter-widgets/base",
            "overflow": null,
            "_model_module_version": "1.2.0",
            "_view_count": null,
            "flex_flow": null,
            "width": null,
            "min_width": null,
            "border": null,
            "align_items": null,
            "bottom": null,
            "_model_module": "@jupyter-widgets/base",
            "top": null,
            "grid_column": null,
            "overflow_y": null,
            "overflow_x": null,
            "grid_auto_flow": null,
            "grid_area": null,
            "grid_template_columns": null,
            "flex": null,
            "_model_name": "LayoutModel",
            "justify_items": null,
            "grid_row": null,
            "max_height": null,
            "align_content": null,
            "visibility": null,
            "align_self": null,
            "height": null,
            "min_height": null,
            "padding": null,
            "grid_auto_rows": null,
            "grid_gap": null,
            "max_width": null,
            "order": null,
            "_view_module_version": "1.2.0",
            "grid_template_areas": null,
            "object_position": null,
            "object_fit": null,
            "grid_auto_columns": null,
            "margin": null,
            "display": null,
            "left": null
          }
        },
        "d8ffcd4bdbf24cd1aba141136608d9ca": {
          "model_module": "@jupyter-widgets/controls",
          "model_name": "HTMLModel",
          "model_module_version": "1.5.0",
          "state": {
            "_view_name": "HTMLView",
            "style": "IPY_MODEL_34ae20e0c9e741dc9982d6203f560762",
            "_dom_classes": [],
            "description": "",
            "_model_name": "HTMLModel",
            "placeholder": "​",
            "_view_module": "@jupyter-widgets/controls",
            "_model_module_version": "1.5.0",
            "value": "",
            "_view_count": null,
            "_view_module_version": "1.5.0",
            "description_tooltip": null,
            "_model_module": "@jupyter-widgets/controls",
            "layout": "IPY_MODEL_1b10e172be674cc48857b199df73a48c"
          }
        },
        "8e80830c8b584ab9ad6f238a3d6b7797": {
          "model_module": "@jupyter-widgets/controls",
          "model_name": "FloatProgressModel",
          "model_module_version": "1.5.0",
          "state": {
            "_view_name": "ProgressView",
            "style": "IPY_MODEL_55fd38de50b347fc96da7cbf1f5c3191",
            "_dom_classes": [],
            "description": "",
            "_model_name": "FloatProgressModel",
            "bar_style": "success",
            "max": 9912422,
            "_view_module": "@jupyter-widgets/controls",
            "_model_module_version": "1.5.0",
            "value": 9912422,
            "_view_count": null,
            "_view_module_version": "1.5.0",
            "orientation": "horizontal",
            "min": 0,
            "description_tooltip": null,
            "_model_module": "@jupyter-widgets/controls",
            "layout": "IPY_MODEL_c350ad39d4ca4e45869a7cbcd8b24485"
          }
        },
        "b677cc0b00c544b8815e1fec296228e0": {
          "model_module": "@jupyter-widgets/controls",
          "model_name": "HTMLModel",
          "model_module_version": "1.5.0",
          "state": {
            "_view_name": "HTMLView",
            "style": "IPY_MODEL_6ed7f157318842058f841a717d61ed97",
            "_dom_classes": [],
            "description": "",
            "_model_name": "HTMLModel",
            "placeholder": "​",
            "_view_module": "@jupyter-widgets/controls",
            "_model_module_version": "1.5.0",
            "value": " 9913344/? [00:00&lt;00:00, 8545502.07it/s]",
            "_view_count": null,
            "_view_module_version": "1.5.0",
            "description_tooltip": null,
            "_model_module": "@jupyter-widgets/controls",
            "layout": "IPY_MODEL_44b83b924f1c4879b5cde036d72b1831"
          }
        },
        "34ae20e0c9e741dc9982d6203f560762": {
          "model_module": "@jupyter-widgets/controls",
          "model_name": "DescriptionStyleModel",
          "model_module_version": "1.5.0",
          "state": {
            "_view_name": "StyleView",
            "_model_name": "DescriptionStyleModel",
            "description_width": "",
            "_view_module": "@jupyter-widgets/base",
            "_model_module_version": "1.5.0",
            "_view_count": null,
            "_view_module_version": "1.2.0",
            "_model_module": "@jupyter-widgets/controls"
          }
        },
        "1b10e172be674cc48857b199df73a48c": {
          "model_module": "@jupyter-widgets/base",
          "model_name": "LayoutModel",
          "model_module_version": "1.2.0",
          "state": {
            "_view_name": "LayoutView",
            "grid_template_rows": null,
            "right": null,
            "justify_content": null,
            "_view_module": "@jupyter-widgets/base",
            "overflow": null,
            "_model_module_version": "1.2.0",
            "_view_count": null,
            "flex_flow": null,
            "width": null,
            "min_width": null,
            "border": null,
            "align_items": null,
            "bottom": null,
            "_model_module": "@jupyter-widgets/base",
            "top": null,
            "grid_column": null,
            "overflow_y": null,
            "overflow_x": null,
            "grid_auto_flow": null,
            "grid_area": null,
            "grid_template_columns": null,
            "flex": null,
            "_model_name": "LayoutModel",
            "justify_items": null,
            "grid_row": null,
            "max_height": null,
            "align_content": null,
            "visibility": null,
            "align_self": null,
            "height": null,
            "min_height": null,
            "padding": null,
            "grid_auto_rows": null,
            "grid_gap": null,
            "max_width": null,
            "order": null,
            "_view_module_version": "1.2.0",
            "grid_template_areas": null,
            "object_position": null,
            "object_fit": null,
            "grid_auto_columns": null,
            "margin": null,
            "display": null,
            "left": null
          }
        },
        "55fd38de50b347fc96da7cbf1f5c3191": {
          "model_module": "@jupyter-widgets/controls",
          "model_name": "ProgressStyleModel",
          "model_module_version": "1.5.0",
          "state": {
            "_view_name": "StyleView",
            "_model_name": "ProgressStyleModel",
            "description_width": "",
            "_view_module": "@jupyter-widgets/base",
            "_model_module_version": "1.5.0",
            "_view_count": null,
            "_view_module_version": "1.2.0",
            "bar_color": null,
            "_model_module": "@jupyter-widgets/controls"
          }
        },
        "c350ad39d4ca4e45869a7cbcd8b24485": {
          "model_module": "@jupyter-widgets/base",
          "model_name": "LayoutModel",
          "model_module_version": "1.2.0",
          "state": {
            "_view_name": "LayoutView",
            "grid_template_rows": null,
            "right": null,
            "justify_content": null,
            "_view_module": "@jupyter-widgets/base",
            "overflow": null,
            "_model_module_version": "1.2.0",
            "_view_count": null,
            "flex_flow": null,
            "width": null,
            "min_width": null,
            "border": null,
            "align_items": null,
            "bottom": null,
            "_model_module": "@jupyter-widgets/base",
            "top": null,
            "grid_column": null,
            "overflow_y": null,
            "overflow_x": null,
            "grid_auto_flow": null,
            "grid_area": null,
            "grid_template_columns": null,
            "flex": null,
            "_model_name": "LayoutModel",
            "justify_items": null,
            "grid_row": null,
            "max_height": null,
            "align_content": null,
            "visibility": null,
            "align_self": null,
            "height": null,
            "min_height": null,
            "padding": null,
            "grid_auto_rows": null,
            "grid_gap": null,
            "max_width": null,
            "order": null,
            "_view_module_version": "1.2.0",
            "grid_template_areas": null,
            "object_position": null,
            "object_fit": null,
            "grid_auto_columns": null,
            "margin": null,
            "display": null,
            "left": null
          }
        },
        "6ed7f157318842058f841a717d61ed97": {
          "model_module": "@jupyter-widgets/controls",
          "model_name": "DescriptionStyleModel",
          "model_module_version": "1.5.0",
          "state": {
            "_view_name": "StyleView",
            "_model_name": "DescriptionStyleModel",
            "description_width": "",
            "_view_module": "@jupyter-widgets/base",
            "_model_module_version": "1.5.0",
            "_view_count": null,
            "_view_module_version": "1.2.0",
            "_model_module": "@jupyter-widgets/controls"
          }
        },
        "44b83b924f1c4879b5cde036d72b1831": {
          "model_module": "@jupyter-widgets/base",
          "model_name": "LayoutModel",
          "model_module_version": "1.2.0",
          "state": {
            "_view_name": "LayoutView",
            "grid_template_rows": null,
            "right": null,
            "justify_content": null,
            "_view_module": "@jupyter-widgets/base",
            "overflow": null,
            "_model_module_version": "1.2.0",
            "_view_count": null,
            "flex_flow": null,
            "width": null,
            "min_width": null,
            "border": null,
            "align_items": null,
            "bottom": null,
            "_model_module": "@jupyter-widgets/base",
            "top": null,
            "grid_column": null,
            "overflow_y": null,
            "overflow_x": null,
            "grid_auto_flow": null,
            "grid_area": null,
            "grid_template_columns": null,
            "flex": null,
            "_model_name": "LayoutModel",
            "justify_items": null,
            "grid_row": null,
            "max_height": null,
            "align_content": null,
            "visibility": null,
            "align_self": null,
            "height": null,
            "min_height": null,
            "padding": null,
            "grid_auto_rows": null,
            "grid_gap": null,
            "max_width": null,
            "order": null,
            "_view_module_version": "1.2.0",
            "grid_template_areas": null,
            "object_position": null,
            "object_fit": null,
            "grid_auto_columns": null,
            "margin": null,
            "display": null,
            "left": null
          }
        },
        "a051fd3612994c5182f0374e00087bb2": {
          "model_module": "@jupyter-widgets/controls",
          "model_name": "HBoxModel",
          "model_module_version": "1.5.0",
          "state": {
            "_view_name": "HBoxView",
            "_dom_classes": [],
            "_model_name": "HBoxModel",
            "_view_module": "@jupyter-widgets/controls",
            "_model_module_version": "1.5.0",
            "_view_count": null,
            "_view_module_version": "1.5.0",
            "box_style": "",
            "layout": "IPY_MODEL_057256062d3d4aaa825a71d84dd51c10",
            "_model_module": "@jupyter-widgets/controls",
            "children": [
              "IPY_MODEL_885143a1c8a847ecbb7d5b6a79916494",
              "IPY_MODEL_5321848286ce48869c5cf21e5f5d5140",
              "IPY_MODEL_ec68e814ced44b6b89aa7ab91242ab74"
            ]
          }
        },
        "057256062d3d4aaa825a71d84dd51c10": {
          "model_module": "@jupyter-widgets/base",
          "model_name": "LayoutModel",
          "model_module_version": "1.2.0",
          "state": {
            "_view_name": "LayoutView",
            "grid_template_rows": null,
            "right": null,
            "justify_content": null,
            "_view_module": "@jupyter-widgets/base",
            "overflow": null,
            "_model_module_version": "1.2.0",
            "_view_count": null,
            "flex_flow": null,
            "width": null,
            "min_width": null,
            "border": null,
            "align_items": null,
            "bottom": null,
            "_model_module": "@jupyter-widgets/base",
            "top": null,
            "grid_column": null,
            "overflow_y": null,
            "overflow_x": null,
            "grid_auto_flow": null,
            "grid_area": null,
            "grid_template_columns": null,
            "flex": null,
            "_model_name": "LayoutModel",
            "justify_items": null,
            "grid_row": null,
            "max_height": null,
            "align_content": null,
            "visibility": null,
            "align_self": null,
            "height": null,
            "min_height": null,
            "padding": null,
            "grid_auto_rows": null,
            "grid_gap": null,
            "max_width": null,
            "order": null,
            "_view_module_version": "1.2.0",
            "grid_template_areas": null,
            "object_position": null,
            "object_fit": null,
            "grid_auto_columns": null,
            "margin": null,
            "display": null,
            "left": null
          }
        },
        "885143a1c8a847ecbb7d5b6a79916494": {
          "model_module": "@jupyter-widgets/controls",
          "model_name": "HTMLModel",
          "model_module_version": "1.5.0",
          "state": {
            "_view_name": "HTMLView",
            "style": "IPY_MODEL_c65290733d4d4d94b63dd2c424ef93c7",
            "_dom_classes": [],
            "description": "",
            "_model_name": "HTMLModel",
            "placeholder": "​",
            "_view_module": "@jupyter-widgets/controls",
            "_model_module_version": "1.5.0",
            "value": "",
            "_view_count": null,
            "_view_module_version": "1.5.0",
            "description_tooltip": null,
            "_model_module": "@jupyter-widgets/controls",
            "layout": "IPY_MODEL_63a0d850cb62424b8839d8e9ad2c0d35"
          }
        },
        "5321848286ce48869c5cf21e5f5d5140": {
          "model_module": "@jupyter-widgets/controls",
          "model_name": "FloatProgressModel",
          "model_module_version": "1.5.0",
          "state": {
            "_view_name": "ProgressView",
            "style": "IPY_MODEL_fc651dfa2783410ebf90591972d94e2d",
            "_dom_classes": [],
            "description": "",
            "_model_name": "FloatProgressModel",
            "bar_style": "success",
            "max": 28881,
            "_view_module": "@jupyter-widgets/controls",
            "_model_module_version": "1.5.0",
            "value": 28881,
            "_view_count": null,
            "_view_module_version": "1.5.0",
            "orientation": "horizontal",
            "min": 0,
            "description_tooltip": null,
            "_model_module": "@jupyter-widgets/controls",
            "layout": "IPY_MODEL_a74b57607d6e40da911de104f39281ce"
          }
        },
        "ec68e814ced44b6b89aa7ab91242ab74": {
          "model_module": "@jupyter-widgets/controls",
          "model_name": "HTMLModel",
          "model_module_version": "1.5.0",
          "state": {
            "_view_name": "HTMLView",
            "style": "IPY_MODEL_221676806b9c47d493d5033caad5d4da",
            "_dom_classes": [],
            "description": "",
            "_model_name": "HTMLModel",
            "placeholder": "​",
            "_view_module": "@jupyter-widgets/controls",
            "_model_module_version": "1.5.0",
            "value": " 29696/? [00:00&lt;00:00, 1297748.96it/s]",
            "_view_count": null,
            "_view_module_version": "1.5.0",
            "description_tooltip": null,
            "_model_module": "@jupyter-widgets/controls",
            "layout": "IPY_MODEL_333c2e8e84424bff92d6ae3eea4d28a4"
          }
        },
        "c65290733d4d4d94b63dd2c424ef93c7": {
          "model_module": "@jupyter-widgets/controls",
          "model_name": "DescriptionStyleModel",
          "model_module_version": "1.5.0",
          "state": {
            "_view_name": "StyleView",
            "_model_name": "DescriptionStyleModel",
            "description_width": "",
            "_view_module": "@jupyter-widgets/base",
            "_model_module_version": "1.5.0",
            "_view_count": null,
            "_view_module_version": "1.2.0",
            "_model_module": "@jupyter-widgets/controls"
          }
        },
        "63a0d850cb62424b8839d8e9ad2c0d35": {
          "model_module": "@jupyter-widgets/base",
          "model_name": "LayoutModel",
          "model_module_version": "1.2.0",
          "state": {
            "_view_name": "LayoutView",
            "grid_template_rows": null,
            "right": null,
            "justify_content": null,
            "_view_module": "@jupyter-widgets/base",
            "overflow": null,
            "_model_module_version": "1.2.0",
            "_view_count": null,
            "flex_flow": null,
            "width": null,
            "min_width": null,
            "border": null,
            "align_items": null,
            "bottom": null,
            "_model_module": "@jupyter-widgets/base",
            "top": null,
            "grid_column": null,
            "overflow_y": null,
            "overflow_x": null,
            "grid_auto_flow": null,
            "grid_area": null,
            "grid_template_columns": null,
            "flex": null,
            "_model_name": "LayoutModel",
            "justify_items": null,
            "grid_row": null,
            "max_height": null,
            "align_content": null,
            "visibility": null,
            "align_self": null,
            "height": null,
            "min_height": null,
            "padding": null,
            "grid_auto_rows": null,
            "grid_gap": null,
            "max_width": null,
            "order": null,
            "_view_module_version": "1.2.0",
            "grid_template_areas": null,
            "object_position": null,
            "object_fit": null,
            "grid_auto_columns": null,
            "margin": null,
            "display": null,
            "left": null
          }
        },
        "fc651dfa2783410ebf90591972d94e2d": {
          "model_module": "@jupyter-widgets/controls",
          "model_name": "ProgressStyleModel",
          "model_module_version": "1.5.0",
          "state": {
            "_view_name": "StyleView",
            "_model_name": "ProgressStyleModel",
            "description_width": "",
            "_view_module": "@jupyter-widgets/base",
            "_model_module_version": "1.5.0",
            "_view_count": null,
            "_view_module_version": "1.2.0",
            "bar_color": null,
            "_model_module": "@jupyter-widgets/controls"
          }
        },
        "a74b57607d6e40da911de104f39281ce": {
          "model_module": "@jupyter-widgets/base",
          "model_name": "LayoutModel",
          "model_module_version": "1.2.0",
          "state": {
            "_view_name": "LayoutView",
            "grid_template_rows": null,
            "right": null,
            "justify_content": null,
            "_view_module": "@jupyter-widgets/base",
            "overflow": null,
            "_model_module_version": "1.2.0",
            "_view_count": null,
            "flex_flow": null,
            "width": null,
            "min_width": null,
            "border": null,
            "align_items": null,
            "bottom": null,
            "_model_module": "@jupyter-widgets/base",
            "top": null,
            "grid_column": null,
            "overflow_y": null,
            "overflow_x": null,
            "grid_auto_flow": null,
            "grid_area": null,
            "grid_template_columns": null,
            "flex": null,
            "_model_name": "LayoutModel",
            "justify_items": null,
            "grid_row": null,
            "max_height": null,
            "align_content": null,
            "visibility": null,
            "align_self": null,
            "height": null,
            "min_height": null,
            "padding": null,
            "grid_auto_rows": null,
            "grid_gap": null,
            "max_width": null,
            "order": null,
            "_view_module_version": "1.2.0",
            "grid_template_areas": null,
            "object_position": null,
            "object_fit": null,
            "grid_auto_columns": null,
            "margin": null,
            "display": null,
            "left": null
          }
        },
        "221676806b9c47d493d5033caad5d4da": {
          "model_module": "@jupyter-widgets/controls",
          "model_name": "DescriptionStyleModel",
          "model_module_version": "1.5.0",
          "state": {
            "_view_name": "StyleView",
            "_model_name": "DescriptionStyleModel",
            "description_width": "",
            "_view_module": "@jupyter-widgets/base",
            "_model_module_version": "1.5.0",
            "_view_count": null,
            "_view_module_version": "1.2.0",
            "_model_module": "@jupyter-widgets/controls"
          }
        },
        "333c2e8e84424bff92d6ae3eea4d28a4": {
          "model_module": "@jupyter-widgets/base",
          "model_name": "LayoutModel",
          "model_module_version": "1.2.0",
          "state": {
            "_view_name": "LayoutView",
            "grid_template_rows": null,
            "right": null,
            "justify_content": null,
            "_view_module": "@jupyter-widgets/base",
            "overflow": null,
            "_model_module_version": "1.2.0",
            "_view_count": null,
            "flex_flow": null,
            "width": null,
            "min_width": null,
            "border": null,
            "align_items": null,
            "bottom": null,
            "_model_module": "@jupyter-widgets/base",
            "top": null,
            "grid_column": null,
            "overflow_y": null,
            "overflow_x": null,
            "grid_auto_flow": null,
            "grid_area": null,
            "grid_template_columns": null,
            "flex": null,
            "_model_name": "LayoutModel",
            "justify_items": null,
            "grid_row": null,
            "max_height": null,
            "align_content": null,
            "visibility": null,
            "align_self": null,
            "height": null,
            "min_height": null,
            "padding": null,
            "grid_auto_rows": null,
            "grid_gap": null,
            "max_width": null,
            "order": null,
            "_view_module_version": "1.2.0",
            "grid_template_areas": null,
            "object_position": null,
            "object_fit": null,
            "grid_auto_columns": null,
            "margin": null,
            "display": null,
            "left": null
          }
        },
        "1eeeddbf3f3f4e2fbd3dda8155d105a3": {
          "model_module": "@jupyter-widgets/controls",
          "model_name": "HBoxModel",
          "model_module_version": "1.5.0",
          "state": {
            "_view_name": "HBoxView",
            "_dom_classes": [],
            "_model_name": "HBoxModel",
            "_view_module": "@jupyter-widgets/controls",
            "_model_module_version": "1.5.0",
            "_view_count": null,
            "_view_module_version": "1.5.0",
            "box_style": "",
            "layout": "IPY_MODEL_c7e8521bcbee4e35b9a8258d0244be92",
            "_model_module": "@jupyter-widgets/controls",
            "children": [
              "IPY_MODEL_ced7bb40aea44c67ac4dd4ff72c25333",
              "IPY_MODEL_ecfe6ef65465411899db650fe69d86b4",
              "IPY_MODEL_3922955994374b1fbf920333c737dbd5"
            ]
          }
        },
        "c7e8521bcbee4e35b9a8258d0244be92": {
          "model_module": "@jupyter-widgets/base",
          "model_name": "LayoutModel",
          "model_module_version": "1.2.0",
          "state": {
            "_view_name": "LayoutView",
            "grid_template_rows": null,
            "right": null,
            "justify_content": null,
            "_view_module": "@jupyter-widgets/base",
            "overflow": null,
            "_model_module_version": "1.2.0",
            "_view_count": null,
            "flex_flow": null,
            "width": null,
            "min_width": null,
            "border": null,
            "align_items": null,
            "bottom": null,
            "_model_module": "@jupyter-widgets/base",
            "top": null,
            "grid_column": null,
            "overflow_y": null,
            "overflow_x": null,
            "grid_auto_flow": null,
            "grid_area": null,
            "grid_template_columns": null,
            "flex": null,
            "_model_name": "LayoutModel",
            "justify_items": null,
            "grid_row": null,
            "max_height": null,
            "align_content": null,
            "visibility": null,
            "align_self": null,
            "height": null,
            "min_height": null,
            "padding": null,
            "grid_auto_rows": null,
            "grid_gap": null,
            "max_width": null,
            "order": null,
            "_view_module_version": "1.2.0",
            "grid_template_areas": null,
            "object_position": null,
            "object_fit": null,
            "grid_auto_columns": null,
            "margin": null,
            "display": null,
            "left": null
          }
        },
        "ced7bb40aea44c67ac4dd4ff72c25333": {
          "model_module": "@jupyter-widgets/controls",
          "model_name": "HTMLModel",
          "model_module_version": "1.5.0",
          "state": {
            "_view_name": "HTMLView",
            "style": "IPY_MODEL_3ce9a93fcd1d40eab41d368144078254",
            "_dom_classes": [],
            "description": "",
            "_model_name": "HTMLModel",
            "placeholder": "​",
            "_view_module": "@jupyter-widgets/controls",
            "_model_module_version": "1.5.0",
            "value": "",
            "_view_count": null,
            "_view_module_version": "1.5.0",
            "description_tooltip": null,
            "_model_module": "@jupyter-widgets/controls",
            "layout": "IPY_MODEL_c569fc63c46943fba55235069874bf0d"
          }
        },
        "ecfe6ef65465411899db650fe69d86b4": {
          "model_module": "@jupyter-widgets/controls",
          "model_name": "FloatProgressModel",
          "model_module_version": "1.5.0",
          "state": {
            "_view_name": "ProgressView",
            "style": "IPY_MODEL_2230f8a82f82477bbe3857a24a9adbda",
            "_dom_classes": [],
            "description": "",
            "_model_name": "FloatProgressModel",
            "bar_style": "success",
            "max": 1648877,
            "_view_module": "@jupyter-widgets/controls",
            "_model_module_version": "1.5.0",
            "value": 1648877,
            "_view_count": null,
            "_view_module_version": "1.5.0",
            "orientation": "horizontal",
            "min": 0,
            "description_tooltip": null,
            "_model_module": "@jupyter-widgets/controls",
            "layout": "IPY_MODEL_ab316bffc3f84e26bf20499019501cc7"
          }
        },
        "3922955994374b1fbf920333c737dbd5": {
          "model_module": "@jupyter-widgets/controls",
          "model_name": "HTMLModel",
          "model_module_version": "1.5.0",
          "state": {
            "_view_name": "HTMLView",
            "style": "IPY_MODEL_19a531bb6ae64026813f2afc65038986",
            "_dom_classes": [],
            "description": "",
            "_model_name": "HTMLModel",
            "placeholder": "​",
            "_view_module": "@jupyter-widgets/controls",
            "_model_module_version": "1.5.0",
            "value": " 1649664/? [00:00&lt;00:00, 7332763.64it/s]",
            "_view_count": null,
            "_view_module_version": "1.5.0",
            "description_tooltip": null,
            "_model_module": "@jupyter-widgets/controls",
            "layout": "IPY_MODEL_756abf1dae3546229070150ddc6f2c4a"
          }
        },
        "3ce9a93fcd1d40eab41d368144078254": {
          "model_module": "@jupyter-widgets/controls",
          "model_name": "DescriptionStyleModel",
          "model_module_version": "1.5.0",
          "state": {
            "_view_name": "StyleView",
            "_model_name": "DescriptionStyleModel",
            "description_width": "",
            "_view_module": "@jupyter-widgets/base",
            "_model_module_version": "1.5.0",
            "_view_count": null,
            "_view_module_version": "1.2.0",
            "_model_module": "@jupyter-widgets/controls"
          }
        },
        "c569fc63c46943fba55235069874bf0d": {
          "model_module": "@jupyter-widgets/base",
          "model_name": "LayoutModel",
          "model_module_version": "1.2.0",
          "state": {
            "_view_name": "LayoutView",
            "grid_template_rows": null,
            "right": null,
            "justify_content": null,
            "_view_module": "@jupyter-widgets/base",
            "overflow": null,
            "_model_module_version": "1.2.0",
            "_view_count": null,
            "flex_flow": null,
            "width": null,
            "min_width": null,
            "border": null,
            "align_items": null,
            "bottom": null,
            "_model_module": "@jupyter-widgets/base",
            "top": null,
            "grid_column": null,
            "overflow_y": null,
            "overflow_x": null,
            "grid_auto_flow": null,
            "grid_area": null,
            "grid_template_columns": null,
            "flex": null,
            "_model_name": "LayoutModel",
            "justify_items": null,
            "grid_row": null,
            "max_height": null,
            "align_content": null,
            "visibility": null,
            "align_self": null,
            "height": null,
            "min_height": null,
            "padding": null,
            "grid_auto_rows": null,
            "grid_gap": null,
            "max_width": null,
            "order": null,
            "_view_module_version": "1.2.0",
            "grid_template_areas": null,
            "object_position": null,
            "object_fit": null,
            "grid_auto_columns": null,
            "margin": null,
            "display": null,
            "left": null
          }
        },
        "2230f8a82f82477bbe3857a24a9adbda": {
          "model_module": "@jupyter-widgets/controls",
          "model_name": "ProgressStyleModel",
          "model_module_version": "1.5.0",
          "state": {
            "_view_name": "StyleView",
            "_model_name": "ProgressStyleModel",
            "description_width": "",
            "_view_module": "@jupyter-widgets/base",
            "_model_module_version": "1.5.0",
            "_view_count": null,
            "_view_module_version": "1.2.0",
            "bar_color": null,
            "_model_module": "@jupyter-widgets/controls"
          }
        },
        "ab316bffc3f84e26bf20499019501cc7": {
          "model_module": "@jupyter-widgets/base",
          "model_name": "LayoutModel",
          "model_module_version": "1.2.0",
          "state": {
            "_view_name": "LayoutView",
            "grid_template_rows": null,
            "right": null,
            "justify_content": null,
            "_view_module": "@jupyter-widgets/base",
            "overflow": null,
            "_model_module_version": "1.2.0",
            "_view_count": null,
            "flex_flow": null,
            "width": null,
            "min_width": null,
            "border": null,
            "align_items": null,
            "bottom": null,
            "_model_module": "@jupyter-widgets/base",
            "top": null,
            "grid_column": null,
            "overflow_y": null,
            "overflow_x": null,
            "grid_auto_flow": null,
            "grid_area": null,
            "grid_template_columns": null,
            "flex": null,
            "_model_name": "LayoutModel",
            "justify_items": null,
            "grid_row": null,
            "max_height": null,
            "align_content": null,
            "visibility": null,
            "align_self": null,
            "height": null,
            "min_height": null,
            "padding": null,
            "grid_auto_rows": null,
            "grid_gap": null,
            "max_width": null,
            "order": null,
            "_view_module_version": "1.2.0",
            "grid_template_areas": null,
            "object_position": null,
            "object_fit": null,
            "grid_auto_columns": null,
            "margin": null,
            "display": null,
            "left": null
          }
        },
        "19a531bb6ae64026813f2afc65038986": {
          "model_module": "@jupyter-widgets/controls",
          "model_name": "DescriptionStyleModel",
          "model_module_version": "1.5.0",
          "state": {
            "_view_name": "StyleView",
            "_model_name": "DescriptionStyleModel",
            "description_width": "",
            "_view_module": "@jupyter-widgets/base",
            "_model_module_version": "1.5.0",
            "_view_count": null,
            "_view_module_version": "1.2.0",
            "_model_module": "@jupyter-widgets/controls"
          }
        },
        "756abf1dae3546229070150ddc6f2c4a": {
          "model_module": "@jupyter-widgets/base",
          "model_name": "LayoutModel",
          "model_module_version": "1.2.0",
          "state": {
            "_view_name": "LayoutView",
            "grid_template_rows": null,
            "right": null,
            "justify_content": null,
            "_view_module": "@jupyter-widgets/base",
            "overflow": null,
            "_model_module_version": "1.2.0",
            "_view_count": null,
            "flex_flow": null,
            "width": null,
            "min_width": null,
            "border": null,
            "align_items": null,
            "bottom": null,
            "_model_module": "@jupyter-widgets/base",
            "top": null,
            "grid_column": null,
            "overflow_y": null,
            "overflow_x": null,
            "grid_auto_flow": null,
            "grid_area": null,
            "grid_template_columns": null,
            "flex": null,
            "_model_name": "LayoutModel",
            "justify_items": null,
            "grid_row": null,
            "max_height": null,
            "align_content": null,
            "visibility": null,
            "align_self": null,
            "height": null,
            "min_height": null,
            "padding": null,
            "grid_auto_rows": null,
            "grid_gap": null,
            "max_width": null,
            "order": null,
            "_view_module_version": "1.2.0",
            "grid_template_areas": null,
            "object_position": null,
            "object_fit": null,
            "grid_auto_columns": null,
            "margin": null,
            "display": null,
            "left": null
          }
        },
        "9af4937f99c14845b6bed86c2d60ecc2": {
          "model_module": "@jupyter-widgets/controls",
          "model_name": "HBoxModel",
          "model_module_version": "1.5.0",
          "state": {
            "_view_name": "HBoxView",
            "_dom_classes": [],
            "_model_name": "HBoxModel",
            "_view_module": "@jupyter-widgets/controls",
            "_model_module_version": "1.5.0",
            "_view_count": null,
            "_view_module_version": "1.5.0",
            "box_style": "",
            "layout": "IPY_MODEL_f97c57bd5eef48489d340d032164e0d7",
            "_model_module": "@jupyter-widgets/controls",
            "children": [
              "IPY_MODEL_acb52b7a2dc74b468487d4b10670e6c4",
              "IPY_MODEL_fabbfc2e318844ff8de98149c720e489",
              "IPY_MODEL_a97012d9dae0405bb7a1e18855cc222a"
            ]
          }
        },
        "f97c57bd5eef48489d340d032164e0d7": {
          "model_module": "@jupyter-widgets/base",
          "model_name": "LayoutModel",
          "model_module_version": "1.2.0",
          "state": {
            "_view_name": "LayoutView",
            "grid_template_rows": null,
            "right": null,
            "justify_content": null,
            "_view_module": "@jupyter-widgets/base",
            "overflow": null,
            "_model_module_version": "1.2.0",
            "_view_count": null,
            "flex_flow": null,
            "width": null,
            "min_width": null,
            "border": null,
            "align_items": null,
            "bottom": null,
            "_model_module": "@jupyter-widgets/base",
            "top": null,
            "grid_column": null,
            "overflow_y": null,
            "overflow_x": null,
            "grid_auto_flow": null,
            "grid_area": null,
            "grid_template_columns": null,
            "flex": null,
            "_model_name": "LayoutModel",
            "justify_items": null,
            "grid_row": null,
            "max_height": null,
            "align_content": null,
            "visibility": null,
            "align_self": null,
            "height": null,
            "min_height": null,
            "padding": null,
            "grid_auto_rows": null,
            "grid_gap": null,
            "max_width": null,
            "order": null,
            "_view_module_version": "1.2.0",
            "grid_template_areas": null,
            "object_position": null,
            "object_fit": null,
            "grid_auto_columns": null,
            "margin": null,
            "display": null,
            "left": null
          }
        },
        "acb52b7a2dc74b468487d4b10670e6c4": {
          "model_module": "@jupyter-widgets/controls",
          "model_name": "HTMLModel",
          "model_module_version": "1.5.0",
          "state": {
            "_view_name": "HTMLView",
            "style": "IPY_MODEL_fc837458c8f04f12a0a37ef0bd6bd05e",
            "_dom_classes": [],
            "description": "",
            "_model_name": "HTMLModel",
            "placeholder": "​",
            "_view_module": "@jupyter-widgets/controls",
            "_model_module_version": "1.5.0",
            "value": "",
            "_view_count": null,
            "_view_module_version": "1.5.0",
            "description_tooltip": null,
            "_model_module": "@jupyter-widgets/controls",
            "layout": "IPY_MODEL_073d88b767e240e6aa6eb0923663a176"
          }
        },
        "fabbfc2e318844ff8de98149c720e489": {
          "model_module": "@jupyter-widgets/controls",
          "model_name": "FloatProgressModel",
          "model_module_version": "1.5.0",
          "state": {
            "_view_name": "ProgressView",
            "style": "IPY_MODEL_ecabe5d9342d481a81ef52aa75c61b71",
            "_dom_classes": [],
            "description": "",
            "_model_name": "FloatProgressModel",
            "bar_style": "success",
            "max": 4542,
            "_view_module": "@jupyter-widgets/controls",
            "_model_module_version": "1.5.0",
            "value": 4542,
            "_view_count": null,
            "_view_module_version": "1.5.0",
            "orientation": "horizontal",
            "min": 0,
            "description_tooltip": null,
            "_model_module": "@jupyter-widgets/controls",
            "layout": "IPY_MODEL_bf1ad1e7ed7a4f5daf92cf0e4f105661"
          }
        },
        "a97012d9dae0405bb7a1e18855cc222a": {
          "model_module": "@jupyter-widgets/controls",
          "model_name": "HTMLModel",
          "model_module_version": "1.5.0",
          "state": {
            "_view_name": "HTMLView",
            "style": "IPY_MODEL_559ea27907ef4f26bac1ff35a43bea5f",
            "_dom_classes": [],
            "description": "",
            "_model_name": "HTMLModel",
            "placeholder": "​",
            "_view_module": "@jupyter-widgets/controls",
            "_model_module_version": "1.5.0",
            "value": " 5120/? [00:00&lt;00:00, 231113.51it/s]",
            "_view_count": null,
            "_view_module_version": "1.5.0",
            "description_tooltip": null,
            "_model_module": "@jupyter-widgets/controls",
            "layout": "IPY_MODEL_637462648c644f3db51fb9047cc6d51c"
          }
        },
        "fc837458c8f04f12a0a37ef0bd6bd05e": {
          "model_module": "@jupyter-widgets/controls",
          "model_name": "DescriptionStyleModel",
          "model_module_version": "1.5.0",
          "state": {
            "_view_name": "StyleView",
            "_model_name": "DescriptionStyleModel",
            "description_width": "",
            "_view_module": "@jupyter-widgets/base",
            "_model_module_version": "1.5.0",
            "_view_count": null,
            "_view_module_version": "1.2.0",
            "_model_module": "@jupyter-widgets/controls"
          }
        },
        "073d88b767e240e6aa6eb0923663a176": {
          "model_module": "@jupyter-widgets/base",
          "model_name": "LayoutModel",
          "model_module_version": "1.2.0",
          "state": {
            "_view_name": "LayoutView",
            "grid_template_rows": null,
            "right": null,
            "justify_content": null,
            "_view_module": "@jupyter-widgets/base",
            "overflow": null,
            "_model_module_version": "1.2.0",
            "_view_count": null,
            "flex_flow": null,
            "width": null,
            "min_width": null,
            "border": null,
            "align_items": null,
            "bottom": null,
            "_model_module": "@jupyter-widgets/base",
            "top": null,
            "grid_column": null,
            "overflow_y": null,
            "overflow_x": null,
            "grid_auto_flow": null,
            "grid_area": null,
            "grid_template_columns": null,
            "flex": null,
            "_model_name": "LayoutModel",
            "justify_items": null,
            "grid_row": null,
            "max_height": null,
            "align_content": null,
            "visibility": null,
            "align_self": null,
            "height": null,
            "min_height": null,
            "padding": null,
            "grid_auto_rows": null,
            "grid_gap": null,
            "max_width": null,
            "order": null,
            "_view_module_version": "1.2.0",
            "grid_template_areas": null,
            "object_position": null,
            "object_fit": null,
            "grid_auto_columns": null,
            "margin": null,
            "display": null,
            "left": null
          }
        },
        "ecabe5d9342d481a81ef52aa75c61b71": {
          "model_module": "@jupyter-widgets/controls",
          "model_name": "ProgressStyleModel",
          "model_module_version": "1.5.0",
          "state": {
            "_view_name": "StyleView",
            "_model_name": "ProgressStyleModel",
            "description_width": "",
            "_view_module": "@jupyter-widgets/base",
            "_model_module_version": "1.5.0",
            "_view_count": null,
            "_view_module_version": "1.2.0",
            "bar_color": null,
            "_model_module": "@jupyter-widgets/controls"
          }
        },
        "bf1ad1e7ed7a4f5daf92cf0e4f105661": {
          "model_module": "@jupyter-widgets/base",
          "model_name": "LayoutModel",
          "model_module_version": "1.2.0",
          "state": {
            "_view_name": "LayoutView",
            "grid_template_rows": null,
            "right": null,
            "justify_content": null,
            "_view_module": "@jupyter-widgets/base",
            "overflow": null,
            "_model_module_version": "1.2.0",
            "_view_count": null,
            "flex_flow": null,
            "width": null,
            "min_width": null,
            "border": null,
            "align_items": null,
            "bottom": null,
            "_model_module": "@jupyter-widgets/base",
            "top": null,
            "grid_column": null,
            "overflow_y": null,
            "overflow_x": null,
            "grid_auto_flow": null,
            "grid_area": null,
            "grid_template_columns": null,
            "flex": null,
            "_model_name": "LayoutModel",
            "justify_items": null,
            "grid_row": null,
            "max_height": null,
            "align_content": null,
            "visibility": null,
            "align_self": null,
            "height": null,
            "min_height": null,
            "padding": null,
            "grid_auto_rows": null,
            "grid_gap": null,
            "max_width": null,
            "order": null,
            "_view_module_version": "1.2.0",
            "grid_template_areas": null,
            "object_position": null,
            "object_fit": null,
            "grid_auto_columns": null,
            "margin": null,
            "display": null,
            "left": null
          }
        },
        "559ea27907ef4f26bac1ff35a43bea5f": {
          "model_module": "@jupyter-widgets/controls",
          "model_name": "DescriptionStyleModel",
          "model_module_version": "1.5.0",
          "state": {
            "_view_name": "StyleView",
            "_model_name": "DescriptionStyleModel",
            "description_width": "",
            "_view_module": "@jupyter-widgets/base",
            "_model_module_version": "1.5.0",
            "_view_count": null,
            "_view_module_version": "1.2.0",
            "_model_module": "@jupyter-widgets/controls"
          }
        },
        "637462648c644f3db51fb9047cc6d51c": {
          "model_module": "@jupyter-widgets/base",
          "model_name": "LayoutModel",
          "model_module_version": "1.2.0",
          "state": {
            "_view_name": "LayoutView",
            "grid_template_rows": null,
            "right": null,
            "justify_content": null,
            "_view_module": "@jupyter-widgets/base",
            "overflow": null,
            "_model_module_version": "1.2.0",
            "_view_count": null,
            "flex_flow": null,
            "width": null,
            "min_width": null,
            "border": null,
            "align_items": null,
            "bottom": null,
            "_model_module": "@jupyter-widgets/base",
            "top": null,
            "grid_column": null,
            "overflow_y": null,
            "overflow_x": null,
            "grid_auto_flow": null,
            "grid_area": null,
            "grid_template_columns": null,
            "flex": null,
            "_model_name": "LayoutModel",
            "justify_items": null,
            "grid_row": null,
            "max_height": null,
            "align_content": null,
            "visibility": null,
            "align_self": null,
            "height": null,
            "min_height": null,
            "padding": null,
            "grid_auto_rows": null,
            "grid_gap": null,
            "max_width": null,
            "order": null,
            "_view_module_version": "1.2.0",
            "grid_template_areas": null,
            "object_position": null,
            "object_fit": null,
            "grid_auto_columns": null,
            "margin": null,
            "display": null,
            "left": null
          }
        }
      }
    }
  },
  "nbformat": 4,
  "nbformat_minor": 5
}