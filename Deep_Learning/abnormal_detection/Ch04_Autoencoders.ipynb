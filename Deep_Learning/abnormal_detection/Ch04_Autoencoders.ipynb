{
 "cells": [
  {
   "cell_type": "code",
   "execution_count": 1,
   "id": "9b01006b",
   "metadata": {},
   "outputs": [],
   "source": [
    "import seaborn as sns\n",
    "import pandas as pd\n",
    "import numpy as np\n",
    "\n",
    "import matplotlib.pyplot as plt\n",
    "import matplotlib.gridspec as gridspec"
   ]
  },
  {
   "cell_type": "code",
   "execution_count": 2,
   "id": "7f4f8fb7",
   "metadata": {},
   "outputs": [],
   "source": [
    "from sklearn.preprocessing import StandardScaler\n",
    "from sklearn.model_selection import train_test_split\n",
    "from sklearn.metrics import confusion_matrix, roc_auc_score\n",
    "from sklearn.preprocessing import MinMaxScaler\n",
    "from sklearn.metrics import classification_report"
   ]
  },
  {
   "cell_type": "code",
   "execution_count": 3,
   "id": "4b8ce61d",
   "metadata": {},
   "outputs": [],
   "source": [
    "from tensorflow.keras import optimizers, losses, layers, callbacks, preprocessing\n",
    "from tensorflow.keras.models import Sequential, Model\n",
    "from tensorflow.keras.layers import Dense, Input, Dropout, Embedding, LSTM\n",
    "from tensorflow.keras.optimizers import RMSprop, Adam, Nadam\n",
    "from tensorflow.keras.preprocessing import sequence\n",
    "from tensorflow.keras.callbacks import TensorBoard"
   ]
  },
  {
   "cell_type": "code",
   "execution_count": 4,
   "id": "be7e74c5",
   "metadata": {},
   "outputs": [],
   "source": [
    "class Visualization:\n",
    "    labels = [\"Normal\", \"Anomaly\"]\n",
    "\n",
    "    def draw_confusion_matrix(self, y, ypred):\n",
    "        matrix = confusion_matrix(y, ypred)\n",
    "\n",
    "        plt.figure(figsize=(10, 8))\n",
    "        colors=[ \"orange\",\"green\"]\n",
    "        sns.heatmap(matrix, xticklabels=self.labels, yticklabels=self.labels, cmap=colors, annot=True, fmt=\"d\")\n",
    "        plt.title(\"Confusion Matrix\")\n",
    "        plt.ylabel('Actual')\n",
    "        plt.xlabel('Predicted')\n",
    "        plt.show()\n",
    "\n",
    "\n",
    "    def draw_anomaly(self, y, error, threshold):\n",
    "        groupsDF = pd.DataFrame({'error': error,\n",
    "                                 'true': y}).groupby('true')\n",
    "\n",
    "        figure, axes = plt.subplots(figsize=(12, 8))\n",
    "\n",
    "        for name, group in groupsDF:\n",
    "            axes.plot(group.index, group.error, marker='x' if name == 1 else 'o', linestyle='',\n",
    "                    color='r' if name == 1 else 'g', label=\"Anomaly\" if name == 1 else \"Normal\")\n",
    "\n",
    "        axes.hlines(threshold, axes.get_xlim()[0], axes.get_xlim()[1], colors=\"b\", zorder=100, label='Threshold')\n",
    "        axes.legend()\n",
    "        \n",
    "        plt.title(\"Anomalies\")\n",
    "        plt.ylabel(\"Error\")\n",
    "        plt.xlabel(\"Data\")\n",
    "        plt.show()\n",
    "\n",
    "    def draw_error(self, error, threshold):\n",
    "            plt.plot(error, marker='o', ms=3.5, linestyle='',\n",
    "                     label='Point')\n",
    "\n",
    "            plt.hlines(threshold, xmin=0, xmax=len(error)-1, colors=\"b\", zorder=100, label='Threshold')\n",
    "            plt.legend()\n",
    "            plt.title(\"Reconstruction error\")\n",
    "            plt.ylabel(\"Error\")\n",
    "            plt.xlabel(\"Data\")\n",
    "            plt.show()"
   ]
  },
  {
   "cell_type": "code",
   "execution_count": 5,
   "id": "4c04c836",
   "metadata": {},
   "outputs": [
    {
     "name": "stdout",
     "output_type": "stream",
     "text": [
      "(284807, 31)\n"
     ]
    },
    {
     "data": {
      "text/html": [
       "<div>\n",
       "<style scoped>\n",
       "    .dataframe tbody tr th:only-of-type {\n",
       "        vertical-align: middle;\n",
       "    }\n",
       "\n",
       "    .dataframe tbody tr th {\n",
       "        vertical-align: top;\n",
       "    }\n",
       "\n",
       "    .dataframe thead th {\n",
       "        text-align: right;\n",
       "    }\n",
       "</style>\n",
       "<table border=\"1\" class=\"dataframe\">\n",
       "  <thead>\n",
       "    <tr style=\"text-align: right;\">\n",
       "      <th></th>\n",
       "      <th>Time</th>\n",
       "      <th>V1</th>\n",
       "      <th>V2</th>\n",
       "      <th>V3</th>\n",
       "      <th>V4</th>\n",
       "      <th>V5</th>\n",
       "      <th>V6</th>\n",
       "      <th>V7</th>\n",
       "      <th>V8</th>\n",
       "      <th>V9</th>\n",
       "      <th>...</th>\n",
       "      <th>V21</th>\n",
       "      <th>V22</th>\n",
       "      <th>V23</th>\n",
       "      <th>V24</th>\n",
       "      <th>V25</th>\n",
       "      <th>V26</th>\n",
       "      <th>V27</th>\n",
       "      <th>V28</th>\n",
       "      <th>Amount</th>\n",
       "      <th>Class</th>\n",
       "    </tr>\n",
       "  </thead>\n",
       "  <tbody>\n",
       "    <tr>\n",
       "      <th>0</th>\n",
       "      <td>0.0</td>\n",
       "      <td>-1.359807</td>\n",
       "      <td>-0.072781</td>\n",
       "      <td>2.536347</td>\n",
       "      <td>1.378155</td>\n",
       "      <td>-0.338321</td>\n",
       "      <td>0.462388</td>\n",
       "      <td>0.239599</td>\n",
       "      <td>0.098698</td>\n",
       "      <td>0.363787</td>\n",
       "      <td>...</td>\n",
       "      <td>-0.018307</td>\n",
       "      <td>0.277838</td>\n",
       "      <td>-0.110474</td>\n",
       "      <td>0.066928</td>\n",
       "      <td>0.128539</td>\n",
       "      <td>-0.189115</td>\n",
       "      <td>0.133558</td>\n",
       "      <td>-0.021053</td>\n",
       "      <td>149.62</td>\n",
       "      <td>0</td>\n",
       "    </tr>\n",
       "    <tr>\n",
       "      <th>1</th>\n",
       "      <td>0.0</td>\n",
       "      <td>1.191857</td>\n",
       "      <td>0.266151</td>\n",
       "      <td>0.166480</td>\n",
       "      <td>0.448154</td>\n",
       "      <td>0.060018</td>\n",
       "      <td>-0.082361</td>\n",
       "      <td>-0.078803</td>\n",
       "      <td>0.085102</td>\n",
       "      <td>-0.255425</td>\n",
       "      <td>...</td>\n",
       "      <td>-0.225775</td>\n",
       "      <td>-0.638672</td>\n",
       "      <td>0.101288</td>\n",
       "      <td>-0.339846</td>\n",
       "      <td>0.167170</td>\n",
       "      <td>0.125895</td>\n",
       "      <td>-0.008983</td>\n",
       "      <td>0.014724</td>\n",
       "      <td>2.69</td>\n",
       "      <td>0</td>\n",
       "    </tr>\n",
       "    <tr>\n",
       "      <th>2</th>\n",
       "      <td>1.0</td>\n",
       "      <td>-1.358354</td>\n",
       "      <td>-1.340163</td>\n",
       "      <td>1.773209</td>\n",
       "      <td>0.379780</td>\n",
       "      <td>-0.503198</td>\n",
       "      <td>1.800499</td>\n",
       "      <td>0.791461</td>\n",
       "      <td>0.247676</td>\n",
       "      <td>-1.514654</td>\n",
       "      <td>...</td>\n",
       "      <td>0.247998</td>\n",
       "      <td>0.771679</td>\n",
       "      <td>0.909412</td>\n",
       "      <td>-0.689281</td>\n",
       "      <td>-0.327642</td>\n",
       "      <td>-0.139097</td>\n",
       "      <td>-0.055353</td>\n",
       "      <td>-0.059752</td>\n",
       "      <td>378.66</td>\n",
       "      <td>0</td>\n",
       "    </tr>\n",
       "    <tr>\n",
       "      <th>3</th>\n",
       "      <td>1.0</td>\n",
       "      <td>-0.966272</td>\n",
       "      <td>-0.185226</td>\n",
       "      <td>1.792993</td>\n",
       "      <td>-0.863291</td>\n",
       "      <td>-0.010309</td>\n",
       "      <td>1.247203</td>\n",
       "      <td>0.237609</td>\n",
       "      <td>0.377436</td>\n",
       "      <td>-1.387024</td>\n",
       "      <td>...</td>\n",
       "      <td>-0.108300</td>\n",
       "      <td>0.005274</td>\n",
       "      <td>-0.190321</td>\n",
       "      <td>-1.175575</td>\n",
       "      <td>0.647376</td>\n",
       "      <td>-0.221929</td>\n",
       "      <td>0.062723</td>\n",
       "      <td>0.061458</td>\n",
       "      <td>123.50</td>\n",
       "      <td>0</td>\n",
       "    </tr>\n",
       "    <tr>\n",
       "      <th>4</th>\n",
       "      <td>2.0</td>\n",
       "      <td>-1.158233</td>\n",
       "      <td>0.877737</td>\n",
       "      <td>1.548718</td>\n",
       "      <td>0.403034</td>\n",
       "      <td>-0.407193</td>\n",
       "      <td>0.095921</td>\n",
       "      <td>0.592941</td>\n",
       "      <td>-0.270533</td>\n",
       "      <td>0.817739</td>\n",
       "      <td>...</td>\n",
       "      <td>-0.009431</td>\n",
       "      <td>0.798278</td>\n",
       "      <td>-0.137458</td>\n",
       "      <td>0.141267</td>\n",
       "      <td>-0.206010</td>\n",
       "      <td>0.502292</td>\n",
       "      <td>0.219422</td>\n",
       "      <td>0.215153</td>\n",
       "      <td>69.99</td>\n",
       "      <td>0</td>\n",
       "    </tr>\n",
       "  </tbody>\n",
       "</table>\n",
       "<p>5 rows × 31 columns</p>\n",
       "</div>"
      ],
      "text/plain": [
       "   Time        V1        V2        V3        V4        V5        V6        V7  \\\n",
       "0   0.0 -1.359807 -0.072781  2.536347  1.378155 -0.338321  0.462388  0.239599   \n",
       "1   0.0  1.191857  0.266151  0.166480  0.448154  0.060018 -0.082361 -0.078803   \n",
       "2   1.0 -1.358354 -1.340163  1.773209  0.379780 -0.503198  1.800499  0.791461   \n",
       "3   1.0 -0.966272 -0.185226  1.792993 -0.863291 -0.010309  1.247203  0.237609   \n",
       "4   2.0 -1.158233  0.877737  1.548718  0.403034 -0.407193  0.095921  0.592941   \n",
       "\n",
       "         V8        V9  ...       V21       V22       V23       V24       V25  \\\n",
       "0  0.098698  0.363787  ... -0.018307  0.277838 -0.110474  0.066928  0.128539   \n",
       "1  0.085102 -0.255425  ... -0.225775 -0.638672  0.101288 -0.339846  0.167170   \n",
       "2  0.247676 -1.514654  ...  0.247998  0.771679  0.909412 -0.689281 -0.327642   \n",
       "3  0.377436 -1.387024  ... -0.108300  0.005274 -0.190321 -1.175575  0.647376   \n",
       "4 -0.270533  0.817739  ... -0.009431  0.798278 -0.137458  0.141267 -0.206010   \n",
       "\n",
       "        V26       V27       V28  Amount  Class  \n",
       "0 -0.189115  0.133558 -0.021053  149.62      0  \n",
       "1  0.125895 -0.008983  0.014724    2.69      0  \n",
       "2 -0.139097 -0.055353 -0.059752  378.66      0  \n",
       "3 -0.221929  0.062723  0.061458  123.50      0  \n",
       "4  0.502292  0.219422  0.215153   69.99      0  \n",
       "\n",
       "[5 rows x 31 columns]"
      ]
     },
     "execution_count": 5,
     "metadata": {},
     "output_type": "execute_result"
    }
   ],
   "source": [
    "df = pd.read_csv('data/creditcard.csv', header = 0, sep = ',')\n",
    "print(df.shape)\n",
    "df.head()"
   ]
  },
  {
   "cell_type": "code",
   "execution_count": 6,
   "id": "4b1c4e23",
   "metadata": {},
   "outputs": [
    {
     "data": {
      "text/plain": [
       "0    284315\n",
       "1       492\n",
       "Name: Class, dtype: int64"
      ]
     },
     "execution_count": 6,
     "metadata": {},
     "output_type": "execute_result"
    }
   ],
   "source": [
    "df['Class'].value_counts()"
   ]
  },
  {
   "cell_type": "code",
   "execution_count": 7,
   "id": "46d3e656",
   "metadata": {},
   "outputs": [],
   "source": [
    "df['Amount'] = StandardScaler().fit_transform(df['Amount'].values.reshape(-1, 1))\n",
    "df0 = df.query('Class == 0').sample(20000)\n",
    "df1 = df.query('Class == 1').sample(400)\n",
    "df = pd.concat([df0, df1])"
   ]
  },
  {
   "cell_type": "code",
   "execution_count": 8,
   "id": "8fd9a3b3",
   "metadata": {},
   "outputs": [
    {
     "data": {
      "text/html": [
       "<div>\n",
       "<style scoped>\n",
       "    .dataframe tbody tr th:only-of-type {\n",
       "        vertical-align: middle;\n",
       "    }\n",
       "\n",
       "    .dataframe tbody tr th {\n",
       "        vertical-align: top;\n",
       "    }\n",
       "\n",
       "    .dataframe thead th {\n",
       "        text-align: right;\n",
       "    }\n",
       "</style>\n",
       "<table border=\"1\" class=\"dataframe\">\n",
       "  <thead>\n",
       "    <tr style=\"text-align: right;\">\n",
       "      <th></th>\n",
       "      <th>Time</th>\n",
       "      <th>V1</th>\n",
       "      <th>V2</th>\n",
       "      <th>V3</th>\n",
       "      <th>V4</th>\n",
       "      <th>V5</th>\n",
       "      <th>V6</th>\n",
       "      <th>V7</th>\n",
       "      <th>V8</th>\n",
       "      <th>V9</th>\n",
       "      <th>...</th>\n",
       "      <th>V21</th>\n",
       "      <th>V22</th>\n",
       "      <th>V23</th>\n",
       "      <th>V24</th>\n",
       "      <th>V25</th>\n",
       "      <th>V26</th>\n",
       "      <th>V27</th>\n",
       "      <th>V28</th>\n",
       "      <th>Amount</th>\n",
       "      <th>Class</th>\n",
       "    </tr>\n",
       "  </thead>\n",
       "  <tbody>\n",
       "    <tr>\n",
       "      <th>245406</th>\n",
       "      <td>152740.0</td>\n",
       "      <td>-1.239607</td>\n",
       "      <td>0.900667</td>\n",
       "      <td>0.340765</td>\n",
       "      <td>-1.100814</td>\n",
       "      <td>1.536239</td>\n",
       "      <td>-1.521851</td>\n",
       "      <td>2.202212</td>\n",
       "      <td>-0.983741</td>\n",
       "      <td>-0.307453</td>\n",
       "      <td>...</td>\n",
       "      <td>-0.079641</td>\n",
       "      <td>0.510472</td>\n",
       "      <td>-0.887206</td>\n",
       "      <td>0.089090</td>\n",
       "      <td>1.262835</td>\n",
       "      <td>0.339588</td>\n",
       "      <td>-0.011939</td>\n",
       "      <td>-0.355071</td>\n",
       "      <td>-0.045177</td>\n",
       "      <td>0</td>\n",
       "    </tr>\n",
       "    <tr>\n",
       "      <th>266008</th>\n",
       "      <td>162148.0</td>\n",
       "      <td>1.239027</td>\n",
       "      <td>-1.714418</td>\n",
       "      <td>-0.854948</td>\n",
       "      <td>0.443266</td>\n",
       "      <td>-1.020971</td>\n",
       "      <td>-0.153086</td>\n",
       "      <td>-0.198891</td>\n",
       "      <td>-0.023325</td>\n",
       "      <td>0.847783</td>\n",
       "      <td>...</td>\n",
       "      <td>0.439642</td>\n",
       "      <td>0.476090</td>\n",
       "      <td>-0.197562</td>\n",
       "      <td>-0.272985</td>\n",
       "      <td>-0.493959</td>\n",
       "      <td>0.611826</td>\n",
       "      <td>-0.115679</td>\n",
       "      <td>0.005121</td>\n",
       "      <td>1.230213</td>\n",
       "      <td>0</td>\n",
       "    </tr>\n",
       "    <tr>\n",
       "      <th>245635</th>\n",
       "      <td>152840.0</td>\n",
       "      <td>1.882061</td>\n",
       "      <td>0.138242</td>\n",
       "      <td>-1.350259</td>\n",
       "      <td>1.573954</td>\n",
       "      <td>0.203022</td>\n",
       "      <td>-0.594057</td>\n",
       "      <td>0.097806</td>\n",
       "      <td>-0.094958</td>\n",
       "      <td>0.394924</td>\n",
       "      <td>...</td>\n",
       "      <td>0.116151</td>\n",
       "      <td>0.585960</td>\n",
       "      <td>-0.023757</td>\n",
       "      <td>-0.066545</td>\n",
       "      <td>0.268071</td>\n",
       "      <td>-0.483595</td>\n",
       "      <td>0.033515</td>\n",
       "      <td>-0.028713</td>\n",
       "      <td>-0.239044</td>\n",
       "      <td>0</td>\n",
       "    </tr>\n",
       "    <tr>\n",
       "      <th>220113</th>\n",
       "      <td>142030.0</td>\n",
       "      <td>-0.926375</td>\n",
       "      <td>-0.916156</td>\n",
       "      <td>-1.490107</td>\n",
       "      <td>-0.095832</td>\n",
       "      <td>2.690137</td>\n",
       "      <td>-1.927147</td>\n",
       "      <td>0.351845</td>\n",
       "      <td>-0.078897</td>\n",
       "      <td>0.547888</td>\n",
       "      <td>...</td>\n",
       "      <td>0.250076</td>\n",
       "      <td>0.337981</td>\n",
       "      <td>0.694311</td>\n",
       "      <td>0.407516</td>\n",
       "      <td>-1.519677</td>\n",
       "      <td>-0.768896</td>\n",
       "      <td>0.292725</td>\n",
       "      <td>0.441844</td>\n",
       "      <td>0.017553</td>\n",
       "      <td>0</td>\n",
       "    </tr>\n",
       "    <tr>\n",
       "      <th>73705</th>\n",
       "      <td>55243.0</td>\n",
       "      <td>-0.405866</td>\n",
       "      <td>1.131222</td>\n",
       "      <td>1.415320</td>\n",
       "      <td>0.083690</td>\n",
       "      <td>0.106721</td>\n",
       "      <td>-0.691006</td>\n",
       "      <td>0.670947</td>\n",
       "      <td>0.015759</td>\n",
       "      <td>-0.498344</td>\n",
       "      <td>...</td>\n",
       "      <td>-0.209424</td>\n",
       "      <td>-0.472713</td>\n",
       "      <td>0.046131</td>\n",
       "      <td>0.363150</td>\n",
       "      <td>-0.259992</td>\n",
       "      <td>0.079694</td>\n",
       "      <td>0.266299</td>\n",
       "      <td>0.099226</td>\n",
       "      <td>-0.345313</td>\n",
       "      <td>0</td>\n",
       "    </tr>\n",
       "  </tbody>\n",
       "</table>\n",
       "<p>5 rows × 31 columns</p>\n",
       "</div>"
      ],
      "text/plain": [
       "            Time        V1        V2        V3        V4        V5        V6  \\\n",
       "245406  152740.0 -1.239607  0.900667  0.340765 -1.100814  1.536239 -1.521851   \n",
       "266008  162148.0  1.239027 -1.714418 -0.854948  0.443266 -1.020971 -0.153086   \n",
       "245635  152840.0  1.882061  0.138242 -1.350259  1.573954  0.203022 -0.594057   \n",
       "220113  142030.0 -0.926375 -0.916156 -1.490107 -0.095832  2.690137 -1.927147   \n",
       "73705    55243.0 -0.405866  1.131222  1.415320  0.083690  0.106721 -0.691006   \n",
       "\n",
       "              V7        V8        V9  ...       V21       V22       V23  \\\n",
       "245406  2.202212 -0.983741 -0.307453  ... -0.079641  0.510472 -0.887206   \n",
       "266008 -0.198891 -0.023325  0.847783  ...  0.439642  0.476090 -0.197562   \n",
       "245635  0.097806 -0.094958  0.394924  ...  0.116151  0.585960 -0.023757   \n",
       "220113  0.351845 -0.078897  0.547888  ...  0.250076  0.337981  0.694311   \n",
       "73705   0.670947  0.015759 -0.498344  ... -0.209424 -0.472713  0.046131   \n",
       "\n",
       "             V24       V25       V26       V27       V28    Amount  Class  \n",
       "245406  0.089090  1.262835  0.339588 -0.011939 -0.355071 -0.045177      0  \n",
       "266008 -0.272985 -0.493959  0.611826 -0.115679  0.005121  1.230213      0  \n",
       "245635 -0.066545  0.268071 -0.483595  0.033515 -0.028713 -0.239044      0  \n",
       "220113  0.407516 -1.519677 -0.768896  0.292725  0.441844  0.017553      0  \n",
       "73705   0.363150 -0.259992  0.079694  0.266299  0.099226 -0.345313      0  \n",
       "\n",
       "[5 rows x 31 columns]"
      ]
     },
     "execution_count": 8,
     "metadata": {},
     "output_type": "execute_result"
    }
   ],
   "source": [
    "df.head()"
   ]
  },
  {
   "cell_type": "code",
   "execution_count": 9,
   "id": "a86dd47f",
   "metadata": {},
   "outputs": [
    {
     "data": {
      "text/plain": [
       "0    20000\n",
       "1      400\n",
       "Name: Class, dtype: int64"
      ]
     },
     "execution_count": 9,
     "metadata": {},
     "output_type": "execute_result"
    }
   ],
   "source": [
    "df['Class'].value_counts()"
   ]
  },
  {
   "cell_type": "code",
   "execution_count": 10,
   "id": "f5ceb113",
   "metadata": {},
   "outputs": [
    {
     "name": "stdout",
     "output_type": "stream",
     "text": [
      "(16320, 29) train samples\n",
      "(4080, 29) test samples\n"
     ]
    }
   ],
   "source": [
    "x_train, x_test, y_train, y_test = train_test_split(df.drop(labels=['Time', 'Class'], axis = 1) , \n",
    "                                                    df['Class'], test_size=0.2, random_state=42)\n",
    "print(x_train.shape, 'train samples')\n",
    "print(x_test.shape, 'test samples')"
   ]
  },
  {
   "cell_type": "code",
   "execution_count": 11,
   "id": "618a948b",
   "metadata": {},
   "outputs": [
    {
     "name": "stdout",
     "output_type": "stream",
     "text": [
      "Model: \"model\"\n",
      "_________________________________________________________________\n",
      " Layer (type)                Output Shape              Param #   \n",
      "=================================================================\n",
      " input_1 (InputLayer)        [(None, 29)]              0         \n",
      "                                                                 \n",
      " dense (Dense)               (None, 12)                360       \n",
      "                                                                 \n",
      " dense_1 (Dense)             (None, 29)                377       \n",
      "                                                                 \n",
      "=================================================================\n",
      "Total params: 737\n",
      "Trainable params: 737\n",
      "Non-trainable params: 0\n",
      "_________________________________________________________________\n"
     ]
    }
   ],
   "source": [
    "#simple autoencoder\n",
    "logfilename = \"simpleautoencoder\"\n",
    "\n",
    "encoding_dim = 12\n",
    "input_dim = x_train.shape[1]\n",
    "\n",
    "inputArray = Input(shape=(input_dim,))\n",
    "encoded = Dense(encoding_dim, activation='relu')(inputArray)\n",
    "\n",
    "decoded = Dense(input_dim, activation='softmax')(encoded)\n",
    "\n",
    "autoencoder = Model(inputArray, decoded)\n",
    "autoencoder.summary()"
   ]
  },
  {
   "cell_type": "code",
   "execution_count": 12,
   "id": "b9968caf",
   "metadata": {},
   "outputs": [],
   "source": [
    "autoencoder.compile(optimizer= RMSprop(), loss = 'mean_squared_error', metrics = ['mae', 'accuracy'])"
   ]
  },
  {
   "cell_type": "code",
   "execution_count": 13,
   "id": "0f7e167a",
   "metadata": {},
   "outputs": [
    {
     "name": "stdout",
     "output_type": "stream",
     "text": [
      "Epoch 1/20\n",
      "510/510 [==============================] - 2s 2ms/step - loss: 1.5636 - mae: 0.6849 - accuracy: 0.2319 - val_loss: 1.6363 - val_mae: 0.6801 - val_accuracy: 0.4946\n",
      "Epoch 2/20\n",
      "510/510 [==============================] - 1s 2ms/step - loss: 1.5031 - mae: 0.6641 - accuracy: 0.5420 - val_loss: 1.6026 - val_mae: 0.6675 - val_accuracy: 0.5912\n",
      "Epoch 3/20\n",
      "510/510 [==============================] - 1s 1ms/step - loss: 1.4885 - mae: 0.6593 - accuracy: 0.6353 - val_loss: 1.5956 - val_mae: 0.6660 - val_accuracy: 0.6645\n",
      "Epoch 4/20\n",
      "510/510 [==============================] - 1s 1ms/step - loss: 1.4845 - mae: 0.6584 - accuracy: 0.6836 - val_loss: 1.5928 - val_mae: 0.6655 - val_accuracy: 0.6973\n",
      "Epoch 5/20\n",
      "510/510 [==============================] - 1s 1ms/step - loss: 1.4820 - mae: 0.6580 - accuracy: 0.7108 - val_loss: 1.5909 - val_mae: 0.6653 - val_accuracy: 0.7189\n",
      "Epoch 6/20\n",
      "510/510 [==============================] - 1s 1ms/step - loss: 1.4808 - mae: 0.6578 - accuracy: 0.7263 - val_loss: 1.5901 - val_mae: 0.6651 - val_accuracy: 0.7324\n",
      "Epoch 7/20\n",
      "510/510 [==============================] - 1s 1ms/step - loss: 1.4802 - mae: 0.6577 - accuracy: 0.7357 - val_loss: 1.5896 - val_mae: 0.6650 - val_accuracy: 0.7409\n",
      "Epoch 8/20\n",
      "510/510 [==============================] - 1s 1ms/step - loss: 1.4797 - mae: 0.6576 - accuracy: 0.7412 - val_loss: 1.5889 - val_mae: 0.6650 - val_accuracy: 0.7493\n",
      "Epoch 9/20\n",
      "510/510 [==============================] - 1s 1ms/step - loss: 1.4791 - mae: 0.6576 - accuracy: 0.7481 - val_loss: 1.5885 - val_mae: 0.6649 - val_accuracy: 0.7561\n",
      "Epoch 10/20\n",
      "510/510 [==============================] - 1s 1ms/step - loss: 1.4789 - mae: 0.6576 - accuracy: 0.7544 - val_loss: 1.5883 - val_mae: 0.6649 - val_accuracy: 0.7591\n",
      "Epoch 11/20\n",
      "510/510 [==============================] - 1s 1ms/step - loss: 1.4786 - mae: 0.6575 - accuracy: 0.7599 - val_loss: 1.5881 - val_mae: 0.6649 - val_accuracy: 0.7588\n",
      "Epoch 12/20\n",
      "510/510 [==============================] - 1s 1ms/step - loss: 1.4784 - mae: 0.6575 - accuracy: 0.7635 - val_loss: 1.5879 - val_mae: 0.6648 - val_accuracy: 0.7676\n",
      "Epoch 13/20\n",
      "510/510 [==============================] - 1s 1ms/step - loss: 1.4782 - mae: 0.6575 - accuracy: 0.7683 - val_loss: 1.5877 - val_mae: 0.6648 - val_accuracy: 0.7679\n",
      "Epoch 14/20\n",
      "510/510 [==============================] - 1s 1ms/step - loss: 1.4780 - mae: 0.6575 - accuracy: 0.7730 - val_loss: 1.5876 - val_mae: 0.6648 - val_accuracy: 0.7765\n",
      "Epoch 15/20\n",
      "510/510 [==============================] - 1s 1ms/step - loss: 1.4779 - mae: 0.6575 - accuracy: 0.7760 - val_loss: 1.5874 - val_mae: 0.6648 - val_accuracy: 0.7767\n",
      "Epoch 16/20\n",
      "510/510 [==============================] - 1s 1ms/step - loss: 1.4777 - mae: 0.6575 - accuracy: 0.7798 - val_loss: 1.5873 - val_mae: 0.6648 - val_accuracy: 0.7819\n",
      "Epoch 17/20\n",
      "510/510 [==============================] - 1s 1ms/step - loss: 1.4775 - mae: 0.6574 - accuracy: 0.7828 - val_loss: 1.5871 - val_mae: 0.6648 - val_accuracy: 0.7868\n",
      "Epoch 18/20\n",
      "510/510 [==============================] - 1s 1ms/step - loss: 1.4774 - mae: 0.6574 - accuracy: 0.7846 - val_loss: 1.5870 - val_mae: 0.6647 - val_accuracy: 0.7900\n",
      "Epoch 19/20\n",
      "510/510 [==============================] - 1s 1ms/step - loss: 1.4772 - mae: 0.6574 - accuracy: 0.7876 - val_loss: 1.5868 - val_mae: 0.6647 - val_accuracy: 0.7949\n",
      "Epoch 20/20\n",
      "510/510 [==============================] - 1s 1ms/step - loss: 1.4771 - mae: 0.6574 - accuracy: 0.7909 - val_loss: 1.5867 - val_mae: 0.6647 - val_accuracy: 0.7953\n"
     ]
    }
   ],
   "source": [
    "batch_size = 32\n",
    "epochs = 20\n",
    "\n",
    "history = autoencoder.fit(x_train, x_train,\n",
    "                    batch_size=batch_size,\n",
    "                    epochs=epochs,\n",
    "                    verbose=1,\n",
    "                    shuffle=True,\n",
    "                    validation_data=(x_test, x_test),\n",
    "                    callbacks=[TensorBoard(log_dir='../logs/simpleautoencoder')])"
   ]
  },
  {
   "cell_type": "code",
   "execution_count": 14,
   "id": "ba997e8a",
   "metadata": {},
   "outputs": [],
   "source": [
    "# Load the TensorBoard notebook extension\n",
    "%load_ext tensorboard"
   ]
  },
  {
   "cell_type": "code",
   "execution_count": 39,
   "id": "08b024d2",
   "metadata": {
    "scrolled": false
   },
   "outputs": [
    {
     "data": {
      "text/html": [
       "\n",
       "      <iframe id=\"tensorboard-frame-96a57f8129c1e999\" width=\"100%\" height=\"800\" frameborder=\"0\">\n",
       "      </iframe>\n",
       "      <script>\n",
       "        (function() {\n",
       "          const frame = document.getElementById(\"tensorboard-frame-96a57f8129c1e999\");\n",
       "          const url = new URL(\"/\", window.location);\n",
       "          const port = 6006;\n",
       "          if (port) {\n",
       "            url.port = port;\n",
       "          }\n",
       "          frame.src = url;\n",
       "        })();\n",
       "      </script>\n",
       "    "
      ],
      "text/plain": [
       "<IPython.core.display.HTML object>"
      ]
     },
     "metadata": {},
     "output_type": "display_data"
    }
   ],
   "source": [
    "%tensorboard --logdir ../logs/simpleautoencoder"
   ]
  },
  {
   "cell_type": "code",
   "execution_count": 16,
   "id": "ec61fbc3",
   "metadata": {},
   "outputs": [
    {
     "name": "stdout",
     "output_type": "stream",
     "text": [
      "128/128 [==============================] - 0s 1ms/step - loss: 1.5867 - mae: 0.6647 - accuracy: 0.7953\n",
      "Test loss: 1.5867149829864502\n",
      "Test accuracy: 0.6647059917449951\n"
     ]
    }
   ],
   "source": [
    "score = autoencoder.evaluate(x_test, x_test, verbose=1)\n",
    "# autoencoder 이므로 문제, 정답 둘다 x_test 들어가야함\n",
    "print('Test loss:', score[0])\n",
    "print('Test accuracy:', score[1])"
   ]
  },
  {
   "cell_type": "code",
   "execution_count": 17,
   "id": "f8fac854",
   "metadata": {},
   "outputs": [],
   "source": [
    "threshold = 10.0\n",
    "y_pred = autoencoder.predict(x_test)\n",
    "y_dist = np.linalg.norm(x_test - y_pred, axis=-1)\n",
    "z = zip(y_dist >= threshold, y_dist)\n",
    "y_label = []\n",
    "error = []\n",
    "for idx, (is_anomaly, y_dist) in enumerate(z):\n",
    "    if is_anomaly:\n",
    "        y_label.append(1)\n",
    "    else:\n",
    "        y_label.append(0)\n",
    "    error.append(y_dist)"
   ]
  },
  {
   "cell_type": "code",
   "execution_count": 18,
   "id": "da88e8ca",
   "metadata": {},
   "outputs": [
    {
     "name": "stdout",
     "output_type": "stream",
     "text": [
      "              precision    recall  f1-score   support\n",
      "\n",
      "           0       0.99      0.97      0.98      3987\n",
      "           1       0.38      0.76      0.51        93\n",
      "\n",
      "    accuracy                           0.97      4080\n",
      "   macro avg       0.69      0.87      0.75      4080\n",
      "weighted avg       0.98      0.97      0.97      4080\n",
      "\n"
     ]
    }
   ],
   "source": [
    "import warnings\n",
    "warnings.filterwarnings('ignore')\n",
    "print(classification_report(y_test, y_label))"
   ]
  },
  {
   "cell_type": "code",
   "execution_count": 19,
   "id": "13a5e8f3",
   "metadata": {},
   "outputs": [
    {
     "name": "stdout",
     "output_type": "stream",
     "text": [
      "              precision    recall  f1-score   support\n",
      "\n",
      "           0       0.00      0.00      0.00      3987\n",
      "           1       0.02      1.00      0.04        93\n",
      "\n",
      "    accuracy                           0.02      4080\n",
      "   macro avg       0.01      0.50      0.02      4080\n",
      "weighted avg       0.00      0.02      0.00      4080\n",
      "\n"
     ]
    }
   ],
   "source": [
    "threshold = 1\n",
    "y_pred = autoencoder.predict(x_test)\n",
    "y_dist = np.linalg.norm(x_test - y_pred, axis=-1)\n",
    "z = zip(y_dist >= threshold, y_pred)\n",
    "y_label = []\n",
    "error = []\n",
    "for idx, (is_anomaly, y_dist) in enumerate(z):\n",
    "    if is_anomaly:\n",
    "        y_label.append(1)\n",
    "    else:\n",
    "        y_label.append(0)\n",
    "    error.append(y_dist)\n",
    "print(classification_report(y_test,  y_label))"
   ]
  },
  {
   "cell_type": "code",
   "execution_count": 20,
   "id": "6e58dbbd",
   "metadata": {},
   "outputs": [
    {
     "name": "stdout",
     "output_type": "stream",
     "text": [
      "              precision    recall  f1-score   support\n",
      "\n",
      "           0       1.00      0.76      0.86      3987\n",
      "           1       0.08      0.91      0.15        93\n",
      "\n",
      "    accuracy                           0.77      4080\n",
      "   macro avg       0.54      0.84      0.51      4080\n",
      "weighted avg       0.98      0.77      0.85      4080\n",
      "\n"
     ]
    }
   ],
   "source": [
    "threshold = 5\n",
    "y_pred = autoencoder.predict(x_test)\n",
    "y_dist = np.linalg.norm(x_test - y_pred, axis=-1)\n",
    "z = zip(y_dist >= threshold, y_dist)\n",
    "y_label = []\n",
    "error = []\n",
    "for idx, (is_anomaly, y_dist) in enumerate(z):\n",
    "    if is_anomaly:\n",
    "        y_label.append(1)\n",
    "    else:\n",
    "        y_label.append(0)\n",
    "    error.append(y_dist)\n",
    "print(classification_report(y_test,  y_label))"
   ]
  },
  {
   "cell_type": "code",
   "execution_count": 21,
   "id": "fb68fdc5",
   "metadata": {},
   "outputs": [
    {
     "name": "stdout",
     "output_type": "stream",
     "text": [
      "              precision    recall  f1-score   support\n",
      "\n",
      "           0       0.99      0.99      0.99      3987\n",
      "           1       0.53      0.54      0.53        93\n",
      "\n",
      "    accuracy                           0.98      4080\n",
      "   macro avg       0.76      0.76      0.76      4080\n",
      "weighted avg       0.98      0.98      0.98      4080\n",
      "\n"
     ]
    }
   ],
   "source": [
    "threshold = 15\n",
    "y_pred = autoencoder.predict(x_test)\n",
    "y_dist = np.linalg.norm(x_test - y_pred, axis=-1)\n",
    "z = zip(y_dist >= threshold, y_dist)\n",
    "y_label = []\n",
    "error = []\n",
    "for idx, (is_anomaly, y_dist) in enumerate(z):\n",
    "    if is_anomaly:\n",
    "        y_label.append(1)\n",
    "    else:\n",
    "        y_label.append(0)\n",
    "    error.append(y_dist)\n",
    "print(classification_report(y_test,  y_label))"
   ]
  },
  {
   "cell_type": "code",
   "execution_count": 22,
   "id": "5cbbce05",
   "metadata": {},
   "outputs": [
    {
     "data": {
      "text/plain": [
       "0.763299271017905"
      ]
     },
     "execution_count": 22,
     "metadata": {},
     "output_type": "execute_result"
    }
   ],
   "source": [
    "roc_auc_score(y_test, y_label)"
   ]
  },
  {
   "cell_type": "code",
   "execution_count": 23,
   "id": "ec73a8ce",
   "metadata": {},
   "outputs": [
    {
     "data": {
      "image/png": "[encoded data removed]",
      "text/plain": [
       "<Figure size 720x576 with 2 Axes>"
      ]
     },
     "metadata": {
      "needs_background": "light"
     },
     "output_type": "display_data"
    }
   ],
   "source": [
    "viz = Visualization()\n",
    "\n",
    "viz.draw_confusion_matrix(y_test, y_label)"
   ]
  },
  {
   "cell_type": "code",
   "execution_count": 24,
   "id": "ca93ec46",
   "metadata": {},
   "outputs": [
    {
     "data": {
      "image/png": "[encoded data removed]",
      "text/plain": [
       "<Figure size 864x576 with 1 Axes>"
      ]
     },
     "metadata": {
      "needs_background": "light"
     },
     "output_type": "display_data"
    }
   ],
   "source": [
    "viz.draw_anomaly(y_test, error, threshold)"
   ]
  },
  {
   "cell_type": "code",
   "execution_count": 25,
   "id": "38877245",
   "metadata": {},
   "outputs": [],
   "source": [
    "from tensorflow.keras import regularizers"
   ]
  },
  {
   "cell_type": "code",
   "execution_count": 26,
   "id": "2a67960c",
   "metadata": {},
   "outputs": [
    {
     "name": "stdout",
     "output_type": "stream",
     "text": [
      "Model: \"model_1\"\n",
      "_________________________________________________________________\n",
      " Layer (type)                Output Shape              Param #   \n",
      "=================================================================\n",
      " input_2 (InputLayer)        [(None, 29)]              0         \n",
      "                                                                 \n",
      " dense_2 (Dense)             (None, 12)                360       \n",
      "                                                                 \n",
      " dense_3 (Dense)             (None, 29)                377       \n",
      "                                                                 \n",
      "=================================================================\n",
      "Total params: 737\n",
      "Trainable params: 737\n",
      "Non-trainable params: 0\n",
      "_________________________________________________________________\n"
     ]
    }
   ],
   "source": [
    "encoding_dim = 12\n",
    "input_dim = x_train.shape[1]\n",
    "\n",
    "inputArray = Input(shape=(input_dim,))\n",
    "encoded = Dense(encoding_dim, activation='relu',\n",
    "               activity_regularizer=regularizers.l1(10e-5))(inputArray)\n",
    "\n",
    "decoded = Dense(input_dim, activation='softmax')(encoded)\n",
    "\n",
    "sparseautoencoder = Model(inputArray, decoded)\n",
    "sparseautoencoder.summary()"
   ]
  },
  {
   "cell_type": "code",
   "execution_count": 27,
   "id": "ba8bef1c",
   "metadata": {},
   "outputs": [],
   "source": [
    "sparseautoencoder.compile(optimizer= RMSprop(), loss = 'mean_squared_error', metrics = ['mae', 'accuracy'])"
   ]
  },
  {
   "cell_type": "code",
   "execution_count": 28,
   "id": "04c41774",
   "metadata": {},
   "outputs": [
    {
     "name": "stdout",
     "output_type": "stream",
     "text": [
      "Epoch 1/20\n",
      "510/510 [==============================] - 1s 2ms/step - loss: 1.5668 - mae: 0.6835 - accuracy: 0.2417 - val_loss: 1.6338 - val_mae: 0.6771 - val_accuracy: 0.4618\n",
      "Epoch 2/20\n",
      "510/510 [==============================] - 1s 1ms/step - loss: 1.5070 - mae: 0.6634 - accuracy: 0.5141 - val_loss: 1.6054 - val_mae: 0.6678 - val_accuracy: 0.5848\n",
      "Epoch 3/20\n",
      "510/510 [==============================] - 1s 1ms/step - loss: 1.4920 - mae: 0.6596 - accuracy: 0.6221 - val_loss: 1.5988 - val_mae: 0.6663 - val_accuracy: 0.6618\n",
      "Epoch 4/20\n",
      "510/510 [==============================] - 1s 1ms/step - loss: 1.4885 - mae: 0.6587 - accuracy: 0.6738 - val_loss: 1.5966 - val_mae: 0.6657 - val_accuracy: 0.6963\n",
      "Epoch 5/20\n",
      "510/510 [==============================] - 1s 1ms/step - loss: 1.4868 - mae: 0.6582 - accuracy: 0.6983 - val_loss: 1.5952 - val_mae: 0.6654 - val_accuracy: 0.7152\n",
      "Epoch 6/20\n",
      "510/510 [==============================] - 1s 1ms/step - loss: 1.4857 - mae: 0.6580 - accuracy: 0.7160 - val_loss: 1.5943 - val_mae: 0.6653 - val_accuracy: 0.7301\n",
      "Epoch 7/20\n",
      "510/510 [==============================] - 1s 1ms/step - loss: 1.4847 - mae: 0.6579 - accuracy: 0.7325 - val_loss: 1.5934 - val_mae: 0.6652 - val_accuracy: 0.7412\n",
      "Epoch 8/20\n",
      "510/510 [==============================] - 1s 1ms/step - loss: 1.4838 - mae: 0.6578 - accuracy: 0.7422 - val_loss: 1.5923 - val_mae: 0.6651 - val_accuracy: 0.7520\n",
      "Epoch 9/20\n",
      "510/510 [==============================] - 1s 1ms/step - loss: 1.4820 - mae: 0.6577 - accuracy: 0.7570 - val_loss: 1.5910 - val_mae: 0.6651 - val_accuracy: 0.7645\n",
      "Epoch 10/20\n",
      "510/510 [==============================] - 1s 1ms/step - loss: 1.4812 - mae: 0.6576 - accuracy: 0.7642 - val_loss: 1.5907 - val_mae: 0.6650 - val_accuracy: 0.7679\n",
      "Epoch 11/20\n",
      "510/510 [==============================] - 1s 1ms/step - loss: 1.4808 - mae: 0.6575 - accuracy: 0.7699 - val_loss: 1.5905 - val_mae: 0.6649 - val_accuracy: 0.7772\n",
      "Epoch 12/20\n",
      "510/510 [==============================] - 1s 1ms/step - loss: 1.4806 - mae: 0.6575 - accuracy: 0.7744 - val_loss: 1.5903 - val_mae: 0.6649 - val_accuracy: 0.7811\n",
      "Epoch 13/20\n",
      "510/510 [==============================] - 1s 1ms/step - loss: 1.4805 - mae: 0.6575 - accuracy: 0.7790 - val_loss: 1.5902 - val_mae: 0.6649 - val_accuracy: 0.7779\n",
      "Epoch 14/20\n",
      "510/510 [==============================] - 1s 1ms/step - loss: 1.4803 - mae: 0.6575 - accuracy: 0.7811 - val_loss: 1.5900 - val_mae: 0.6649 - val_accuracy: 0.7831\n",
      "Epoch 15/20\n",
      "510/510 [==============================] - 1s 1ms/step - loss: 1.4801 - mae: 0.6574 - accuracy: 0.7842 - val_loss: 1.5899 - val_mae: 0.6649 - val_accuracy: 0.7841\n",
      "Epoch 16/20\n",
      "510/510 [==============================] - 1s 1ms/step - loss: 1.4800 - mae: 0.6574 - accuracy: 0.7870 - val_loss: 1.5897 - val_mae: 0.6648 - val_accuracy: 0.7882\n",
      "Epoch 17/20\n",
      "510/510 [==============================] - 1s 1ms/step - loss: 1.4797 - mae: 0.6574 - accuracy: 0.7919 - val_loss: 1.5894 - val_mae: 0.6648 - val_accuracy: 0.7924\n",
      "Epoch 18/20\n",
      "510/510 [==============================] - 1s 1ms/step - loss: 1.4796 - mae: 0.6574 - accuracy: 0.7949 - val_loss: 1.5893 - val_mae: 0.6648 - val_accuracy: 0.7944\n",
      "Epoch 19/20\n",
      "510/510 [==============================] - 1s 1ms/step - loss: 1.4795 - mae: 0.6574 - accuracy: 0.7976 - val_loss: 1.5892 - val_mae: 0.6648 - val_accuracy: 0.7926\n",
      "Epoch 20/20\n",
      "510/510 [==============================] - 1s 1ms/step - loss: 1.4793 - mae: 0.6574 - accuracy: 0.7983 - val_loss: 1.5890 - val_mae: 0.6648 - val_accuracy: 0.7953\n"
     ]
    }
   ],
   "source": [
    "batch_size = 32\n",
    "epochs = 20\n",
    "\n",
    "history = sparseautoencoder.fit(x_train, x_train,\n",
    "                    batch_size=batch_size,\n",
    "                    epochs=epochs,\n",
    "                    verbose=1,\n",
    "                    shuffle=True,\n",
    "                    validation_data=(x_test, x_test),\n",
    "                    callbacks=[TensorBoard(log_dir='../logs/sparseautoencoder')])"
   ]
  },
  {
   "cell_type": "code",
   "execution_count": 40,
   "id": "a656e3dc",
   "metadata": {},
   "outputs": [
    {
     "data": {
      "text/html": [
       "\n",
       "      <iframe id=\"tensorboard-frame-8c2a6d8818102bd1\" width=\"100%\" height=\"800\" frameborder=\"0\">\n",
       "      </iframe>\n",
       "      <script>\n",
       "        (function() {\n",
       "          const frame = document.getElementById(\"tensorboard-frame-8c2a6d8818102bd1\");\n",
       "          const url = new URL(\"/\", window.location);\n",
       "          const port = 6006;\n",
       "          if (port) {\n",
       "            url.port = port;\n",
       "          }\n",
       "          frame.src = url;\n",
       "        })();\n",
       "      </script>\n",
       "    "
      ],
      "text/plain": [
       "<IPython.core.display.HTML object>"
      ]
     },
     "metadata": {},
     "output_type": "display_data"
    }
   ],
   "source": [
    "%tensorboard --logdir ../logs/sparseautoencoder"
   ]
  },
  {
   "cell_type": "code",
   "execution_count": 41,
   "id": "1dec7159",
   "metadata": {},
   "outputs": [
    {
     "name": "stdout",
     "output_type": "stream",
     "text": [
      "Model: \"model_2\"\n",
      "_________________________________________________________________\n",
      " Layer (type)                Output Shape              Param #   \n",
      "=================================================================\n",
      " input_3 (InputLayer)        [(None, 29)]              0         \n",
      "                                                                 \n",
      " dense_4 (Dense)             (None, 16)                480       \n",
      "                                                                 \n",
      " dense_5 (Dense)             (None, 8)                 136       \n",
      "                                                                 \n",
      " dense_6 (Dense)             (None, 4)                 36        \n",
      "                                                                 \n",
      " dense_7 (Dense)             (None, 8)                 40        \n",
      "                                                                 \n",
      " dense_8 (Dense)             (None, 16)                144       \n",
      "                                                                 \n",
      " dense_9 (Dense)             (None, 29)                493       \n",
      "                                                                 \n",
      "=================================================================\n",
      "Total params: 1,329\n",
      "Trainable params: 1,329\n",
      "Non-trainable params: 0\n",
      "_________________________________________________________________\n"
     ]
    }
   ],
   "source": [
    "logfilename = \"deepautoencoder\"\n",
    "\n",
    "encoding_dim = 16\n",
    "input_dim = x_train.shape[1]\n",
    "\n",
    "inputArray = Input(shape=(input_dim,))\n",
    "encoded = Dense(encoding_dim, activation='relu')(inputArray)\n",
    "encoded = Dense(8, activation='relu')(encoded)\n",
    "encoded = Dense(4, activation='relu')(encoded)\n",
    "\n",
    "decoded = Dense(8, activation='relu')(encoded)\n",
    "decoded = Dense(encoding_dim, activation='relu')(decoded)\n",
    "decoded = Dense(input_dim, activation='softmax')(decoded)\n",
    "\n",
    "deepencoder = Model(inputArray, decoded)\n",
    "deepencoder.summary()"
   ]
  },
  {
   "cell_type": "code",
   "execution_count": 42,
   "id": "d30909b7",
   "metadata": {},
   "outputs": [],
   "source": [
    "deepencoder.compile(optimizer=RMSprop(), \n",
    "                    loss='mean_squared_error',\n",
    "                    metrics=['mae', 'accuracy'])"
   ]
  },
  {
   "cell_type": "code",
   "execution_count": 43,
   "id": "88a89ed3",
   "metadata": {},
   "outputs": [
    {
     "name": "stdout",
     "output_type": "stream",
     "text": [
      "Epoch 1/20\n",
      "510/510 [==============================] - 2s 2ms/step - loss: 1.5790 - mae: 0.6883 - accuracy: 0.1928 - val_loss: 1.6564 - val_mae: 0.6840 - val_accuracy: 0.3199\n",
      "Epoch 2/20\n",
      "510/510 [==============================] - 1s 1ms/step - loss: 1.5246 - mae: 0.6665 - accuracy: 0.4161 - val_loss: 1.6217 - val_mae: 0.6691 - val_accuracy: 0.4828\n",
      "Epoch 3/20\n",
      "510/510 [==============================] - 1s 1ms/step - loss: 1.5094 - mae: 0.6606 - accuracy: 0.4872 - val_loss: 1.6165 - val_mae: 0.6674 - val_accuracy: 0.5137\n",
      "Epoch 4/20\n",
      "510/510 [==============================] - 1s 1ms/step - loss: 1.5057 - mae: 0.6599 - accuracy: 0.5127 - val_loss: 1.6129 - val_mae: 0.6668 - val_accuracy: 0.5319\n",
      "Epoch 5/20\n",
      "510/510 [==============================] - 1s 1ms/step - loss: 1.5025 - mae: 0.6594 - accuracy: 0.5302 - val_loss: 1.6095 - val_mae: 0.6665 - val_accuracy: 0.5412\n",
      "Epoch 6/20\n",
      "510/510 [==============================] - 1s 1ms/step - loss: 1.4999 - mae: 0.6591 - accuracy: 0.5423 - val_loss: 1.6079 - val_mae: 0.6661 - val_accuracy: 0.5502\n",
      "Epoch 7/20\n",
      "510/510 [==============================] - 1s 1ms/step - loss: 1.4986 - mae: 0.6588 - accuracy: 0.5494 - val_loss: 1.6069 - val_mae: 0.6659 - val_accuracy: 0.5664\n",
      "Epoch 8/20\n",
      "510/510 [==============================] - 1s 2ms/step - loss: 1.4975 - mae: 0.6586 - accuracy: 0.5602 - val_loss: 1.6064 - val_mae: 0.6658 - val_accuracy: 0.5627\n",
      "Epoch 9/20\n",
      "510/510 [==============================] - 1s 2ms/step - loss: 1.4969 - mae: 0.6585 - accuracy: 0.5657 - val_loss: 1.6057 - val_mae: 0.6657 - val_accuracy: 0.5841\n",
      "Epoch 10/20\n",
      "510/510 [==============================] - 1s 2ms/step - loss: 1.4962 - mae: 0.6584 - accuracy: 0.5752 - val_loss: 1.6051 - val_mae: 0.6656 - val_accuracy: 0.5917\n",
      "Epoch 11/20\n",
      "510/510 [==============================] - 1s 2ms/step - loss: 1.4958 - mae: 0.6584 - accuracy: 0.5795 - val_loss: 1.6048 - val_mae: 0.6656 - val_accuracy: 0.5998\n",
      "Epoch 12/20\n",
      "510/510 [==============================] - 1s 2ms/step - loss: 1.4956 - mae: 0.6583 - accuracy: 0.5814 - val_loss: 1.6050 - val_mae: 0.6656 - val_accuracy: 0.5909\n",
      "Epoch 13/20\n",
      "510/510 [==============================] - 1s 2ms/step - loss: 1.4954 - mae: 0.6583 - accuracy: 0.5835 - val_loss: 1.6045 - val_mae: 0.6655 - val_accuracy: 0.5966\n",
      "Epoch 14/20\n",
      "510/510 [==============================] - 1s 2ms/step - loss: 1.4953 - mae: 0.6583 - accuracy: 0.5843 - val_loss: 1.6045 - val_mae: 0.6655 - val_accuracy: 0.5922\n",
      "Epoch 15/20\n",
      "510/510 [==============================] - 1s 2ms/step - loss: 1.4953 - mae: 0.6583 - accuracy: 0.5836 - val_loss: 1.6042 - val_mae: 0.6655 - val_accuracy: 0.6022\n",
      "Epoch 16/20\n",
      "510/510 [==============================] - 1s 1ms/step - loss: 1.4952 - mae: 0.6582 - accuracy: 0.5850 - val_loss: 1.6044 - val_mae: 0.6655 - val_accuracy: 0.5924\n",
      "Epoch 17/20\n",
      "510/510 [==============================] - 1s 2ms/step - loss: 1.4951 - mae: 0.6582 - accuracy: 0.5848 - val_loss: 1.6043 - val_mae: 0.6654 - val_accuracy: 0.5941\n",
      "Epoch 18/20\n",
      "510/510 [==============================] - 1s 2ms/step - loss: 1.4951 - mae: 0.6582 - accuracy: 0.5858 - val_loss: 1.6042 - val_mae: 0.6654 - val_accuracy: 0.5973\n",
      "Epoch 19/20\n",
      "510/510 [==============================] - 1s 2ms/step - loss: 1.4951 - mae: 0.6582 - accuracy: 0.5854 - val_loss: 1.6041 - val_mae: 0.6654 - val_accuracy: 0.5951\n",
      "Epoch 20/20\n",
      "510/510 [==============================] - 1s 2ms/step - loss: 1.4950 - mae: 0.6582 - accuracy: 0.5857 - val_loss: 1.6041 - val_mae: 0.6654 - val_accuracy: 0.5944\n"
     ]
    }
   ],
   "source": [
    "batch_size = 32\n",
    "epochs = 20\n",
    "\n",
    "history = deepencoder.fit(x_train, x_train,\n",
    "                    batch_size=batch_size,\n",
    "                    epochs=epochs,\n",
    "                    verbose=1,\n",
    "                    shuffle=True,\n",
    "                    validation_data=(x_test, x_test),\n",
    "                    callbacks=[TensorBoard(log_dir='../logs/{0}'.format(logfilename))])"
   ]
  },
  {
   "cell_type": "code",
   "execution_count": 44,
   "id": "4a1b2160",
   "metadata": {},
   "outputs": [
    {
     "name": "stdout",
     "output_type": "stream",
     "text": [
      "128/128 [==============================] - 0s 942us/step - loss: 1.5867 - mae: 0.6647 - accuracy: 0.7953\n",
      "Test loss: 1.5867149829864502\n",
      "Test accuracy: 0.6647059917449951\n"
     ]
    }
   ],
   "source": [
    "score = autoencoder.evaluate(x_test, x_test, verbose=1)\n",
    "print('Test loss:', score[0])\n",
    "print('Test accuracy:', score[1])"
   ]
  },
  {
   "cell_type": "code",
   "execution_count": 45,
   "id": "2f08fa25",
   "metadata": {},
   "outputs": [],
   "source": [
    "threshold=15.00\n",
    "y_pred = autoencoder.predict(x_test)\n",
    "y_dist = np.linalg.norm(x_test - y_pred, axis=-1)\n",
    "z = zip(y_dist >= threshold, y_dist)\n",
    "y_label=[]\n",
    "error = []\n",
    "for idx, (is_anomaly, y_dist) in enumerate(z):\n",
    "    if is_anomaly:\n",
    "        y_label.append(1)\n",
    "    else:\n",
    "        y_label.append(0)\n",
    "    error.append(y_dist)"
   ]
  },
  {
   "cell_type": "code",
   "execution_count": 46,
   "id": "ae0d6a0f",
   "metadata": {},
   "outputs": [
    {
     "name": "stdout",
     "output_type": "stream",
     "text": [
      "              precision    recall  f1-score   support\n",
      "\n",
      "           0       0.99      0.99      0.99      3987\n",
      "           1       0.53      0.54      0.53        93\n",
      "\n",
      "    accuracy                           0.98      4080\n",
      "   macro avg       0.76      0.76      0.76      4080\n",
      "weighted avg       0.98      0.98      0.98      4080\n",
      "\n"
     ]
    }
   ],
   "source": [
    "print(classification_report(y_test,y_label))"
   ]
  },
  {
   "cell_type": "code",
   "execution_count": 47,
   "id": "55078ad0",
   "metadata": {},
   "outputs": [
    {
     "data": {
      "image/png": "[encoded data removed]",
      "text/plain": [
       "<Figure size 864x576 with 1 Axes>"
      ]
     },
     "metadata": {
      "needs_background": "light"
     },
     "output_type": "display_data"
    }
   ],
   "source": [
    "viz.draw_anomaly(y_test, error, threshold)"
   ]
  }
 ],
 "metadata": {
  "kernelspec": {
   "display_name": "Python 3 (ipykernel)",
   "language": "python",
   "name": "python3"
  },
  "language_info": {
   "codemirror_mode": {
    "name": "ipython",
    "version": 3
   },
   "file_extension": ".py",
   "mimetype": "text/x-python",
   "name": "python",
   "nbconvert_exporter": "python",
   "pygments_lexer": "ipython3",
   "version": "3.9.7"
  }
 },
 "nbformat": 4,
 "nbformat_minor": 5
}
