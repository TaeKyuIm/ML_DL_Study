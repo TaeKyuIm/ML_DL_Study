{
 "cells": [
  {
   "cell_type": "code",
   "execution_count": 1,
   "id": "e4a8d958",
   "metadata": {},
   "outputs": [],
   "source": [
    "import torch"
   ]
  },
  {
   "cell_type": "code",
   "execution_count": 2,
   "id": "0421dc7d",
   "metadata": {},
   "outputs": [],
   "source": [
    "import torch.nn as nn\n",
    "import torch.optim as optim\n",
    "import torch.nn.functional as F"
   ]
  },
  {
   "cell_type": "code",
   "execution_count": 3,
   "id": "dce12f86",
   "metadata": {},
   "outputs": [
    {
     "name": "stdout",
     "output_type": "stream",
     "text": [
      "cpu\n"
     ]
    }
   ],
   "source": [
    "device = torch.device('cuda:0' if torch.cuda.is_available() else 'cpu')\n",
    "print(device) # 내 노트북으로 해서 cpu로 나올 예정"
   ]
  },
  {
   "cell_type": "code",
   "execution_count": 4,
   "id": "e10c921f",
   "metadata": {},
   "outputs": [],
   "source": [
    "import pandas as pd\n",
    "import numpy as np\n",
    "import seaborn as sns\n",
    "\n",
    "import matplotlib.pyplot as plt\n",
    "import matplotlib.gridspec as gridspec\n",
    "%matplotlib inline"
   ]
  },
  {
   "cell_type": "code",
   "execution_count": 5,
   "id": "c4ac5203",
   "metadata": {},
   "outputs": [],
   "source": [
    "from sklearn.preprocessing import StandardScaler\n",
    "from sklearn.model_selection import train_test_split\n",
    "from sklearn.metrics import confusion_matrix, roc_auc_score\n",
    "from sklearn.preprocessing import MinMaxScaler\n",
    "from sklearn.metrics import classification_report"
   ]
  },
  {
   "cell_type": "markdown",
   "id": "0ef5d311",
   "metadata": {},
   "source": [
    "시각화를 위한 class 정의"
   ]
  },
  {
   "cell_type": "code",
   "execution_count": 6,
   "id": "71accd53",
   "metadata": {},
   "outputs": [],
   "source": [
    "class Visualization:\n",
    "    labels = [\"Normal\", \"Anomaly\"]\n",
    "\n",
    "    def draw_confusion_matrix(self, y, ypred):\n",
    "        matrix = confusion_matrix(y, ypred)\n",
    "\n",
    "        plt.figure(figsize=(10, 8))\n",
    "        colors=[ \"orange\",\"green\"]\n",
    "        sns.heatmap(matrix, xticklabels=self.labels, yticklabels=self.labels, cmap=colors, annot=True, fmt=\"d\")\n",
    "        plt.title(\"Confusion Matrix\")\n",
    "        plt.ylabel('Actual')\n",
    "        plt.xlabel('Predicted')\n",
    "        plt.show()\n",
    "\n",
    "\n",
    "    def draw_anomaly(self, y, error, threshold):\n",
    "        groupsDF = pd.DataFrame({'error': error,\n",
    "                                 'true': y}).groupby('true')\n",
    "\n",
    "        figure, axes = plt.subplots(figsize=(12, 8))\n",
    "\n",
    "        for name, group in groupsDF:\n",
    "            axes.plot(group.index, group.error, marker='x' if name == 1 else 'o', linestyle='',\n",
    "                    color='r' if name == 1 else 'g', label=\"Anomaly\" if name == 1 else \"Normal\")\n",
    "\n",
    "        axes.hlines(threshold, axes.get_xlim()[0], axes.get_xlim()[1], colors=\"b\", zorder=100, label='Threshold')\n",
    "        axes.legend()\n",
    "        \n",
    "        plt.title(\"Anomalies\")\n",
    "        plt.ylabel(\"Error\")\n",
    "        plt.xlabel(\"Data\")\n",
    "        plt.show()\n",
    "\n",
    "    def draw_error(self, error, threshold):\n",
    "            plt.plot(error, marker='o', ms=3.5, linestyle='',\n",
    "                     label='Point')\n",
    "\n",
    "            plt.hlines(threshold, xmin=0, xmax=len(error)-1, colors=\"b\", zorder=100, label='Threshold')\n",
    "            plt.legend()\n",
    "            plt.title(\"Reconstruction error\")\n",
    "            plt.ylabel(\"Error\")\n",
    "            plt.xlabel(\"Data\")\n",
    "            plt.show()"
   ]
  },
  {
   "cell_type": "code",
   "execution_count": 7,
   "id": "06416290",
   "metadata": {},
   "outputs": [],
   "source": [
    "viz = Visualization()\n",
    "# 시각화 객체 정의"
   ]
  },
  {
   "cell_type": "code",
   "execution_count": 8,
   "id": "645f6fce",
   "metadata": {},
   "outputs": [
    {
     "name": "stdout",
     "output_type": "stream",
     "text": [
      "(284807, 31)\n"
     ]
    },
    {
     "data": {
      "text/html": [
       "<div>\n",
       "<style scoped>\n",
       "    .dataframe tbody tr th:only-of-type {\n",
       "        vertical-align: middle;\n",
       "    }\n",
       "\n",
       "    .dataframe tbody tr th {\n",
       "        vertical-align: top;\n",
       "    }\n",
       "\n",
       "    .dataframe thead th {\n",
       "        text-align: right;\n",
       "    }\n",
       "</style>\n",
       "<table border=\"1\" class=\"dataframe\">\n",
       "  <thead>\n",
       "    <tr style=\"text-align: right;\">\n",
       "      <th></th>\n",
       "      <th>Time</th>\n",
       "      <th>V1</th>\n",
       "      <th>V2</th>\n",
       "      <th>V3</th>\n",
       "      <th>V4</th>\n",
       "      <th>V5</th>\n",
       "      <th>V6</th>\n",
       "      <th>V7</th>\n",
       "      <th>V8</th>\n",
       "      <th>V9</th>\n",
       "      <th>...</th>\n",
       "      <th>V21</th>\n",
       "      <th>V22</th>\n",
       "      <th>V23</th>\n",
       "      <th>V24</th>\n",
       "      <th>V25</th>\n",
       "      <th>V26</th>\n",
       "      <th>V27</th>\n",
       "      <th>V28</th>\n",
       "      <th>Amount</th>\n",
       "      <th>Class</th>\n",
       "    </tr>\n",
       "  </thead>\n",
       "  <tbody>\n",
       "    <tr>\n",
       "      <th>0</th>\n",
       "      <td>0.0</td>\n",
       "      <td>-1.359807</td>\n",
       "      <td>-0.072781</td>\n",
       "      <td>2.536347</td>\n",
       "      <td>1.378155</td>\n",
       "      <td>-0.338321</td>\n",
       "      <td>0.462388</td>\n",
       "      <td>0.239599</td>\n",
       "      <td>0.098698</td>\n",
       "      <td>0.363787</td>\n",
       "      <td>...</td>\n",
       "      <td>-0.018307</td>\n",
       "      <td>0.277838</td>\n",
       "      <td>-0.110474</td>\n",
       "      <td>0.066928</td>\n",
       "      <td>0.128539</td>\n",
       "      <td>-0.189115</td>\n",
       "      <td>0.133558</td>\n",
       "      <td>-0.021053</td>\n",
       "      <td>149.62</td>\n",
       "      <td>0</td>\n",
       "    </tr>\n",
       "    <tr>\n",
       "      <th>1</th>\n",
       "      <td>0.0</td>\n",
       "      <td>1.191857</td>\n",
       "      <td>0.266151</td>\n",
       "      <td>0.166480</td>\n",
       "      <td>0.448154</td>\n",
       "      <td>0.060018</td>\n",
       "      <td>-0.082361</td>\n",
       "      <td>-0.078803</td>\n",
       "      <td>0.085102</td>\n",
       "      <td>-0.255425</td>\n",
       "      <td>...</td>\n",
       "      <td>-0.225775</td>\n",
       "      <td>-0.638672</td>\n",
       "      <td>0.101288</td>\n",
       "      <td>-0.339846</td>\n",
       "      <td>0.167170</td>\n",
       "      <td>0.125895</td>\n",
       "      <td>-0.008983</td>\n",
       "      <td>0.014724</td>\n",
       "      <td>2.69</td>\n",
       "      <td>0</td>\n",
       "    </tr>\n",
       "    <tr>\n",
       "      <th>2</th>\n",
       "      <td>1.0</td>\n",
       "      <td>-1.358354</td>\n",
       "      <td>-1.340163</td>\n",
       "      <td>1.773209</td>\n",
       "      <td>0.379780</td>\n",
       "      <td>-0.503198</td>\n",
       "      <td>1.800499</td>\n",
       "      <td>0.791461</td>\n",
       "      <td>0.247676</td>\n",
       "      <td>-1.514654</td>\n",
       "      <td>...</td>\n",
       "      <td>0.247998</td>\n",
       "      <td>0.771679</td>\n",
       "      <td>0.909412</td>\n",
       "      <td>-0.689281</td>\n",
       "      <td>-0.327642</td>\n",
       "      <td>-0.139097</td>\n",
       "      <td>-0.055353</td>\n",
       "      <td>-0.059752</td>\n",
       "      <td>378.66</td>\n",
       "      <td>0</td>\n",
       "    </tr>\n",
       "    <tr>\n",
       "      <th>3</th>\n",
       "      <td>1.0</td>\n",
       "      <td>-0.966272</td>\n",
       "      <td>-0.185226</td>\n",
       "      <td>1.792993</td>\n",
       "      <td>-0.863291</td>\n",
       "      <td>-0.010309</td>\n",
       "      <td>1.247203</td>\n",
       "      <td>0.237609</td>\n",
       "      <td>0.377436</td>\n",
       "      <td>-1.387024</td>\n",
       "      <td>...</td>\n",
       "      <td>-0.108300</td>\n",
       "      <td>0.005274</td>\n",
       "      <td>-0.190321</td>\n",
       "      <td>-1.175575</td>\n",
       "      <td>0.647376</td>\n",
       "      <td>-0.221929</td>\n",
       "      <td>0.062723</td>\n",
       "      <td>0.061458</td>\n",
       "      <td>123.50</td>\n",
       "      <td>0</td>\n",
       "    </tr>\n",
       "    <tr>\n",
       "      <th>4</th>\n",
       "      <td>2.0</td>\n",
       "      <td>-1.158233</td>\n",
       "      <td>0.877737</td>\n",
       "      <td>1.548718</td>\n",
       "      <td>0.403034</td>\n",
       "      <td>-0.407193</td>\n",
       "      <td>0.095921</td>\n",
       "      <td>0.592941</td>\n",
       "      <td>-0.270533</td>\n",
       "      <td>0.817739</td>\n",
       "      <td>...</td>\n",
       "      <td>-0.009431</td>\n",
       "      <td>0.798278</td>\n",
       "      <td>-0.137458</td>\n",
       "      <td>0.141267</td>\n",
       "      <td>-0.206010</td>\n",
       "      <td>0.502292</td>\n",
       "      <td>0.219422</td>\n",
       "      <td>0.215153</td>\n",
       "      <td>69.99</td>\n",
       "      <td>0</td>\n",
       "    </tr>\n",
       "  </tbody>\n",
       "</table>\n",
       "<p>5 rows × 31 columns</p>\n",
       "</div>"
      ],
      "text/plain": [
       "   Time        V1        V2        V3        V4        V5        V6        V7  \\\n",
       "0   0.0 -1.359807 -0.072781  2.536347  1.378155 -0.338321  0.462388  0.239599   \n",
       "1   0.0  1.191857  0.266151  0.166480  0.448154  0.060018 -0.082361 -0.078803   \n",
       "2   1.0 -1.358354 -1.340163  1.773209  0.379780 -0.503198  1.800499  0.791461   \n",
       "3   1.0 -0.966272 -0.185226  1.792993 -0.863291 -0.010309  1.247203  0.237609   \n",
       "4   2.0 -1.158233  0.877737  1.548718  0.403034 -0.407193  0.095921  0.592941   \n",
       "\n",
       "         V8        V9  ...       V21       V22       V23       V24       V25  \\\n",
       "0  0.098698  0.363787  ... -0.018307  0.277838 -0.110474  0.066928  0.128539   \n",
       "1  0.085102 -0.255425  ... -0.225775 -0.638672  0.101288 -0.339846  0.167170   \n",
       "2  0.247676 -1.514654  ...  0.247998  0.771679  0.909412 -0.689281 -0.327642   \n",
       "3  0.377436 -1.387024  ... -0.108300  0.005274 -0.190321 -1.175575  0.647376   \n",
       "4 -0.270533  0.817739  ... -0.009431  0.798278 -0.137458  0.141267 -0.206010   \n",
       "\n",
       "        V26       V27       V28  Amount  Class  \n",
       "0 -0.189115  0.133558 -0.021053  149.62      0  \n",
       "1  0.125895 -0.008983  0.014724    2.69      0  \n",
       "2 -0.139097 -0.055353 -0.059752  378.66      0  \n",
       "3 -0.221929  0.062723  0.061458  123.50      0  \n",
       "4  0.502292  0.219422  0.215153   69.99      0  \n",
       "\n",
       "[5 rows x 31 columns]"
      ]
     },
     "execution_count": 8,
     "metadata": {},
     "output_type": "execute_result"
    }
   ],
   "source": [
    "df = pd.read_csv('data/creditcard.csv', header = 0, sep = ',')\n",
    "print(df.shape)\n",
    "df.head()"
   ]
  },
  {
   "cell_type": "code",
   "execution_count": 9,
   "id": "e2da328f",
   "metadata": {},
   "outputs": [
    {
     "data": {
      "text/plain": [
       "0    284315\n",
       "1       492\n",
       "Name: Class, dtype: int64"
      ]
     },
     "execution_count": 9,
     "metadata": {},
     "output_type": "execute_result"
    }
   ],
   "source": [
    "df['Class'].value_counts()"
   ]
  },
  {
   "cell_type": "code",
   "execution_count": 10,
   "id": "f393cbff",
   "metadata": {},
   "outputs": [],
   "source": [
    "df['Amount'] = StandardScaler().fit_transform(df['Amount'].values.reshape(-1, 1))\n",
    "df0 = df.query('Class == 0').sample(20000)\n",
    "df1 = df.query('Class == 1').sample(400)\n",
    "df = pd.concat([df0, df1])"
   ]
  },
  {
   "cell_type": "code",
   "execution_count": 11,
   "id": "42e980de",
   "metadata": {
    "scrolled": true
   },
   "outputs": [
    {
     "data": {
      "text/html": [
       "<div>\n",
       "<style scoped>\n",
       "    .dataframe tbody tr th:only-of-type {\n",
       "        vertical-align: middle;\n",
       "    }\n",
       "\n",
       "    .dataframe tbody tr th {\n",
       "        vertical-align: top;\n",
       "    }\n",
       "\n",
       "    .dataframe thead th {\n",
       "        text-align: right;\n",
       "    }\n",
       "</style>\n",
       "<table border=\"1\" class=\"dataframe\">\n",
       "  <thead>\n",
       "    <tr style=\"text-align: right;\">\n",
       "      <th></th>\n",
       "      <th>Time</th>\n",
       "      <th>V1</th>\n",
       "      <th>V2</th>\n",
       "      <th>V3</th>\n",
       "      <th>V4</th>\n",
       "      <th>V5</th>\n",
       "      <th>V6</th>\n",
       "      <th>V7</th>\n",
       "      <th>V8</th>\n",
       "      <th>V9</th>\n",
       "      <th>...</th>\n",
       "      <th>V21</th>\n",
       "      <th>V22</th>\n",
       "      <th>V23</th>\n",
       "      <th>V24</th>\n",
       "      <th>V25</th>\n",
       "      <th>V26</th>\n",
       "      <th>V27</th>\n",
       "      <th>V28</th>\n",
       "      <th>Amount</th>\n",
       "      <th>Class</th>\n",
       "    </tr>\n",
       "  </thead>\n",
       "  <tbody>\n",
       "    <tr>\n",
       "      <th>68579</th>\n",
       "      <td>53049.0</td>\n",
       "      <td>-0.401660</td>\n",
       "      <td>1.101699</td>\n",
       "      <td>0.364082</td>\n",
       "      <td>0.823878</td>\n",
       "      <td>0.086306</td>\n",
       "      <td>-0.076460</td>\n",
       "      <td>1.043434</td>\n",
       "      <td>-0.245270</td>\n",
       "      <td>-0.660528</td>\n",
       "      <td>...</td>\n",
       "      <td>0.272890</td>\n",
       "      <td>0.880047</td>\n",
       "      <td>0.186490</td>\n",
       "      <td>0.260933</td>\n",
       "      <td>-1.018360</td>\n",
       "      <td>-0.542227</td>\n",
       "      <td>-0.246927</td>\n",
       "      <td>0.140376</td>\n",
       "      <td>-0.048935</td>\n",
       "      <td>0</td>\n",
       "    </tr>\n",
       "    <tr>\n",
       "      <th>136301</th>\n",
       "      <td>81636.0</td>\n",
       "      <td>1.120421</td>\n",
       "      <td>0.071603</td>\n",
       "      <td>0.490409</td>\n",
       "      <td>1.336305</td>\n",
       "      <td>-0.327529</td>\n",
       "      <td>-0.020191</td>\n",
       "      <td>-0.146710</td>\n",
       "      <td>0.209083</td>\n",
       "      <td>0.258253</td>\n",
       "      <td>...</td>\n",
       "      <td>-0.059285</td>\n",
       "      <td>-0.031152</td>\n",
       "      <td>-0.024295</td>\n",
       "      <td>0.188445</td>\n",
       "      <td>0.554618</td>\n",
       "      <td>-0.336196</td>\n",
       "      <td>0.027457</td>\n",
       "      <td>0.003112</td>\n",
       "      <td>-0.349231</td>\n",
       "      <td>0</td>\n",
       "    </tr>\n",
       "    <tr>\n",
       "      <th>231207</th>\n",
       "      <td>146655.0</td>\n",
       "      <td>-1.047335</td>\n",
       "      <td>1.274076</td>\n",
       "      <td>1.445375</td>\n",
       "      <td>0.980020</td>\n",
       "      <td>0.070650</td>\n",
       "      <td>0.632844</td>\n",
       "      <td>0.258840</td>\n",
       "      <td>0.678905</td>\n",
       "      <td>-0.181076</td>\n",
       "      <td>...</td>\n",
       "      <td>-0.518422</td>\n",
       "      <td>-1.333750</td>\n",
       "      <td>-0.055984</td>\n",
       "      <td>0.535577</td>\n",
       "      <td>0.452814</td>\n",
       "      <td>-0.805609</td>\n",
       "      <td>0.227427</td>\n",
       "      <td>0.082962</td>\n",
       "      <td>-0.260314</td>\n",
       "      <td>0</td>\n",
       "    </tr>\n",
       "    <tr>\n",
       "      <th>160080</th>\n",
       "      <td>113111.0</td>\n",
       "      <td>0.035076</td>\n",
       "      <td>0.907062</td>\n",
       "      <td>0.305092</td>\n",
       "      <td>-0.586892</td>\n",
       "      <td>0.453194</td>\n",
       "      <td>-1.102832</td>\n",
       "      <td>1.085156</td>\n",
       "      <td>-0.253594</td>\n",
       "      <td>-0.163249</td>\n",
       "      <td>...</td>\n",
       "      <td>-0.247776</td>\n",
       "      <td>-0.507381</td>\n",
       "      <td>0.075147</td>\n",
       "      <td>0.059663</td>\n",
       "      <td>-0.462182</td>\n",
       "      <td>0.134986</td>\n",
       "      <td>0.250190</td>\n",
       "      <td>0.099561</td>\n",
       "      <td>-0.317287</td>\n",
       "      <td>0</td>\n",
       "    </tr>\n",
       "    <tr>\n",
       "      <th>163146</th>\n",
       "      <td>115688.0</td>\n",
       "      <td>-0.034069</td>\n",
       "      <td>0.235975</td>\n",
       "      <td>-0.266762</td>\n",
       "      <td>-1.776095</td>\n",
       "      <td>2.467342</td>\n",
       "      <td>3.783360</td>\n",
       "      <td>-0.249907</td>\n",
       "      <td>1.096634</td>\n",
       "      <td>0.413782</td>\n",
       "      <td>...</td>\n",
       "      <td>-0.050959</td>\n",
       "      <td>-0.225079</td>\n",
       "      <td>0.102016</td>\n",
       "      <td>0.637063</td>\n",
       "      <td>-0.528883</td>\n",
       "      <td>-0.974578</td>\n",
       "      <td>0.156338</td>\n",
       "      <td>0.076144</td>\n",
       "      <td>-0.333239</td>\n",
       "      <td>0</td>\n",
       "    </tr>\n",
       "  </tbody>\n",
       "</table>\n",
       "<p>5 rows × 31 columns</p>\n",
       "</div>"
      ],
      "text/plain": [
       "            Time        V1        V2        V3        V4        V5        V6  \\\n",
       "68579    53049.0 -0.401660  1.101699  0.364082  0.823878  0.086306 -0.076460   \n",
       "136301   81636.0  1.120421  0.071603  0.490409  1.336305 -0.327529 -0.020191   \n",
       "231207  146655.0 -1.047335  1.274076  1.445375  0.980020  0.070650  0.632844   \n",
       "160080  113111.0  0.035076  0.907062  0.305092 -0.586892  0.453194 -1.102832   \n",
       "163146  115688.0 -0.034069  0.235975 -0.266762 -1.776095  2.467342  3.783360   \n",
       "\n",
       "              V7        V8        V9  ...       V21       V22       V23  \\\n",
       "68579   1.043434 -0.245270 -0.660528  ...  0.272890  0.880047  0.186490   \n",
       "136301 -0.146710  0.209083  0.258253  ... -0.059285 -0.031152 -0.024295   \n",
       "231207  0.258840  0.678905 -0.181076  ... -0.518422 -1.333750 -0.055984   \n",
       "160080  1.085156 -0.253594 -0.163249  ... -0.247776 -0.507381  0.075147   \n",
       "163146 -0.249907  1.096634  0.413782  ... -0.050959 -0.225079  0.102016   \n",
       "\n",
       "             V24       V25       V26       V27       V28    Amount  Class  \n",
       "68579   0.260933 -1.018360 -0.542227 -0.246927  0.140376 -0.048935      0  \n",
       "136301  0.188445  0.554618 -0.336196  0.027457  0.003112 -0.349231      0  \n",
       "231207  0.535577  0.452814 -0.805609  0.227427  0.082962 -0.260314      0  \n",
       "160080  0.059663 -0.462182  0.134986  0.250190  0.099561 -0.317287      0  \n",
       "163146  0.637063 -0.528883 -0.974578  0.156338  0.076144 -0.333239      0  \n",
       "\n",
       "[5 rows x 31 columns]"
      ]
     },
     "execution_count": 11,
     "metadata": {},
     "output_type": "execute_result"
    }
   ],
   "source": [
    "df.head()"
   ]
  },
  {
   "cell_type": "markdown",
   "id": "38fe4de8",
   "metadata": {},
   "source": [
    "학습을 위한 데이터 구성 완료.\n",
    "\n",
    "정상 데이터 20000개와 비정상 데이터 400개 뽑음."
   ]
  },
  {
   "cell_type": "code",
   "execution_count": 12,
   "id": "99a3b701",
   "metadata": {},
   "outputs": [
    {
     "name": "stdout",
     "output_type": "stream",
     "text": [
      "(16320, 29) train samples\n",
      "(4080, 29) test samples\n"
     ]
    }
   ],
   "source": [
    "x_train, x_test, y_train, y_test = train_test_split(df.drop(labels=['Time', 'Class'], axis = 1) , \n",
    "                                                    df['Class'], test_size=0.2, random_state=42)\n",
    "print(x_train.shape, 'train samples')\n",
    "print(x_test.shape, 'test samples')"
   ]
  },
  {
   "cell_type": "code",
   "execution_count": 13,
   "id": "04963c48",
   "metadata": {},
   "outputs": [
    {
     "data": {
      "text/plain": [
       "<torch._C.Generator at 0x1f04fbdb830>"
      ]
     },
     "execution_count": 13,
     "metadata": {},
     "output_type": "execute_result"
    }
   ],
   "source": [
    "torch.manual_seed(42)\n",
    "# 랜덤 시드 고정"
   ]
  },
  {
   "cell_type": "markdown",
   "id": "018669fa",
   "metadata": {},
   "source": [
    "pytorch의 경우 모든 연산이 torch tensor를 기준으로 이루어지므로, 모든 데이터들을 torch.tensor로 바꾸어저어야 한다."
   ]
  },
  {
   "cell_type": "markdown",
   "id": "4bcbb105",
   "metadata": {},
   "source": [
    "따라서 pandas 데이터를 활용하는 경우 pandas의 각종 자료형들이 numpy 배열과 호환성이 좋으므로, numpy.array로 변경하고, torch.tensor로 변경하면 된다"
   ]
  },
  {
   "cell_type": "code",
   "execution_count": 14,
   "id": "76feb678",
   "metadata": {},
   "outputs": [
    {
     "data": {
      "text/plain": [
       "tensor([[ 1.8893, -0.9758,  0.3204,  ...,  0.0122, -0.0411, -0.2573],\n",
       "        [ 2.1568,  0.0268, -2.3670,  ..., -0.1194, -0.0938, -0.2777],\n",
       "        [ 1.3085,  0.2208, -1.7012,  ..., -0.0094,  0.0059, -0.3059],\n",
       "        ...,\n",
       "        [-0.8931,  0.7407, -0.5122,  ..., -0.0048,  0.0595, -0.1433],\n",
       "        [-1.1241,  1.2500,  1.2113,  ...,  0.1932,  0.0473, -0.2157],\n",
       "        [ 2.0559, -1.2302,  0.3733,  ...,  0.0568, -0.0238, -0.1933]])"
      ]
     },
     "execution_count": 14,
     "metadata": {},
     "output_type": "execute_result"
    }
   ],
   "source": [
    "x_train_tensor = torch.tensor(np.array(x_train), dtype = torch.float32)\n",
    "x_train_tensor"
   ]
  },
  {
   "cell_type": "code",
   "execution_count": 15,
   "id": "3910efd2",
   "metadata": {},
   "outputs": [
    {
     "data": {
      "text/plain": [
       "tensor([[-1.2866,  0.9417,  1.1224,  ...,  0.1473,  0.0708, -0.1548],\n",
       "        [-0.0189,  0.6055,  1.1375,  ..., -0.1179, -0.1187, -0.3133],\n",
       "        [-1.0317,  0.7098,  1.7876,  ..., -0.1784, -0.4091, -0.1379],\n",
       "        ...,\n",
       "        [ 2.0656, -0.1090, -1.2721,  ..., -0.0243, -0.0597, -0.3407],\n",
       "        [-0.3729,  1.1233, -0.8451,  ...,  0.0388,  0.1250, -0.2980],\n",
       "        [ 0.9563, -1.1352, -0.6344,  ..., -0.0618,  0.0355,  0.3236]])"
      ]
     },
     "execution_count": 15,
     "metadata": {},
     "output_type": "execute_result"
    }
   ],
   "source": [
    "x_test_tensor = torch.tensor(np.array(x_test), dtype = torch.float32)\n",
    "x_test_tensor"
   ]
  },
  {
   "cell_type": "code",
   "execution_count": 16,
   "id": "e1a5add1",
   "metadata": {},
   "outputs": [],
   "source": [
    "y_train_tensor = torch.tensor(np.array(y_train), dtype = torch.float32)\n",
    "y_test_tensor = torch.tensor(np.array(y_test), dtype = torch.float32)"
   ]
  },
  {
   "cell_type": "code",
   "execution_count": 17,
   "id": "898f0144",
   "metadata": {},
   "outputs": [
    {
     "name": "stdout",
     "output_type": "stream",
     "text": [
      "torch.Size([16320, 29])\n"
     ]
    }
   ],
   "source": [
    "print(x_train_tensor.shape)"
   ]
  },
  {
   "cell_type": "code",
   "execution_count": 18,
   "id": "5a885dce",
   "metadata": {
    "scrolled": true
   },
   "outputs": [
    {
     "name": "stdout",
     "output_type": "stream",
     "text": [
      "torch.Size([4080, 29])\n"
     ]
    }
   ],
   "source": [
    "print(x_test_tensor.shape)"
   ]
  },
  {
   "cell_type": "markdown",
   "id": "607753f2",
   "metadata": {},
   "source": [
    "아까 X_train, X_test의 차원과 텐서의 shape가 같다."
   ]
  },
  {
   "cell_type": "code",
   "execution_count": 19,
   "id": "514dc871",
   "metadata": {},
   "outputs": [],
   "source": [
    "from torch.utils.data import DataLoader\n",
    "from torch.utils.data import TensorDataset\n",
    "train_tensor = TensorDataset(x_train_tensor, x_train_tensor)\n",
    "test_tensor = TensorDataset(x_test_tensor, x_test_tensor)"
   ]
  },
  {
   "cell_type": "code",
   "execution_count": 20,
   "id": "293101a0",
   "metadata": {},
   "outputs": [],
   "source": [
    "batch_size = 32"
   ]
  },
  {
   "cell_type": "code",
   "execution_count": 21,
   "id": "efb33b35",
   "metadata": {},
   "outputs": [],
   "source": [
    "train_dataloader = DataLoader(train_tensor, batch_size=batch_size)\n",
    "test_dataloader = DataLoader(test_tensor, batch_size=batch_size)"
   ]
  },
  {
   "cell_type": "markdown",
   "id": "de7a06a5",
   "metadata": {},
   "source": [
    "토치의 가장 큰 특징이라면, Datasets, TensorDataset, 그리고 DataLoader를 활용한 MultiGPU 학습이다. Datasets 나 TensorDataset으로 토치용 데이터 셋을 적용해주고, DataLoader를 이용하여 GPU 학습에 맞게 mini-batch 단위로 학습을 할 수 있다."
   ]
  },
  {
   "cell_type": "code",
   "execution_count": 22,
   "id": "b528c2b4",
   "metadata": {},
   "outputs": [],
   "source": [
    "class Autoencoder(nn.Module):\n",
    "    def __init__(self):\n",
    "        super(Autoencoder, self).__init__()\n",
    "        self.dense1 = nn.Linear(29, 12) # encoding\n",
    "        self.dense2 = nn.Linear(12, 29) # decoding\n",
    "        self.relu = nn.ReLU()\n",
    "    \n",
    "    def forward(self, x):\n",
    "        x = self.dense1(x)\n",
    "        x = self.relu(x)\n",
    "        x = self.dense2(x)\n",
    "        x = F.softmax(x, dim=-1) # 차원 지정 안해주면 경고문 나옴\n",
    "        return x"
   ]
  },
  {
   "cell_type": "code",
   "execution_count": 23,
   "id": "36f9dd21",
   "metadata": {},
   "outputs": [],
   "source": [
    "model = Autoencoder().to(device)\n",
    "# 학습의 형태 적용. device 가 cuda 일경우 GPU 학습"
   ]
  },
  {
   "cell_type": "code",
   "execution_count": 24,
   "id": "3ab9db5d",
   "metadata": {},
   "outputs": [],
   "source": [
    "loss_fn = nn.MSELoss()\n",
    "optimizer = torch.optim.RMSprop(model.parameters())"
   ]
  },
  {
   "cell_type": "markdown",
   "id": "48f991db",
   "metadata": {},
   "source": [
    "손실함수와 최적화 방법이 정의를 하여야 한다. tensorflow와 차이점은 torch의 경우 model.parameters()를 이용하여 파라미터들도 매개변수로 전달해주어야 한다."
   ]
  },
  {
   "cell_type": "code",
   "execution_count": 25,
   "id": "29a7f2a7",
   "metadata": {},
   "outputs": [],
   "source": [
    "def train(dataloader, model, loss_fn, optimizer):\n",
    "    size = len(dataloader.dataset)\n",
    "    model.train()\n",
    "    for batch, (X, y) in enumerate(dataloader):\n",
    "        X ,y = X.to(device), y.to(device)\n",
    "        \n",
    "        pred = model(X)\n",
    "        loss = loss_fn(pred, y)\n",
    "        \n",
    "        optimizer.zero_grad()\n",
    "        loss.backward()\n",
    "        optimizer.step()\n",
    "        \n",
    "        if batch % 100 == 0:\n",
    "            loss, current = loss.item(), batch * len(X)\n",
    "            print(f\"loss: {loss:>7f}  [{current:>5d}/{size:>5d}]\")"
   ]
  },
  {
   "cell_type": "markdown",
   "id": "7e5b62e7",
   "metadata": {},
   "source": [
    "다음과 같이 dataloader를 적용할 경우 mini-batch 학습이 가능하다"
   ]
  },
  {
   "cell_type": "code",
   "execution_count": 26,
   "id": "a0dfdfc5",
   "metadata": {},
   "outputs": [],
   "source": [
    "def test(dataloader, model, loss_fn):\n",
    "    size = len(dataloader.dataset)\n",
    "    num_batches = len(dataloader)\n",
    "    model.eval()\n",
    "    test_loss, correct = 0, 0\n",
    "    with torch.no_grad():\n",
    "        for X, y in dataloader:\n",
    "            X, y = X.to(device), y.to(device)\n",
    "            pred = model(X)\n",
    "            test_loss += loss_fn(pred, y).item()\n",
    "    test_loss /= num_batches\n",
    "    print(f\"Test Error: \\nAvg loss: {test_loss:>8f} \\n\")"
   ]
  },
  {
   "cell_type": "code",
   "execution_count": 27,
   "id": "63eeedb9",
   "metadata": {},
   "outputs": [
    {
     "name": "stdout",
     "output_type": "stream",
     "text": [
      "Epoch 1\n",
      "-------------------------------\n",
      "loss: 0.717450  [    0/16320]\n",
      "loss: 0.632131  [ 3200/16320]\n",
      "loss: 0.782240  [ 6400/16320]\n",
      "loss: 0.818578  [ 9600/16320]\n",
      "loss: 0.719181  [12800/16320]\n",
      "loss: 1.865808  [16000/16320]\n",
      "Test Error: \n",
      "Avg loss: 1.625166 \n",
      "\n",
      "Epoch 2\n",
      "-------------------------------\n",
      "loss: 0.602621  [    0/16320]\n",
      "loss: 0.625028  [ 3200/16320]\n",
      "loss: 0.778271  [ 6400/16320]\n",
      "loss: 0.816684  [ 9600/16320]\n",
      "loss: 0.712775  [12800/16320]\n",
      "loss: 1.866018  [16000/16320]\n",
      "Test Error: \n",
      "Avg loss: 1.622824 \n",
      "\n",
      "Epoch 3\n",
      "-------------------------------\n",
      "loss: 0.598394  [    0/16320]\n",
      "loss: 0.624363  [ 3200/16320]\n",
      "loss: 0.777648  [ 6400/16320]\n",
      "loss: 0.816660  [ 9600/16320]\n",
      "loss: 0.713215  [12800/16320]\n",
      "loss: 1.865498  [16000/16320]\n",
      "Test Error: \n",
      "Avg loss: 1.622689 \n",
      "\n",
      "Epoch 4\n",
      "-------------------------------\n",
      "loss: 0.597915  [    0/16320]\n",
      "loss: 0.623999  [ 3200/16320]\n",
      "loss: 0.777337  [ 6400/16320]\n",
      "loss: 0.817179  [ 9600/16320]\n",
      "loss: 0.712048  [12800/16320]\n",
      "loss: 1.865357  [16000/16320]\n",
      "Test Error: \n",
      "Avg loss: 1.623013 \n",
      "\n",
      "Epoch 5\n",
      "-------------------------------\n",
      "loss: 0.598183  [    0/16320]\n",
      "loss: 0.624580  [ 3200/16320]\n",
      "loss: 0.777611  [ 6400/16320]\n",
      "loss: 0.816478  [ 9600/16320]\n",
      "loss: 0.711450  [12800/16320]\n",
      "loss: 1.862358  [16000/16320]\n",
      "Test Error: \n",
      "Avg loss: 1.622582 \n",
      "\n",
      "Epoch 6\n",
      "-------------------------------\n",
      "loss: 0.598311  [    0/16320]\n",
      "loss: 0.623924  [ 3200/16320]\n",
      "loss: 0.777026  [ 6400/16320]\n",
      "loss: 0.816362  [ 9600/16320]\n",
      "loss: 0.712039  [12800/16320]\n",
      "loss: 1.863294  [16000/16320]\n",
      "Test Error: \n",
      "Avg loss: 1.621869 \n",
      "\n",
      "Epoch 7\n",
      "-------------------------------\n",
      "loss: 0.597943  [    0/16320]\n",
      "loss: 0.625095  [ 3200/16320]\n",
      "loss: 0.776861  [ 6400/16320]\n",
      "loss: 0.816418  [ 9600/16320]\n",
      "loss: 0.712532  [12800/16320]\n",
      "loss: 1.862952  [16000/16320]\n",
      "Test Error: \n",
      "Avg loss: 1.621671 \n",
      "\n",
      "Epoch 8\n",
      "-------------------------------\n",
      "loss: 0.597780  [    0/16320]\n",
      "loss: 0.625597  [ 3200/16320]\n",
      "loss: 0.776852  [ 6400/16320]\n",
      "loss: 0.816790  [ 9600/16320]\n",
      "loss: 0.711640  [12800/16320]\n",
      "loss: 1.863102  [16000/16320]\n",
      "Test Error: \n",
      "Avg loss: 1.621805 \n",
      "\n",
      "Epoch 9\n",
      "-------------------------------\n",
      "loss: 0.598147  [    0/16320]\n",
      "loss: 0.623589  [ 3200/16320]\n",
      "loss: 0.776890  [ 6400/16320]\n",
      "loss: 0.816572  [ 9600/16320]\n",
      "loss: 0.711705  [12800/16320]\n",
      "loss: 1.862354  [16000/16320]\n",
      "Test Error: \n",
      "Avg loss: 1.621633 \n",
      "\n",
      "Epoch 10\n",
      "-------------------------------\n",
      "loss: 0.597907  [    0/16320]\n",
      "loss: 0.623931  [ 3200/16320]\n",
      "loss: 0.777323  [ 6400/16320]\n",
      "loss: 0.816541  [ 9600/16320]\n",
      "loss: 0.711553  [12800/16320]\n",
      "loss: 1.865363  [16000/16320]\n",
      "Test Error: \n",
      "Avg loss: 1.622491 \n",
      "\n",
      "Epoch 11\n",
      "-------------------------------\n",
      "loss: 0.597875  [    0/16320]\n",
      "loss: 0.625230  [ 3200/16320]\n",
      "loss: 0.776948  [ 6400/16320]\n",
      "loss: 0.816277  [ 9600/16320]\n",
      "loss: 0.711534  [12800/16320]\n",
      "loss: 1.865524  [16000/16320]\n",
      "Test Error: \n",
      "Avg loss: 1.622489 \n",
      "\n",
      "Epoch 12\n",
      "-------------------------------\n",
      "loss: 0.597783  [    0/16320]\n",
      "loss: 0.623869  [ 3200/16320]\n",
      "loss: 0.777187  [ 6400/16320]\n",
      "loss: 0.816347  [ 9600/16320]\n",
      "loss: 0.711594  [12800/16320]\n",
      "loss: 1.862369  [16000/16320]\n",
      "Test Error: \n",
      "Avg loss: 1.621617 \n",
      "\n",
      "Epoch 13\n",
      "-------------------------------\n",
      "loss: 0.597788  [    0/16320]\n",
      "loss: 0.623828  [ 3200/16320]\n",
      "loss: 0.776783  [ 6400/16320]\n",
      "loss: 0.816436  [ 9600/16320]\n",
      "loss: 0.711303  [12800/16320]\n",
      "loss: 1.862288  [16000/16320]\n",
      "Test Error: \n",
      "Avg loss: 1.621944 \n",
      "\n",
      "Epoch 14\n",
      "-------------------------------\n",
      "loss: 0.598477  [    0/16320]\n",
      "loss: 0.623649  [ 3200/16320]\n",
      "loss: 0.776998  [ 6400/16320]\n",
      "loss: 0.816487  [ 9600/16320]\n",
      "loss: 0.711398  [12800/16320]\n",
      "loss: 1.862165  [16000/16320]\n",
      "Test Error: \n",
      "Avg loss: 1.622263 \n",
      "\n",
      "Epoch 15\n",
      "-------------------------------\n",
      "loss: 0.598471  [    0/16320]\n",
      "loss: 0.623742  [ 3200/16320]\n",
      "loss: 0.776625  [ 6400/16320]\n",
      "loss: 0.816480  [ 9600/16320]\n",
      "loss: 0.711309  [12800/16320]\n",
      "loss: 1.862690  [16000/16320]\n",
      "Test Error: \n",
      "Avg loss: 1.621929 \n",
      "\n",
      "Epoch 16\n",
      "-------------------------------\n",
      "loss: 0.598423  [    0/16320]\n",
      "loss: 0.624114  [ 3200/16320]\n",
      "loss: 0.776773  [ 6400/16320]\n",
      "loss: 0.816350  [ 9600/16320]\n",
      "loss: 0.711309  [12800/16320]\n",
      "loss: 1.865319  [16000/16320]\n",
      "Test Error: \n",
      "Avg loss: 1.622042 \n",
      "\n",
      "Epoch 17\n",
      "-------------------------------\n",
      "loss: 0.598099  [    0/16320]\n",
      "loss: 0.624114  [ 3200/16320]\n",
      "loss: 0.776721  [ 6400/16320]\n",
      "loss: 0.816451  [ 9600/16320]\n",
      "loss: 0.713301  [12800/16320]\n",
      "loss: 1.862379  [16000/16320]\n",
      "Test Error: \n",
      "Avg loss: 1.621929 \n",
      "\n",
      "Epoch 18\n",
      "-------------------------------\n",
      "loss: 0.597837  [    0/16320]\n",
      "loss: 0.623977  [ 3200/16320]\n",
      "loss: 0.776761  [ 6400/16320]\n",
      "loss: 0.816388  [ 9600/16320]\n",
      "loss: 0.711365  [12800/16320]\n",
      "loss: 1.862038  [16000/16320]\n",
      "Test Error: \n",
      "Avg loss: 1.621507 \n",
      "\n",
      "Epoch 19\n",
      "-------------------------------\n",
      "loss: 0.597994  [    0/16320]\n",
      "loss: 0.623968  [ 3200/16320]\n",
      "loss: 0.776653  [ 6400/16320]\n",
      "loss: 0.816482  [ 9600/16320]\n",
      "loss: 0.711658  [12800/16320]\n",
      "loss: 1.862378  [16000/16320]\n",
      "Test Error: \n",
      "Avg loss: 1.621692 \n",
      "\n",
      "Epoch 20\n",
      "-------------------------------\n",
      "loss: 0.597906  [    0/16320]\n",
      "loss: 0.624094  [ 3200/16320]\n",
      "loss: 0.777113  [ 6400/16320]\n",
      "loss: 0.816556  [ 9600/16320]\n",
      "loss: 0.711189  [12800/16320]\n",
      "loss: 1.863774  [16000/16320]\n",
      "Test Error: \n",
      "Avg loss: 1.622138 \n",
      "\n",
      "Done!\n"
     ]
    }
   ],
   "source": [
    "epochs = 20\n",
    "for t in range(epochs):\n",
    "    print(f\"Epoch {t+1}\\n-------------------------------\")\n",
    "    train(train_dataloader, model, loss_fn, optimizer)\n",
    "    test(test_dataloader, model, loss_fn)\n",
    "print(\"Done!\")"
   ]
  },
  {
   "cell_type": "markdown",
   "id": "a0a50b49",
   "metadata": {},
   "source": [
    "Autoencoder 의 경우 인코더-디코더를 통해 원본 데이터를 재생산하여, 이를 L2Norm이 일정 거리 이상일 경우 이상치로 판단하는 알고리즘이다.\n",
    "\n",
    "즉 data, target이 전부 X_train 이다."
   ]
  },
  {
   "cell_type": "code",
   "execution_count": 28,
   "id": "f16248bb",
   "metadata": {},
   "outputs": [],
   "source": [
    "threshold = 15\n",
    "y_pred = model(x_test_tensor).detach().numpy()\n",
    "y_dist = np.linalg.norm(x_test - y_pred, axis=-1)\n",
    "z = zip(y_dist >= threshold, y_dist)\n",
    "y_label = [] ; error = []\n",
    "\n",
    "for idx, (is_anomaly, y_dist) in enumerate(z):\n",
    "    if is_anomaly:\n",
    "        y_label.append(1)\n",
    "    else:\n",
    "        y_label.append(0)\n",
    "    error.append(y_dist)"
   ]
  },
  {
   "cell_type": "code",
   "execution_count": 29,
   "id": "93258779",
   "metadata": {},
   "outputs": [
    {
     "name": "stdout",
     "output_type": "stream",
     "text": [
      "              precision    recall  f1-score   support\n",
      "\n",
      "           0       0.99      0.99      0.99      3987\n",
      "           1       0.52      0.62      0.57        93\n",
      "\n",
      "    accuracy                           0.98      4080\n",
      "   macro avg       0.75      0.81      0.78      4080\n",
      "weighted avg       0.98      0.98      0.98      4080\n",
      "\n"
     ]
    }
   ],
   "source": [
    "print(classification_report(y_test, y_label))"
   ]
  },
  {
   "cell_type": "code",
   "execution_count": 30,
   "id": "fc9b55da",
   "metadata": {},
   "outputs": [
    {
     "data": {
      "image/png": "[encoded data removed]",
      "text/plain": [
       "<Figure size 864x576 with 1 Axes>"
      ]
     },
     "metadata": {
      "needs_background": "light"
     },
     "output_type": "display_data"
    }
   ],
   "source": [
    "viz.draw_anomaly(y_test, error, threshold)"
   ]
  }
 ],
 "metadata": {
  "kernelspec": {
   "display_name": "Python 3 (ipykernel)",
   "language": "python",
   "name": "python3"
  },
  "language_info": {
   "codemirror_mode": {
    "name": "ipython",
    "version": 3
   },
   "file_extension": ".py",
   "mimetype": "text/x-python",
   "name": "python",
   "nbconvert_exporter": "python",
   "pygments_lexer": "ipython3",
   "version": "3.9.7"
  }
 },
 "nbformat": 4,
 "nbformat_minor": 5
}
